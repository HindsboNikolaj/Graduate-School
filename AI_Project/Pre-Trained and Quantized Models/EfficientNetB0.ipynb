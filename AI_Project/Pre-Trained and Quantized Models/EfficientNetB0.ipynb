{
  "cells": [
    {
      "cell_type": "code",
      "execution_count": 28,
      "metadata": {
        "colab": {
          "base_uri": "https://localhost:8080/"
        },
        "id": "9uaq5FM4XUzm",
        "outputId": "46c6690f-b9ff-4421-eb35-db0d26175f1e"
      },
      "outputs": [],
      "source": [
        "# Standard Libraries\n",
        "import copy\n",
        "import itertools\n",
        "import os\n",
        "import time\n",
        "from tempfile import TemporaryDirectory\n",
        "\n",
        "# 3rd Party Libraries\n",
        "import matplotlib.pyplot as plt\n",
        "import numpy as np\n",
        "import pandas as pd\n",
        "import timm\n",
        "import torch\n",
        "import torchvision\n",
        "import pickle\n",
        "from PIL import Image\n",
        "from sklearn.model_selection import train_test_split\n",
        "from torch import nn, optim\n",
        "from torch.optim import lr_scheduler\n",
        "from torch.utils.data import DataLoader, Dataset, Subset\n",
        "from torchvision import datasets, models, transforms\n",
        "from torchvision.io import read_image\n",
        "from tqdm import tqdm"
      ]
    },
    {
      "cell_type": "markdown",
      "metadata": {
        "id": "gVgczbe4Ht-x"
      },
      "source": [
        "## 1) Custom Dataset to process labeled info (The data is already pre-processed and labeled from the segmentation driver). "
      ]
    },
    {
      "cell_type": "code",
      "execution_count": 32,
      "metadata": {
        "id": "-XBMP9DrH-ey"
      },
      "outputs": [],
      "source": [
        "class CustomDataset(Dataset):\n",
        "    \"\"\"\n",
        "    A custom dataset class that extends PyTorch's Dataset class for image loading and preprocessing.\n",
        "\n",
        "    Attributes:\n",
        "    - image_paths (list): List of paths to the images.\n",
        "    - labels (list): List of labels corresponding to the images.\n",
        "    - transform (callable, optional): Optional transform to be applied on a sample.\n",
        "    \"\"\"\n",
        "\n",
        "    def __init__(self, image_paths, labels, transform=None):\n",
        "        \"\"\"\n",
        "        Initializes the dataset with images and labels.\n",
        "\n",
        "        Parameters:\n",
        "        - image_paths (list): List of paths to the images.\n",
        "        - labels (list): List of labels for the images.\n",
        "        - transform (callable, optional): Optional transform to apply on images.\n",
        "        \"\"\"\n",
        "\n",
        "        self.image_paths = image_paths\n",
        "        self.labels = labels\n",
        "        self.transform = transform\n",
        "\n",
        "    def __len__(self):\n",
        "        \"\"\"\n",
        "        Returns the total number of samples in the dataset.\n",
        "        \"\"\"\n",
        "\n",
        "        return len(self.image_paths)\n",
        "\n",
        "    def __getitem__(self, index):\n",
        "        \"\"\"\n",
        "        Retrieves an image and its label from the dataset at the specified index.\n",
        "\n",
        "        Parameters:\n",
        "        - index (int): Index of the image and label to return.\n",
        "\n",
        "        Returns:\n",
        "        - tuple: A tuple containing the image and its label.\n",
        "        \"\"\"\n",
        "\n",
        "        image_path = self.image_paths[index]\n",
        "        # Load the image as a PIL Image\n",
        "        image = Image.open(image_path).convert(\"RGB\")\n",
        "\n",
        "        if self.transform:\n",
        "            image = self.transform(image)\n",
        "\n",
        "        label = torch.tensor(self.labels[index], dtype=torch.long)\n",
        "        return image, label"
      ]
    },
    {
      "cell_type": "markdown",
      "metadata": {},
      "source": [
        "### Helper functions to load / show data"
      ]
    },
    {
      "cell_type": "code",
      "execution_count": 33,
      "metadata": {
        "id": "i4YV0LyMKQ26"
      },
      "outputs": [],
      "source": [
        "# Function for displaying an image, currently not used in the main workflow\n",
        "def imshow(inp, title=None):\n",
        "    \"\"\"\n",
        "    Displays an image with an optional title.\n",
        "\n",
        "    Parameters:\n",
        "    - inp (Tensor): The image tensor to display.\n",
        "    - title (str, optional): Optional title to display above the image.\n",
        "    \"\"\"\n",
        "\n",
        "    inp = inp.numpy().transpose((1, 2, 0))\n",
        "    plt.imshow(inp)\n",
        "    if title is not None:\n",
        "        plt.title(title)\n",
        "    plt.pause(0.001)  # Pause to update the plot\n",
        "\n",
        "def load_data_from_pickle(file_path):\n",
        "    \"\"\"\n",
        "    Load data from a pickle file.\n",
        "\n",
        "    Args:\n",
        "        file_path (str): The path to the pickle file.\n",
        "\n",
        "    Returns:\n",
        "        tuple: A tuple containing the image paths and labels loaded from the pickle file.\n",
        "    \"\"\"\n",
        "    with open(file_path, 'rb') as file:\n",
        "        image_paths, labels = pickle.load(file)\n",
        "    return image_paths, labels"
      ]
    },
    {
      "cell_type": "markdown",
      "metadata": {},
      "source": [
        "## 2) Loading train/validation/test data paths and labels"
      ]
    },
    {
      "cell_type": "code",
      "execution_count": 34,
      "metadata": {
        "id": "tpuPFL1Hteav"
      },
      "outputs": [],
      "source": [
        "# The data is split into 70% training, 15% validation, and 15% testing, accoridng to the segment and split that happens in the other file.\n",
        "# The data is loaded from the pickle files\n",
        "\n",
        "train_file = 'full_dataset_segmented_train_data.pkl'\n",
        "val_file = 'full_dataset_segmented_val_data.pkl'\n",
        "test_file = 'full_dataset_segmented_test_data.pkl'\n",
        "\n",
        "train_paths, train_labels = load_data_from_pickle(train_file)\n",
        "val_paths, val_labels = load_data_from_pickle(val_file)\n",
        "test_paths, test_labels = load_data_from_pickle(test_file)\n",
        "\n",
        "# And all combined ( to make sure the data is loaded correctly )\n",
        "image_paths = train_paths + val_paths + test_paths\n",
        "labels = train_labels + val_labels + test_labels"
      ]
    },
    {
      "cell_type": "markdown",
      "metadata": {},
      "source": [
        "## 3) Data Augmentation"
      ]
    },
    {
      "cell_type": "code",
      "execution_count": 35,
      "metadata": {
        "id": "X4OBiymiKlZZ"
      },
      "outputs": [],
      "source": [
        "# Normalization parameters for the pre-trained models\n",
        "normalization = ((0.485, 0.456, 0.406), (0.229, 0.224, 0.225))\n",
        "\n",
        "# Define the training data transformations\n",
        "training_transform = transforms.Compose([\n",
        "    transforms.Resize(224, antialias=True),  # Resize images to 224 x 224 (instead of cropping, from ablation study results.)\n",
        "    ### Taken out from ablation study results\n",
        "    # transforms.RandomCrop(224),  # Crop randomly to 224x224 for data augmentation\n",
        "    # transforms.RandomRotation(20),  # Rotate images up to 20 degrees for data augmentation\n",
        "    transforms.RandomHorizontalFlip(0.1),  # Horizontally flip images with a probability of 0.1 for data augmentation\n",
        "    transforms.ColorJitter(brightness=0.1, contrast=0.1, saturation=0.1),  # Randomly adjust color settings\n",
        "    transforms.RandomAdjustSharpness(sharpness_factor=2, p=0.1),  # Randomly adjust sharpness for data augmentation\n",
        "    transforms.ToTensor(),  # Convert images to tensors\n",
        "    transforms.Normalize(*normalization),  # Normalize images using the specified mean and std dev\n",
        "])\n",
        "\n",
        "# Define the validation and test data transformations\n",
        "transform = transforms.Compose([\n",
        "    transforms.Resize(224, antialias=True),  # Resize images to 256x256, with antialiasing\n",
        "    transforms.ToTensor(),  # Convert images to tensors\n",
        "    transforms.Normalize(*normalization),  # Normalize images using the specified mean and std dev\n",
        "])"
      ]
    },
    {
      "cell_type": "markdown",
      "metadata": {},
      "source": [
        "### To check the data is being processed correctly and labled correctly"
      ]
    },
    {
      "cell_type": "code",
      "execution_count": 36,
      "metadata": {},
      "outputs": [
        {
          "name": "stdout",
          "output_type": "stream",
          "text": [
            "\n",
            "Examples from class: Trash\n",
            "Path: ../../data/dataset-resized\\Trash\\trash25.jpg, Label ID: 0\n",
            "Path: ../../data/dataset-resized\\Trash\\trash128.jpg, Label ID: 0\n",
            "Path: ../../data/dataset-resized\\Trash\\trash12.jpg, Label ID: 0\n",
            "Path: ../../data/dataset-resized\\Trash\\trash21.jpg, Label ID: 0\n",
            "Path: ../../data/dataset-resized\\Trash\\trash41.jpg, Label ID: 0\n",
            "\n",
            "Examples from class: Plastic\n",
            "Path: ../../data/dataset-resized\\Plastic\\plastic415.jpg, Label ID: 1\n",
            "Path: ../../data/dataset-resized\\Plastic\\plastic66.jpg, Label ID: 1\n",
            "Path: ../../data/dataset-resized\\Plastic\\plastic77.jpg, Label ID: 1\n",
            "Path: ../../data/dataset-resized\\Plastic\\plastic152.jpg, Label ID: 1\n",
            "Path: ../../data/dataset-resized\\Plastic\\plastic360.jpg, Label ID: 1\n",
            "\n",
            "Examples from class: Paper\n",
            "Path: ../../data/dataset-resized\\Paper\\paper88.jpg, Label ID: 2\n",
            "Path: ../../data/dataset-resized\\Paper\\paper40.jpg, Label ID: 2\n",
            "Path: ../../data/dataset-resized\\Paper\\paper343.jpg, Label ID: 2\n",
            "Path: ../../data/dataset-resized\\Paper\\paper466.jpg, Label ID: 2\n",
            "Path: ../../data/dataset-resized\\Paper\\paper181.jpg, Label ID: 2\n",
            "\n",
            "Examples from class: Metal\n",
            "Path: ../../data/dataset-resized\\Metal\\metal250.jpg, Label ID: 3\n",
            "Path: ../../data/dataset-resized\\Metal\\metal377.jpg, Label ID: 3\n",
            "Path: ../../data/dataset-resized\\Metal\\metal150.jpg, Label ID: 3\n",
            "Path: ../../data/dataset-resized\\Metal\\metal12.jpg, Label ID: 3\n",
            "Path: ../../data/dataset-resized\\Metal\\metal68.jpg, Label ID: 3\n",
            "\n",
            "Examples from class: Glass\n",
            "Path: ../../data/dataset-resized\\Glass\\glass19.jpg, Label ID: 4\n",
            "Path: ../../data/dataset-resized\\Glass\\glass208.jpg, Label ID: 4\n",
            "Path: ../../data/dataset-resized\\Glass\\glass263.jpg, Label ID: 4\n",
            "Path: ../../data/dataset-resized\\Glass\\glass161.jpg, Label ID: 4\n",
            "Path: ../../data/dataset-resized\\Glass\\glass3.jpg, Label ID: 4\n",
            "\n",
            "Examples from class: Cardboard\n",
            "Path: ../../data/dataset-resized\\Cardboard\\cardboard126.jpg, Label ID: 5\n",
            "Path: ../../data/dataset-resized\\Cardboard\\cardboard368.jpg, Label ID: 5\n",
            "Path: ../../data/dataset-resized\\Cardboard\\cardboard394.jpg, Label ID: 5\n",
            "Path: ../../data/dataset-resized\\Cardboard\\cardboard372.jpg, Label ID: 5\n",
            "Path: ../../data/dataset-resized\\Cardboard\\cardboard281.jpg, Label ID: 5\n"
          ]
        }
      ],
      "source": [
        "labels_mapping = {'Trash': 0, 'Plastic': 1, 'Paper': 2, 'Metal': 3, 'Glass': 4, 'Cardboard': 5}\n",
        "datasets_by_label = {}\n",
        "data_loaders_by_label = {}\n",
        "\n",
        "for label_name, label_id in labels_mapping.items():\n",
        "    # Filter indices for the current label\n",
        "    indices = [i for i, label in enumerate(labels) if label == label_id]\n",
        "\n",
        "    # Use the indices to create a Subset\n",
        "    subset = Subset(CustomDataset(image_paths, labels, transform=transform), indices)\n",
        "\n",
        "    # Store the subset using the label_name as key\n",
        "    datasets_by_label[label_name] = subset\n",
        "\n",
        "    # Create a DataLoader for the current label's dataset\n",
        "    data_loader = DataLoader(subset, batch_size=32, num_workers=1, shuffle=False)\n",
        "\n",
        "    # Store the DataLoader using the label_name as key\n",
        "    data_loaders_by_label[label_name] = data_loader\n",
        "\n",
        "for label_name, subset in datasets_by_label.items():\n",
        "    print(f\"\\nExamples from class: {label_name}\")\n",
        "\n",
        "    # Get the first few indices from the subset.indices\n",
        "    example_indices = subset.indices[:5]  # Adjust the number of examples as needed\n",
        "\n",
        "    for idx in example_indices:\n",
        "        print(f\"Path: {image_paths[idx]}, Label ID: {labels[idx]}\")"
      ]
    },
    {
      "cell_type": "markdown",
      "metadata": {},
      "source": [
        "## 4) Intializing model and defininig evaluation metric"
      ]
    },
    {
      "cell_type": "code",
      "execution_count": 37,
      "metadata": {
        "colab": {
          "base_uri": "https://localhost:8080/",
          "height": 1000,
          "referenced_widgets": [
            "f2df0b8c03454bc3b398f3b717fd19b8",
            "57e04f175d954e1b8921da02e761c12d",
            "c8d46863abd44982b84119d273174690",
            "190334a37b274113a0b07a887802e384",
            "6152d6cc45334ad1826079d12bbcc36a",
            "f66fa27ba3c345e48eb50c195ae83da5",
            "00f3ac33cd8e4a0a83858b7490f589be",
            "b82eddafd0d445d3a84a9111981a2f88",
            "544f30eb00ff47bd91c426717d4918eb",
            "3d0cac4030d742408951b052708c3b07",
            "92ec4dc987e644258a97b439f959bbc5"
          ]
        },
        "id": "rvPgHZX3J-jx",
        "outputId": "f7b0a051-a431-408d-cee9-22ca183975c3"
      },
      "outputs": [
        {
          "name": "stdout",
          "output_type": "stream",
          "text": [
            "EfficientNet(\n",
            "  (conv_stem): Conv2d(3, 32, kernel_size=(3, 3), stride=(2, 2), padding=(1, 1), bias=False)\n",
            "  (bn1): BatchNormAct2d(\n",
            "    32, eps=1e-05, momentum=0.1, affine=True, track_running_stats=True\n",
            "    (drop): Identity()\n",
            "    (act): SiLU(inplace=True)\n",
            "  )\n",
            "  (blocks): Sequential(\n",
            "    (0): Sequential(\n",
            "      (0): DepthwiseSeparableConv(\n",
            "        (conv_dw): Conv2d(32, 32, kernel_size=(3, 3), stride=(1, 1), padding=(1, 1), groups=32, bias=False)\n",
            "        (bn1): BatchNormAct2d(\n",
            "          32, eps=1e-05, momentum=0.1, affine=True, track_running_stats=True\n",
            "          (drop): Identity()\n",
            "          (act): SiLU(inplace=True)\n",
            "        )\n",
            "        (se): SqueezeExcite(\n",
            "          (conv_reduce): Conv2d(32, 8, kernel_size=(1, 1), stride=(1, 1))\n",
            "          (act1): SiLU(inplace=True)\n",
            "          (conv_expand): Conv2d(8, 32, kernel_size=(1, 1), stride=(1, 1))\n",
            "          (gate): Sigmoid()\n",
            "        )\n",
            "        (conv_pw): Conv2d(32, 16, kernel_size=(1, 1), stride=(1, 1), bias=False)\n",
            "        (bn2): BatchNormAct2d(\n",
            "          16, eps=1e-05, momentum=0.1, affine=True, track_running_stats=True\n",
            "          (drop): Identity()\n",
            "          (act): Identity()\n",
            "        )\n",
            "        (drop_path): Identity()\n",
            "      )\n",
            "    )\n",
            "    (1): Sequential(\n",
            "      (0): InvertedResidual(\n",
            "        (conv_pw): Conv2d(16, 96, kernel_size=(1, 1), stride=(1, 1), bias=False)\n",
            "        (bn1): BatchNormAct2d(\n",
            "          96, eps=1e-05, momentum=0.1, affine=True, track_running_stats=True\n",
            "          (drop): Identity()\n",
            "          (act): SiLU(inplace=True)\n",
            "        )\n",
            "        (conv_dw): Conv2d(96, 96, kernel_size=(3, 3), stride=(2, 2), padding=(1, 1), groups=96, bias=False)\n",
            "        (bn2): BatchNormAct2d(\n",
            "          96, eps=1e-05, momentum=0.1, affine=True, track_running_stats=True\n",
            "          (drop): Identity()\n",
            "          (act): SiLU(inplace=True)\n",
            "        )\n",
            "        (se): SqueezeExcite(\n",
            "          (conv_reduce): Conv2d(96, 4, kernel_size=(1, 1), stride=(1, 1))\n",
            "          (act1): SiLU(inplace=True)\n",
            "          (conv_expand): Conv2d(4, 96, kernel_size=(1, 1), stride=(1, 1))\n",
            "          (gate): Sigmoid()\n",
            "        )\n",
            "        (conv_pwl): Conv2d(96, 24, kernel_size=(1, 1), stride=(1, 1), bias=False)\n",
            "        (bn3): BatchNormAct2d(\n",
            "          24, eps=1e-05, momentum=0.1, affine=True, track_running_stats=True\n",
            "          (drop): Identity()\n",
            "          (act): Identity()\n",
            "        )\n",
            "        (drop_path): Identity()\n",
            "      )\n",
            "      (1): InvertedResidual(\n",
            "        (conv_pw): Conv2d(24, 144, kernel_size=(1, 1), stride=(1, 1), bias=False)\n",
            "        (bn1): BatchNormAct2d(\n",
            "          144, eps=1e-05, momentum=0.1, affine=True, track_running_stats=True\n",
            "          (drop): Identity()\n",
            "          (act): SiLU(inplace=True)\n",
            "        )\n",
            "        (conv_dw): Conv2d(144, 144, kernel_size=(3, 3), stride=(1, 1), padding=(1, 1), groups=144, bias=False)\n",
            "        (bn2): BatchNormAct2d(\n",
            "          144, eps=1e-05, momentum=0.1, affine=True, track_running_stats=True\n",
            "          (drop): Identity()\n",
            "          (act): SiLU(inplace=True)\n",
            "        )\n",
            "        (se): SqueezeExcite(\n",
            "          (conv_reduce): Conv2d(144, 6, kernel_size=(1, 1), stride=(1, 1))\n",
            "          (act1): SiLU(inplace=True)\n",
            "          (conv_expand): Conv2d(6, 144, kernel_size=(1, 1), stride=(1, 1))\n",
            "          (gate): Sigmoid()\n",
            "        )\n",
            "        (conv_pwl): Conv2d(144, 24, kernel_size=(1, 1), stride=(1, 1), bias=False)\n",
            "        (bn3): BatchNormAct2d(\n",
            "          24, eps=1e-05, momentum=0.1, affine=True, track_running_stats=True\n",
            "          (drop): Identity()\n",
            "          (act): Identity()\n",
            "        )\n",
            "        (drop_path): Identity()\n",
            "      )\n",
            "    )\n",
            "    (2): Sequential(\n",
            "      (0): InvertedResidual(\n",
            "        (conv_pw): Conv2d(24, 144, kernel_size=(1, 1), stride=(1, 1), bias=False)\n",
            "        (bn1): BatchNormAct2d(\n",
            "          144, eps=1e-05, momentum=0.1, affine=True, track_running_stats=True\n",
            "          (drop): Identity()\n",
            "          (act): SiLU(inplace=True)\n",
            "        )\n",
            "        (conv_dw): Conv2d(144, 144, kernel_size=(5, 5), stride=(2, 2), padding=(2, 2), groups=144, bias=False)\n",
            "        (bn2): BatchNormAct2d(\n",
            "          144, eps=1e-05, momentum=0.1, affine=True, track_running_stats=True\n",
            "          (drop): Identity()\n",
            "          (act): SiLU(inplace=True)\n",
            "        )\n",
            "        (se): SqueezeExcite(\n",
            "          (conv_reduce): Conv2d(144, 6, kernel_size=(1, 1), stride=(1, 1))\n",
            "          (act1): SiLU(inplace=True)\n",
            "          (conv_expand): Conv2d(6, 144, kernel_size=(1, 1), stride=(1, 1))\n",
            "          (gate): Sigmoid()\n",
            "        )\n",
            "        (conv_pwl): Conv2d(144, 40, kernel_size=(1, 1), stride=(1, 1), bias=False)\n",
            "        (bn3): BatchNormAct2d(\n",
            "          40, eps=1e-05, momentum=0.1, affine=True, track_running_stats=True\n",
            "          (drop): Identity()\n",
            "          (act): Identity()\n",
            "        )\n",
            "        (drop_path): Identity()\n",
            "      )\n",
            "      (1): InvertedResidual(\n",
            "        (conv_pw): Conv2d(40, 240, kernel_size=(1, 1), stride=(1, 1), bias=False)\n",
            "        (bn1): BatchNormAct2d(\n",
            "          240, eps=1e-05, momentum=0.1, affine=True, track_running_stats=True\n",
            "          (drop): Identity()\n",
            "          (act): SiLU(inplace=True)\n",
            "        )\n",
            "        (conv_dw): Conv2d(240, 240, kernel_size=(5, 5), stride=(1, 1), padding=(2, 2), groups=240, bias=False)\n",
            "        (bn2): BatchNormAct2d(\n",
            "          240, eps=1e-05, momentum=0.1, affine=True, track_running_stats=True\n",
            "          (drop): Identity()\n",
            "          (act): SiLU(inplace=True)\n",
            "        )\n",
            "        (se): SqueezeExcite(\n",
            "          (conv_reduce): Conv2d(240, 10, kernel_size=(1, 1), stride=(1, 1))\n",
            "          (act1): SiLU(inplace=True)\n",
            "          (conv_expand): Conv2d(10, 240, kernel_size=(1, 1), stride=(1, 1))\n",
            "          (gate): Sigmoid()\n",
            "        )\n",
            "        (conv_pwl): Conv2d(240, 40, kernel_size=(1, 1), stride=(1, 1), bias=False)\n",
            "        (bn3): BatchNormAct2d(\n",
            "          40, eps=1e-05, momentum=0.1, affine=True, track_running_stats=True\n",
            "          (drop): Identity()\n",
            "          (act): Identity()\n",
            "        )\n",
            "        (drop_path): Identity()\n",
            "      )\n",
            "    )\n",
            "    (3): Sequential(\n",
            "      (0): InvertedResidual(\n",
            "        (conv_pw): Conv2d(40, 240, kernel_size=(1, 1), stride=(1, 1), bias=False)\n",
            "        (bn1): BatchNormAct2d(\n",
            "          240, eps=1e-05, momentum=0.1, affine=True, track_running_stats=True\n",
            "          (drop): Identity()\n",
            "          (act): SiLU(inplace=True)\n",
            "        )\n",
            "        (conv_dw): Conv2d(240, 240, kernel_size=(3, 3), stride=(2, 2), padding=(1, 1), groups=240, bias=False)\n",
            "        (bn2): BatchNormAct2d(\n",
            "          240, eps=1e-05, momentum=0.1, affine=True, track_running_stats=True\n",
            "          (drop): Identity()\n",
            "          (act): SiLU(inplace=True)\n",
            "        )\n",
            "        (se): SqueezeExcite(\n",
            "          (conv_reduce): Conv2d(240, 10, kernel_size=(1, 1), stride=(1, 1))\n",
            "          (act1): SiLU(inplace=True)\n",
            "          (conv_expand): Conv2d(10, 240, kernel_size=(1, 1), stride=(1, 1))\n",
            "          (gate): Sigmoid()\n",
            "        )\n",
            "        (conv_pwl): Conv2d(240, 80, kernel_size=(1, 1), stride=(1, 1), bias=False)\n",
            "        (bn3): BatchNormAct2d(\n",
            "          80, eps=1e-05, momentum=0.1, affine=True, track_running_stats=True\n",
            "          (drop): Identity()\n",
            "          (act): Identity()\n",
            "        )\n",
            "        (drop_path): Identity()\n",
            "      )\n",
            "      (1): InvertedResidual(\n",
            "        (conv_pw): Conv2d(80, 480, kernel_size=(1, 1), stride=(1, 1), bias=False)\n",
            "        (bn1): BatchNormAct2d(\n",
            "          480, eps=1e-05, momentum=0.1, affine=True, track_running_stats=True\n",
            "          (drop): Identity()\n",
            "          (act): SiLU(inplace=True)\n",
            "        )\n",
            "        (conv_dw): Conv2d(480, 480, kernel_size=(3, 3), stride=(1, 1), padding=(1, 1), groups=480, bias=False)\n",
            "        (bn2): BatchNormAct2d(\n",
            "          480, eps=1e-05, momentum=0.1, affine=True, track_running_stats=True\n",
            "          (drop): Identity()\n",
            "          (act): SiLU(inplace=True)\n",
            "        )\n",
            "        (se): SqueezeExcite(\n",
            "          (conv_reduce): Conv2d(480, 20, kernel_size=(1, 1), stride=(1, 1))\n",
            "          (act1): SiLU(inplace=True)\n",
            "          (conv_expand): Conv2d(20, 480, kernel_size=(1, 1), stride=(1, 1))\n",
            "          (gate): Sigmoid()\n",
            "        )\n",
            "        (conv_pwl): Conv2d(480, 80, kernel_size=(1, 1), stride=(1, 1), bias=False)\n",
            "        (bn3): BatchNormAct2d(\n",
            "          80, eps=1e-05, momentum=0.1, affine=True, track_running_stats=True\n",
            "          (drop): Identity()\n",
            "          (act): Identity()\n",
            "        )\n",
            "        (drop_path): Identity()\n",
            "      )\n",
            "      (2): InvertedResidual(\n",
            "        (conv_pw): Conv2d(80, 480, kernel_size=(1, 1), stride=(1, 1), bias=False)\n",
            "        (bn1): BatchNormAct2d(\n",
            "          480, eps=1e-05, momentum=0.1, affine=True, track_running_stats=True\n",
            "          (drop): Identity()\n",
            "          (act): SiLU(inplace=True)\n",
            "        )\n",
            "        (conv_dw): Conv2d(480, 480, kernel_size=(3, 3), stride=(1, 1), padding=(1, 1), groups=480, bias=False)\n",
            "        (bn2): BatchNormAct2d(\n",
            "          480, eps=1e-05, momentum=0.1, affine=True, track_running_stats=True\n",
            "          (drop): Identity()\n",
            "          (act): SiLU(inplace=True)\n",
            "        )\n",
            "        (se): SqueezeExcite(\n",
            "          (conv_reduce): Conv2d(480, 20, kernel_size=(1, 1), stride=(1, 1))\n",
            "          (act1): SiLU(inplace=True)\n",
            "          (conv_expand): Conv2d(20, 480, kernel_size=(1, 1), stride=(1, 1))\n",
            "          (gate): Sigmoid()\n",
            "        )\n",
            "        (conv_pwl): Conv2d(480, 80, kernel_size=(1, 1), stride=(1, 1), bias=False)\n",
            "        (bn3): BatchNormAct2d(\n",
            "          80, eps=1e-05, momentum=0.1, affine=True, track_running_stats=True\n",
            "          (drop): Identity()\n",
            "          (act): Identity()\n",
            "        )\n",
            "        (drop_path): Identity()\n",
            "      )\n",
            "    )\n",
            "    (4): Sequential(\n",
            "      (0): InvertedResidual(\n",
            "        (conv_pw): Conv2d(80, 480, kernel_size=(1, 1), stride=(1, 1), bias=False)\n",
            "        (bn1): BatchNormAct2d(\n",
            "          480, eps=1e-05, momentum=0.1, affine=True, track_running_stats=True\n",
            "          (drop): Identity()\n",
            "          (act): SiLU(inplace=True)\n",
            "        )\n",
            "        (conv_dw): Conv2d(480, 480, kernel_size=(5, 5), stride=(1, 1), padding=(2, 2), groups=480, bias=False)\n",
            "        (bn2): BatchNormAct2d(\n",
            "          480, eps=1e-05, momentum=0.1, affine=True, track_running_stats=True\n",
            "          (drop): Identity()\n",
            "          (act): SiLU(inplace=True)\n",
            "        )\n",
            "        (se): SqueezeExcite(\n",
            "          (conv_reduce): Conv2d(480, 20, kernel_size=(1, 1), stride=(1, 1))\n",
            "          (act1): SiLU(inplace=True)\n",
            "          (conv_expand): Conv2d(20, 480, kernel_size=(1, 1), stride=(1, 1))\n",
            "          (gate): Sigmoid()\n",
            "        )\n",
            "        (conv_pwl): Conv2d(480, 112, kernel_size=(1, 1), stride=(1, 1), bias=False)\n",
            "        (bn3): BatchNormAct2d(\n",
            "          112, eps=1e-05, momentum=0.1, affine=True, track_running_stats=True\n",
            "          (drop): Identity()\n",
            "          (act): Identity()\n",
            "        )\n",
            "        (drop_path): Identity()\n",
            "      )\n",
            "      (1): InvertedResidual(\n",
            "        (conv_pw): Conv2d(112, 672, kernel_size=(1, 1), stride=(1, 1), bias=False)\n",
            "        (bn1): BatchNormAct2d(\n",
            "          672, eps=1e-05, momentum=0.1, affine=True, track_running_stats=True\n",
            "          (drop): Identity()\n",
            "          (act): SiLU(inplace=True)\n",
            "        )\n",
            "        (conv_dw): Conv2d(672, 672, kernel_size=(5, 5), stride=(1, 1), padding=(2, 2), groups=672, bias=False)\n",
            "        (bn2): BatchNormAct2d(\n",
            "          672, eps=1e-05, momentum=0.1, affine=True, track_running_stats=True\n",
            "          (drop): Identity()\n",
            "          (act): SiLU(inplace=True)\n",
            "        )\n",
            "        (se): SqueezeExcite(\n",
            "          (conv_reduce): Conv2d(672, 28, kernel_size=(1, 1), stride=(1, 1))\n",
            "          (act1): SiLU(inplace=True)\n",
            "          (conv_expand): Conv2d(28, 672, kernel_size=(1, 1), stride=(1, 1))\n",
            "          (gate): Sigmoid()\n",
            "        )\n",
            "        (conv_pwl): Conv2d(672, 112, kernel_size=(1, 1), stride=(1, 1), bias=False)\n",
            "        (bn3): BatchNormAct2d(\n",
            "          112, eps=1e-05, momentum=0.1, affine=True, track_running_stats=True\n",
            "          (drop): Identity()\n",
            "          (act): Identity()\n",
            "        )\n",
            "        (drop_path): Identity()\n",
            "      )\n",
            "      (2): InvertedResidual(\n",
            "        (conv_pw): Conv2d(112, 672, kernel_size=(1, 1), stride=(1, 1), bias=False)\n",
            "        (bn1): BatchNormAct2d(\n",
            "          672, eps=1e-05, momentum=0.1, affine=True, track_running_stats=True\n",
            "          (drop): Identity()\n",
            "          (act): SiLU(inplace=True)\n",
            "        )\n",
            "        (conv_dw): Conv2d(672, 672, kernel_size=(5, 5), stride=(1, 1), padding=(2, 2), groups=672, bias=False)\n",
            "        (bn2): BatchNormAct2d(\n",
            "          672, eps=1e-05, momentum=0.1, affine=True, track_running_stats=True\n",
            "          (drop): Identity()\n",
            "          (act): SiLU(inplace=True)\n",
            "        )\n",
            "        (se): SqueezeExcite(\n",
            "          (conv_reduce): Conv2d(672, 28, kernel_size=(1, 1), stride=(1, 1))\n",
            "          (act1): SiLU(inplace=True)\n",
            "          (conv_expand): Conv2d(28, 672, kernel_size=(1, 1), stride=(1, 1))\n",
            "          (gate): Sigmoid()\n",
            "        )\n",
            "        (conv_pwl): Conv2d(672, 112, kernel_size=(1, 1), stride=(1, 1), bias=False)\n",
            "        (bn3): BatchNormAct2d(\n",
            "          112, eps=1e-05, momentum=0.1, affine=True, track_running_stats=True\n",
            "          (drop): Identity()\n",
            "          (act): Identity()\n",
            "        )\n",
            "        (drop_path): Identity()\n",
            "      )\n",
            "    )\n",
            "    (5): Sequential(\n",
            "      (0): InvertedResidual(\n",
            "        (conv_pw): Conv2d(112, 672, kernel_size=(1, 1), stride=(1, 1), bias=False)\n",
            "        (bn1): BatchNormAct2d(\n",
            "          672, eps=1e-05, momentum=0.1, affine=True, track_running_stats=True\n",
            "          (drop): Identity()\n",
            "          (act): SiLU(inplace=True)\n",
            "        )\n",
            "        (conv_dw): Conv2d(672, 672, kernel_size=(5, 5), stride=(2, 2), padding=(2, 2), groups=672, bias=False)\n",
            "        (bn2): BatchNormAct2d(\n",
            "          672, eps=1e-05, momentum=0.1, affine=True, track_running_stats=True\n",
            "          (drop): Identity()\n",
            "          (act): SiLU(inplace=True)\n",
            "        )\n",
            "        (se): SqueezeExcite(\n",
            "          (conv_reduce): Conv2d(672, 28, kernel_size=(1, 1), stride=(1, 1))\n",
            "          (act1): SiLU(inplace=True)\n",
            "          (conv_expand): Conv2d(28, 672, kernel_size=(1, 1), stride=(1, 1))\n",
            "          (gate): Sigmoid()\n",
            "        )\n",
            "        (conv_pwl): Conv2d(672, 192, kernel_size=(1, 1), stride=(1, 1), bias=False)\n",
            "        (bn3): BatchNormAct2d(\n",
            "          192, eps=1e-05, momentum=0.1, affine=True, track_running_stats=True\n",
            "          (drop): Identity()\n",
            "          (act): Identity()\n",
            "        )\n",
            "        (drop_path): Identity()\n",
            "      )\n",
            "      (1): InvertedResidual(\n",
            "        (conv_pw): Conv2d(192, 1152, kernel_size=(1, 1), stride=(1, 1), bias=False)\n",
            "        (bn1): BatchNormAct2d(\n",
            "          1152, eps=1e-05, momentum=0.1, affine=True, track_running_stats=True\n",
            "          (drop): Identity()\n",
            "          (act): SiLU(inplace=True)\n",
            "        )\n",
            "        (conv_dw): Conv2d(1152, 1152, kernel_size=(5, 5), stride=(1, 1), padding=(2, 2), groups=1152, bias=False)\n",
            "        (bn2): BatchNormAct2d(\n",
            "          1152, eps=1e-05, momentum=0.1, affine=True, track_running_stats=True\n",
            "          (drop): Identity()\n",
            "          (act): SiLU(inplace=True)\n",
            "        )\n",
            "        (se): SqueezeExcite(\n",
            "          (conv_reduce): Conv2d(1152, 48, kernel_size=(1, 1), stride=(1, 1))\n",
            "          (act1): SiLU(inplace=True)\n",
            "          (conv_expand): Conv2d(48, 1152, kernel_size=(1, 1), stride=(1, 1))\n",
            "          (gate): Sigmoid()\n",
            "        )\n",
            "        (conv_pwl): Conv2d(1152, 192, kernel_size=(1, 1), stride=(1, 1), bias=False)\n",
            "        (bn3): BatchNormAct2d(\n",
            "          192, eps=1e-05, momentum=0.1, affine=True, track_running_stats=True\n",
            "          (drop): Identity()\n",
            "          (act): Identity()\n",
            "        )\n",
            "        (drop_path): Identity()\n",
            "      )\n",
            "      (2): InvertedResidual(\n",
            "        (conv_pw): Conv2d(192, 1152, kernel_size=(1, 1), stride=(1, 1), bias=False)\n",
            "        (bn1): BatchNormAct2d(\n",
            "          1152, eps=1e-05, momentum=0.1, affine=True, track_running_stats=True\n",
            "          (drop): Identity()\n",
            "          (act): SiLU(inplace=True)\n",
            "        )\n",
            "        (conv_dw): Conv2d(1152, 1152, kernel_size=(5, 5), stride=(1, 1), padding=(2, 2), groups=1152, bias=False)\n",
            "        (bn2): BatchNormAct2d(\n",
            "          1152, eps=1e-05, momentum=0.1, affine=True, track_running_stats=True\n",
            "          (drop): Identity()\n",
            "          (act): SiLU(inplace=True)\n",
            "        )\n",
            "        (se): SqueezeExcite(\n",
            "          (conv_reduce): Conv2d(1152, 48, kernel_size=(1, 1), stride=(1, 1))\n",
            "          (act1): SiLU(inplace=True)\n",
            "          (conv_expand): Conv2d(48, 1152, kernel_size=(1, 1), stride=(1, 1))\n",
            "          (gate): Sigmoid()\n",
            "        )\n",
            "        (conv_pwl): Conv2d(1152, 192, kernel_size=(1, 1), stride=(1, 1), bias=False)\n",
            "        (bn3): BatchNormAct2d(\n",
            "          192, eps=1e-05, momentum=0.1, affine=True, track_running_stats=True\n",
            "          (drop): Identity()\n",
            "          (act): Identity()\n",
            "        )\n",
            "        (drop_path): Identity()\n",
            "      )\n",
            "      (3): InvertedResidual(\n",
            "        (conv_pw): Conv2d(192, 1152, kernel_size=(1, 1), stride=(1, 1), bias=False)\n",
            "        (bn1): BatchNormAct2d(\n",
            "          1152, eps=1e-05, momentum=0.1, affine=True, track_running_stats=True\n",
            "          (drop): Identity()\n",
            "          (act): SiLU(inplace=True)\n",
            "        )\n",
            "        (conv_dw): Conv2d(1152, 1152, kernel_size=(5, 5), stride=(1, 1), padding=(2, 2), groups=1152, bias=False)\n",
            "        (bn2): BatchNormAct2d(\n",
            "          1152, eps=1e-05, momentum=0.1, affine=True, track_running_stats=True\n",
            "          (drop): Identity()\n",
            "          (act): SiLU(inplace=True)\n",
            "        )\n",
            "        (se): SqueezeExcite(\n",
            "          (conv_reduce): Conv2d(1152, 48, kernel_size=(1, 1), stride=(1, 1))\n",
            "          (act1): SiLU(inplace=True)\n",
            "          (conv_expand): Conv2d(48, 1152, kernel_size=(1, 1), stride=(1, 1))\n",
            "          (gate): Sigmoid()\n",
            "        )\n",
            "        (conv_pwl): Conv2d(1152, 192, kernel_size=(1, 1), stride=(1, 1), bias=False)\n",
            "        (bn3): BatchNormAct2d(\n",
            "          192, eps=1e-05, momentum=0.1, affine=True, track_running_stats=True\n",
            "          (drop): Identity()\n",
            "          (act): Identity()\n",
            "        )\n",
            "        (drop_path): Identity()\n",
            "      )\n",
            "    )\n",
            "    (6): Sequential(\n",
            "      (0): InvertedResidual(\n",
            "        (conv_pw): Conv2d(192, 1152, kernel_size=(1, 1), stride=(1, 1), bias=False)\n",
            "        (bn1): BatchNormAct2d(\n",
            "          1152, eps=1e-05, momentum=0.1, affine=True, track_running_stats=True\n",
            "          (drop): Identity()\n",
            "          (act): SiLU(inplace=True)\n",
            "        )\n",
            "        (conv_dw): Conv2d(1152, 1152, kernel_size=(3, 3), stride=(1, 1), padding=(1, 1), groups=1152, bias=False)\n",
            "        (bn2): BatchNormAct2d(\n",
            "          1152, eps=1e-05, momentum=0.1, affine=True, track_running_stats=True\n",
            "          (drop): Identity()\n",
            "          (act): SiLU(inplace=True)\n",
            "        )\n",
            "        (se): SqueezeExcite(\n",
            "          (conv_reduce): Conv2d(1152, 48, kernel_size=(1, 1), stride=(1, 1))\n",
            "          (act1): SiLU(inplace=True)\n",
            "          (conv_expand): Conv2d(48, 1152, kernel_size=(1, 1), stride=(1, 1))\n",
            "          (gate): Sigmoid()\n",
            "        )\n",
            "        (conv_pwl): Conv2d(1152, 320, kernel_size=(1, 1), stride=(1, 1), bias=False)\n",
            "        (bn3): BatchNormAct2d(\n",
            "          320, eps=1e-05, momentum=0.1, affine=True, track_running_stats=True\n",
            "          (drop): Identity()\n",
            "          (act): Identity()\n",
            "        )\n",
            "        (drop_path): Identity()\n",
            "      )\n",
            "    )\n",
            "  )\n",
            "  (conv_head): Conv2d(320, 1280, kernel_size=(1, 1), stride=(1, 1), bias=False)\n",
            "  (bn2): BatchNormAct2d(\n",
            "    1280, eps=1e-05, momentum=0.1, affine=True, track_running_stats=True\n",
            "    (drop): Identity()\n",
            "    (act): SiLU(inplace=True)\n",
            "  )\n",
            "  (global_pool): SelectAdaptivePool2d(pool_type=avg, flatten=Flatten(start_dim=1, end_dim=-1))\n",
            "  (classifier): Sequential(\n",
            "    (0): Linear(in_features=1280, out_features=512, bias=True)\n",
            "    (1): ReLU()\n",
            "    (2): Linear(in_features=512, out_features=6, bias=True)\n",
            "  )\n",
            ")\n"
          ]
        }
      ],
      "source": [
        "def initialize_model(output_classes=6):\n",
        "    \"\"\"\n",
        "    Initializes the EfficientNet-B0 model with a custom final layer for the given number of output classes.\n",
        "\n",
        "    Parameters:\n",
        "    - output_classes (int): The number of classes for the final output layer.\n",
        "\n",
        "    Returns:\n",
        "    - model (torch.nn.Module): The modified model based on the pre-trained EfficientNetB0 feature representation.\n",
        "    \"\"\"\n",
        "\n",
        "    # Load a pre-trained EfficientNet-B0 model from the timm library\n",
        "    model = timm.create_model('efficientnet_b0', pretrained=True)\n",
        "\n",
        "    # # Freeze all the parameters in the model to prevent them from being updated during training\n",
        "    # for param in model.parameters():\n",
        "    #     param.requires_grad = False\n",
        "    ## This was removed in part from ablation study, because the water bottle classification was making plastic heavy in prediction for the model.\n",
        "\n",
        "\n",
        "    # Get the number of input features to the final fully connected layer\n",
        "    # The classifier layer is the final layer in EfficientNet models\n",
        "    in_features = model.classifier.in_features\n",
        "\n",
        "    # Replace the final classifier layer with a new one that has the desired number of output classes\n",
        "    model.classifier = nn.Sequential(\n",
        "        nn.Linear(in_features, 512),  # Reduce dimension from in_features to 512 (from 1280 in this case)\n",
        "        nn.ReLU(),                    # Apply ReLU activation function\n",
        "        nn.Linear(512, output_classes)  # Final layer with 'output_classes' number of outputs\n",
        "    )\n",
        "\n",
        "    return model\n",
        "\n",
        "def evaluate_model(model, dataloader, loss_fun, device):\n",
        "    \"\"\"\n",
        "    Evaluates the model's performance on a given dataset.\n",
        "\n",
        "    Parameters:\n",
        "    - model: The neural network model to evaluate.\n",
        "    - dataloader: The DataLoader containing the dataset for evaluation.\n",
        "    - loss_fun: The loss function used to compute the model's loss.\n",
        "    - device: The device (CPU or CUDA) on which the computations will be performed.\n",
        "\n",
        "    Returns:\n",
        "    - A tuple of average loss and accuracy over the dataset.\n",
        "    \"\"\"\n",
        "\n",
        "    model.eval()  # Set the model to evaluation mode    test_loss = 0.0\n",
        "    val_acc = 0.0\n",
        "    val_loss = 0.0\n",
        "\n",
        "    with torch.no_grad():  # No gradients needed for evaluation\n",
        "        for x, y in dataloader:\n",
        "            x, y = x.to(device), y.to(device)  # Move data to the same device as the model\n",
        "\n",
        "            pred = model(x)\n",
        "            _, predicted_classes = torch.max(pred, 1)\n",
        "            correct_predictions = (predicted_classes == y).float()\n",
        "\n",
        "            loss = loss_fun(pred, y.long())  # Ensure consistent data type\n",
        "            val_loss += loss.item()\n",
        "            val_acc += correct_predictions.sum().item() / y.size(0)\n",
        "\n",
        "        val_loss /= len(dataloader)\n",
        "        val_acc /= len(dataloader)\n",
        "\n",
        "    return val_loss, val_acc\n",
        "\n",
        "def misclassified_labels(model, dataloader, device):\n",
        "    \"\"\"\n",
        "    Identifies misclassified samples in the given dataset.\n",
        "\n",
        "    Parameters:\n",
        "    - model: The neural network model to evaluate.\n",
        "    - dataloader: The DataLoader containing the dataset for evaluation.\n",
        "    - device: The device (CPU or CUDA) on which the computations will be performed.\n",
        "\n",
        "    Returns:\n",
        "    - A list of tuples where each tuple contains the image path, actual label, and predicted label.\n",
        "    \"\"\"\n",
        "\n",
        "    model.eval()  # Set the model to evaluation mode\n",
        "    misclassified = []\n",
        "\n",
        "    with torch.no_grad():  # No gradients needed for evaluation\n",
        "        for images, labels in dataloader:\n",
        "            images, labels = images.to(device), labels.to(device)  # Move data to the same device as the model\n",
        "            outputs = model(images)\n",
        "            _, predicted = torch.max(outputs, 1)\n",
        "\n",
        "            # Identify misclassified labels\n",
        "            mismatches = predicted != labels\n",
        "            for idx in torch.where(mismatches)[0]:\n",
        "                actual_label = labels[idx].item()\n",
        "                predicted_label = predicted[idx].item()\n",
        "                image_path = dataloader.dataset.image_paths[idx]  # Assuming dataset has 'image_paths' attribute\n",
        "                misclassified.append([idx.item(), predicted_label])\n",
        "\n",
        "    return misclassified\n",
        "\n",
        "# Usage example\n",
        "num_classes = 6  # Define the number of output classes you need\n",
        "example_model = initialize_model(num_classes)\n",
        "print(example_model)\n"
      ]
    },
    {
      "cell_type": "markdown",
      "metadata": {},
      "source": [
        "## 5) Single Training loop defined "
      ]
    },
    {
      "cell_type": "code",
      "execution_count": 38,
      "metadata": {
        "id": "hOq5pKDjm6pW"
      },
      "outputs": [],
      "source": [
        "def train(train_dataloader, val_dataloader, num_classes, N_epochs=10, lr=1e-5, step_size=5, gamma=0.5):\n",
        "    \"\"\"\n",
        "    Trains and validates a model, saving the model with the best validation accuracy, and records the training and validation performance.\n",
        "\n",
        "    Parameters:\n",
        "    - train_dataloader (DataLoader): DataLoader for training data.\n",
        "    - val_dataloader (DataLoader): DataLoader for validation data.\n",
        "    - num_classes (int): Number of classes in the dataset.\n",
        "    - N_epochs (int): Number of epochs to train for.\n",
        "    - lr (float): Learning rate for the optimizer.\n",
        "    - step_size (int): Step size for the learning rate scheduler.\n",
        "    - gamma (float): Decay rate for the learning rate scheduler.\n",
        "\n",
        "    Returns:\n",
        "    - A dictionary containing the model with the best validation accuracy, training losses, training accuracies, validation losses, and validation accuracies.\n",
        "    \"\"\"\n",
        "\n",
        "    # Set the device to GPU if available, else CPU\n",
        "    device = torch.device(\"cuda\" if torch.cuda.is_available() else \"cpu\")\n",
        "    print(f\"Using device: {device}\")\n",
        "\n",
        "    # If a CUDA-capable device is detected, print its name\n",
        "    if device.type == 'cuda':\n",
        "        gpu_name = torch.cuda.get_device_name(0)\n",
        "        print(f\"NVIDIA Graphics Card: {gpu_name}\")\n",
        "\n",
        "    # Initialize the model and move it to the appropriate device\n",
        "    model = initialize_model(num_classes)\n",
        "    model.to(device)\n",
        "\n",
        "    # Define the loss function and the optimizer\n",
        "    loss_fun = nn.CrossEntropyLoss()\n",
        "    loss_fun.to(device)\n",
        "    optimizer = optim.Adam(params=model.parameters(), lr=lr)\n",
        "\n",
        "    # Define the learning rate scheduler\n",
        "    lr_schedule = lr_scheduler.StepLR(optimizer=optimizer, step_size=step_size, gamma=gamma)\n",
        "\n",
        "    # Initialize lists to store the performance metrics\n",
        "    training_losses = []\n",
        "    training_accuracies = []\n",
        "    validation_losses = []\n",
        "    validation_accuracies = []\n",
        "\n",
        "    # Variable to keep track of the best validation accuracy\n",
        "    best_acc = 0.0\n",
        "    # Variable to store the model weights corresponding to the best validation accuracy\n",
        "    best_model_wts = copy.deepcopy(model.state_dict())\n",
        "\n",
        "    # Training loop\n",
        "    for epoch in tqdm(range(N_epochs)):\n",
        "        model.train()  # Set the model to training mode\n",
        "        train_loss = 0.0\n",
        "        train_correct = 0\n",
        "        total = 0\n",
        "\n",
        "        # Iterate over the training data\n",
        "        for x, y in train_dataloader:\n",
        "            x, y = x.to(device), y.to(device)  # Move data to the correct device\n",
        "            pred = model(x)  # Forward pass: compute the model output\n",
        "            loss = loss_fun(pred, y.long())  # Compute the loss\n",
        "            optimizer.zero_grad()  # Zero the gradients to prevent accumulation\n",
        "            loss.backward()  # Backward pass: compute the gradient of the loss with respect to model parameters\n",
        "            optimizer.step()  # Update model parameters\n",
        "\n",
        "            # Accumulate the training loss and correct predictions to calculate accuracy\n",
        "            train_loss += loss.item()\n",
        "            _, predicted = torch.max(pred, 1)\n",
        "            train_correct += (predicted == y).sum().item()\n",
        "            total += y.size(0)\n",
        "\n",
        "        # Compute the average training loss and accuracy for the epoch\n",
        "        train_loss /= len(train_dataloader)\n",
        "        train_acc = train_correct / total\n",
        "        training_losses.append(train_loss)\n",
        "        training_accuracies.append(train_acc)\n",
        "\n",
        "        # Validate the model\n",
        "        val_loss, val_acc = evaluate_model(model, val_dataloader, loss_fun, device)\n",
        "        validation_losses.append(val_loss)\n",
        "        validation_accuracies.append(val_acc)\n",
        "\n",
        "        # Check if the current model is the best one based on validation loss\n",
        "        if val_acc > best_acc:\n",
        "            best_acc = val_acc\n",
        "            best_model_wts = copy.deepcopy(model.state_dict())\n",
        "\n",
        "        # Update the learning rate\n",
        "        lr_schedule.step()\n",
        "\n",
        "        # Print the performance metrics for the epoch\n",
        "        print(f\"Epoch {epoch+1}/{N_epochs}, Train Loss: {train_loss:.4f}, Train Acc: {train_acc:.4f}, Val Loss: {val_loss:.4f}, Val Acc: {val_acc:.4f}\")\n",
        "\n",
        "    # Load the best model weights\n",
        "    model.load_state_dict(best_model_wts)\n",
        "\n",
        "    # Return the model and performance metrics\n",
        "    return {\n",
        "        \"model\": model,\n",
        "        \"training_losses\": training_losses,\n",
        "        \"training_accuracies\": training_accuracies,\n",
        "        \"validation_losses\": validation_losses,\n",
        "        \"validation_accuracies\": validation_accuracies\n",
        "    }"
      ]
    },
    {
      "cell_type": "markdown",
      "metadata": {},
      "source": [
        "## 6) Grid search hyperparameters + main training loop. This is where the meat & potatoes are.\n",
        "### Then, the best model is saved as a path file so it can be loaded later.\n",
        "### During training, the best model is the epoch with the highest validation accuracy. Then, the grid search takes the model with the highest testing accuracy for the final best model."
      ]
    },
    {
      "cell_type": "code",
      "execution_count": 39,
      "metadata": {
        "id": "QOf3FA9iSUIl",
        "outputId": "ccfb413a-4f45-45cd-ca55-e7215e35ff08"
      },
      "outputs": [
        {
          "name": "stdout",
          "output_type": "stream",
          "text": [
            "Training with lr=5e-05, batch_size=32, num_epochs=20, step_size=4\n",
            "Using device: cuda\n",
            "NVIDIA Graphics Card: NVIDIA GeForce RTX 2080\n"
          ]
        },
        {
          "name": "stderr",
          "output_type": "stream",
          "text": [
            "  5%|▌         | 1/20 [00:21<06:53, 21.77s/it]"
          ]
        },
        {
          "name": "stdout",
          "output_type": "stream",
          "text": [
            "Epoch 1/20, Train Loss: 1.5050, Train Acc: 0.5404, Val Loss: 1.0908, Val Acc: 0.6944\n"
          ]
        },
        {
          "name": "stderr",
          "output_type": "stream",
          "text": [
            " 10%|█         | 2/20 [00:43<06:28, 21.58s/it]"
          ]
        },
        {
          "name": "stdout",
          "output_type": "stream",
          "text": [
            "Epoch 2/20, Train Loss: 0.8004, Train Acc: 0.7583, Val Loss: 0.5803, Val Acc: 0.8056\n"
          ]
        },
        {
          "name": "stderr",
          "output_type": "stream",
          "text": [
            " 15%|█▌        | 3/20 [01:04<06:07, 21.64s/it]"
          ]
        },
        {
          "name": "stdout",
          "output_type": "stream",
          "text": [
            "Epoch 3/20, Train Loss: 0.4255, Train Acc: 0.8718, Val Loss: 0.4362, Val Acc: 0.8559\n"
          ]
        },
        {
          "name": "stderr",
          "output_type": "stream",
          "text": [
            " 20%|██        | 4/20 [01:27<05:49, 21.82s/it]"
          ]
        },
        {
          "name": "stdout",
          "output_type": "stream",
          "text": [
            "Epoch 4/20, Train Loss: 0.2738, Train Acc: 0.9198, Val Loss: 0.3789, Val Acc: 0.8741\n"
          ]
        },
        {
          "name": "stderr",
          "output_type": "stream",
          "text": [
            " 25%|██▌       | 5/20 [01:49<05:28, 21.89s/it]"
          ]
        },
        {
          "name": "stdout",
          "output_type": "stream",
          "text": [
            "Epoch 5/20, Train Loss: 0.1853, Train Acc: 0.9526, Val Loss: 0.3769, Val Acc: 0.8793\n"
          ]
        },
        {
          "name": "stderr",
          "output_type": "stream",
          "text": [
            " 30%|███       | 6/20 [02:10<05:04, 21.78s/it]"
          ]
        },
        {
          "name": "stdout",
          "output_type": "stream",
          "text": [
            "Epoch 6/20, Train Loss: 0.1510, Train Acc: 0.9667, Val Loss: 0.3578, Val Acc: 0.9002\n"
          ]
        },
        {
          "name": "stderr",
          "output_type": "stream",
          "text": [
            " 35%|███▌      | 7/20 [02:32<04:41, 21.69s/it]"
          ]
        },
        {
          "name": "stdout",
          "output_type": "stream",
          "text": [
            "Epoch 7/20, Train Loss: 0.1239, Train Acc: 0.9774, Val Loss: 0.3543, Val Acc: 0.8828\n"
          ]
        },
        {
          "name": "stderr",
          "output_type": "stream",
          "text": [
            " 40%|████      | 8/20 [02:54<04:23, 21.92s/it]"
          ]
        },
        {
          "name": "stdout",
          "output_type": "stream",
          "text": [
            "Epoch 8/20, Train Loss: 0.1043, Train Acc: 0.9768, Val Loss: 0.3250, Val Acc: 0.9002\n"
          ]
        },
        {
          "name": "stderr",
          "output_type": "stream",
          "text": [
            " 45%|████▌     | 9/20 [03:16<04:02, 22.08s/it]"
          ]
        },
        {
          "name": "stdout",
          "output_type": "stream",
          "text": [
            "Epoch 9/20, Train Loss: 0.0767, Train Acc: 0.9898, Val Loss: 0.3161, Val Acc: 0.8984\n"
          ]
        },
        {
          "name": "stderr",
          "output_type": "stream",
          "text": [
            " 50%|█████     | 10/20 [03:38<03:38, 21.88s/it]"
          ]
        },
        {
          "name": "stdout",
          "output_type": "stream",
          "text": [
            "Epoch 10/20, Train Loss: 0.0680, Train Acc: 0.9887, Val Loss: 0.3292, Val Acc: 0.8984\n"
          ]
        },
        {
          "name": "stderr",
          "output_type": "stream",
          "text": [
            " 55%|█████▌    | 11/20 [03:58<03:12, 21.41s/it]"
          ]
        },
        {
          "name": "stdout",
          "output_type": "stream",
          "text": [
            "Epoch 11/20, Train Loss: 0.0588, Train Acc: 0.9893, Val Loss: 0.3287, Val Acc: 0.8958\n"
          ]
        },
        {
          "name": "stderr",
          "output_type": "stream",
          "text": [
            " 60%|██████    | 12/20 [04:19<02:50, 21.28s/it]"
          ]
        },
        {
          "name": "stdout",
          "output_type": "stream",
          "text": [
            "Epoch 12/20, Train Loss: 0.0566, Train Acc: 0.9898, Val Loss: 0.3292, Val Acc: 0.8906\n"
          ]
        },
        {
          "name": "stderr",
          "output_type": "stream",
          "text": [
            " 65%|██████▌   | 13/20 [04:41<02:29, 21.39s/it]"
          ]
        },
        {
          "name": "stdout",
          "output_type": "stream",
          "text": [
            "Epoch 13/20, Train Loss: 0.0460, Train Acc: 0.9927, Val Loss: 0.3310, Val Acc: 0.8932\n"
          ]
        },
        {
          "name": "stderr",
          "output_type": "stream",
          "text": [
            " 70%|███████   | 14/20 [05:02<02:08, 21.39s/it]"
          ]
        },
        {
          "name": "stdout",
          "output_type": "stream",
          "text": [
            "Epoch 14/20, Train Loss: 0.0473, Train Acc: 0.9927, Val Loss: 0.3275, Val Acc: 0.8932\n"
          ]
        },
        {
          "name": "stderr",
          "output_type": "stream",
          "text": [
            " 75%|███████▌  | 15/20 [05:24<01:47, 21.44s/it]"
          ]
        },
        {
          "name": "stdout",
          "output_type": "stream",
          "text": [
            "Epoch 15/20, Train Loss: 0.0469, Train Acc: 0.9927, Val Loss: 0.3206, Val Acc: 0.8932\n"
          ]
        },
        {
          "name": "stderr",
          "output_type": "stream",
          "text": [
            " 80%|████████  | 16/20 [05:46<01:26, 21.55s/it]"
          ]
        },
        {
          "name": "stdout",
          "output_type": "stream",
          "text": [
            "Epoch 16/20, Train Loss: 0.0427, Train Acc: 0.9944, Val Loss: 0.3255, Val Acc: 0.8984\n"
          ]
        },
        {
          "name": "stderr",
          "output_type": "stream",
          "text": [
            " 85%|████████▌ | 17/20 [06:06<01:03, 21.29s/it]"
          ]
        },
        {
          "name": "stdout",
          "output_type": "stream",
          "text": [
            "Epoch 17/20, Train Loss: 0.0407, Train Acc: 0.9949, Val Loss: 0.3345, Val Acc: 0.8932\n"
          ]
        },
        {
          "name": "stderr",
          "output_type": "stream",
          "text": [
            " 90%|█████████ | 18/20 [06:27<00:42, 21.02s/it]"
          ]
        },
        {
          "name": "stdout",
          "output_type": "stream",
          "text": [
            "Epoch 18/20, Train Loss: 0.0395, Train Acc: 0.9944, Val Loss: 0.3198, Val Acc: 0.9062\n"
          ]
        },
        {
          "name": "stderr",
          "output_type": "stream",
          "text": [
            " 95%|█████████▌| 19/20 [06:47<00:20, 20.85s/it]"
          ]
        },
        {
          "name": "stdout",
          "output_type": "stream",
          "text": [
            "Epoch 19/20, Train Loss: 0.0337, Train Acc: 0.9955, Val Loss: 0.3252, Val Acc: 0.8958\n"
          ]
        },
        {
          "name": "stderr",
          "output_type": "stream",
          "text": [
            "100%|██████████| 20/20 [07:08<00:00, 21.40s/it]"
          ]
        },
        {
          "name": "stdout",
          "output_type": "stream",
          "text": [
            "Epoch 20/20, Train Loss: 0.0341, Train Acc: 0.9944, Val Loss: 0.3205, Val Acc: 0.9062\n",
            "Using device: cuda\n",
            "NVIDIA Graphics Card: NVIDIA GeForce RTX 2080\n"
          ]
        },
        {
          "name": "stderr",
          "output_type": "stream",
          "text": [
            "\n"
          ]
        },
        {
          "name": "stdout",
          "output_type": "stream",
          "text": [
            "Test Loss: 0.2075, Test Accuracy: 0.9371\n",
            "Training with lr=5e-05, batch_size=32, num_epochs=20, step_size=8\n",
            "Using device: cuda\n",
            "NVIDIA Graphics Card: NVIDIA GeForce RTX 2080\n"
          ]
        },
        {
          "name": "stderr",
          "output_type": "stream",
          "text": [
            "  5%|▌         | 1/20 [00:20<06:31, 20.60s/it]"
          ]
        },
        {
          "name": "stdout",
          "output_type": "stream",
          "text": [
            "Epoch 1/20, Train Loss: 1.5169, Train Acc: 0.5099, Val Loss: 1.1177, Val Acc: 0.7135\n"
          ]
        },
        {
          "name": "stderr",
          "output_type": "stream",
          "text": [
            " 10%|█         | 2/20 [00:41<06:18, 21.00s/it]"
          ]
        },
        {
          "name": "stdout",
          "output_type": "stream",
          "text": [
            "Epoch 2/20, Train Loss: 0.8166, Train Acc: 0.7645, Val Loss: 0.5950, Val Acc: 0.8099\n"
          ]
        },
        {
          "name": "stderr",
          "output_type": "stream",
          "text": [
            " 15%|█▌        | 3/20 [01:03<05:59, 21.14s/it]"
          ]
        },
        {
          "name": "stdout",
          "output_type": "stream",
          "text": [
            "Epoch 3/20, Train Loss: 0.4565, Train Acc: 0.8554, Val Loss: 0.4377, Val Acc: 0.8655\n"
          ]
        },
        {
          "name": "stderr",
          "output_type": "stream",
          "text": [
            " 20%|██        | 4/20 [01:24<05:42, 21.40s/it]"
          ]
        },
        {
          "name": "stdout",
          "output_type": "stream",
          "text": [
            "Epoch 4/20, Train Loss: 0.2712, Train Acc: 0.9266, Val Loss: 0.3835, Val Acc: 0.8741\n"
          ]
        },
        {
          "name": "stderr",
          "output_type": "stream",
          "text": [
            " 25%|██▌       | 5/20 [01:47<05:25, 21.69s/it]"
          ]
        },
        {
          "name": "stdout",
          "output_type": "stream",
          "text": [
            "Epoch 5/20, Train Loss: 0.1735, Train Acc: 0.9520, Val Loss: 0.3318, Val Acc: 0.8811\n"
          ]
        },
        {
          "name": "stderr",
          "output_type": "stream",
          "text": [
            " 30%|███       | 6/20 [02:08<05:02, 21.58s/it]"
          ]
        },
        {
          "name": "stdout",
          "output_type": "stream",
          "text": [
            "Epoch 6/20, Train Loss: 0.1045, Train Acc: 0.9763, Val Loss: 0.3080, Val Acc: 0.9080\n"
          ]
        },
        {
          "name": "stderr",
          "output_type": "stream",
          "text": [
            " 35%|███▌      | 7/20 [02:30<04:42, 21.70s/it]"
          ]
        },
        {
          "name": "stdout",
          "output_type": "stream",
          "text": [
            "Epoch 7/20, Train Loss: 0.0581, Train Acc: 0.9910, Val Loss: 0.3034, Val Acc: 0.9141\n"
          ]
        },
        {
          "name": "stderr",
          "output_type": "stream",
          "text": [
            " 40%|████      | 8/20 [02:54<04:29, 22.45s/it]"
          ]
        },
        {
          "name": "stdout",
          "output_type": "stream",
          "text": [
            "Epoch 8/20, Train Loss: 0.0544, Train Acc: 0.9864, Val Loss: 0.2781, Val Acc: 0.9141\n"
          ]
        },
        {
          "name": "stderr",
          "output_type": "stream",
          "text": [
            " 45%|████▌     | 9/20 [03:16<04:05, 22.34s/it]"
          ]
        },
        {
          "name": "stdout",
          "output_type": "stream",
          "text": [
            "Epoch 9/20, Train Loss: 0.0324, Train Acc: 0.9938, Val Loss: 0.2814, Val Acc: 0.9141\n"
          ]
        },
        {
          "name": "stderr",
          "output_type": "stream",
          "text": [
            " 50%|█████     | 10/20 [03:38<03:41, 22.14s/it]"
          ]
        },
        {
          "name": "stdout",
          "output_type": "stream",
          "text": [
            "Epoch 10/20, Train Loss: 0.0246, Train Acc: 0.9977, Val Loss: 0.2785, Val Acc: 0.9141\n"
          ]
        },
        {
          "name": "stderr",
          "output_type": "stream",
          "text": [
            " 55%|█████▌    | 11/20 [03:59<03:16, 21.81s/it]"
          ]
        },
        {
          "name": "stdout",
          "output_type": "stream",
          "text": [
            "Epoch 11/20, Train Loss: 0.0253, Train Acc: 0.9955, Val Loss: 0.3028, Val Acc: 0.9219\n"
          ]
        },
        {
          "name": "stderr",
          "output_type": "stream",
          "text": [
            " 60%|██████    | 12/20 [04:19<02:50, 21.35s/it]"
          ]
        },
        {
          "name": "stdout",
          "output_type": "stream",
          "text": [
            "Epoch 12/20, Train Loss: 0.0365, Train Acc: 0.9960, Val Loss: 0.3098, Val Acc: 0.9115\n"
          ]
        },
        {
          "name": "stderr",
          "output_type": "stream",
          "text": [
            " 65%|██████▌   | 13/20 [04:40<02:29, 21.32s/it]"
          ]
        },
        {
          "name": "stdout",
          "output_type": "stream",
          "text": [
            "Epoch 13/20, Train Loss: 0.0199, Train Acc: 0.9972, Val Loss: 0.2999, Val Acc: 0.9062\n"
          ]
        },
        {
          "name": "stderr",
          "output_type": "stream",
          "text": [
            " 70%|███████   | 14/20 [05:03<02:09, 21.60s/it]"
          ]
        },
        {
          "name": "stdout",
          "output_type": "stream",
          "text": [
            "Epoch 14/20, Train Loss: 0.0188, Train Acc: 0.9960, Val Loss: 0.2997, Val Acc: 0.9141\n"
          ]
        },
        {
          "name": "stderr",
          "output_type": "stream",
          "text": [
            " 75%|███████▌  | 15/20 [05:24<01:47, 21.55s/it]"
          ]
        },
        {
          "name": "stdout",
          "output_type": "stream",
          "text": [
            "Epoch 15/20, Train Loss: 0.0152, Train Acc: 0.9983, Val Loss: 0.2946, Val Acc: 0.9297\n"
          ]
        },
        {
          "name": "stderr",
          "output_type": "stream",
          "text": [
            " 80%|████████  | 16/20 [05:46<01:26, 21.62s/it]"
          ]
        },
        {
          "name": "stdout",
          "output_type": "stream",
          "text": [
            "Epoch 16/20, Train Loss: 0.0140, Train Acc: 0.9983, Val Loss: 0.2834, Val Acc: 0.9271\n"
          ]
        },
        {
          "name": "stderr",
          "output_type": "stream",
          "text": [
            " 85%|████████▌ | 17/20 [06:07<01:03, 21.31s/it]"
          ]
        },
        {
          "name": "stdout",
          "output_type": "stream",
          "text": [
            "Epoch 17/20, Train Loss: 0.0114, Train Acc: 0.9966, Val Loss: 0.2869, Val Acc: 0.9297\n"
          ]
        },
        {
          "name": "stderr",
          "output_type": "stream",
          "text": [
            " 90%|█████████ | 18/20 [06:27<00:42, 21.19s/it]"
          ]
        },
        {
          "name": "stdout",
          "output_type": "stream",
          "text": [
            "Epoch 18/20, Train Loss: 0.0154, Train Acc: 0.9960, Val Loss: 0.2764, Val Acc: 0.9297\n"
          ]
        },
        {
          "name": "stderr",
          "output_type": "stream",
          "text": [
            " 95%|█████████▌| 19/20 [06:50<00:21, 21.62s/it]"
          ]
        },
        {
          "name": "stdout",
          "output_type": "stream",
          "text": [
            "Epoch 19/20, Train Loss: 0.0145, Train Acc: 0.9960, Val Loss: 0.2855, Val Acc: 0.9193\n"
          ]
        },
        {
          "name": "stderr",
          "output_type": "stream",
          "text": [
            "100%|██████████| 20/20 [07:11<00:00, 21.59s/it]"
          ]
        },
        {
          "name": "stdout",
          "output_type": "stream",
          "text": [
            "Epoch 20/20, Train Loss: 0.0095, Train Acc: 0.9994, Val Loss: 0.3027, Val Acc: 0.9167\n",
            "Using device: cuda\n",
            "NVIDIA Graphics Card: NVIDIA GeForce RTX 2080\n"
          ]
        },
        {
          "name": "stderr",
          "output_type": "stream",
          "text": [
            "\n"
          ]
        },
        {
          "name": "stdout",
          "output_type": "stream",
          "text": [
            "Test Loss: 0.1719, Test Accuracy: 0.9453\n",
            "Training with lr=0.0005, batch_size=32, num_epochs=20, step_size=4\n",
            "Using device: cuda\n",
            "NVIDIA Graphics Card: NVIDIA GeForce RTX 2080\n"
          ]
        },
        {
          "name": "stderr",
          "output_type": "stream",
          "text": [
            "  5%|▌         | 1/20 [00:20<06:37, 20.91s/it]"
          ]
        },
        {
          "name": "stdout",
          "output_type": "stream",
          "text": [
            "Epoch 1/20, Train Loss: 0.7404, Train Acc: 0.7420, Val Loss: 0.4503, Val Acc: 0.8507\n"
          ]
        },
        {
          "name": "stderr",
          "output_type": "stream",
          "text": [
            " 10%|█         | 2/20 [00:41<06:11, 20.65s/it]"
          ]
        },
        {
          "name": "stdout",
          "output_type": "stream",
          "text": [
            "Epoch 2/20, Train Loss: 0.2230, Train Acc: 0.9328, Val Loss: 0.4220, Val Acc: 0.8776\n"
          ]
        },
        {
          "name": "stderr",
          "output_type": "stream",
          "text": [
            " 15%|█▌        | 3/20 [01:01<05:50, 20.64s/it]"
          ]
        },
        {
          "name": "stdout",
          "output_type": "stream",
          "text": [
            "Epoch 3/20, Train Loss: 0.1182, Train Acc: 0.9622, Val Loss: 0.4237, Val Acc: 0.8984\n"
          ]
        },
        {
          "name": "stderr",
          "output_type": "stream",
          "text": [
            " 20%|██        | 4/20 [01:22<05:29, 20.59s/it]"
          ]
        },
        {
          "name": "stdout",
          "output_type": "stream",
          "text": [
            "Epoch 4/20, Train Loss: 0.1220, Train Acc: 0.9560, Val Loss: 0.4929, Val Acc: 0.8628\n"
          ]
        },
        {
          "name": "stderr",
          "output_type": "stream",
          "text": [
            " 25%|██▌       | 5/20 [01:43<05:09, 20.62s/it]"
          ]
        },
        {
          "name": "stdout",
          "output_type": "stream",
          "text": [
            "Epoch 5/20, Train Loss: 0.0566, Train Acc: 0.9836, Val Loss: 0.3352, Val Acc: 0.9132\n"
          ]
        },
        {
          "name": "stderr",
          "output_type": "stream",
          "text": [
            " 30%|███       | 6/20 [02:03<04:46, 20.45s/it]"
          ]
        },
        {
          "name": "stdout",
          "output_type": "stream",
          "text": [
            "Epoch 6/20, Train Loss: 0.0355, Train Acc: 0.9898, Val Loss: 0.4108, Val Acc: 0.8958\n"
          ]
        },
        {
          "name": "stderr",
          "output_type": "stream",
          "text": [
            " 35%|███▌      | 7/20 [02:23<04:24, 20.31s/it]"
          ]
        },
        {
          "name": "stdout",
          "output_type": "stream",
          "text": [
            "Epoch 7/20, Train Loss: 0.0214, Train Acc: 0.9927, Val Loss: 0.3959, Val Acc: 0.9010\n"
          ]
        },
        {
          "name": "stderr",
          "output_type": "stream",
          "text": [
            " 40%|████      | 8/20 [02:43<04:01, 20.12s/it]"
          ]
        },
        {
          "name": "stdout",
          "output_type": "stream",
          "text": [
            "Epoch 8/20, Train Loss: 0.0186, Train Acc: 0.9949, Val Loss: 0.4548, Val Acc: 0.9010\n"
          ]
        },
        {
          "name": "stderr",
          "output_type": "stream",
          "text": [
            " 45%|████▌     | 9/20 [03:02<03:40, 20.05s/it]"
          ]
        },
        {
          "name": "stdout",
          "output_type": "stream",
          "text": [
            "Epoch 9/20, Train Loss: 0.0135, Train Acc: 0.9949, Val Loss: 0.4003, Val Acc: 0.9141\n"
          ]
        },
        {
          "name": "stderr",
          "output_type": "stream",
          "text": [
            " 50%|█████     | 10/20 [03:22<03:20, 20.05s/it]"
          ]
        },
        {
          "name": "stdout",
          "output_type": "stream",
          "text": [
            "Epoch 10/20, Train Loss: 0.0070, Train Acc: 0.9972, Val Loss: 0.3760, Val Acc: 0.9062\n"
          ]
        },
        {
          "name": "stderr",
          "output_type": "stream",
          "text": [
            " 55%|█████▌    | 11/20 [03:43<03:00, 20.07s/it]"
          ]
        },
        {
          "name": "stdout",
          "output_type": "stream",
          "text": [
            "Epoch 11/20, Train Loss: 0.0062, Train Acc: 0.9983, Val Loss: 0.3825, Val Acc: 0.9167\n"
          ]
        },
        {
          "name": "stderr",
          "output_type": "stream",
          "text": [
            " 60%|██████    | 12/20 [04:03<02:40, 20.03s/it]"
          ]
        },
        {
          "name": "stdout",
          "output_type": "stream",
          "text": [
            "Epoch 12/20, Train Loss: 0.0048, Train Acc: 0.9989, Val Loss: 0.3470, Val Acc: 0.9297\n"
          ]
        },
        {
          "name": "stderr",
          "output_type": "stream",
          "text": [
            " 65%|██████▌   | 13/20 [04:23<02:20, 20.03s/it]"
          ]
        },
        {
          "name": "stdout",
          "output_type": "stream",
          "text": [
            "Epoch 13/20, Train Loss: 0.0048, Train Acc: 0.9983, Val Loss: 0.3652, Val Acc: 0.9245\n"
          ]
        },
        {
          "name": "stderr",
          "output_type": "stream",
          "text": [
            " 70%|███████   | 14/20 [04:43<02:00, 20.01s/it]"
          ]
        },
        {
          "name": "stdout",
          "output_type": "stream",
          "text": [
            "Epoch 14/20, Train Loss: 0.0020, Train Acc: 0.9994, Val Loss: 0.3626, Val Acc: 0.9245\n"
          ]
        },
        {
          "name": "stderr",
          "output_type": "stream",
          "text": [
            " 75%|███████▌  | 15/20 [05:02<01:39, 19.95s/it]"
          ]
        },
        {
          "name": "stdout",
          "output_type": "stream",
          "text": [
            "Epoch 15/20, Train Loss: 0.0040, Train Acc: 0.9983, Val Loss: 0.3753, Val Acc: 0.9271\n"
          ]
        },
        {
          "name": "stderr",
          "output_type": "stream",
          "text": [
            " 80%|████████  | 16/20 [05:22<01:19, 19.90s/it]"
          ]
        },
        {
          "name": "stdout",
          "output_type": "stream",
          "text": [
            "Epoch 16/20, Train Loss: 0.0018, Train Acc: 0.9994, Val Loss: 0.3482, Val Acc: 0.9349\n"
          ]
        },
        {
          "name": "stderr",
          "output_type": "stream",
          "text": [
            " 85%|████████▌ | 17/20 [05:42<00:59, 19.98s/it]"
          ]
        },
        {
          "name": "stdout",
          "output_type": "stream",
          "text": [
            "Epoch 17/20, Train Loss: 0.0046, Train Acc: 0.9983, Val Loss: 0.3669, Val Acc: 0.9297\n"
          ]
        },
        {
          "name": "stderr",
          "output_type": "stream",
          "text": [
            " 90%|█████████ | 18/20 [06:02<00:39, 19.90s/it]"
          ]
        },
        {
          "name": "stdout",
          "output_type": "stream",
          "text": [
            "Epoch 18/20, Train Loss: 0.0019, Train Acc: 1.0000, Val Loss: 0.3675, Val Acc: 0.9349\n"
          ]
        },
        {
          "name": "stderr",
          "output_type": "stream",
          "text": [
            " 95%|█████████▌| 19/20 [06:22<00:19, 19.90s/it]"
          ]
        },
        {
          "name": "stdout",
          "output_type": "stream",
          "text": [
            "Epoch 19/20, Train Loss: 0.0016, Train Acc: 1.0000, Val Loss: 0.3787, Val Acc: 0.9245\n"
          ]
        },
        {
          "name": "stderr",
          "output_type": "stream",
          "text": [
            "100%|██████████| 20/20 [06:42<00:00, 20.12s/it]"
          ]
        },
        {
          "name": "stdout",
          "output_type": "stream",
          "text": [
            "Epoch 20/20, Train Loss: 0.0030, Train Acc: 0.9994, Val Loss: 0.3841, Val Acc: 0.9245\n",
            "Using device: cuda\n",
            "NVIDIA Graphics Card: NVIDIA GeForce RTX 2080\n"
          ]
        },
        {
          "name": "stderr",
          "output_type": "stream",
          "text": [
            "\n"
          ]
        },
        {
          "name": "stdout",
          "output_type": "stream",
          "text": [
            "Test Loss: 0.1414, Test Accuracy: 0.9576\n",
            "Training with lr=0.0005, batch_size=32, num_epochs=20, step_size=8\n",
            "Using device: cuda\n",
            "NVIDIA Graphics Card: NVIDIA GeForce RTX 2080\n"
          ]
        },
        {
          "name": "stderr",
          "output_type": "stream",
          "text": [
            "  5%|▌         | 1/20 [00:19<06:18, 19.92s/it]"
          ]
        },
        {
          "name": "stdout",
          "output_type": "stream",
          "text": [
            "Epoch 1/20, Train Loss: 0.7330, Train Acc: 0.7634, Val Loss: 0.3449, Val Acc: 0.8872\n"
          ]
        },
        {
          "name": "stderr",
          "output_type": "stream",
          "text": [
            " 10%|█         | 2/20 [00:39<05:55, 19.73s/it]"
          ]
        },
        {
          "name": "stdout",
          "output_type": "stream",
          "text": [
            "Epoch 2/20, Train Loss: 0.2254, Train Acc: 0.9305, Val Loss: 0.2962, Val Acc: 0.9193\n"
          ]
        },
        {
          "name": "stderr",
          "output_type": "stream",
          "text": [
            " 15%|█▌        | 3/20 [01:00<05:48, 20.51s/it]"
          ]
        },
        {
          "name": "stdout",
          "output_type": "stream",
          "text": [
            "Epoch 3/20, Train Loss: 0.1237, Train Acc: 0.9543, Val Loss: 0.4701, Val Acc: 0.8819\n"
          ]
        },
        {
          "name": "stderr",
          "output_type": "stream",
          "text": [
            " 20%|██        | 4/20 [01:22<05:31, 20.73s/it]"
          ]
        },
        {
          "name": "stdout",
          "output_type": "stream",
          "text": [
            "Epoch 4/20, Train Loss: 0.1404, Train Acc: 0.9537, Val Loss: 0.4018, Val Acc: 0.8924\n"
          ]
        },
        {
          "name": "stderr",
          "output_type": "stream",
          "text": [
            " 25%|██▌       | 5/20 [01:43<05:14, 20.97s/it]"
          ]
        },
        {
          "name": "stdout",
          "output_type": "stream",
          "text": [
            "Epoch 5/20, Train Loss: 0.0815, Train Acc: 0.9684, Val Loss: 0.4335, Val Acc: 0.9028\n"
          ]
        },
        {
          "name": "stderr",
          "output_type": "stream",
          "text": [
            " 30%|███       | 6/20 [02:05<04:58, 21.31s/it]"
          ]
        },
        {
          "name": "stdout",
          "output_type": "stream",
          "text": [
            "Epoch 6/20, Train Loss: 0.0813, Train Acc: 0.9757, Val Loss: 0.4357, Val Acc: 0.8854\n"
          ]
        },
        {
          "name": "stderr",
          "output_type": "stream",
          "text": [
            " 35%|███▌      | 7/20 [02:27<04:41, 21.65s/it]"
          ]
        },
        {
          "name": "stdout",
          "output_type": "stream",
          "text": [
            "Epoch 7/20, Train Loss: 0.0608, Train Acc: 0.9808, Val Loss: 0.4297, Val Acc: 0.8845\n"
          ]
        },
        {
          "name": "stderr",
          "output_type": "stream",
          "text": [
            " 40%|████      | 8/20 [02:50<04:24, 22.06s/it]"
          ]
        },
        {
          "name": "stdout",
          "output_type": "stream",
          "text": [
            "Epoch 8/20, Train Loss: 0.0448, Train Acc: 0.9864, Val Loss: 0.4426, Val Acc: 0.9028\n"
          ]
        },
        {
          "name": "stderr",
          "output_type": "stream",
          "text": [
            " 45%|████▌     | 9/20 [03:14<04:09, 22.70s/it]"
          ]
        },
        {
          "name": "stdout",
          "output_type": "stream",
          "text": [
            "Epoch 9/20, Train Loss: 0.0283, Train Acc: 0.9910, Val Loss: 0.3492, Val Acc: 0.9306\n"
          ]
        },
        {
          "name": "stderr",
          "output_type": "stream",
          "text": [
            " 50%|█████     | 10/20 [03:36<03:43, 22.36s/it]"
          ]
        },
        {
          "name": "stdout",
          "output_type": "stream",
          "text": [
            "Epoch 10/20, Train Loss: 0.0173, Train Acc: 0.9932, Val Loss: 0.3502, Val Acc: 0.9323\n"
          ]
        },
        {
          "name": "stderr",
          "output_type": "stream",
          "text": [
            " 55%|█████▌    | 11/20 [03:58<03:20, 22.23s/it]"
          ]
        },
        {
          "name": "stdout",
          "output_type": "stream",
          "text": [
            "Epoch 11/20, Train Loss: 0.0069, Train Acc: 0.9989, Val Loss: 0.3409, Val Acc: 0.9401\n"
          ]
        },
        {
          "name": "stderr",
          "output_type": "stream",
          "text": [
            " 60%|██████    | 12/20 [04:22<03:02, 22.79s/it]"
          ]
        },
        {
          "name": "stdout",
          "output_type": "stream",
          "text": [
            "Epoch 12/20, Train Loss: 0.0129, Train Acc: 0.9949, Val Loss: 0.4112, Val Acc: 0.9236\n"
          ]
        },
        {
          "name": "stderr",
          "output_type": "stream",
          "text": [
            " 65%|██████▌   | 13/20 [04:44<02:38, 22.66s/it]"
          ]
        },
        {
          "name": "stdout",
          "output_type": "stream",
          "text": [
            "Epoch 13/20, Train Loss: 0.0063, Train Acc: 0.9983, Val Loss: 0.4159, Val Acc: 0.9219\n"
          ]
        },
        {
          "name": "stderr",
          "output_type": "stream",
          "text": [
            " 70%|███████   | 14/20 [05:05<02:13, 22.17s/it]"
          ]
        },
        {
          "name": "stdout",
          "output_type": "stream",
          "text": [
            "Epoch 14/20, Train Loss: 0.0123, Train Acc: 0.9966, Val Loss: 0.4208, Val Acc: 0.9167\n"
          ]
        },
        {
          "name": "stderr",
          "output_type": "stream",
          "text": [
            " 75%|███████▌  | 15/20 [05:26<01:48, 21.75s/it]"
          ]
        },
        {
          "name": "stdout",
          "output_type": "stream",
          "text": [
            "Epoch 15/20, Train Loss: 0.0089, Train Acc: 0.9977, Val Loss: 0.3978, Val Acc: 0.9288\n"
          ]
        },
        {
          "name": "stderr",
          "output_type": "stream",
          "text": [
            " 80%|████████  | 16/20 [05:48<01:26, 21.68s/it]"
          ]
        },
        {
          "name": "stdout",
          "output_type": "stream",
          "text": [
            "Epoch 16/20, Train Loss: 0.0155, Train Acc: 0.9972, Val Loss: 0.4332, Val Acc: 0.9236\n"
          ]
        },
        {
          "name": "stderr",
          "output_type": "stream",
          "text": [
            " 85%|████████▌ | 17/20 [06:10<01:05, 21.87s/it]"
          ]
        },
        {
          "name": "stdout",
          "output_type": "stream",
          "text": [
            "Epoch 17/20, Train Loss: 0.0091, Train Acc: 0.9972, Val Loss: 0.3890, Val Acc: 0.9288\n"
          ]
        },
        {
          "name": "stderr",
          "output_type": "stream",
          "text": [
            " 90%|█████████ | 18/20 [06:33<00:44, 22.20s/it]"
          ]
        },
        {
          "name": "stdout",
          "output_type": "stream",
          "text": [
            "Epoch 18/20, Train Loss: 0.0063, Train Acc: 0.9989, Val Loss: 0.4070, Val Acc: 0.9236\n"
          ]
        },
        {
          "name": "stderr",
          "output_type": "stream",
          "text": [
            " 95%|█████████▌| 19/20 [06:56<00:22, 22.38s/it]"
          ]
        },
        {
          "name": "stdout",
          "output_type": "stream",
          "text": [
            "Epoch 19/20, Train Loss: 0.0034, Train Acc: 0.9994, Val Loss: 0.4034, Val Acc: 0.9288\n"
          ]
        },
        {
          "name": "stderr",
          "output_type": "stream",
          "text": [
            "100%|██████████| 20/20 [07:19<00:00, 21.97s/it]"
          ]
        },
        {
          "name": "stdout",
          "output_type": "stream",
          "text": [
            "Epoch 20/20, Train Loss: 0.0068, Train Acc: 0.9977, Val Loss: 0.3958, Val Acc: 0.9184\n",
            "Using device: cuda\n",
            "NVIDIA Graphics Card: NVIDIA GeForce RTX 2080\n"
          ]
        },
        {
          "name": "stderr",
          "output_type": "stream",
          "text": [
            "\n"
          ]
        },
        {
          "name": "stdout",
          "output_type": "stream",
          "text": [
            "Test Loss: 0.1903, Test Accuracy: 0.9397\n",
            "Assuming peak performance of 9.76 TFLOP/s and average utilization of 0.2:\n",
            "Total training time: 1712.8389070034027 seconds\n",
            "Total compute units: 0.9287393184640672 TFLOP-hours\n",
            "Best performing model on testing set: {'lr': 0.0005, 'batch_size': 32, 'num_epochs': 20} with accuracy: 0.9575892857142857\n"
          ]
        }
      ],
      "source": [
        "# Create dataset objects for training, validation, and testing\n",
        "train_dataset = CustomDataset(train_paths, train_labels, transform=training_transform)\n",
        "val_dataset = CustomDataset(val_paths, val_labels, transform=transform)\n",
        "test_dataset = CustomDataset(test_paths, test_labels, transform=transform)\n",
        "\n",
        "# Define the hyperparameter grid\n",
        "learning_rates = [5e-5, 5e-4]  # CV learning rates\n",
        "batch_sizes = [32]  # CV batch sizes\n",
        "num_epochs_list = [20]  # CV number of epochs\n",
        "step_sizes = [4,8]  # CV step sizes\n",
        "\n",
        "# Record the best performance and metrics\n",
        "best_acc = 0\n",
        "best_hyperparams = None\n",
        "best_model_info = {}\n",
        "\n",
        "# Record time for compute calculations later.\n",
        "start_time = time.time()\n",
        "\n",
        "# VERY IMPORTANT TO BE AWARE OF THE FLUCTUATIONS IN THE GPU UTILIZATION AND THE PEAK PERFORMANCE.\n",
        "# IF THIS IS BEING RUN SOMEWHERE ELSE THIS MUST BE UPDATED.\n",
        "# THESE VALUES ARE FOR THE NVIDIA GEFORCE RTX 2080 NIKOLAJ'S COMP. NOT UNIVERSAL AND ALSO THE AVERAGE UTALIZATION IS A GUESS FROM MY EXPERIENCE WATCHING TASK MANAGER.\n",
        "peak_performance_tflops = 9.76 # Hypothetical peak performance in TFLOP/s of NVIDIA GeForce RTX 3050 Ti\n",
        "average_utilization = 0.20  # Assumed average (from my experience on task manager)\n",
        "\n",
        "# Iterate over all combinations of hyperparameters\n",
        "for lr, batch_size, num_epochs, step_size in itertools.product(learning_rates, batch_sizes, num_epochs_list, step_sizes):\n",
        "    print(f\"Training with lr={lr}, batch_size={batch_size}, num_epochs={num_epochs}, step_size={step_size}\")\n",
        "\n",
        "    # Create data loaders for batching, shuffling, and iterating over the datasets\n",
        "    train_dataloader = DataLoader(train_dataset, batch_size=batch_size, shuffle=True, pin_memory=True, num_workers=0)\n",
        "    val_dataloader = DataLoader(val_dataset, batch_size=batch_size, shuffle=False, pin_memory=True, num_workers=0)\n",
        "    test_dataloader = DataLoader(test_dataset, batch_size=batch_size, shuffle=False, pin_memory=True, num_workers=0)\n",
        "\n",
        "    # Train the model with the current set of hyperparameters\n",
        "    results = train(train_dataloader=train_dataloader, val_dataloader=val_dataloader, num_classes=6, N_epochs=num_epochs, lr=lr, step_size=step_size)\n",
        "    model = results[\"model\"]\n",
        "\n",
        "    # Evaluate the model on the testing set\n",
        "    loss_fun = nn.CrossEntropyLoss()\n",
        "    device = torch.device(\"cuda\" if torch.cuda.is_available() else \"cpu\")\n",
        "    print(f\"Using device: {device}\")\n",
        "\n",
        "    if device.type == 'cuda':\n",
        "        gpu_name = torch.cuda.get_device_name(0)\n",
        "        print(f\"NVIDIA Graphics Card: {gpu_name}\")\n",
        "\n",
        "    test_loss, test_acc = evaluate_model(model, test_dataloader, loss_fun, device)\n",
        "\n",
        "    print(f\"Test Loss: {test_loss:.4f}, Test Accuracy: {test_acc:.4f}\")\n",
        "\n",
        "    # Save the model and metrics if it has the best accuracy so far on the testing set\n",
        "    if test_acc > best_acc:\n",
        "        best_acc = test_acc\n",
        "        best_hyperparams = {'lr': lr, 'batch_size': batch_size, 'num_epochs': num_epochs}\n",
        "        best_model_info = {\n",
        "            \"state_dict\": copy.deepcopy(model.state_dict()),\n",
        "            \"training_losses\": results[\"training_losses\"],\n",
        "            \"training_accuracies\": results[\"training_accuracies\"],\n",
        "            \"validation_losses\": results[\"validation_losses\"],\n",
        "            \"validation_accuracies\": results[\"validation_accuracies\"]\n",
        "        }\n",
        "\n",
        "\n",
        "end_time = time.time() # end time in seconds\n",
        "total_time = end_time - start_time # total time in seconds\n",
        "total_compute_units_tflops = peak_performance_tflops * average_utilization * total_time # total compute in TFLOP/s\n",
        "\n",
        "# Convert TFLOPs to TFLOP-hours by dividing by the number of seconds in an hour\n",
        "total_compute_units_tfloph = total_compute_units_tflops / 3600\n",
        "\n",
        "print(f\"Assuming peak performance of {peak_performance_tflops} TFLOP/s and average utilization of {average_utilization}:\")\n",
        "print(f\"Total training time: {total_time} seconds\")\n",
        "print(f\"Total compute units: {total_compute_units_tfloph} TFLOP-hours\")\n",
        "\n",
        "# Output the best performing set of hyperparameters based on the testing dataset\n",
        "print(f\"Best performing model on testing set: {best_hyperparams} with accuracy: {best_acc}\")\n",
        "\n",
        "# Save the best model and associated metrics\n",
        "torch.save(best_model_info, 'EfficientNetB0_best_model.pth')"
      ]
    },
    {
      "cell_type": "markdown",
      "metadata": {},
      "source": [
        "## 7) Visualizing our best model"
      ]
    },
    {
      "cell_type": "code",
      "execution_count": 40,
      "metadata": {
        "colab": {
          "base_uri": "https://localhost:8080/",
          "height": 371
        },
        "id": "gHI_5C3xSUIl",
        "outputId": "88f78c87-bc71-4d6f-90b5-4538a50de700"
      },
      "outputs": [
        {
          "data": {
            "image/png": "[encoded data removed]",
            "text/plain": [
              "<Figure size 1000x600 with 1 Axes>"
            ]
          },
          "metadata": {},
          "output_type": "display_data"
        },
        {
          "data": {
            "image/png": "[encoded data removed]",
            "text/plain": [
              "<Figure size 1000x600 with 1 Axes>"
            ]
          },
          "metadata": {},
          "output_type": "display_data"
        }
      ],
      "source": [
        "# Load the best model info\n",
        "best_model_info = torch.load('EfficientNetB0_best_model.pth')\n",
        "\n",
        "# Extract the metrics from the loaded model info\n",
        "training_losses = best_model_info['training_losses']\n",
        "training_accuracies = best_model_info['training_accuracies']\n",
        "validation_losses = best_model_info['validation_losses']\n",
        "validation_accuracies = best_model_info['validation_accuracies']\n",
        "num_epochs = len(training_losses)\n",
        "\n",
        "# Define the epochs array\n",
        "epochs = np.arange(1, num_epochs + 1)\n",
        "\n",
        "# Define the colors for the plot\n",
        "color_loss = 'blue'\n",
        "color_val_loss = 'orange'\n",
        "color_acc = 'green'\n",
        "color_val_acc = 'red'\n",
        "\n",
        "# Plot for Loss\n",
        "plt.figure(figsize=(10, 6))\n",
        "plt.title('Training & Validation Loss')\n",
        "plt.xlabel('Epoch')\n",
        "plt.ylabel('Loss')\n",
        "plt.plot(epochs, training_losses, label='Training Loss', marker='o', color=color_loss)\n",
        "plt.plot(epochs, validation_losses, label='Validation Loss', marker='x', color=color_val_loss)\n",
        "plt.legend()\n",
        "plt.tight_layout()\n",
        "plt.show()\n",
        "\n",
        "# Plot for Accuracy\n",
        "plt.figure(figsize=(10, 6))\n",
        "plt.title('Training & Validation Accuracy')\n",
        "plt.xlabel('Epoch')\n",
        "plt.ylabel('Accuracy')\n",
        "plt.plot(epochs, training_accuracies, label='Training Accuracy', marker='o', color=color_acc)\n",
        "plt.plot(epochs, validation_accuracies, label='Validation Accuracy', marker='x', color=color_val_acc)\n",
        "plt.legend()\n",
        "plt.tight_layout()\n",
        "plt.show()"
      ]
    },
    {
      "cell_type": "markdown",
      "metadata": {},
      "source": [
        "## 8) Showing which images in the test set the model failed to predict, and what it predicted in place."
      ]
    },
    {
      "cell_type": "code",
      "execution_count": 41,
      "metadata": {
        "id": "1xq7eZDLSUIo",
        "outputId": "c21f7085-8893-48ea-8a2f-b8a3ace1ccb0"
      },
      "outputs": [
        {
          "name": "stdout",
          "output_type": "stream",
          "text": [
            "Path to image: ../../data/dataset-resized\\Metal\\metal344.jpg, Actual label: Metal, Predicted label: Glass\n",
            "Path to image: ../../data/dataset-resized\\Cardboard\\cardboard113.jpg, Actual label: Cardboard, Predicted label: Glass\n",
            "Path to image: ../../data/dataset-resized\\Glass\\glass159.jpg, Actual label: Glass, Predicted label: Metal\n",
            "Path to image: ../../data/dataset-resized\\Glass\\glass466.jpg, Actual label: Glass, Predicted label: Metal\n",
            "Path to image: ../../data/dataset-resized\\Cardboard\\cardboard113.jpg, Actual label: Cardboard, Predicted label: Paper\n",
            "Path to image: ../../data/dataset-resized\\Paper\\paper57.jpg, Actual label: Paper, Predicted label: Paper\n",
            "Path to image: ../../data/dataset-resized\\Trash\\trash39.jpg, Actual label: Trash, Predicted label: Paper\n",
            "Path to image: ../../data/dataset-resized\\Metal\\metal342.jpg, Actual label: Metal, Predicted label: Metal\n",
            "Path to image: ../../data/dataset-resized\\Cardboard\\cardboard187.jpg, Actual label: Cardboard, Predicted label: Metal\n",
            "Path to image: ../../data/dataset-resized\\Cardboard\\cardboard39.jpg, Actual label: Cardboard, Predicted label: Plastic\n",
            "Path to image: ../../data/dataset-resized\\Plastic\\plastic113.jpg, Actual label: Plastic, Predicted label: Metal\n",
            "Path to image: ../../data/dataset-resized\\Cardboard\\cardboard113.jpg, Actual label: Cardboard, Predicted label: Paper\n",
            "Path to image: ../../data/dataset-resized\\Glass\\glass301.jpg, Actual label: Glass, Predicted label: Metal\n",
            "Path to image: ../../data/dataset-resized\\Metal\\metal241.jpg, Actual label: Metal, Predicted label: Plastic\n",
            "Path to image: ../../data/dataset-resized\\Plastic\\plastic113.jpg, Actual label: Plastic, Predicted label: Metal\n",
            "Path to image: ../../data/dataset-resized\\Glass\\glass182.jpg, Actual label: Glass, Predicted label: Paper\n"
          ]
        }
      ],
      "source": [
        "# Load the best model from the saved state dictionary\n",
        "num_classes = 6\n",
        "categories = ['Trash', 'Plastic', 'Paper', 'Metal', 'Glass', 'Cardboard']\n",
        "best_model = initialize_model(num_classes)\n",
        "best_model.load_state_dict(best_model_info['state_dict'])\n",
        "\n",
        "# load the test dataset\n",
        "test_dataloader = DataLoader(test_dataset, batch_size=32, shuffle=False)\n",
        "test_labels = test_dataset.labels\n",
        "test_paths = test_dataset.image_paths\n",
        "\n",
        "# Assuming device setup is already done (use CUDA if available)\n",
        "device = torch.device(\"cuda\" if torch.cuda.is_available() else \"cpu\")\n",
        "best_model.to(device)\n",
        "\n",
        "# Call the misclassified_labels function\n",
        "misclassified_samples = misclassified_labels(best_model, test_dataloader, device)\n",
        "\n",
        "# Print some of the misclassified samples to verify\n",
        "for idx in misclassified_samples:\n",
        "    dataloader_idx = idx[0]\n",
        "    predicted_label = idx[1]\n",
        "    print(f\"Path to image: {test_paths[dataloader_idx]}, Actual label: {categories[test_labels[dataloader_idx]]}, Predicted label: {categories[predicted_label]}\")"
      ]
    }
  ],
  "metadata": {
    "accelerator": "GPU",
    "colab": {
      "gpuType": "T4",
      "provenance": []
    },
    "kernelspec": {
      "display_name": "Python 3",
      "name": "python3"
    },
    "language_info": {
      "codemirror_mode": {
        "name": "ipython",
        "version": 3
      },
      "file_extension": ".py",
      "mimetype": "text/x-python",
      "name": "python",
      "nbconvert_exporter": "python",
      "pygments_lexer": "ipython3",
      "version": "3.11.5"
    },
    "widgets": {
      "application/vnd.jupyter.widget-state+json": {
        "00f3ac33cd8e4a0a83858b7490f589be": {
          "model_module": "@jupyter-widgets/controls",
          "model_module_version": "1.5.0",
          "model_name": "DescriptionStyleModel",
          "state": {
            "_model_module": "@jupyter-widgets/controls",
            "_model_module_version": "1.5.0",
            "_model_name": "DescriptionStyleModel",
            "_view_count": null,
            "_view_module": "@jupyter-widgets/base",
            "_view_module_version": "1.2.0",
            "_view_name": "StyleView",
            "description_width": ""
          }
        },
        "190334a37b274113a0b07a887802e384": {
          "model_module": "@jupyter-widgets/controls",
          "model_module_version": "1.5.0",
          "model_name": "HTMLModel",
          "state": {
            "_dom_classes": [],
            "_model_module": "@jupyter-widgets/controls",
            "_model_module_version": "1.5.0",
            "_model_name": "HTMLModel",
            "_view_count": null,
            "_view_module": "@jupyter-widgets/controls",
            "_view_module_version": "1.5.0",
            "_view_name": "HTMLView",
            "description": "",
            "description_tooltip": null,
            "layout": "IPY_MODEL_3d0cac4030d742408951b052708c3b07",
            "placeholder": "​",
            "style": "IPY_MODEL_92ec4dc987e644258a97b439f959bbc5",
            "value": " 21.4M/21.4M [00:00&lt;00:00, 153MB/s]"
          }
        },
        "3d0cac4030d742408951b052708c3b07": {
          "model_module": "@jupyter-widgets/base",
          "model_module_version": "1.2.0",
          "model_name": "LayoutModel",
          "state": {
            "_model_module": "@jupyter-widgets/base",
            "_model_module_version": "1.2.0",
            "_model_name": "LayoutModel",
            "_view_count": null,
            "_view_module": "@jupyter-widgets/base",
            "_view_module_version": "1.2.0",
            "_view_name": "LayoutView",
            "align_content": null,
            "align_items": null,
            "align_self": null,
            "border": null,
            "bottom": null,
            "display": null,
            "flex": null,
            "flex_flow": null,
            "grid_area": null,
            "grid_auto_columns": null,
            "grid_auto_flow": null,
            "grid_auto_rows": null,
            "grid_column": null,
            "grid_gap": null,
            "grid_row": null,
            "grid_template_areas": null,
            "grid_template_columns": null,
            "grid_template_rows": null,
            "height": null,
            "justify_content": null,
            "justify_items": null,
            "left": null,
            "margin": null,
            "max_height": null,
            "max_width": null,
            "min_height": null,
            "min_width": null,
            "object_fit": null,
            "object_position": null,
            "order": null,
            "overflow": null,
            "overflow_x": null,
            "overflow_y": null,
            "padding": null,
            "right": null,
            "top": null,
            "visibility": null,
            "width": null
          }
        },
        "544f30eb00ff47bd91c426717d4918eb": {
          "model_module": "@jupyter-widgets/controls",
          "model_module_version": "1.5.0",
          "model_name": "ProgressStyleModel",
          "state": {
            "_model_module": "@jupyter-widgets/controls",
            "_model_module_version": "1.5.0",
            "_model_name": "ProgressStyleModel",
            "_view_count": null,
            "_view_module": "@jupyter-widgets/base",
            "_view_module_version": "1.2.0",
            "_view_name": "StyleView",
            "bar_color": null,
            "description_width": ""
          }
        },
        "57e04f175d954e1b8921da02e761c12d": {
          "model_module": "@jupyter-widgets/controls",
          "model_module_version": "1.5.0",
          "model_name": "HTMLModel",
          "state": {
            "_dom_classes": [],
            "_model_module": "@jupyter-widgets/controls",
            "_model_module_version": "1.5.0",
            "_model_name": "HTMLModel",
            "_view_count": null,
            "_view_module": "@jupyter-widgets/controls",
            "_view_module_version": "1.5.0",
            "_view_name": "HTMLView",
            "description": "",
            "description_tooltip": null,
            "layout": "IPY_MODEL_f66fa27ba3c345e48eb50c195ae83da5",
            "placeholder": "​",
            "style": "IPY_MODEL_00f3ac33cd8e4a0a83858b7490f589be",
            "value": "model.safetensors: 100%"
          }
        },
        "6152d6cc45334ad1826079d12bbcc36a": {
          "model_module": "@jupyter-widgets/base",
          "model_module_version": "1.2.0",
          "model_name": "LayoutModel",
          "state": {
            "_model_module": "@jupyter-widgets/base",
            "_model_module_version": "1.2.0",
            "_model_name": "LayoutModel",
            "_view_count": null,
            "_view_module": "@jupyter-widgets/base",
            "_view_module_version": "1.2.0",
            "_view_name": "LayoutView",
            "align_content": null,
            "align_items": null,
            "align_self": null,
            "border": null,
            "bottom": null,
            "display": null,
            "flex": null,
            "flex_flow": null,
            "grid_area": null,
            "grid_auto_columns": null,
            "grid_auto_flow": null,
            "grid_auto_rows": null,
            "grid_column": null,
            "grid_gap": null,
            "grid_row": null,
            "grid_template_areas": null,
            "grid_template_columns": null,
            "grid_template_rows": null,
            "height": null,
            "justify_content": null,
            "justify_items": null,
            "left": null,
            "margin": null,
            "max_height": null,
            "max_width": null,
            "min_height": null,
            "min_width": null,
            "object_fit": null,
            "object_position": null,
            "order": null,
            "overflow": null,
            "overflow_x": null,
            "overflow_y": null,
            "padding": null,
            "right": null,
            "top": null,
            "visibility": null,
            "width": null
          }
        },
        "92ec4dc987e644258a97b439f959bbc5": {
          "model_module": "@jupyter-widgets/controls",
          "model_module_version": "1.5.0",
          "model_name": "DescriptionStyleModel",
          "state": {
            "_model_module": "@jupyter-widgets/controls",
            "_model_module_version": "1.5.0",
            "_model_name": "DescriptionStyleModel",
            "_view_count": null,
            "_view_module": "@jupyter-widgets/base",
            "_view_module_version": "1.2.0",
            "_view_name": "StyleView",
            "description_width": ""
          }
        },
        "b82eddafd0d445d3a84a9111981a2f88": {
          "model_module": "@jupyter-widgets/base",
          "model_module_version": "1.2.0",
          "model_name": "LayoutModel",
          "state": {
            "_model_module": "@jupyter-widgets/base",
            "_model_module_version": "1.2.0",
            "_model_name": "LayoutModel",
            "_view_count": null,
            "_view_module": "@jupyter-widgets/base",
            "_view_module_version": "1.2.0",
            "_view_name": "LayoutView",
            "align_content": null,
            "align_items": null,
            "align_self": null,
            "border": null,
            "bottom": null,
            "display": null,
            "flex": null,
            "flex_flow": null,
            "grid_area": null,
            "grid_auto_columns": null,
            "grid_auto_flow": null,
            "grid_auto_rows": null,
            "grid_column": null,
            "grid_gap": null,
            "grid_row": null,
            "grid_template_areas": null,
            "grid_template_columns": null,
            "grid_template_rows": null,
            "height": null,
            "justify_content": null,
            "justify_items": null,
            "left": null,
            "margin": null,
            "max_height": null,
            "max_width": null,
            "min_height": null,
            "min_width": null,
            "object_fit": null,
            "object_position": null,
            "order": null,
            "overflow": null,
            "overflow_x": null,
            "overflow_y": null,
            "padding": null,
            "right": null,
            "top": null,
            "visibility": null,
            "width": null
          }
        },
        "c8d46863abd44982b84119d273174690": {
          "model_module": "@jupyter-widgets/controls",
          "model_module_version": "1.5.0",
          "model_name": "FloatProgressModel",
          "state": {
            "_dom_classes": [],
            "_model_module": "@jupyter-widgets/controls",
            "_model_module_version": "1.5.0",
            "_model_name": "FloatProgressModel",
            "_view_count": null,
            "_view_module": "@jupyter-widgets/controls",
            "_view_module_version": "1.5.0",
            "_view_name": "ProgressView",
            "bar_style": "success",
            "description": "",
            "description_tooltip": null,
            "layout": "IPY_MODEL_b82eddafd0d445d3a84a9111981a2f88",
            "max": 21355344,
            "min": 0,
            "orientation": "horizontal",
            "style": "IPY_MODEL_544f30eb00ff47bd91c426717d4918eb",
            "value": 21355344
          }
        },
        "f2df0b8c03454bc3b398f3b717fd19b8": {
          "model_module": "@jupyter-widgets/controls",
          "model_module_version": "1.5.0",
          "model_name": "HBoxModel",
          "state": {
            "_dom_classes": [],
            "_model_module": "@jupyter-widgets/controls",
            "_model_module_version": "1.5.0",
            "_model_name": "HBoxModel",
            "_view_count": null,
            "_view_module": "@jupyter-widgets/controls",
            "_view_module_version": "1.5.0",
            "_view_name": "HBoxView",
            "box_style": "",
            "children": [
              "IPY_MODEL_57e04f175d954e1b8921da02e761c12d",
              "IPY_MODEL_c8d46863abd44982b84119d273174690",
              "IPY_MODEL_190334a37b274113a0b07a887802e384"
            ],
            "layout": "IPY_MODEL_6152d6cc45334ad1826079d12bbcc36a"
          }
        },
        "f66fa27ba3c345e48eb50c195ae83da5": {
          "model_module": "@jupyter-widgets/base",
          "model_module_version": "1.2.0",
          "model_name": "LayoutModel",
          "state": {
            "_model_module": "@jupyter-widgets/base",
            "_model_module_version": "1.2.0",
            "_model_name": "LayoutModel",
            "_view_count": null,
            "_view_module": "@jupyter-widgets/base",
            "_view_module_version": "1.2.0",
            "_view_name": "LayoutView",
            "align_content": null,
            "align_items": null,
            "align_self": null,
            "border": null,
            "bottom": null,
            "display": null,
            "flex": null,
            "flex_flow": null,
            "grid_area": null,
            "grid_auto_columns": null,
            "grid_auto_flow": null,
            "grid_auto_rows": null,
            "grid_column": null,
            "grid_gap": null,
            "grid_row": null,
            "grid_template_areas": null,
            "grid_template_columns": null,
            "grid_template_rows": null,
            "height": null,
            "justify_content": null,
            "justify_items": null,
            "left": null,
            "margin": null,
            "max_height": null,
            "max_width": null,
            "min_height": null,
            "min_width": null,
            "object_fit": null,
            "object_position": null,
            "order": null,
            "overflow": null,
            "overflow_x": null,
            "overflow_y": null,
            "padding": null,
            "right": null,
            "top": null,
            "visibility": null,
            "width": null
          }
        }
      }
    }
  },
  "nbformat": 4,
  "nbformat_minor": 0
}
