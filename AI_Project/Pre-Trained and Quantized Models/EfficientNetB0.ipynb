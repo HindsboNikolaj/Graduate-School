{
  "cells": [
    {
      "cell_type": "code",
      "execution_count": 30,
      "metadata": {
        "colab": {
          "base_uri": "https://localhost:8080/"
        },
        "id": "9uaq5FM4XUzm",
        "outputId": "46c6690f-b9ff-4421-eb35-db0d26175f1e"
      },
      "outputs": [],
      "source": [
        "# Standard Libraries\n",
        "import copy\n",
        "import itertools\n",
        "import os\n",
        "import time\n",
        "from tempfile import TemporaryDirectory\n",
        "\n",
        "# 3rd Party Libraries\n",
        "import matplotlib.pyplot as plt\n",
        "import numpy as np\n",
        "import pandas as pd\n",
        "import timm\n",
        "import torch\n",
        "import torchvision\n",
        "from PIL import Image\n",
        "from sklearn.model_selection import train_test_split\n",
        "from torch import nn, optim\n",
        "from torch.optim import lr_scheduler\n",
        "from torch.utils.data import DataLoader, Dataset, Subset\n",
        "from torchvision import datasets, models, transforms\n",
        "from torchvision.io import read_image\n",
        "from tqdm import tqdm"
      ]
    },
    {
      "cell_type": "code",
      "execution_count": 31,
      "metadata": {
        "colab": {
          "base_uri": "https://localhost:8080/"
        },
        "id": "eMf5iAzz_59T",
        "outputId": "39a42a15-e9db-42bc-bc42-690478dd5883"
      },
      "outputs": [],
      "source": [
        "# FOR USE ON GOOGLE COLAB\n",
        "\n",
        "# from google.colab import drive\n",
        "# drive.mount('/content/drive') # Mounts it to YOUR drive. Nishanth and Chad, you will have to add a shortcut to dataset-resized.\n",
        "# # Dataset-realized is in the folder that was shared.\n",
        "# import os\n",
        "\n",
        "# # Path to the dataset folder\n",
        "# folder_path = '/content/drive/My Drive/dataset-resized' # All images are 512 x 384\n",
        "# #folder_path = '/content/drive/My Drive/24-782: ML and AI for Engineers - Project/4- Code/dataset-resized'  #Chad path\n",
        "\n",
        "# #folder path for Nishanth\n",
        "# folder_path = '/content/drive/My Drive/Courses/24-782: ML and AI for Engineers - Project/Code/dataset-resized'\n",
        "\n",
        "folder_path = '../../data/dataset-resized' # My local path\n",
        "os.environ['HF_HUB_DISABLE_SYMLINKS_WARNING'] = '1' # for timm"
      ]
    },
    {
      "cell_type": "markdown",
      "metadata": {
        "id": "gVgczbe4Ht-x"
      },
      "source": [
        "This is used to prepare the data for labeling."
      ]
    },
    {
      "cell_type": "code",
      "execution_count": 32,
      "metadata": {
        "id": "BRM9nj55Hnfn"
      },
      "outputs": [],
      "source": [
        "def prepare_data(data_dir):\n",
        "    \"\"\"\n",
        "    Prepares the dataset for training/testing by organizing image paths and labels.\n",
        "\n",
        "    Parameters:\n",
        "    - data_dir (str): Directory containing the dataset, organized into subdirectories\n",
        "      for each category.\n",
        "\n",
        "    Returns:\n",
        "    - tuple: Two lists containing the image file paths and corresponding labels.\n",
        "    \"\"\"\n",
        "\n",
        "    # Define the categories of the dataset\n",
        "    categories = ['Trash', 'Plastic', 'Paper', 'Metal', 'Glass', 'Cardboard']\n",
        "\n",
        "    # Lists to hold the paths of the images and their labels\n",
        "    image_paths = []\n",
        "    labels = []  # Numerical labels: 0 for Trash, 1 for Plastic, etc.\n",
        "\n",
        "    # Enumerate over categories to label the images accordingly\n",
        "    for label, category in enumerate(categories):\n",
        "            try:\n",
        "                # Construct the directory path for the current category\n",
        "                category_dir = os.path.join(data_dir, category)\n",
        "\n",
        "                # Iterate through each file in the category directory\n",
        "                for file in os.listdir(category_dir):\n",
        "                    # Check if the file is an image\n",
        "                    if file.endswith('.jpg') or file.endswith('.png'):\n",
        "                        image_paths.append(os.path.join(category_dir, file))\n",
        "                        labels.append(label)  # Assign the label to this image\n",
        "            except Exception as e:\n",
        "                print(f\"Failed to process category {category} due to error: {e}\")\n",
        "                continue\n",
        "    return image_paths, labels"
      ]
    },
    {
      "cell_type": "code",
      "execution_count": 33,
      "metadata": {
        "id": "b9jXmbMIIttY"
      },
      "outputs": [],
      "source": [
        "image_paths, labels = prepare_data(folder_path)"
      ]
    },
    {
      "cell_type": "code",
      "execution_count": 34,
      "metadata": {
        "id": "-XBMP9DrH-ey"
      },
      "outputs": [],
      "source": [
        "class CustomDataset(Dataset):\n",
        "    \"\"\"\n",
        "    A custom dataset class that extends PyTorch's Dataset class for image loading and preprocessing.\n",
        "\n",
        "    Attributes:\n",
        "    - image_paths (list): List of paths to the images.\n",
        "    - labels (list): List of labels corresponding to the images.\n",
        "    - transform (callable, optional): Optional transform to be applied on a sample.\n",
        "    \"\"\"\n",
        "\n",
        "    def __init__(self, image_paths, labels, transform=None):\n",
        "        \"\"\"\n",
        "        Initializes the dataset with images and labels.\n",
        "\n",
        "        Parameters:\n",
        "        - image_paths (list): List of paths to the images.\n",
        "        - labels (list): List of labels for the images.\n",
        "        - transform (callable, optional): Optional transform to apply on images.\n",
        "        \"\"\"\n",
        "\n",
        "        self.image_paths = image_paths\n",
        "        self.labels = labels\n",
        "        self.transform = transform\n",
        "\n",
        "    def __len__(self):\n",
        "        \"\"\"\n",
        "        Returns the total number of samples in the dataset.\n",
        "        \"\"\"\n",
        "\n",
        "        return len(self.image_paths)\n",
        "\n",
        "    def __getitem__(self, index):\n",
        "        \"\"\"\n",
        "        Retrieves an image and its label from the dataset at the specified index.\n",
        "\n",
        "        Parameters:\n",
        "        - index (int): Index of the image and label to return.\n",
        "\n",
        "        Returns:\n",
        "        - tuple: A tuple containing the image and its label.\n",
        "        \"\"\"\n",
        "\n",
        "        image_path = self.image_paths[index]\n",
        "        # Load the image as a PIL Image\n",
        "        image = Image.open(image_path).convert(\"RGB\")\n",
        "\n",
        "        if self.transform:\n",
        "            image = self.transform(image)\n",
        "\n",
        "        label = torch.tensor(self.labels[index], dtype=torch.long)\n",
        "        return image, label"
      ]
    },
    {
      "cell_type": "code",
      "execution_count": 35,
      "metadata": {
        "id": "i4YV0LyMKQ26"
      },
      "outputs": [],
      "source": [
        "# Function for displaying an image, currently not used in the main workflow\n",
        "def imshow(inp, title=None):\n",
        "    \"\"\"\n",
        "    Displays an image with an optional title.\n",
        "\n",
        "    Parameters:\n",
        "    - inp (Tensor): The image tensor to display.\n",
        "    - title (str, optional): Optional title to display above the image.\n",
        "    \"\"\"\n",
        "\n",
        "    inp = inp.numpy().transpose((1, 2, 0))\n",
        "    plt.imshow(inp)\n",
        "    if title is not None:\n",
        "        plt.title(title)\n",
        "    plt.pause(0.001)  # Pause to update the plot"
      ]
    },
    {
      "cell_type": "code",
      "execution_count": 36,
      "metadata": {
        "id": "tpuPFL1Hteav"
      },
      "outputs": [],
      "source": [
        "# Split the data into training and test sets\n",
        "train_paths, test_paths, train_labels, test_labels = train_test_split(\n",
        "    image_paths, labels, test_size=0.15, random_state=0)\n",
        "\n",
        "# Split the data into training, validation, and test sets\n",
        "train_paths, val_paths, train_labels, val_labels = train_test_split(\n",
        "    train_paths, train_labels, test_size=0.175, random_state=0)  # 0.175 x 0.85 ~= 0.15\n",
        "\n",
        "# So, the data is split into 70% training, 15% validation, and 15% testing"
      ]
    },
    {
      "cell_type": "code",
      "execution_count": 37,
      "metadata": {
        "id": "X4OBiymiKlZZ"
      },
      "outputs": [],
      "source": [
        "# Normalization parameters found to be optimal for CIFAR dataset; may need adjustment for other datasets\n",
        "normalization = ((0.485, 0.456, 0.406), (0.229, 0.224, 0.225))\n",
        "\n",
        "# Define the training data transformations\n",
        "training_transform = transforms.Compose([\n",
        "    transforms.Resize(256, antialias=True),  # Resize images to 256x256, with antialiasing\n",
        "    transforms.RandomCrop(224),  # Crop randomly to 224x224 for data augmentation\n",
        "    transforms.RandomRotation(20),  # Rotate images up to 20 degrees for data augmentation\n",
        "    transforms.RandomHorizontalFlip(0.1),  # Horizontally flip images with a probability of 0.1 for data augmentation\n",
        "    transforms.ColorJitter(brightness=0.1, contrast=0.1, saturation=0.1),  # Randomly adjust color settings\n",
        "    transforms.RandomAdjustSharpness(sharpness_factor=2, p=0.1),  # Randomly adjust sharpness for data augmentation\n",
        "    transforms.ToTensor(),\n",
        "    transforms.Normalize(*normalization),  # Normalize images using the specified mean and std dev\n",
        "])\n",
        "\n",
        "# Define the validation and test data transformations (simpler than training transformations)\n",
        "transform = transforms.Compose([\n",
        "    transforms.Resize(256, antialias=True),  # Resize images to 256x256, with antialiasing\n",
        "    transforms.CenterCrop(224),  # Center crop images to 224x224\n",
        "    transforms.ToTensor(),\n",
        "    transforms.Normalize(*normalization),  # Normalize images using the specified mean and std dev\n",
        "])"
      ]
    },
    {
      "cell_type": "code",
      "execution_count": 38,
      "metadata": {},
      "outputs": [
        {
          "name": "stdout",
          "output_type": "stream",
          "text": [
            "\n",
            "Examples from class: Trash\n",
            "Path: ../../data/dataset-resized\\Trash\\trash1.jpg, Label ID: 0\n",
            "Path: ../../data/dataset-resized\\Trash\\trash10.jpg, Label ID: 0\n",
            "Path: ../../data/dataset-resized\\Trash\\trash100.jpg, Label ID: 0\n",
            "Path: ../../data/dataset-resized\\Trash\\trash101.jpg, Label ID: 0\n",
            "Path: ../../data/dataset-resized\\Trash\\trash102.jpg, Label ID: 0\n",
            "\n",
            "Examples from class: Plastic\n",
            "Path: ../../data/dataset-resized\\Plastic\\plastic1.jpg, Label ID: 1\n",
            "Path: ../../data/dataset-resized\\Plastic\\plastic10.jpg, Label ID: 1\n",
            "Path: ../../data/dataset-resized\\Plastic\\plastic100.jpg, Label ID: 1\n",
            "Path: ../../data/dataset-resized\\Plastic\\plastic101.jpg, Label ID: 1\n",
            "Path: ../../data/dataset-resized\\Plastic\\plastic102.jpg, Label ID: 1\n",
            "\n",
            "Examples from class: Paper\n",
            "Path: ../../data/dataset-resized\\Paper\\paper1.jpg, Label ID: 2\n",
            "Path: ../../data/dataset-resized\\Paper\\paper10.jpg, Label ID: 2\n",
            "Path: ../../data/dataset-resized\\Paper\\paper100.jpg, Label ID: 2\n",
            "Path: ../../data/dataset-resized\\Paper\\paper101.jpg, Label ID: 2\n",
            "Path: ../../data/dataset-resized\\Paper\\paper102.jpg, Label ID: 2\n",
            "\n",
            "Examples from class: Metal\n",
            "Path: ../../data/dataset-resized\\Metal\\metal1.jpg, Label ID: 3\n",
            "Path: ../../data/dataset-resized\\Metal\\metal10.jpg, Label ID: 3\n",
            "Path: ../../data/dataset-resized\\Metal\\metal100.jpg, Label ID: 3\n",
            "Path: ../../data/dataset-resized\\Metal\\metal101.jpg, Label ID: 3\n",
            "Path: ../../data/dataset-resized\\Metal\\metal102.jpg, Label ID: 3\n",
            "\n",
            "Examples from class: Glass\n",
            "Path: ../../data/dataset-resized\\Glass\\glass1.jpg, Label ID: 4\n",
            "Path: ../../data/dataset-resized\\Glass\\glass10.jpg, Label ID: 4\n",
            "Path: ../../data/dataset-resized\\Glass\\glass100.jpg, Label ID: 4\n",
            "Path: ../../data/dataset-resized\\Glass\\glass101.jpg, Label ID: 4\n",
            "Path: ../../data/dataset-resized\\Glass\\glass102.jpg, Label ID: 4\n",
            "\n",
            "Examples from class: Cardboard\n",
            "Path: ../../data/dataset-resized\\Cardboard\\cardboard1.jpg, Label ID: 5\n",
            "Path: ../../data/dataset-resized\\Cardboard\\cardboard10.jpg, Label ID: 5\n",
            "Path: ../../data/dataset-resized\\Cardboard\\cardboard100.jpg, Label ID: 5\n",
            "Path: ../../data/dataset-resized\\Cardboard\\cardboard101.jpg, Label ID: 5\n",
            "Path: ../../data/dataset-resized\\Cardboard\\cardboard102.jpg, Label ID: 5\n"
          ]
        }
      ],
      "source": [
        "labels_mapping = {'Trash': 0, 'Plastic': 1, 'Paper': 2, 'Metal': 3, 'Glass': 4, 'Cardboard': 5}\n",
        "datasets_by_label = {}\n",
        "data_loaders_by_label = {}\n",
        "\n",
        "for label_name, label_id in labels_mapping.items():\n",
        "    # Filter indices for the current label\n",
        "    indices = [i for i, label in enumerate(labels) if label == label_id]\n",
        "\n",
        "    # Use the indices to create a Subset\n",
        "    subset = Subset(CustomDataset(image_paths, labels, transform=transform), indices)\n",
        "\n",
        "    # Store the subset using the label_name as key\n",
        "    datasets_by_label[label_name] = subset\n",
        "\n",
        "    # Create a DataLoader for the current label's dataset\n",
        "    data_loader = DataLoader(subset, batch_size=32, num_workers=1, shuffle=False)\n",
        "\n",
        "    # Store the DataLoader using the label_name as key\n",
        "    data_loaders_by_label[label_name] = data_loader\n",
        "\n",
        "for label_name, subset in datasets_by_label.items():\n",
        "    print(f\"\\nExamples from class: {label_name}\")\n",
        "\n",
        "    # Get the first few indices from the subset.indices\n",
        "    example_indices = subset.indices[:5]  # Adjust the number of examples as needed\n",
        "\n",
        "    for idx in example_indices:\n",
        "        print(f\"Path: {image_paths[idx]}, Label ID: {labels[idx]}\")"
      ]
    },
    {
      "cell_type": "code",
      "execution_count": 39,
      "metadata": {
        "colab": {
          "base_uri": "https://localhost:8080/",
          "height": 1000,
          "referenced_widgets": [
            "f2df0b8c03454bc3b398f3b717fd19b8",
            "57e04f175d954e1b8921da02e761c12d",
            "c8d46863abd44982b84119d273174690",
            "190334a37b274113a0b07a887802e384",
            "6152d6cc45334ad1826079d12bbcc36a",
            "f66fa27ba3c345e48eb50c195ae83da5",
            "00f3ac33cd8e4a0a83858b7490f589be",
            "b82eddafd0d445d3a84a9111981a2f88",
            "544f30eb00ff47bd91c426717d4918eb",
            "3d0cac4030d742408951b052708c3b07",
            "92ec4dc987e644258a97b439f959bbc5"
          ]
        },
        "id": "rvPgHZX3J-jx",
        "outputId": "f7b0a051-a431-408d-cee9-22ca183975c3"
      },
      "outputs": [
        {
          "name": "stdout",
          "output_type": "stream",
          "text": [
            "EfficientNet(\n",
            "  (conv_stem): Conv2d(3, 32, kernel_size=(3, 3), stride=(2, 2), padding=(1, 1), bias=False)\n",
            "  (bn1): BatchNormAct2d(\n",
            "    32, eps=1e-05, momentum=0.1, affine=True, track_running_stats=True\n",
            "    (drop): Identity()\n",
            "    (act): SiLU(inplace=True)\n",
            "  )\n",
            "  (blocks): Sequential(\n",
            "    (0): Sequential(\n",
            "      (0): DepthwiseSeparableConv(\n",
            "        (conv_dw): Conv2d(32, 32, kernel_size=(3, 3), stride=(1, 1), padding=(1, 1), groups=32, bias=False)\n",
            "        (bn1): BatchNormAct2d(\n",
            "          32, eps=1e-05, momentum=0.1, affine=True, track_running_stats=True\n",
            "          (drop): Identity()\n",
            "          (act): SiLU(inplace=True)\n",
            "        )\n",
            "        (se): SqueezeExcite(\n",
            "          (conv_reduce): Conv2d(32, 8, kernel_size=(1, 1), stride=(1, 1))\n",
            "          (act1): SiLU(inplace=True)\n",
            "          (conv_expand): Conv2d(8, 32, kernel_size=(1, 1), stride=(1, 1))\n",
            "          (gate): Sigmoid()\n",
            "        )\n",
            "        (conv_pw): Conv2d(32, 16, kernel_size=(1, 1), stride=(1, 1), bias=False)\n",
            "        (bn2): BatchNormAct2d(\n",
            "          16, eps=1e-05, momentum=0.1, affine=True, track_running_stats=True\n",
            "          (drop): Identity()\n",
            "          (act): Identity()\n",
            "        )\n",
            "        (drop_path): Identity()\n",
            "      )\n",
            "    )\n",
            "    (1): Sequential(\n",
            "      (0): InvertedResidual(\n",
            "        (conv_pw): Conv2d(16, 96, kernel_size=(1, 1), stride=(1, 1), bias=False)\n",
            "        (bn1): BatchNormAct2d(\n",
            "          96, eps=1e-05, momentum=0.1, affine=True, track_running_stats=True\n",
            "          (drop): Identity()\n",
            "          (act): SiLU(inplace=True)\n",
            "        )\n",
            "        (conv_dw): Conv2d(96, 96, kernel_size=(3, 3), stride=(2, 2), padding=(1, 1), groups=96, bias=False)\n",
            "        (bn2): BatchNormAct2d(\n",
            "          96, eps=1e-05, momentum=0.1, affine=True, track_running_stats=True\n",
            "          (drop): Identity()\n",
            "          (act): SiLU(inplace=True)\n",
            "        )\n",
            "        (se): SqueezeExcite(\n",
            "          (conv_reduce): Conv2d(96, 4, kernel_size=(1, 1), stride=(1, 1))\n",
            "          (act1): SiLU(inplace=True)\n",
            "          (conv_expand): Conv2d(4, 96, kernel_size=(1, 1), stride=(1, 1))\n",
            "          (gate): Sigmoid()\n",
            "        )\n",
            "        (conv_pwl): Conv2d(96, 24, kernel_size=(1, 1), stride=(1, 1), bias=False)\n",
            "        (bn3): BatchNormAct2d(\n",
            "          24, eps=1e-05, momentum=0.1, affine=True, track_running_stats=True\n",
            "          (drop): Identity()\n",
            "          (act): Identity()\n",
            "        )\n",
            "        (drop_path): Identity()\n",
            "      )\n",
            "      (1): InvertedResidual(\n",
            "        (conv_pw): Conv2d(24, 144, kernel_size=(1, 1), stride=(1, 1), bias=False)\n",
            "        (bn1): BatchNormAct2d(\n",
            "          144, eps=1e-05, momentum=0.1, affine=True, track_running_stats=True\n",
            "          (drop): Identity()\n",
            "          (act): SiLU(inplace=True)\n",
            "        )\n",
            "        (conv_dw): Conv2d(144, 144, kernel_size=(3, 3), stride=(1, 1), padding=(1, 1), groups=144, bias=False)\n",
            "        (bn2): BatchNormAct2d(\n",
            "          144, eps=1e-05, momentum=0.1, affine=True, track_running_stats=True\n",
            "          (drop): Identity()\n",
            "          (act): SiLU(inplace=True)\n",
            "        )\n",
            "        (se): SqueezeExcite(\n",
            "          (conv_reduce): Conv2d(144, 6, kernel_size=(1, 1), stride=(1, 1))\n",
            "          (act1): SiLU(inplace=True)\n",
            "          (conv_expand): Conv2d(6, 144, kernel_size=(1, 1), stride=(1, 1))\n",
            "          (gate): Sigmoid()\n",
            "        )\n",
            "        (conv_pwl): Conv2d(144, 24, kernel_size=(1, 1), stride=(1, 1), bias=False)\n",
            "        (bn3): BatchNormAct2d(\n",
            "          24, eps=1e-05, momentum=0.1, affine=True, track_running_stats=True\n",
            "          (drop): Identity()\n",
            "          (act): Identity()\n",
            "        )\n",
            "        (drop_path): Identity()\n",
            "      )\n",
            "    )\n",
            "    (2): Sequential(\n",
            "      (0): InvertedResidual(\n",
            "        (conv_pw): Conv2d(24, 144, kernel_size=(1, 1), stride=(1, 1), bias=False)\n",
            "        (bn1): BatchNormAct2d(\n",
            "          144, eps=1e-05, momentum=0.1, affine=True, track_running_stats=True\n",
            "          (drop): Identity()\n",
            "          (act): SiLU(inplace=True)\n",
            "        )\n",
            "        (conv_dw): Conv2d(144, 144, kernel_size=(5, 5), stride=(2, 2), padding=(2, 2), groups=144, bias=False)\n",
            "        (bn2): BatchNormAct2d(\n",
            "          144, eps=1e-05, momentum=0.1, affine=True, track_running_stats=True\n",
            "          (drop): Identity()\n",
            "          (act): SiLU(inplace=True)\n",
            "        )\n",
            "        (se): SqueezeExcite(\n",
            "          (conv_reduce): Conv2d(144, 6, kernel_size=(1, 1), stride=(1, 1))\n",
            "          (act1): SiLU(inplace=True)\n",
            "          (conv_expand): Conv2d(6, 144, kernel_size=(1, 1), stride=(1, 1))\n",
            "          (gate): Sigmoid()\n",
            "        )\n",
            "        (conv_pwl): Conv2d(144, 40, kernel_size=(1, 1), stride=(1, 1), bias=False)\n",
            "        (bn3): BatchNormAct2d(\n",
            "          40, eps=1e-05, momentum=0.1, affine=True, track_running_stats=True\n",
            "          (drop): Identity()\n",
            "          (act): Identity()\n",
            "        )\n",
            "        (drop_path): Identity()\n",
            "      )\n",
            "      (1): InvertedResidual(\n",
            "        (conv_pw): Conv2d(40, 240, kernel_size=(1, 1), stride=(1, 1), bias=False)\n",
            "        (bn1): BatchNormAct2d(\n",
            "          240, eps=1e-05, momentum=0.1, affine=True, track_running_stats=True\n",
            "          (drop): Identity()\n",
            "          (act): SiLU(inplace=True)\n",
            "        )\n",
            "        (conv_dw): Conv2d(240, 240, kernel_size=(5, 5), stride=(1, 1), padding=(2, 2), groups=240, bias=False)\n",
            "        (bn2): BatchNormAct2d(\n",
            "          240, eps=1e-05, momentum=0.1, affine=True, track_running_stats=True\n",
            "          (drop): Identity()\n",
            "          (act): SiLU(inplace=True)\n",
            "        )\n",
            "        (se): SqueezeExcite(\n",
            "          (conv_reduce): Conv2d(240, 10, kernel_size=(1, 1), stride=(1, 1))\n",
            "          (act1): SiLU(inplace=True)\n",
            "          (conv_expand): Conv2d(10, 240, kernel_size=(1, 1), stride=(1, 1))\n",
            "          (gate): Sigmoid()\n",
            "        )\n",
            "        (conv_pwl): Conv2d(240, 40, kernel_size=(1, 1), stride=(1, 1), bias=False)\n",
            "        (bn3): BatchNormAct2d(\n",
            "          40, eps=1e-05, momentum=0.1, affine=True, track_running_stats=True\n",
            "          (drop): Identity()\n",
            "          (act): Identity()\n",
            "        )\n",
            "        (drop_path): Identity()\n",
            "      )\n",
            "    )\n",
            "    (3): Sequential(\n",
            "      (0): InvertedResidual(\n",
            "        (conv_pw): Conv2d(40, 240, kernel_size=(1, 1), stride=(1, 1), bias=False)\n",
            "        (bn1): BatchNormAct2d(\n",
            "          240, eps=1e-05, momentum=0.1, affine=True, track_running_stats=True\n",
            "          (drop): Identity()\n",
            "          (act): SiLU(inplace=True)\n",
            "        )\n",
            "        (conv_dw): Conv2d(240, 240, kernel_size=(3, 3), stride=(2, 2), padding=(1, 1), groups=240, bias=False)\n",
            "        (bn2): BatchNormAct2d(\n",
            "          240, eps=1e-05, momentum=0.1, affine=True, track_running_stats=True\n",
            "          (drop): Identity()\n",
            "          (act): SiLU(inplace=True)\n",
            "        )\n",
            "        (se): SqueezeExcite(\n",
            "          (conv_reduce): Conv2d(240, 10, kernel_size=(1, 1), stride=(1, 1))\n",
            "          (act1): SiLU(inplace=True)\n",
            "          (conv_expand): Conv2d(10, 240, kernel_size=(1, 1), stride=(1, 1))\n",
            "          (gate): Sigmoid()\n",
            "        )\n",
            "        (conv_pwl): Conv2d(240, 80, kernel_size=(1, 1), stride=(1, 1), bias=False)\n",
            "        (bn3): BatchNormAct2d(\n",
            "          80, eps=1e-05, momentum=0.1, affine=True, track_running_stats=True\n",
            "          (drop): Identity()\n",
            "          (act): Identity()\n",
            "        )\n",
            "        (drop_path): Identity()\n",
            "      )\n",
            "      (1): InvertedResidual(\n",
            "        (conv_pw): Conv2d(80, 480, kernel_size=(1, 1), stride=(1, 1), bias=False)\n",
            "        (bn1): BatchNormAct2d(\n",
            "          480, eps=1e-05, momentum=0.1, affine=True, track_running_stats=True\n",
            "          (drop): Identity()\n",
            "          (act): SiLU(inplace=True)\n",
            "        )\n",
            "        (conv_dw): Conv2d(480, 480, kernel_size=(3, 3), stride=(1, 1), padding=(1, 1), groups=480, bias=False)\n",
            "        (bn2): BatchNormAct2d(\n",
            "          480, eps=1e-05, momentum=0.1, affine=True, track_running_stats=True\n",
            "          (drop): Identity()\n",
            "          (act): SiLU(inplace=True)\n",
            "        )\n",
            "        (se): SqueezeExcite(\n",
            "          (conv_reduce): Conv2d(480, 20, kernel_size=(1, 1), stride=(1, 1))\n",
            "          (act1): SiLU(inplace=True)\n",
            "          (conv_expand): Conv2d(20, 480, kernel_size=(1, 1), stride=(1, 1))\n",
            "          (gate): Sigmoid()\n",
            "        )\n",
            "        (conv_pwl): Conv2d(480, 80, kernel_size=(1, 1), stride=(1, 1), bias=False)\n",
            "        (bn3): BatchNormAct2d(\n",
            "          80, eps=1e-05, momentum=0.1, affine=True, track_running_stats=True\n",
            "          (drop): Identity()\n",
            "          (act): Identity()\n",
            "        )\n",
            "        (drop_path): Identity()\n",
            "      )\n",
            "      (2): InvertedResidual(\n",
            "        (conv_pw): Conv2d(80, 480, kernel_size=(1, 1), stride=(1, 1), bias=False)\n",
            "        (bn1): BatchNormAct2d(\n",
            "          480, eps=1e-05, momentum=0.1, affine=True, track_running_stats=True\n",
            "          (drop): Identity()\n",
            "          (act): SiLU(inplace=True)\n",
            "        )\n",
            "        (conv_dw): Conv2d(480, 480, kernel_size=(3, 3), stride=(1, 1), padding=(1, 1), groups=480, bias=False)\n",
            "        (bn2): BatchNormAct2d(\n",
            "          480, eps=1e-05, momentum=0.1, affine=True, track_running_stats=True\n",
            "          (drop): Identity()\n",
            "          (act): SiLU(inplace=True)\n",
            "        )\n",
            "        (se): SqueezeExcite(\n",
            "          (conv_reduce): Conv2d(480, 20, kernel_size=(1, 1), stride=(1, 1))\n",
            "          (act1): SiLU(inplace=True)\n",
            "          (conv_expand): Conv2d(20, 480, kernel_size=(1, 1), stride=(1, 1))\n",
            "          (gate): Sigmoid()\n",
            "        )\n",
            "        (conv_pwl): Conv2d(480, 80, kernel_size=(1, 1), stride=(1, 1), bias=False)\n",
            "        (bn3): BatchNormAct2d(\n",
            "          80, eps=1e-05, momentum=0.1, affine=True, track_running_stats=True\n",
            "          (drop): Identity()\n",
            "          (act): Identity()\n",
            "        )\n",
            "        (drop_path): Identity()\n",
            "      )\n",
            "    )\n",
            "    (4): Sequential(\n",
            "      (0): InvertedResidual(\n",
            "        (conv_pw): Conv2d(80, 480, kernel_size=(1, 1), stride=(1, 1), bias=False)\n",
            "        (bn1): BatchNormAct2d(\n",
            "          480, eps=1e-05, momentum=0.1, affine=True, track_running_stats=True\n",
            "          (drop): Identity()\n",
            "          (act): SiLU(inplace=True)\n",
            "        )\n",
            "        (conv_dw): Conv2d(480, 480, kernel_size=(5, 5), stride=(1, 1), padding=(2, 2), groups=480, bias=False)\n",
            "        (bn2): BatchNormAct2d(\n",
            "          480, eps=1e-05, momentum=0.1, affine=True, track_running_stats=True\n",
            "          (drop): Identity()\n",
            "          (act): SiLU(inplace=True)\n",
            "        )\n",
            "        (se): SqueezeExcite(\n",
            "          (conv_reduce): Conv2d(480, 20, kernel_size=(1, 1), stride=(1, 1))\n",
            "          (act1): SiLU(inplace=True)\n",
            "          (conv_expand): Conv2d(20, 480, kernel_size=(1, 1), stride=(1, 1))\n",
            "          (gate): Sigmoid()\n",
            "        )\n",
            "        (conv_pwl): Conv2d(480, 112, kernel_size=(1, 1), stride=(1, 1), bias=False)\n",
            "        (bn3): BatchNormAct2d(\n",
            "          112, eps=1e-05, momentum=0.1, affine=True, track_running_stats=True\n",
            "          (drop): Identity()\n",
            "          (act): Identity()\n",
            "        )\n",
            "        (drop_path): Identity()\n",
            "      )\n",
            "      (1): InvertedResidual(\n",
            "        (conv_pw): Conv2d(112, 672, kernel_size=(1, 1), stride=(1, 1), bias=False)\n",
            "        (bn1): BatchNormAct2d(\n",
            "          672, eps=1e-05, momentum=0.1, affine=True, track_running_stats=True\n",
            "          (drop): Identity()\n",
            "          (act): SiLU(inplace=True)\n",
            "        )\n",
            "        (conv_dw): Conv2d(672, 672, kernel_size=(5, 5), stride=(1, 1), padding=(2, 2), groups=672, bias=False)\n",
            "        (bn2): BatchNormAct2d(\n",
            "          672, eps=1e-05, momentum=0.1, affine=True, track_running_stats=True\n",
            "          (drop): Identity()\n",
            "          (act): SiLU(inplace=True)\n",
            "        )\n",
            "        (se): SqueezeExcite(\n",
            "          (conv_reduce): Conv2d(672, 28, kernel_size=(1, 1), stride=(1, 1))\n",
            "          (act1): SiLU(inplace=True)\n",
            "          (conv_expand): Conv2d(28, 672, kernel_size=(1, 1), stride=(1, 1))\n",
            "          (gate): Sigmoid()\n",
            "        )\n",
            "        (conv_pwl): Conv2d(672, 112, kernel_size=(1, 1), stride=(1, 1), bias=False)\n",
            "        (bn3): BatchNormAct2d(\n",
            "          112, eps=1e-05, momentum=0.1, affine=True, track_running_stats=True\n",
            "          (drop): Identity()\n",
            "          (act): Identity()\n",
            "        )\n",
            "        (drop_path): Identity()\n",
            "      )\n",
            "      (2): InvertedResidual(\n",
            "        (conv_pw): Conv2d(112, 672, kernel_size=(1, 1), stride=(1, 1), bias=False)\n",
            "        (bn1): BatchNormAct2d(\n",
            "          672, eps=1e-05, momentum=0.1, affine=True, track_running_stats=True\n",
            "          (drop): Identity()\n",
            "          (act): SiLU(inplace=True)\n",
            "        )\n",
            "        (conv_dw): Conv2d(672, 672, kernel_size=(5, 5), stride=(1, 1), padding=(2, 2), groups=672, bias=False)\n",
            "        (bn2): BatchNormAct2d(\n",
            "          672, eps=1e-05, momentum=0.1, affine=True, track_running_stats=True\n",
            "          (drop): Identity()\n",
            "          (act): SiLU(inplace=True)\n",
            "        )\n",
            "        (se): SqueezeExcite(\n",
            "          (conv_reduce): Conv2d(672, 28, kernel_size=(1, 1), stride=(1, 1))\n",
            "          (act1): SiLU(inplace=True)\n",
            "          (conv_expand): Conv2d(28, 672, kernel_size=(1, 1), stride=(1, 1))\n",
            "          (gate): Sigmoid()\n",
            "        )\n",
            "        (conv_pwl): Conv2d(672, 112, kernel_size=(1, 1), stride=(1, 1), bias=False)\n",
            "        (bn3): BatchNormAct2d(\n",
            "          112, eps=1e-05, momentum=0.1, affine=True, track_running_stats=True\n",
            "          (drop): Identity()\n",
            "          (act): Identity()\n",
            "        )\n",
            "        (drop_path): Identity()\n",
            "      )\n",
            "    )\n",
            "    (5): Sequential(\n",
            "      (0): InvertedResidual(\n",
            "        (conv_pw): Conv2d(112, 672, kernel_size=(1, 1), stride=(1, 1), bias=False)\n",
            "        (bn1): BatchNormAct2d(\n",
            "          672, eps=1e-05, momentum=0.1, affine=True, track_running_stats=True\n",
            "          (drop): Identity()\n",
            "          (act): SiLU(inplace=True)\n",
            "        )\n",
            "        (conv_dw): Conv2d(672, 672, kernel_size=(5, 5), stride=(2, 2), padding=(2, 2), groups=672, bias=False)\n",
            "        (bn2): BatchNormAct2d(\n",
            "          672, eps=1e-05, momentum=0.1, affine=True, track_running_stats=True\n",
            "          (drop): Identity()\n",
            "          (act): SiLU(inplace=True)\n",
            "        )\n",
            "        (se): SqueezeExcite(\n",
            "          (conv_reduce): Conv2d(672, 28, kernel_size=(1, 1), stride=(1, 1))\n",
            "          (act1): SiLU(inplace=True)\n",
            "          (conv_expand): Conv2d(28, 672, kernel_size=(1, 1), stride=(1, 1))\n",
            "          (gate): Sigmoid()\n",
            "        )\n",
            "        (conv_pwl): Conv2d(672, 192, kernel_size=(1, 1), stride=(1, 1), bias=False)\n",
            "        (bn3): BatchNormAct2d(\n",
            "          192, eps=1e-05, momentum=0.1, affine=True, track_running_stats=True\n",
            "          (drop): Identity()\n",
            "          (act): Identity()\n",
            "        )\n",
            "        (drop_path): Identity()\n",
            "      )\n",
            "      (1): InvertedResidual(\n",
            "        (conv_pw): Conv2d(192, 1152, kernel_size=(1, 1), stride=(1, 1), bias=False)\n",
            "        (bn1): BatchNormAct2d(\n",
            "          1152, eps=1e-05, momentum=0.1, affine=True, track_running_stats=True\n",
            "          (drop): Identity()\n",
            "          (act): SiLU(inplace=True)\n",
            "        )\n",
            "        (conv_dw): Conv2d(1152, 1152, kernel_size=(5, 5), stride=(1, 1), padding=(2, 2), groups=1152, bias=False)\n",
            "        (bn2): BatchNormAct2d(\n",
            "          1152, eps=1e-05, momentum=0.1, affine=True, track_running_stats=True\n",
            "          (drop): Identity()\n",
            "          (act): SiLU(inplace=True)\n",
            "        )\n",
            "        (se): SqueezeExcite(\n",
            "          (conv_reduce): Conv2d(1152, 48, kernel_size=(1, 1), stride=(1, 1))\n",
            "          (act1): SiLU(inplace=True)\n",
            "          (conv_expand): Conv2d(48, 1152, kernel_size=(1, 1), stride=(1, 1))\n",
            "          (gate): Sigmoid()\n",
            "        )\n",
            "        (conv_pwl): Conv2d(1152, 192, kernel_size=(1, 1), stride=(1, 1), bias=False)\n",
            "        (bn3): BatchNormAct2d(\n",
            "          192, eps=1e-05, momentum=0.1, affine=True, track_running_stats=True\n",
            "          (drop): Identity()\n",
            "          (act): Identity()\n",
            "        )\n",
            "        (drop_path): Identity()\n",
            "      )\n",
            "      (2): InvertedResidual(\n",
            "        (conv_pw): Conv2d(192, 1152, kernel_size=(1, 1), stride=(1, 1), bias=False)\n",
            "        (bn1): BatchNormAct2d(\n",
            "          1152, eps=1e-05, momentum=0.1, affine=True, track_running_stats=True\n",
            "          (drop): Identity()\n",
            "          (act): SiLU(inplace=True)\n",
            "        )\n",
            "        (conv_dw): Conv2d(1152, 1152, kernel_size=(5, 5), stride=(1, 1), padding=(2, 2), groups=1152, bias=False)\n",
            "        (bn2): BatchNormAct2d(\n",
            "          1152, eps=1e-05, momentum=0.1, affine=True, track_running_stats=True\n",
            "          (drop): Identity()\n",
            "          (act): SiLU(inplace=True)\n",
            "        )\n",
            "        (se): SqueezeExcite(\n",
            "          (conv_reduce): Conv2d(1152, 48, kernel_size=(1, 1), stride=(1, 1))\n",
            "          (act1): SiLU(inplace=True)\n",
            "          (conv_expand): Conv2d(48, 1152, kernel_size=(1, 1), stride=(1, 1))\n",
            "          (gate): Sigmoid()\n",
            "        )\n",
            "        (conv_pwl): Conv2d(1152, 192, kernel_size=(1, 1), stride=(1, 1), bias=False)\n",
            "        (bn3): BatchNormAct2d(\n",
            "          192, eps=1e-05, momentum=0.1, affine=True, track_running_stats=True\n",
            "          (drop): Identity()\n",
            "          (act): Identity()\n",
            "        )\n",
            "        (drop_path): Identity()\n",
            "      )\n",
            "      (3): InvertedResidual(\n",
            "        (conv_pw): Conv2d(192, 1152, kernel_size=(1, 1), stride=(1, 1), bias=False)\n",
            "        (bn1): BatchNormAct2d(\n",
            "          1152, eps=1e-05, momentum=0.1, affine=True, track_running_stats=True\n",
            "          (drop): Identity()\n",
            "          (act): SiLU(inplace=True)\n",
            "        )\n",
            "        (conv_dw): Conv2d(1152, 1152, kernel_size=(5, 5), stride=(1, 1), padding=(2, 2), groups=1152, bias=False)\n",
            "        (bn2): BatchNormAct2d(\n",
            "          1152, eps=1e-05, momentum=0.1, affine=True, track_running_stats=True\n",
            "          (drop): Identity()\n",
            "          (act): SiLU(inplace=True)\n",
            "        )\n",
            "        (se): SqueezeExcite(\n",
            "          (conv_reduce): Conv2d(1152, 48, kernel_size=(1, 1), stride=(1, 1))\n",
            "          (act1): SiLU(inplace=True)\n",
            "          (conv_expand): Conv2d(48, 1152, kernel_size=(1, 1), stride=(1, 1))\n",
            "          (gate): Sigmoid()\n",
            "        )\n",
            "        (conv_pwl): Conv2d(1152, 192, kernel_size=(1, 1), stride=(1, 1), bias=False)\n",
            "        (bn3): BatchNormAct2d(\n",
            "          192, eps=1e-05, momentum=0.1, affine=True, track_running_stats=True\n",
            "          (drop): Identity()\n",
            "          (act): Identity()\n",
            "        )\n",
            "        (drop_path): Identity()\n",
            "      )\n",
            "    )\n",
            "    (6): Sequential(\n",
            "      (0): InvertedResidual(\n",
            "        (conv_pw): Conv2d(192, 1152, kernel_size=(1, 1), stride=(1, 1), bias=False)\n",
            "        (bn1): BatchNormAct2d(\n",
            "          1152, eps=1e-05, momentum=0.1, affine=True, track_running_stats=True\n",
            "          (drop): Identity()\n",
            "          (act): SiLU(inplace=True)\n",
            "        )\n",
            "        (conv_dw): Conv2d(1152, 1152, kernel_size=(3, 3), stride=(1, 1), padding=(1, 1), groups=1152, bias=False)\n",
            "        (bn2): BatchNormAct2d(\n",
            "          1152, eps=1e-05, momentum=0.1, affine=True, track_running_stats=True\n",
            "          (drop): Identity()\n",
            "          (act): SiLU(inplace=True)\n",
            "        )\n",
            "        (se): SqueezeExcite(\n",
            "          (conv_reduce): Conv2d(1152, 48, kernel_size=(1, 1), stride=(1, 1))\n",
            "          (act1): SiLU(inplace=True)\n",
            "          (conv_expand): Conv2d(48, 1152, kernel_size=(1, 1), stride=(1, 1))\n",
            "          (gate): Sigmoid()\n",
            "        )\n",
            "        (conv_pwl): Conv2d(1152, 320, kernel_size=(1, 1), stride=(1, 1), bias=False)\n",
            "        (bn3): BatchNormAct2d(\n",
            "          320, eps=1e-05, momentum=0.1, affine=True, track_running_stats=True\n",
            "          (drop): Identity()\n",
            "          (act): Identity()\n",
            "        )\n",
            "        (drop_path): Identity()\n",
            "      )\n",
            "    )\n",
            "  )\n",
            "  (conv_head): Conv2d(320, 1280, kernel_size=(1, 1), stride=(1, 1), bias=False)\n",
            "  (bn2): BatchNormAct2d(\n",
            "    1280, eps=1e-05, momentum=0.1, affine=True, track_running_stats=True\n",
            "    (drop): Identity()\n",
            "    (act): SiLU(inplace=True)\n",
            "  )\n",
            "  (global_pool): SelectAdaptivePool2d(pool_type=avg, flatten=Flatten(start_dim=1, end_dim=-1))\n",
            "  (classifier): Sequential(\n",
            "    (0): Linear(in_features=1280, out_features=512, bias=True)\n",
            "    (1): ReLU()\n",
            "    (2): Linear(in_features=512, out_features=6, bias=True)\n",
            "  )\n",
            ")\n"
          ]
        }
      ],
      "source": [
        "def initialize_model(output_classes=6):\n",
        "    \"\"\"\n",
        "    Initializes the EfficientNet-B0 model with a custom final layer for the given number of output classes.\n",
        "\n",
        "    Parameters:\n",
        "    - output_classes (int): The number of classes for the final output layer.\n",
        "\n",
        "    Returns:\n",
        "    - model (torch.nn.Module): The modified model based on the pre-trained EfficientNetB0 feature representation.\n",
        "    \"\"\"\n",
        "\n",
        "    # Load a pre-trained EfficientNet-B0 model from the timm library\n",
        "    model = timm.create_model('efficientnet_b0', pretrained=True)\n",
        "\n",
        "    # Freeze all the parameters in the model to prevent them from being updated during training\n",
        "    for param in model.parameters():\n",
        "        param.requires_grad = False\n",
        "\n",
        "    # Get the number of input features to the final fully connected layer\n",
        "    # The classifier layer is the final layer in EfficientNet models\n",
        "    in_features = model.classifier.in_features\n",
        "\n",
        "    # Replace the final classifier layer with a new one that has the desired number of output classes\n",
        "    model.classifier = nn.Sequential(\n",
        "        nn.Linear(in_features, 512),  # Reduce dimension from in_features to 512 (from 1280 in this case)\n",
        "        nn.ReLU(),                    # Apply ReLU activation function\n",
        "        nn.Linear(512, output_classes)  # Final layer with 'output_classes' number of outputs\n",
        "    )\n",
        "\n",
        "    return model\n",
        "\n",
        "def evaluate_model(model, dataloader, loss_fun, device):\n",
        "    \"\"\"\n",
        "    Evaluates the model's performance on a given dataset.\n",
        "\n",
        "    Parameters:\n",
        "    - model: The neural network model to evaluate.\n",
        "    - dataloader: The DataLoader containing the dataset for evaluation.\n",
        "    - loss_fun: The loss function used to compute the model's loss.\n",
        "    - device: The device (CPU or CUDA) on which the computations will be performed.\n",
        "\n",
        "    Returns:\n",
        "    - A tuple of average loss and accuracy over the dataset.\n",
        "    \"\"\"\n",
        "\n",
        "    model.eval()  # Set the model to evaluation mode    test_loss = 0.0\n",
        "    val_acc = 0.0\n",
        "    val_loss = 0.0\n",
        "\n",
        "    with torch.no_grad():  # No gradients needed for evaluation\n",
        "        for x, y in dataloader:\n",
        "            x, y = x.to(device), y.to(device)  # Move data to the same device as the model\n",
        "\n",
        "            pred = model(x)\n",
        "            _, predicted_classes = torch.max(pred, 1)\n",
        "            correct_predictions = (predicted_classes == y).float()\n",
        "\n",
        "            loss = loss_fun(pred, y.long())  # Ensure consistent data type\n",
        "            val_loss += loss.item()\n",
        "            val_acc += correct_predictions.sum().item() / y.size(0)\n",
        "\n",
        "        val_loss /= len(dataloader)\n",
        "        val_acc /= len(dataloader)\n",
        "\n",
        "    return val_loss, val_acc\n",
        "\n",
        "def misclassified_labels(model, dataloader, device):\n",
        "    \"\"\"\n",
        "    Identifies misclassified samples in the given dataset.\n",
        "\n",
        "    Parameters:\n",
        "    - model: The neural network model to evaluate.\n",
        "    - dataloader: The DataLoader containing the dataset for evaluation.\n",
        "    - device: The device (CPU or CUDA) on which the computations will be performed.\n",
        "\n",
        "    Returns:\n",
        "    - A list of tuples where each tuple contains the image path, actual label, and predicted label.\n",
        "    \"\"\"\n",
        "\n",
        "    model.eval()  # Set the model to evaluation mode\n",
        "    misclassified = []\n",
        "\n",
        "    with torch.no_grad():  # No gradients needed for evaluation\n",
        "        for images, labels in dataloader:\n",
        "            images, labels = images.to(device), labels.to(device)  # Move data to the same device as the model\n",
        "            outputs = model(images)\n",
        "            _, predicted = torch.max(outputs, 1)\n",
        "\n",
        "            # Identify misclassified labels\n",
        "            mismatches = predicted != labels\n",
        "            for idx in torch.where(mismatches)[0]:\n",
        "                actual_label = labels[idx].item()\n",
        "                predicted_label = predicted[idx].item()\n",
        "                image_path = dataloader.dataset.image_paths[idx]  # Assuming dataset has 'image_paths' attribute\n",
        "                misclassified.append((image_path, actual_label, predicted_label))\n",
        "\n",
        "    return misclassified\n",
        "\n",
        "# Usage example\n",
        "num_classes = 6  # Define the number of output classes you need\n",
        "example_model = initialize_model(num_classes)\n",
        "print(example_model)\n"
      ]
    },
    {
      "cell_type": "code",
      "execution_count": 40,
      "metadata": {
        "id": "hOq5pKDjm6pW"
      },
      "outputs": [],
      "source": [
        "def train(train_dataloader, val_dataloader, num_classes, N_epochs=10, lr=1e-5, step_size=15, gamma=0.9):\n",
        "    \"\"\"\n",
        "    Trains and validates a model, saving the model with the best validation accuracy, and records the training and validation performance.\n",
        "\n",
        "    Parameters:\n",
        "    - train_dataloader (DataLoader): DataLoader for training data.\n",
        "    - val_dataloader (DataLoader): DataLoader for validation data.\n",
        "    - num_classes (int): Number of classes in the dataset.\n",
        "    - N_epochs (int): Number of epochs to train for.\n",
        "    - lr (float): Learning rate for the optimizer.\n",
        "    - step_size (int): Step size for the learning rate scheduler.\n",
        "    - gamma (float): Decay rate for the learning rate scheduler.\n",
        "\n",
        "    Returns:\n",
        "    - A dictionary containing the model with the best validation accuracy, training losses, training accuracies, validation losses, and validation accuracies.\n",
        "    \"\"\"\n",
        "\n",
        "    # Set the device to GPU if available, else CPU\n",
        "    device = torch.device(\"cuda\" if torch.cuda.is_available() else \"cpu\")\n",
        "    print(f\"Using device: {device}\")\n",
        "\n",
        "    # If a CUDA-capable device is detected, print its name\n",
        "    if device.type == 'cuda':\n",
        "        gpu_name = torch.cuda.get_device_name(0)\n",
        "        print(f\"NVIDIA Graphics Card: {gpu_name}\")\n",
        "\n",
        "    # Initialize the model and move it to the appropriate device\n",
        "    model = initialize_model(num_classes)\n",
        "    model.to(device)\n",
        "\n",
        "    # Define the loss function and the optimizer\n",
        "    loss_fun = nn.CrossEntropyLoss()\n",
        "    loss_fun.to(device)\n",
        "    optimizer = optim.Adam(params=model.parameters(), lr=lr)\n",
        "\n",
        "    # Define the learning rate scheduler\n",
        "    lr_schedule = lr_scheduler.StepLR(optimizer=optimizer, step_size=step_size, gamma=gamma)\n",
        "\n",
        "    # Initialize lists to store the performance metrics\n",
        "    training_losses = []\n",
        "    training_accuracies = []\n",
        "    validation_losses = []\n",
        "    validation_accuracies = []\n",
        "\n",
        "    # Variable to keep track of the best validation accuracy\n",
        "    best_acc = 0.0\n",
        "    # Variable to store the model weights corresponding to the best validation accuracy\n",
        "    best_model_wts = copy.deepcopy(model.state_dict())\n",
        "\n",
        "    # Training loop\n",
        "    for epoch in tqdm(range(N_epochs)):\n",
        "        model.train()  # Set the model to training mode\n",
        "        train_loss = 0.0\n",
        "        train_correct = 0\n",
        "        total = 0\n",
        "\n",
        "        # Iterate over the training data\n",
        "        for x, y in train_dataloader:\n",
        "            x, y = x.to(device), y.to(device)  # Move data to the correct device\n",
        "            pred = model(x)  # Forward pass: compute the model output\n",
        "            loss = loss_fun(pred, y.long())  # Compute the loss\n",
        "            optimizer.zero_grad()  # Zero the gradients to prevent accumulation\n",
        "            loss.backward()  # Backward pass: compute the gradient of the loss with respect to model parameters\n",
        "            optimizer.step()  # Update model parameters\n",
        "\n",
        "            # Accumulate the training loss and correct predictions to calculate accuracy\n",
        "            train_loss += loss.item()\n",
        "            _, predicted = torch.max(pred, 1)\n",
        "            train_correct += (predicted == y).sum().item()\n",
        "            total += y.size(0)\n",
        "\n",
        "        # Compute the average training loss and accuracy for the epoch\n",
        "        train_loss /= len(train_dataloader)\n",
        "        train_acc = train_correct / total\n",
        "        training_losses.append(train_loss)\n",
        "        training_accuracies.append(train_acc)\n",
        "\n",
        "        # Validate the model\n",
        "        val_loss, val_acc = evaluate_model(model, val_dataloader, loss_fun, device)\n",
        "        validation_losses.append(val_loss)\n",
        "        validation_accuracies.append(val_acc)\n",
        "\n",
        "        # Check if the current model is the best one based on validation loss\n",
        "        if val_acc > best_acc:\n",
        "            best_acc = val_acc\n",
        "            best_model_wts = copy.deepcopy(model.state_dict())\n",
        "\n",
        "        # Update the learning rate\n",
        "        lr_schedule.step()\n",
        "\n",
        "        # Print the performance metrics for the epoch\n",
        "        print(f\"Epoch {epoch+1}/{N_epochs}, Train Loss: {train_loss:.4f}, Train Acc: {train_acc:.4f}, Val Loss: {val_loss:.4f}, Val Acc: {val_acc:.4f}\")\n",
        "\n",
        "    # Load the best model weights\n",
        "    model.load_state_dict(best_model_wts)\n",
        "\n",
        "    # Return the model and performance metrics\n",
        "    return {\n",
        "        \"model\": model,\n",
        "        \"training_losses\": training_losses,\n",
        "        \"training_accuracies\": training_accuracies,\n",
        "        \"validation_losses\": validation_losses,\n",
        "        \"validation_accuracies\": validation_accuracies\n",
        "    }"
      ]
    },
    {
      "cell_type": "code",
      "execution_count": 41,
      "metadata": {
        "id": "QOf3FA9iSUIl",
        "outputId": "ccfb413a-4f45-45cd-ca55-e7215e35ff08"
      },
      "outputs": [
        {
          "name": "stdout",
          "output_type": "stream",
          "text": [
            "Training with lr=5e-05, batch_size=32, num_epochs=20, step_size=5\n",
            "Using device: cuda\n",
            "NVIDIA Graphics Card: NVIDIA GeForce RTX 2080\n"
          ]
        },
        {
          "name": "stderr",
          "output_type": "stream",
          "text": [
            "  5%|▌         | 1/20 [00:23<07:25, 23.43s/it]"
          ]
        },
        {
          "name": "stdout",
          "output_type": "stream",
          "text": [
            "Epoch 1/20, Train Loss: 1.6740, Train Acc: 0.4167, Val Loss: 1.5751, Val Acc: 0.6155\n"
          ]
        },
        {
          "name": "stderr",
          "output_type": "stream",
          "text": [
            " 10%|█         | 2/20 [00:42<06:11, 20.65s/it]"
          ]
        },
        {
          "name": "stdout",
          "output_type": "stream",
          "text": [
            "Epoch 2/20, Train Loss: 1.4527, Train Acc: 0.6098, Val Loss: 1.3621, Val Acc: 0.6988\n"
          ]
        },
        {
          "name": "stderr",
          "output_type": "stream",
          "text": [
            " 15%|█▌        | 3/20 [01:00<05:36, 19.77s/it]"
          ]
        },
        {
          "name": "stdout",
          "output_type": "stream",
          "text": [
            "Epoch 3/20, Train Loss: 1.2245, Train Acc: 0.6838, Val Loss: 1.1615, Val Acc: 0.7457\n"
          ]
        },
        {
          "name": "stderr",
          "output_type": "stream",
          "text": [
            " 20%|██        | 4/20 [01:19<05:09, 19.34s/it]"
          ]
        },
        {
          "name": "stdout",
          "output_type": "stream",
          "text": [
            "Epoch 4/20, Train Loss: 1.0540, Train Acc: 0.7081, Val Loss: 1.0262, Val Acc: 0.7474\n"
          ]
        },
        {
          "name": "stderr",
          "output_type": "stream",
          "text": [
            " 25%|██▌       | 5/20 [01:38<04:48, 19.26s/it]"
          ]
        },
        {
          "name": "stdout",
          "output_type": "stream",
          "text": [
            "Epoch 5/20, Train Loss: 0.9321, Train Acc: 0.7205, Val Loss: 0.9364, Val Acc: 0.7370\n"
          ]
        },
        {
          "name": "stderr",
          "output_type": "stream",
          "text": [
            " 30%|███       | 6/20 [01:57<04:27, 19.11s/it]"
          ]
        },
        {
          "name": "stdout",
          "output_type": "stream",
          "text": [
            "Epoch 6/20, Train Loss: 0.8653, Train Acc: 0.7414, Val Loss: 0.8611, Val Acc: 0.7578\n"
          ]
        },
        {
          "name": "stderr",
          "output_type": "stream",
          "text": [
            " 35%|███▌      | 7/20 [02:15<04:05, 18.90s/it]"
          ]
        },
        {
          "name": "stdout",
          "output_type": "stream",
          "text": [
            "Epoch 7/20, Train Loss: 0.8088, Train Acc: 0.7465, Val Loss: 0.8138, Val Acc: 0.7717\n"
          ]
        },
        {
          "name": "stderr",
          "output_type": "stream",
          "text": [
            " 40%|████      | 8/20 [02:35<03:50, 19.22s/it]"
          ]
        },
        {
          "name": "stdout",
          "output_type": "stream",
          "text": [
            "Epoch 8/20, Train Loss: 0.7609, Train Acc: 0.7662, Val Loss: 0.7912, Val Acc: 0.7587\n"
          ]
        },
        {
          "name": "stderr",
          "output_type": "stream",
          "text": [
            " 45%|████▌     | 9/20 [02:55<03:33, 19.42s/it]"
          ]
        },
        {
          "name": "stdout",
          "output_type": "stream",
          "text": [
            "Epoch 9/20, Train Loss: 0.7226, Train Acc: 0.7758, Val Loss: 0.7433, Val Acc: 0.7760\n"
          ]
        },
        {
          "name": "stderr",
          "output_type": "stream",
          "text": [
            " 50%|█████     | 10/20 [03:15<03:15, 19.59s/it]"
          ]
        },
        {
          "name": "stdout",
          "output_type": "stream",
          "text": [
            "Epoch 10/20, Train Loss: 0.6809, Train Acc: 0.7899, Val Loss: 0.7216, Val Acc: 0.7891\n"
          ]
        },
        {
          "name": "stderr",
          "output_type": "stream",
          "text": [
            " 55%|█████▌    | 11/20 [03:36<02:58, 19.89s/it]"
          ]
        },
        {
          "name": "stdout",
          "output_type": "stream",
          "text": [
            "Epoch 11/20, Train Loss: 0.6668, Train Acc: 0.7787, Val Loss: 0.7136, Val Acc: 0.7795\n"
          ]
        },
        {
          "name": "stderr",
          "output_type": "stream",
          "text": [
            " 60%|██████    | 12/20 [03:55<02:38, 19.80s/it]"
          ]
        },
        {
          "name": "stdout",
          "output_type": "stream",
          "text": [
            "Epoch 12/20, Train Loss: 0.6375, Train Acc: 0.7911, Val Loss: 0.6805, Val Acc: 0.7986\n"
          ]
        },
        {
          "name": "stderr",
          "output_type": "stream",
          "text": [
            " 65%|██████▌   | 13/20 [04:16<02:20, 20.08s/it]"
          ]
        },
        {
          "name": "stdout",
          "output_type": "stream",
          "text": [
            "Epoch 13/20, Train Loss: 0.6303, Train Acc: 0.7962, Val Loss: 0.6824, Val Acc: 0.7995\n"
          ]
        },
        {
          "name": "stderr",
          "output_type": "stream",
          "text": [
            " 70%|███████   | 14/20 [04:35<01:57, 19.65s/it]"
          ]
        },
        {
          "name": "stdout",
          "output_type": "stream",
          "text": [
            "Epoch 14/20, Train Loss: 0.6109, Train Acc: 0.8012, Val Loss: 0.6643, Val Acc: 0.8047\n"
          ]
        },
        {
          "name": "stderr",
          "output_type": "stream",
          "text": [
            " 75%|███████▌  | 15/20 [04:52<01:35, 19.03s/it]"
          ]
        },
        {
          "name": "stdout",
          "output_type": "stream",
          "text": [
            "Epoch 15/20, Train Loss: 0.5996, Train Acc: 0.8097, Val Loss: 0.6555, Val Acc: 0.7977\n"
          ]
        },
        {
          "name": "stderr",
          "output_type": "stream",
          "text": [
            " 80%|████████  | 16/20 [05:10<01:14, 18.55s/it]"
          ]
        },
        {
          "name": "stdout",
          "output_type": "stream",
          "text": [
            "Epoch 16/20, Train Loss: 0.5917, Train Acc: 0.8125, Val Loss: 0.6478, Val Acc: 0.7969\n"
          ]
        },
        {
          "name": "stderr",
          "output_type": "stream",
          "text": [
            " 85%|████████▌ | 17/20 [05:27<00:54, 18.29s/it]"
          ]
        },
        {
          "name": "stdout",
          "output_type": "stream",
          "text": [
            "Epoch 17/20, Train Loss: 0.5875, Train Acc: 0.8114, Val Loss: 0.6380, Val Acc: 0.8021\n"
          ]
        },
        {
          "name": "stderr",
          "output_type": "stream",
          "text": [
            " 90%|█████████ | 18/20 [05:45<00:36, 18.00s/it]"
          ]
        },
        {
          "name": "stdout",
          "output_type": "stream",
          "text": [
            "Epoch 18/20, Train Loss: 0.5702, Train Acc: 0.8142, Val Loss: 0.6316, Val Acc: 0.8047\n"
          ]
        },
        {
          "name": "stderr",
          "output_type": "stream",
          "text": [
            " 95%|█████████▌| 19/20 [06:02<00:17, 17.83s/it]"
          ]
        },
        {
          "name": "stdout",
          "output_type": "stream",
          "text": [
            "Epoch 19/20, Train Loss: 0.5539, Train Acc: 0.8165, Val Loss: 0.6250, Val Acc: 0.7951\n"
          ]
        },
        {
          "name": "stderr",
          "output_type": "stream",
          "text": [
            "100%|██████████| 20/20 [06:21<00:00, 19.05s/it]"
          ]
        },
        {
          "name": "stdout",
          "output_type": "stream",
          "text": [
            "Epoch 20/20, Train Loss: 0.5491, Train Acc: 0.8199, Val Loss: 0.6335, Val Acc: 0.7917\n",
            "Using device: cuda\n",
            "NVIDIA Graphics Card: NVIDIA GeForce RTX 2080\n"
          ]
        },
        {
          "name": "stderr",
          "output_type": "stream",
          "text": [
            "\n"
          ]
        },
        {
          "name": "stdout",
          "output_type": "stream",
          "text": [
            "Test Loss: 0.6565, Test Accuracy: 0.8140\n",
            "Training with lr=5e-05, batch_size=32, num_epochs=20, step_size=20\n",
            "Using device: cuda\n",
            "NVIDIA Graphics Card: NVIDIA GeForce RTX 2080\n"
          ]
        },
        {
          "name": "stderr",
          "output_type": "stream",
          "text": [
            "  5%|▌         | 1/20 [00:19<06:03, 19.14s/it]"
          ]
        },
        {
          "name": "stdout",
          "output_type": "stream",
          "text": [
            "Epoch 1/20, Train Loss: 1.6631, Train Acc: 0.4416, Val Loss: 1.5595, Val Acc: 0.5920\n"
          ]
        },
        {
          "name": "stderr",
          "output_type": "stream",
          "text": [
            " 10%|█         | 2/20 [00:41<06:17, 20.97s/it]"
          ]
        },
        {
          "name": "stdout",
          "output_type": "stream",
          "text": [
            "Epoch 2/20, Train Loss: 1.4225, Train Acc: 0.6110, Val Loss: 1.3456, Val Acc: 0.6936\n"
          ]
        },
        {
          "name": "stderr",
          "output_type": "stream",
          "text": [
            " 15%|█▌        | 3/20 [01:00<05:44, 20.29s/it]"
          ]
        },
        {
          "name": "stdout",
          "output_type": "stream",
          "text": [
            "Epoch 3/20, Train Loss: 1.2168, Train Acc: 0.6940, Val Loss: 1.1512, Val Acc: 0.7326\n"
          ]
        },
        {
          "name": "stderr",
          "output_type": "stream",
          "text": [
            " 20%|██        | 4/20 [01:20<05:19, 19.97s/it]"
          ]
        },
        {
          "name": "stdout",
          "output_type": "stream",
          "text": [
            "Epoch 4/20, Train Loss: 1.0486, Train Acc: 0.7143, Val Loss: 1.0301, Val Acc: 0.7396\n"
          ]
        },
        {
          "name": "stderr",
          "output_type": "stream",
          "text": [
            " 25%|██▌       | 5/20 [01:38<04:50, 19.36s/it]"
          ]
        },
        {
          "name": "stdout",
          "output_type": "stream",
          "text": [
            "Epoch 5/20, Train Loss: 0.9388, Train Acc: 0.7386, Val Loss: 0.9503, Val Acc: 0.7483\n"
          ]
        },
        {
          "name": "stderr",
          "output_type": "stream",
          "text": [
            " 30%|███       | 6/20 [01:56<04:22, 18.78s/it]"
          ]
        },
        {
          "name": "stdout",
          "output_type": "stream",
          "text": [
            "Epoch 6/20, Train Loss: 0.8457, Train Acc: 0.7369, Val Loss: 0.8616, Val Acc: 0.7604\n"
          ]
        },
        {
          "name": "stderr",
          "output_type": "stream",
          "text": [
            " 35%|███▌      | 7/20 [02:13<03:59, 18.39s/it]"
          ]
        },
        {
          "name": "stdout",
          "output_type": "stream",
          "text": [
            "Epoch 7/20, Train Loss: 0.8040, Train Acc: 0.7521, Val Loss: 0.8048, Val Acc: 0.7708\n"
          ]
        },
        {
          "name": "stderr",
          "output_type": "stream",
          "text": [
            " 40%|████      | 8/20 [02:31<03:39, 18.28s/it]"
          ]
        },
        {
          "name": "stdout",
          "output_type": "stream",
          "text": [
            "Epoch 8/20, Train Loss: 0.7405, Train Acc: 0.7628, Val Loss: 0.7822, Val Acc: 0.7734\n"
          ]
        },
        {
          "name": "stderr",
          "output_type": "stream",
          "text": [
            " 45%|████▌     | 9/20 [02:49<03:19, 18.14s/it]"
          ]
        },
        {
          "name": "stdout",
          "output_type": "stream",
          "text": [
            "Epoch 9/20, Train Loss: 0.7175, Train Acc: 0.7691, Val Loss: 0.7468, Val Acc: 0.7839\n"
          ]
        },
        {
          "name": "stderr",
          "output_type": "stream",
          "text": [
            " 50%|█████     | 10/20 [03:07<02:59, 17.96s/it]"
          ]
        },
        {
          "name": "stdout",
          "output_type": "stream",
          "text": [
            "Epoch 10/20, Train Loss: 0.6712, Train Acc: 0.7967, Val Loss: 0.7225, Val Acc: 0.7804\n"
          ]
        },
        {
          "name": "stderr",
          "output_type": "stream",
          "text": [
            " 55%|█████▌    | 11/20 [03:24<02:40, 17.83s/it]"
          ]
        },
        {
          "name": "stdout",
          "output_type": "stream",
          "text": [
            "Epoch 11/20, Train Loss: 0.6543, Train Acc: 0.7928, Val Loss: 0.7055, Val Acc: 0.7882\n"
          ]
        },
        {
          "name": "stderr",
          "output_type": "stream",
          "text": [
            " 60%|██████    | 12/20 [03:42<02:21, 17.69s/it]"
          ]
        },
        {
          "name": "stdout",
          "output_type": "stream",
          "text": [
            "Epoch 12/20, Train Loss: 0.6240, Train Acc: 0.8120, Val Loss: 0.6802, Val Acc: 0.8056\n"
          ]
        },
        {
          "name": "stderr",
          "output_type": "stream",
          "text": [
            " 65%|██████▌   | 13/20 [03:59<02:03, 17.69s/it]"
          ]
        },
        {
          "name": "stdout",
          "output_type": "stream",
          "text": [
            "Epoch 13/20, Train Loss: 0.6157, Train Acc: 0.8007, Val Loss: 0.6702, Val Acc: 0.8056\n"
          ]
        },
        {
          "name": "stderr",
          "output_type": "stream",
          "text": [
            " 70%|███████   | 14/20 [04:17<01:46, 17.75s/it]"
          ]
        },
        {
          "name": "stdout",
          "output_type": "stream",
          "text": [
            "Epoch 14/20, Train Loss: 0.5844, Train Acc: 0.8086, Val Loss: 0.6503, Val Acc: 0.7899\n"
          ]
        },
        {
          "name": "stderr",
          "output_type": "stream",
          "text": [
            " 75%|███████▌  | 15/20 [04:35<01:28, 17.72s/it]"
          ]
        },
        {
          "name": "stdout",
          "output_type": "stream",
          "text": [
            "Epoch 15/20, Train Loss: 0.5716, Train Acc: 0.8075, Val Loss: 0.6376, Val Acc: 0.8021\n"
          ]
        },
        {
          "name": "stderr",
          "output_type": "stream",
          "text": [
            " 80%|████████  | 16/20 [04:52<01:10, 17.65s/it]"
          ]
        },
        {
          "name": "stdout",
          "output_type": "stream",
          "text": [
            "Epoch 16/20, Train Loss: 0.5735, Train Acc: 0.8125, Val Loss: 0.6378, Val Acc: 0.7986\n"
          ]
        },
        {
          "name": "stderr",
          "output_type": "stream",
          "text": [
            " 85%|████████▌ | 17/20 [05:10<00:53, 17.69s/it]"
          ]
        },
        {
          "name": "stdout",
          "output_type": "stream",
          "text": [
            "Epoch 17/20, Train Loss: 0.5404, Train Acc: 0.8238, Val Loss: 0.6314, Val Acc: 0.8038\n"
          ]
        },
        {
          "name": "stderr",
          "output_type": "stream",
          "text": [
            " 90%|█████████ | 18/20 [05:28<00:35, 17.66s/it]"
          ]
        },
        {
          "name": "stdout",
          "output_type": "stream",
          "text": [
            "Epoch 18/20, Train Loss: 0.5531, Train Acc: 0.8278, Val Loss: 0.6231, Val Acc: 0.7908\n"
          ]
        },
        {
          "name": "stderr",
          "output_type": "stream",
          "text": [
            " 95%|█████████▌| 19/20 [05:45<00:17, 17.64s/it]"
          ]
        },
        {
          "name": "stdout",
          "output_type": "stream",
          "text": [
            "Epoch 19/20, Train Loss: 0.5263, Train Acc: 0.8283, Val Loss: 0.6053, Val Acc: 0.8056\n"
          ]
        },
        {
          "name": "stderr",
          "output_type": "stream",
          "text": [
            "100%|██████████| 20/20 [06:03<00:00, 18.17s/it]"
          ]
        },
        {
          "name": "stdout",
          "output_type": "stream",
          "text": [
            "Epoch 20/20, Train Loss: 0.5008, Train Acc: 0.8492, Val Loss: 0.5958, Val Acc: 0.8151\n",
            "Using device: cuda\n",
            "NVIDIA Graphics Card: NVIDIA GeForce RTX 2080\n"
          ]
        },
        {
          "name": "stderr",
          "output_type": "stream",
          "text": [
            "\n"
          ]
        },
        {
          "name": "stdout",
          "output_type": "stream",
          "text": [
            "Test Loss: 0.5880, Test Accuracy: 0.8344\n",
            "Training with lr=0.0005, batch_size=32, num_epochs=20, step_size=5\n",
            "Using device: cuda\n",
            "NVIDIA Graphics Card: NVIDIA GeForce RTX 2080\n"
          ]
        },
        {
          "name": "stderr",
          "output_type": "stream",
          "text": [
            "  5%|▌         | 1/20 [00:17<05:32, 17.52s/it]"
          ]
        },
        {
          "name": "stdout",
          "output_type": "stream",
          "text": [
            "Epoch 1/20, Train Loss: 1.1217, Train Acc: 0.6245, Val Loss: 0.7649, Val Acc: 0.7509\n"
          ]
        },
        {
          "name": "stderr",
          "output_type": "stream",
          "text": [
            " 10%|█         | 2/20 [00:35<05:16, 17.56s/it]"
          ]
        },
        {
          "name": "stdout",
          "output_type": "stream",
          "text": [
            "Epoch 2/20, Train Loss: 0.6905, Train Acc: 0.7504, Val Loss: 0.6409, Val Acc: 0.8038\n"
          ]
        },
        {
          "name": "stderr",
          "output_type": "stream",
          "text": [
            " 15%|█▌        | 3/20 [00:52<04:58, 17.55s/it]"
          ]
        },
        {
          "name": "stdout",
          "output_type": "stream",
          "text": [
            "Epoch 3/20, Train Loss: 0.5702, Train Acc: 0.7979, Val Loss: 0.5715, Val Acc: 0.8082\n"
          ]
        },
        {
          "name": "stderr",
          "output_type": "stream",
          "text": [
            " 20%|██        | 4/20 [01:09<04:39, 17.46s/it]"
          ]
        },
        {
          "name": "stdout",
          "output_type": "stream",
          "text": [
            "Epoch 4/20, Train Loss: 0.5206, Train Acc: 0.8233, Val Loss: 0.5516, Val Acc: 0.8273\n"
          ]
        },
        {
          "name": "stderr",
          "output_type": "stream",
          "text": [
            " 25%|██▌       | 5/20 [01:27<04:22, 17.49s/it]"
          ]
        },
        {
          "name": "stdout",
          "output_type": "stream",
          "text": [
            "Epoch 5/20, Train Loss: 0.4482, Train Acc: 0.8526, Val Loss: 0.5616, Val Acc: 0.8151\n"
          ]
        },
        {
          "name": "stderr",
          "output_type": "stream",
          "text": [
            " 30%|███       | 6/20 [01:45<04:06, 17.59s/it]"
          ]
        },
        {
          "name": "stdout",
          "output_type": "stream",
          "text": [
            "Epoch 6/20, Train Loss: 0.4128, Train Acc: 0.8600, Val Loss: 0.5524, Val Acc: 0.8168\n"
          ]
        },
        {
          "name": "stderr",
          "output_type": "stream",
          "text": [
            " 35%|███▌      | 7/20 [02:02<03:48, 17.59s/it]"
          ]
        },
        {
          "name": "stdout",
          "output_type": "stream",
          "text": [
            "Epoch 7/20, Train Loss: 0.4112, Train Acc: 0.8577, Val Loss: 0.5206, Val Acc: 0.8220\n"
          ]
        },
        {
          "name": "stderr",
          "output_type": "stream",
          "text": [
            " 40%|████      | 8/20 [02:20<03:30, 17.55s/it]"
          ]
        },
        {
          "name": "stdout",
          "output_type": "stream",
          "text": [
            "Epoch 8/20, Train Loss: 0.3785, Train Acc: 0.8679, Val Loss: 0.5458, Val Acc: 0.7995\n"
          ]
        },
        {
          "name": "stderr",
          "output_type": "stream",
          "text": [
            " 45%|████▌     | 9/20 [02:37<03:13, 17.55s/it]"
          ]
        },
        {
          "name": "stdout",
          "output_type": "stream",
          "text": [
            "Epoch 9/20, Train Loss: 0.3401, Train Acc: 0.8820, Val Loss: 0.5282, Val Acc: 0.8316\n"
          ]
        },
        {
          "name": "stderr",
          "output_type": "stream",
          "text": [
            " 50%|█████     | 10/20 [02:55<02:55, 17.56s/it]"
          ]
        },
        {
          "name": "stdout",
          "output_type": "stream",
          "text": [
            "Epoch 10/20, Train Loss: 0.3223, Train Acc: 0.8984, Val Loss: 0.5049, Val Acc: 0.8316\n"
          ]
        },
        {
          "name": "stderr",
          "output_type": "stream",
          "text": [
            " 55%|█████▌    | 11/20 [03:12<02:37, 17.54s/it]"
          ]
        },
        {
          "name": "stdout",
          "output_type": "stream",
          "text": [
            "Epoch 11/20, Train Loss: 0.3098, Train Acc: 0.8933, Val Loss: 0.4903, Val Acc: 0.8212\n"
          ]
        },
        {
          "name": "stderr",
          "output_type": "stream",
          "text": [
            " 60%|██████    | 12/20 [03:30<02:20, 17.54s/it]"
          ]
        },
        {
          "name": "stdout",
          "output_type": "stream",
          "text": [
            "Epoch 12/20, Train Loss: 0.2705, Train Acc: 0.9119, Val Loss: 0.5135, Val Acc: 0.8134\n"
          ]
        },
        {
          "name": "stderr",
          "output_type": "stream",
          "text": [
            " 65%|██████▌   | 13/20 [03:48<02:03, 17.64s/it]"
          ]
        },
        {
          "name": "stdout",
          "output_type": "stream",
          "text": [
            "Epoch 13/20, Train Loss: 0.2722, Train Acc: 0.9040, Val Loss: 0.4753, Val Acc: 0.8316\n"
          ]
        },
        {
          "name": "stderr",
          "output_type": "stream",
          "text": [
            " 70%|███████   | 14/20 [04:06<01:46, 17.70s/it]"
          ]
        },
        {
          "name": "stdout",
          "output_type": "stream",
          "text": [
            "Epoch 14/20, Train Loss: 0.2697, Train Acc: 0.9063, Val Loss: 0.4798, Val Acc: 0.8333\n"
          ]
        },
        {
          "name": "stderr",
          "output_type": "stream",
          "text": [
            " 75%|███████▌  | 15/20 [04:23<01:28, 17.60s/it]"
          ]
        },
        {
          "name": "stdout",
          "output_type": "stream",
          "text": [
            "Epoch 15/20, Train Loss: 0.2576, Train Acc: 0.9130, Val Loss: 0.4641, Val Acc: 0.8438\n"
          ]
        },
        {
          "name": "stderr",
          "output_type": "stream",
          "text": [
            " 80%|████████  | 16/20 [04:41<01:10, 17.57s/it]"
          ]
        },
        {
          "name": "stdout",
          "output_type": "stream",
          "text": [
            "Epoch 16/20, Train Loss: 0.2509, Train Acc: 0.9176, Val Loss: 0.4649, Val Acc: 0.8411\n"
          ]
        },
        {
          "name": "stderr",
          "output_type": "stream",
          "text": [
            " 85%|████████▌ | 17/20 [04:58<00:52, 17.55s/it]"
          ]
        },
        {
          "name": "stdout",
          "output_type": "stream",
          "text": [
            "Epoch 17/20, Train Loss: 0.2059, Train Acc: 0.9266, Val Loss: 0.4608, Val Acc: 0.8438\n"
          ]
        },
        {
          "name": "stderr",
          "output_type": "stream",
          "text": [
            " 90%|█████████ | 18/20 [05:16<00:35, 17.65s/it]"
          ]
        },
        {
          "name": "stdout",
          "output_type": "stream",
          "text": [
            "Epoch 18/20, Train Loss: 0.2092, Train Acc: 0.9351, Val Loss: 0.4577, Val Acc: 0.8533\n"
          ]
        },
        {
          "name": "stderr",
          "output_type": "stream",
          "text": [
            " 95%|█████████▌| 19/20 [05:34<00:17, 17.66s/it]"
          ]
        },
        {
          "name": "stdout",
          "output_type": "stream",
          "text": [
            "Epoch 19/20, Train Loss: 0.2110, Train Acc: 0.9300, Val Loss: 0.4878, Val Acc: 0.8333\n"
          ]
        },
        {
          "name": "stderr",
          "output_type": "stream",
          "text": [
            "100%|██████████| 20/20 [05:51<00:00, 17.58s/it]"
          ]
        },
        {
          "name": "stdout",
          "output_type": "stream",
          "text": [
            "Epoch 20/20, Train Loss: 0.2087, Train Acc: 0.9351, Val Loss: 0.4450, Val Acc: 0.8429\n",
            "Using device: cuda\n",
            "NVIDIA Graphics Card: NVIDIA GeForce RTX 2080\n"
          ]
        },
        {
          "name": "stderr",
          "output_type": "stream",
          "text": [
            "\n"
          ]
        },
        {
          "name": "stdout",
          "output_type": "stream",
          "text": [
            "Test Loss: 0.5131, Test Accuracy: 0.8259\n",
            "Training with lr=0.0005, batch_size=32, num_epochs=20, step_size=20\n",
            "Using device: cuda\n",
            "NVIDIA Graphics Card: NVIDIA GeForce RTX 2080\n"
          ]
        },
        {
          "name": "stderr",
          "output_type": "stream",
          "text": [
            "  5%|▌         | 1/20 [00:17<05:32, 17.51s/it]"
          ]
        },
        {
          "name": "stdout",
          "output_type": "stream",
          "text": [
            "Epoch 1/20, Train Loss: 1.0949, Train Acc: 0.6335, Val Loss: 0.7531, Val Acc: 0.7431\n"
          ]
        },
        {
          "name": "stderr",
          "output_type": "stream",
          "text": [
            " 10%|█         | 2/20 [00:35<05:18, 17.71s/it]"
          ]
        },
        {
          "name": "stdout",
          "output_type": "stream",
          "text": [
            "Epoch 2/20, Train Loss: 0.6614, Train Acc: 0.7696, Val Loss: 0.6617, Val Acc: 0.7648\n"
          ]
        },
        {
          "name": "stderr",
          "output_type": "stream",
          "text": [
            " 15%|█▌        | 3/20 [00:53<05:00, 17.69s/it]"
          ]
        },
        {
          "name": "stdout",
          "output_type": "stream",
          "text": [
            "Epoch 3/20, Train Loss: 0.5786, Train Acc: 0.7979, Val Loss: 0.6155, Val Acc: 0.7925\n"
          ]
        },
        {
          "name": "stderr",
          "output_type": "stream",
          "text": [
            " 20%|██        | 4/20 [01:10<04:42, 17.66s/it]"
          ]
        },
        {
          "name": "stdout",
          "output_type": "stream",
          "text": [
            "Epoch 4/20, Train Loss: 0.5218, Train Acc: 0.8272, Val Loss: 0.5832, Val Acc: 0.7995\n"
          ]
        },
        {
          "name": "stderr",
          "output_type": "stream",
          "text": [
            " 25%|██▌       | 5/20 [01:28<04:23, 17.60s/it]"
          ]
        },
        {
          "name": "stdout",
          "output_type": "stream",
          "text": [
            "Epoch 5/20, Train Loss: 0.4626, Train Acc: 0.8346, Val Loss: 0.5677, Val Acc: 0.7986\n"
          ]
        },
        {
          "name": "stderr",
          "output_type": "stream",
          "text": [
            " 30%|███       | 6/20 [01:45<04:07, 17.65s/it]"
          ]
        },
        {
          "name": "stdout",
          "output_type": "stream",
          "text": [
            "Epoch 6/20, Train Loss: 0.4145, Train Acc: 0.8583, Val Loss: 0.5563, Val Acc: 0.8238\n"
          ]
        },
        {
          "name": "stderr",
          "output_type": "stream",
          "text": [
            " 35%|███▌      | 7/20 [02:03<03:48, 17.61s/it]"
          ]
        },
        {
          "name": "stdout",
          "output_type": "stream",
          "text": [
            "Epoch 7/20, Train Loss: 0.3807, Train Acc: 0.8656, Val Loss: 0.5352, Val Acc: 0.8142\n"
          ]
        },
        {
          "name": "stderr",
          "output_type": "stream",
          "text": [
            " 40%|████      | 8/20 [02:21<03:32, 17.68s/it]"
          ]
        },
        {
          "name": "stdout",
          "output_type": "stream",
          "text": [
            "Epoch 8/20, Train Loss: 0.3613, Train Acc: 0.8780, Val Loss: 0.5852, Val Acc: 0.8038\n"
          ]
        },
        {
          "name": "stderr",
          "output_type": "stream",
          "text": [
            " 45%|████▌     | 9/20 [02:38<03:14, 17.70s/it]"
          ]
        },
        {
          "name": "stdout",
          "output_type": "stream",
          "text": [
            "Epoch 9/20, Train Loss: 0.3688, Train Acc: 0.8746, Val Loss: 0.5659, Val Acc: 0.8056\n"
          ]
        },
        {
          "name": "stderr",
          "output_type": "stream",
          "text": [
            " 50%|█████     | 10/20 [02:56<02:56, 17.70s/it]"
          ]
        },
        {
          "name": "stdout",
          "output_type": "stream",
          "text": [
            "Epoch 10/20, Train Loss: 0.3216, Train Acc: 0.8871, Val Loss: 0.5268, Val Acc: 0.8186\n"
          ]
        },
        {
          "name": "stderr",
          "output_type": "stream",
          "text": [
            " 55%|█████▌    | 11/20 [03:14<02:40, 17.81s/it]"
          ]
        },
        {
          "name": "stdout",
          "output_type": "stream",
          "text": [
            "Epoch 11/20, Train Loss: 0.3311, Train Acc: 0.8848, Val Loss: 0.5163, Val Acc: 0.8151\n"
          ]
        },
        {
          "name": "stderr",
          "output_type": "stream",
          "text": [
            " 60%|██████    | 12/20 [03:32<02:22, 17.78s/it]"
          ]
        },
        {
          "name": "stdout",
          "output_type": "stream",
          "text": [
            "Epoch 12/20, Train Loss: 0.2780, Train Acc: 0.9091, Val Loss: 0.5120, Val Acc: 0.8212\n"
          ]
        },
        {
          "name": "stderr",
          "output_type": "stream",
          "text": [
            " 65%|██████▌   | 13/20 [03:49<02:03, 17.68s/it]"
          ]
        },
        {
          "name": "stdout",
          "output_type": "stream",
          "text": [
            "Epoch 13/20, Train Loss: 0.2727, Train Acc: 0.9080, Val Loss: 0.5183, Val Acc: 0.8229\n"
          ]
        },
        {
          "name": "stderr",
          "output_type": "stream",
          "text": [
            " 70%|███████   | 14/20 [04:07<01:45, 17.62s/it]"
          ]
        },
        {
          "name": "stdout",
          "output_type": "stream",
          "text": [
            "Epoch 14/20, Train Loss: 0.2585, Train Acc: 0.9108, Val Loss: 0.4985, Val Acc: 0.8368\n"
          ]
        },
        {
          "name": "stderr",
          "output_type": "stream",
          "text": [
            " 75%|███████▌  | 15/20 [04:25<01:28, 17.72s/it]"
          ]
        },
        {
          "name": "stdout",
          "output_type": "stream",
          "text": [
            "Epoch 15/20, Train Loss: 0.2420, Train Acc: 0.9136, Val Loss: 0.4930, Val Acc: 0.8377\n"
          ]
        },
        {
          "name": "stderr",
          "output_type": "stream",
          "text": [
            " 80%|████████  | 16/20 [04:43<01:11, 17.88s/it]"
          ]
        },
        {
          "name": "stdout",
          "output_type": "stream",
          "text": [
            "Epoch 16/20, Train Loss: 0.2262, Train Acc: 0.9238, Val Loss: 0.5112, Val Acc: 0.8203\n"
          ]
        },
        {
          "name": "stderr",
          "output_type": "stream",
          "text": [
            " 85%|████████▌ | 17/20 [05:02<00:54, 18.29s/it]"
          ]
        },
        {
          "name": "stdout",
          "output_type": "stream",
          "text": [
            "Epoch 17/20, Train Loss: 0.2206, Train Acc: 0.9283, Val Loss: 0.4862, Val Acc: 0.8377\n"
          ]
        },
        {
          "name": "stderr",
          "output_type": "stream",
          "text": [
            " 90%|█████████ | 18/20 [05:22<00:37, 18.66s/it]"
          ]
        },
        {
          "name": "stdout",
          "output_type": "stream",
          "text": [
            "Epoch 18/20, Train Loss: 0.2216, Train Acc: 0.9266, Val Loss: 0.4505, Val Acc: 0.8420\n"
          ]
        },
        {
          "name": "stderr",
          "output_type": "stream",
          "text": [
            " 95%|█████████▌| 19/20 [05:40<00:18, 18.47s/it]"
          ]
        },
        {
          "name": "stdout",
          "output_type": "stream",
          "text": [
            "Epoch 19/20, Train Loss: 0.1871, Train Acc: 0.9339, Val Loss: 0.4604, Val Acc: 0.8481\n"
          ]
        },
        {
          "name": "stderr",
          "output_type": "stream",
          "text": [
            "100%|██████████| 20/20 [05:58<00:00, 17.92s/it]"
          ]
        },
        {
          "name": "stdout",
          "output_type": "stream",
          "text": [
            "Epoch 20/20, Train Loss: 0.1834, Train Acc: 0.9413, Val Loss: 0.4955, Val Acc: 0.8333\n",
            "Using device: cuda\n",
            "NVIDIA Graphics Card: NVIDIA GeForce RTX 2080\n"
          ]
        },
        {
          "name": "stderr",
          "output_type": "stream",
          "text": [
            "\n"
          ]
        },
        {
          "name": "stdout",
          "output_type": "stream",
          "text": [
            "Test Loss: 0.5032, Test Accuracy: 0.8382\n",
            "Assuming peak performance of 9.76 TFLOP/s and average utilization of 0.2:\n",
            "Total training time: 1473.0951473712921 seconds\n",
            "Total compute units: 0.7987449243524339 TFLOP-hours\n",
            "Best performing model on testing set: {'lr': 0.0005, 'batch_size': 32, 'num_epochs': 20} with accuracy: 0.8381696428571428\n"
          ]
        }
      ],
      "source": [
        "# Create dataset objects for training, validation, and testing\n",
        "train_dataset = CustomDataset(train_paths, train_labels, transform=training_transform)\n",
        "val_dataset = CustomDataset(val_paths, val_labels, transform=transform)\n",
        "test_dataset = CustomDataset(test_paths, test_labels, transform=transform)\n",
        "\n",
        "# Define the hyperparameter grid\n",
        "learning_rates = [5e-5, 5e-4]  # CV learning rates\n",
        "batch_sizes = [32]  # CV batch sizes\n",
        "num_epochs_list = [20]  # CV number of epochs\n",
        "step_sizes = [5, 20]  # CV step sizes\n",
        "\n",
        "# Record the best performance and metrics\n",
        "best_acc = 0\n",
        "best_hyperparams = None\n",
        "best_model_info = {}\n",
        "\n",
        "# Record time for compute calculations later.\n",
        "start_time = time.time()\n",
        "\n",
        "# VERY IMPORTANT TO BE AWARE OF THE FLUCTUATIONS IN THE GPU UTILIZATION AND THE PEAK PERFORMANCE.\n",
        "# IF THIS IS BEING RUN SOMEWHERE ELSE THIS MUST BE UPDATED.\n",
        "# THESE VALUES ARE FOR THE NVIDIA GEFORCE RTX 3050 Ti ON NIKOLAJ'S LAPTOP. NOT UNIVERSAL AND ALSO THE AVERAGE UTALIZATION IS A GUESS FROM MY EXPERIENCE.\n",
        "peak_performance_tflops = 9.76 # Hypothetical peak performance in TFLOP/s of NVIDIA GeForce RTX 3050 Ti\n",
        "average_utilization = 0.20  # Assumed average (from my experience on task manager)\n",
        "\n",
        "# Iterate over all combinations of hyperparameters\n",
        "for lr, batch_size, num_epochs, step_size in itertools.product(learning_rates, batch_sizes, num_epochs_list, step_sizes):\n",
        "    print(f\"Training with lr={lr}, batch_size={batch_size}, num_epochs={num_epochs}, step_size={step_size}\")\n",
        "\n",
        "    # Create data loaders for batching, shuffling, and iterating over the datasets\n",
        "    train_dataloader = DataLoader(train_dataset, batch_size=batch_size, shuffle=True)\n",
        "    val_dataloader = DataLoader(val_dataset, batch_size=batch_size, shuffle=True)\n",
        "    test_dataloader = DataLoader(test_dataset, batch_size=batch_size, shuffle=True)\n",
        "\n",
        "    # Train the model with the current set of hyperparameters\n",
        "    results = train(train_dataloader=train_dataloader, val_dataloader=val_dataloader, num_classes=6, N_epochs=num_epochs, lr=lr, step_size=step_size)\n",
        "    model = results[\"model\"]\n",
        "\n",
        "    # Evaluate the model on the testing set\n",
        "    loss_fun = nn.CrossEntropyLoss()\n",
        "    device = torch.device(\"cuda\" if torch.cuda.is_available() else \"cpu\")\n",
        "    print(f\"Using device: {device}\")\n",
        "\n",
        "    if device.type == 'cuda':\n",
        "        gpu_name = torch.cuda.get_device_name(0)\n",
        "        print(f\"NVIDIA Graphics Card: {gpu_name}\")\n",
        "\n",
        "    test_loss, test_acc = evaluate_model(model, test_dataloader, loss_fun, device)\n",
        "\n",
        "    print(f\"Test Loss: {test_loss:.4f}, Test Accuracy: {test_acc:.4f}\")\n",
        "\n",
        "    # Save the model and metrics if it has the best accuracy so far on the testing set\n",
        "    if test_acc > best_acc:\n",
        "        best_acc = test_acc\n",
        "        best_hyperparams = {'lr': lr, 'batch_size': batch_size, 'num_epochs': num_epochs}\n",
        "        best_model_info = {\n",
        "            \"state_dict\": copy.deepcopy(model.state_dict()),\n",
        "            \"training_losses\": results[\"training_losses\"],\n",
        "            \"training_accuracies\": results[\"training_accuracies\"],\n",
        "            \"validation_losses\": results[\"validation_losses\"],\n",
        "            \"validation_accuracies\": results[\"validation_accuracies\"]\n",
        "        }\n",
        "\n",
        "\n",
        "end_time = time.time() # end time in seconds\n",
        "total_time = end_time - start_time # total time in seconds\n",
        "total_compute_units_tflops = peak_performance_tflops * average_utilization * total_time # total compute in TFLOP/s\n",
        "\n",
        "# Convert TFLOPs to TFLOP-hours by dividing by the number of seconds in an hour\n",
        "total_compute_units_tfloph = total_compute_units_tflops / 3600\n",
        "\n",
        "print(f\"Assuming peak performance of {peak_performance_tflops} TFLOP/s and average utilization of {average_utilization}:\")\n",
        "print(f\"Total training time: {total_time} seconds\")\n",
        "print(f\"Total compute units: {total_compute_units_tfloph} TFLOP-hours\")\n",
        "\n",
        "# Output the best performing set of hyperparameters based on the testing dataset\n",
        "print(f\"Best performing model on testing set: {best_hyperparams} with accuracy: {best_acc}\")\n",
        "\n",
        "# Save the best model and associated metrics\n",
        "torch.save(best_model_info, 'EfficientNetB0_best_model.pth')"
      ]
    },
    {
      "cell_type": "code",
      "execution_count": 42,
      "metadata": {
        "colab": {
          "base_uri": "https://localhost:8080/",
          "height": 371
        },
        "id": "gHI_5C3xSUIl",
        "outputId": "88f78c87-bc71-4d6f-90b5-4538a50de700"
      },
      "outputs": [
        {
          "data": {
            "image/png": "[encoded data removed]",
            "text/plain": [
              "<Figure size 1000x600 with 1 Axes>"
            ]
          },
          "metadata": {},
          "output_type": "display_data"
        },
        {
          "data": {
            "image/png": "[encoded data removed]",
            "text/plain": [
              "<Figure size 1000x600 with 1 Axes>"
            ]
          },
          "metadata": {},
          "output_type": "display_data"
        }
      ],
      "source": [
        "# Load the best model info\n",
        "best_model_info = torch.load('EfficientNetB0_best_model.pth')\n",
        "\n",
        "# Extract the metrics from the loaded model info\n",
        "training_losses = best_model_info['training_losses']\n",
        "training_accuracies = best_model_info['training_accuracies']\n",
        "validation_losses = best_model_info['validation_losses']\n",
        "validation_accuracies = best_model_info['validation_accuracies']\n",
        "num_epochs = len(training_losses)\n",
        "\n",
        "# Define the epochs array\n",
        "epochs = np.arange(1, num_epochs + 1)\n",
        "\n",
        "# Define the colors for the plot\n",
        "color_loss = 'blue'\n",
        "color_val_loss = 'orange'\n",
        "color_acc = 'green'\n",
        "color_val_acc = 'red'\n",
        "\n",
        "# Plot for Loss\n",
        "plt.figure(figsize=(10, 6))\n",
        "plt.title('Training & Validation Loss')\n",
        "plt.xlabel('Epoch')\n",
        "plt.ylabel('Loss')\n",
        "plt.plot(epochs, training_losses, label='Training Loss', marker='o', color=color_loss)\n",
        "plt.plot(epochs, validation_losses, label='Validation Loss', marker='x', color=color_val_loss)\n",
        "plt.legend()\n",
        "plt.tight_layout()\n",
        "plt.show()\n",
        "\n",
        "# Plot for Accuracy\n",
        "plt.figure(figsize=(10, 6))\n",
        "plt.title('Training & Validation Accuracy')\n",
        "plt.xlabel('Epoch')\n",
        "plt.ylabel('Accuracy')\n",
        "plt.plot(epochs, training_accuracies, label='Training Accuracy', marker='o', color=color_acc)\n",
        "plt.plot(epochs, validation_accuracies, label='Validation Accuracy', marker='x', color=color_val_acc)\n",
        "plt.legend()\n",
        "plt.tight_layout()\n",
        "plt.show()"
      ]
    },
    {
      "cell_type": "code",
      "execution_count": 43,
      "metadata": {
        "id": "1xq7eZDLSUIo",
        "outputId": "c21f7085-8893-48ea-8a2f-b8a3ace1ccb0"
      },
      "outputs": [
        {
          "name": "stdout",
          "output_type": "stream",
          "text": [
            "Image Path: ../../data/dataset-resized\\Trash\\trash129.jpg, Actual Label: Trash, Predicted Label: Paper\n",
            "Image Path: ../../data/dataset-resized\\Trash\\trash98.jpg, Actual Label: Trash, Predicted Label: Paper\n",
            "Image Path: ../../data/dataset-resized\\Plastic\\plastic465.jpg, Actual Label: Plastic, Predicted Label: Paper\n",
            "Image Path: ../../data/dataset-resized\\Glass\\glass288.jpg, Actual Label: Glass, Predicted Label: Metal\n",
            "Image Path: ../../data/dataset-resized\\Plastic\\plastic413.jpg, Actual Label: Plastic, Predicted Label: Glass\n",
            "Image Path: ../../data/dataset-resized\\Cardboard\\cardboard366.jpg, Actual Label: Cardboard, Predicted Label: Plastic\n",
            "Image Path: ../../data/dataset-resized\\Metal\\metal296.jpg, Actual Label: Metal, Predicted Label: Plastic\n",
            "Image Path: ../../data/dataset-resized\\Paper\\paper97.jpg, Actual Label: Paper, Predicted Label: Metal\n",
            "Image Path: ../../data/dataset-resized\\Paper\\paper142.jpg, Actual Label: Paper, Predicted Label: Glass\n",
            "Image Path: ../../data/dataset-resized\\Glass\\glass286.jpg, Actual Label: Paper, Predicted Label: Cardboard\n",
            "Image Path: ../../data/dataset-resized\\Paper\\paper44.jpg, Actual Label: Paper, Predicted Label: Cardboard\n",
            "Image Path: ../../data/dataset-resized\\Plastic\\plastic465.jpg, Actual Label: Glass, Predicted Label: Plastic\n",
            "Image Path: ../../data/dataset-resized\\Cardboard\\cardboard209.jpg, Actual Label: Cardboard, Predicted Label: Paper\n",
            "Image Path: ../../data/dataset-resized\\Metal\\metal296.jpg, Actual Label: Cardboard, Predicted Label: Paper\n",
            "Image Path: ../../data/dataset-resized\\Plastic\\plastic406.jpg, Actual Label: Glass, Predicted Label: Metal\n",
            "Image Path: ../../data/dataset-resized\\Cardboard\\cardboard367.jpg, Actual Label: Glass, Predicted Label: Paper\n",
            "Image Path: ../../data/dataset-resized\\Cardboard\\cardboard6.jpg, Actual Label: Paper, Predicted Label: Glass\n",
            "Image Path: ../../data/dataset-resized\\Trash\\trash98.jpg, Actual Label: Cardboard, Predicted Label: Metal\n",
            "Image Path: ../../data/dataset-resized\\Plastic\\plastic65.jpg, Actual Label: Trash, Predicted Label: Paper\n",
            "Image Path: ../../data/dataset-resized\\Glass\\glass288.jpg, Actual Label: Paper, Predicted Label: Trash\n",
            "Image Path: ../../data/dataset-resized\\Plastic\\plastic406.jpg, Actual Label: Plastic, Predicted Label: Glass\n",
            "Image Path: ../../data/dataset-resized\\Metal\\metal380.jpg, Actual Label: Plastic, Predicted Label: Glass\n",
            "Image Path: ../../data/dataset-resized\\Plastic\\plastic65.jpg, Actual Label: Glass, Predicted Label: Metal\n",
            "Image Path: ../../data/dataset-resized\\Plastic\\plastic465.jpg, Actual Label: Cardboard, Predicted Label: Paper\n",
            "Image Path: ../../data/dataset-resized\\Cardboard\\cardboard10.jpg, Actual Label: Plastic, Predicted Label: Glass\n",
            "Image Path: ../../data/dataset-resized\\Plastic\\plastic276.jpg, Actual Label: Plastic, Predicted Label: Metal\n",
            "Image Path: ../../data/dataset-resized\\Glass\\glass180.jpg, Actual Label: Metal, Predicted Label: Glass\n",
            "Image Path: ../../data/dataset-resized\\Paper\\paper160.jpg, Actual Label: Metal, Predicted Label: Glass\n",
            "Image Path: ../../data/dataset-resized\\Plastic\\plastic406.jpg, Actual Label: Trash, Predicted Label: Paper\n",
            "Image Path: ../../data/dataset-resized\\Metal\\metal380.jpg, Actual Label: Trash, Predicted Label: Metal\n",
            "Image Path: ../../data/dataset-resized\\Plastic\\plastic65.jpg, Actual Label: Plastic, Predicted Label: Paper\n",
            "Image Path: ../../data/dataset-resized\\Paper\\paper97.jpg, Actual Label: Paper, Predicted Label: Cardboard\n",
            "Image Path: ../../data/dataset-resized\\Glass\\glass180.jpg, Actual Label: Metal, Predicted Label: Paper\n",
            "Image Path: ../../data/dataset-resized\\Paper\\paper160.jpg, Actual Label: Metal, Predicted Label: Glass\n",
            "Image Path: ../../data/dataset-resized\\Plastic\\plastic406.jpg, Actual Label: Cardboard, Predicted Label: Paper\n",
            "Image Path: ../../data/dataset-resized\\Plastic\\plastic65.jpg, Actual Label: Plastic, Predicted Label: Metal\n",
            "Image Path: ../../data/dataset-resized\\Plastic\\plastic413.jpg, Actual Label: Metal, Predicted Label: Paper\n",
            "Image Path: ../../data/dataset-resized\\Metal\\metal226.jpg, Actual Label: Plastic, Predicted Label: Paper\n",
            "Image Path: ../../data/dataset-resized\\Paper\\paper142.jpg, Actual Label: Cardboard, Predicted Label: Paper\n",
            "Image Path: ../../data/dataset-resized\\Plastic\\plastic99.jpg, Actual Label: Glass, Predicted Label: Plastic\n",
            "Image Path: ../../data/dataset-resized\\Metal\\metal296.jpg, Actual Label: Paper, Predicted Label: Glass\n",
            "Image Path: ../../data/dataset-resized\\Cardboard\\cardboard27.jpg, Actual Label: Trash, Predicted Label: Plastic\n",
            "Image Path: ../../data/dataset-resized\\Paper\\paper142.jpg, Actual Label: Paper, Predicted Label: Metal\n",
            "Image Path: ../../data/dataset-resized\\Paper\\paper160.jpg, Actual Label: Plastic, Predicted Label: Glass\n",
            "Image Path: ../../data/dataset-resized\\Glass\\glass262.jpg, Actual Label: Paper, Predicted Label: Cardboard\n",
            "Image Path: ../../data/dataset-resized\\Plastic\\plastic65.jpg, Actual Label: Plastic, Predicted Label: Glass\n",
            "Image Path: ../../data/dataset-resized\\Glass\\glass124.jpg, Actual Label: Glass, Predicted Label: Metal\n",
            "Image Path: ../../data/dataset-resized\\Paper\\paper160.jpg, Actual Label: Paper, Predicted Label: Cardboard\n",
            "Image Path: ../../data/dataset-resized\\Glass\\glass286.jpg, Actual Label: Metal, Predicted Label: Plastic\n",
            "Image Path: ../../data/dataset-resized\\Trash\\trash129.jpg, Actual Label: Cardboard, Predicted Label: Glass\n",
            "Image Path: ../../data/dataset-resized\\Plastic\\plastic465.jpg, Actual Label: Glass, Predicted Label: Plastic\n",
            "Image Path: ../../data/dataset-resized\\Cardboard\\cardboard6.jpg, Actual Label: Plastic, Predicted Label: Glass\n",
            "Image Path: ../../data/dataset-resized\\Glass\\glass286.jpg, Actual Label: Cardboard, Predicted Label: Plastic\n",
            "Image Path: ../../data/dataset-resized\\Trash\\trash129.jpg, Actual Label: Trash, Predicted Label: Plastic\n",
            "Image Path: ../../data/dataset-resized\\Glass\\glass288.jpg, Actual Label: Glass, Predicted Label: Plastic\n",
            "Image Path: ../../data/dataset-resized\\Cardboard\\cardboard6.jpg, Actual Label: Cardboard, Predicted Label: Metal\n",
            "Image Path: ../../data/dataset-resized\\Plastic\\plastic276.jpg, Actual Label: Metal, Predicted Label: Glass\n",
            "Image Path: ../../data/dataset-resized\\Trash\\trash129.jpg, Actual Label: Trash, Predicted Label: Paper\n",
            "Image Path: ../../data/dataset-resized\\Glass\\glass125.jpg, Actual Label: Metal, Predicted Label: Glass\n",
            "Image Path: ../../data/dataset-resized\\Plastic\\plastic54.jpg, Actual Label: Glass, Predicted Label: Metal\n",
            "Image Path: ../../data/dataset-resized\\Cardboard\\cardboard366.jpg, Actual Label: Cardboard, Predicted Label: Paper\n"
          ]
        }
      ],
      "source": [
        "# some error here... hopefully it gets changed with dataloaders change?\n",
        "\n",
        "# Load the best model from the saved state dictionary\n",
        "num_classes = 6\n",
        "categories = ['Trash', 'Plastic', 'Paper', 'Metal', 'Glass', 'Cardboard']\n",
        "best_model = initialize_model(num_classes)\n",
        "best_model.load_state_dict(best_model_info['state_dict'])\n",
        "\n",
        "# load the test dataset\n",
        "test_dataloader = DataLoader(test_dataset, batch_size=32, shuffle=False)\n",
        "\n",
        "# Assuming device setup is already done (use CUDA if available)\n",
        "device = torch.device(\"cuda\" if torch.cuda.is_available() else \"cpu\")\n",
        "best_model.to(device)\n",
        "\n",
        "# Call the misclassified_labels function\n",
        "misclassified_samples = misclassified_labels(best_model, test_dataloader, device)\n",
        "\n",
        "# Print some of the misclassified samples to verify\n",
        "for sample in misclassified_samples[:100]:  # Just print the first 10 misclassified samples\n",
        "    print(f\"Image Path: {sample[0]}, Actual Label: {categories[sample[1]]}, Predicted Label: {categories[sample[2]]}\")\n",
        "\n",
        "\n"
      ]
    }
  ],
  "metadata": {
    "accelerator": "GPU",
    "colab": {
      "gpuType": "T4",
      "provenance": []
    },
    "kernelspec": {
      "display_name": "Python 3",
      "name": "python3"
    },
    "language_info": {
      "codemirror_mode": {
        "name": "ipython",
        "version": 3
      },
      "file_extension": ".py",
      "mimetype": "text/x-python",
      "name": "python",
      "nbconvert_exporter": "python",
      "pygments_lexer": "ipython3",
      "version": "3.11.5"
    },
    "widgets": {
      "application/vnd.jupyter.widget-state+json": {
        "00f3ac33cd8e4a0a83858b7490f589be": {
          "model_module": "@jupyter-widgets/controls",
          "model_module_version": "1.5.0",
          "model_name": "DescriptionStyleModel",
          "state": {
            "_model_module": "@jupyter-widgets/controls",
            "_model_module_version": "1.5.0",
            "_model_name": "DescriptionStyleModel",
            "_view_count": null,
            "_view_module": "@jupyter-widgets/base",
            "_view_module_version": "1.2.0",
            "_view_name": "StyleView",
            "description_width": ""
          }
        },
        "190334a37b274113a0b07a887802e384": {
          "model_module": "@jupyter-widgets/controls",
          "model_module_version": "1.5.0",
          "model_name": "HTMLModel",
          "state": {
            "_dom_classes": [],
            "_model_module": "@jupyter-widgets/controls",
            "_model_module_version": "1.5.0",
            "_model_name": "HTMLModel",
            "_view_count": null,
            "_view_module": "@jupyter-widgets/controls",
            "_view_module_version": "1.5.0",
            "_view_name": "HTMLView",
            "description": "",
            "description_tooltip": null,
            "layout": "IPY_MODEL_3d0cac4030d742408951b052708c3b07",
            "placeholder": "​",
            "style": "IPY_MODEL_92ec4dc987e644258a97b439f959bbc5",
            "value": " 21.4M/21.4M [00:00&lt;00:00, 153MB/s]"
          }
        },
        "3d0cac4030d742408951b052708c3b07": {
          "model_module": "@jupyter-widgets/base",
          "model_module_version": "1.2.0",
          "model_name": "LayoutModel",
          "state": {
            "_model_module": "@jupyter-widgets/base",
            "_model_module_version": "1.2.0",
            "_model_name": "LayoutModel",
            "_view_count": null,
            "_view_module": "@jupyter-widgets/base",
            "_view_module_version": "1.2.0",
            "_view_name": "LayoutView",
            "align_content": null,
            "align_items": null,
            "align_self": null,
            "border": null,
            "bottom": null,
            "display": null,
            "flex": null,
            "flex_flow": null,
            "grid_area": null,
            "grid_auto_columns": null,
            "grid_auto_flow": null,
            "grid_auto_rows": null,
            "grid_column": null,
            "grid_gap": null,
            "grid_row": null,
            "grid_template_areas": null,
            "grid_template_columns": null,
            "grid_template_rows": null,
            "height": null,
            "justify_content": null,
            "justify_items": null,
            "left": null,
            "margin": null,
            "max_height": null,
            "max_width": null,
            "min_height": null,
            "min_width": null,
            "object_fit": null,
            "object_position": null,
            "order": null,
            "overflow": null,
            "overflow_x": null,
            "overflow_y": null,
            "padding": null,
            "right": null,
            "top": null,
            "visibility": null,
            "width": null
          }
        },
        "544f30eb00ff47bd91c426717d4918eb": {
          "model_module": "@jupyter-widgets/controls",
          "model_module_version": "1.5.0",
          "model_name": "ProgressStyleModel",
          "state": {
            "_model_module": "@jupyter-widgets/controls",
            "_model_module_version": "1.5.0",
            "_model_name": "ProgressStyleModel",
            "_view_count": null,
            "_view_module": "@jupyter-widgets/base",
            "_view_module_version": "1.2.0",
            "_view_name": "StyleView",
            "bar_color": null,
            "description_width": ""
          }
        },
        "57e04f175d954e1b8921da02e761c12d": {
          "model_module": "@jupyter-widgets/controls",
          "model_module_version": "1.5.0",
          "model_name": "HTMLModel",
          "state": {
            "_dom_classes": [],
            "_model_module": "@jupyter-widgets/controls",
            "_model_module_version": "1.5.0",
            "_model_name": "HTMLModel",
            "_view_count": null,
            "_view_module": "@jupyter-widgets/controls",
            "_view_module_version": "1.5.0",
            "_view_name": "HTMLView",
            "description": "",
            "description_tooltip": null,
            "layout": "IPY_MODEL_f66fa27ba3c345e48eb50c195ae83da5",
            "placeholder": "​",
            "style": "IPY_MODEL_00f3ac33cd8e4a0a83858b7490f589be",
            "value": "model.safetensors: 100%"
          }
        },
        "6152d6cc45334ad1826079d12bbcc36a": {
          "model_module": "@jupyter-widgets/base",
          "model_module_version": "1.2.0",
          "model_name": "LayoutModel",
          "state": {
            "_model_module": "@jupyter-widgets/base",
            "_model_module_version": "1.2.0",
            "_model_name": "LayoutModel",
            "_view_count": null,
            "_view_module": "@jupyter-widgets/base",
            "_view_module_version": "1.2.0",
            "_view_name": "LayoutView",
            "align_content": null,
            "align_items": null,
            "align_self": null,
            "border": null,
            "bottom": null,
            "display": null,
            "flex": null,
            "flex_flow": null,
            "grid_area": null,
            "grid_auto_columns": null,
            "grid_auto_flow": null,
            "grid_auto_rows": null,
            "grid_column": null,
            "grid_gap": null,
            "grid_row": null,
            "grid_template_areas": null,
            "grid_template_columns": null,
            "grid_template_rows": null,
            "height": null,
            "justify_content": null,
            "justify_items": null,
            "left": null,
            "margin": null,
            "max_height": null,
            "max_width": null,
            "min_height": null,
            "min_width": null,
            "object_fit": null,
            "object_position": null,
            "order": null,
            "overflow": null,
            "overflow_x": null,
            "overflow_y": null,
            "padding": null,
            "right": null,
            "top": null,
            "visibility": null,
            "width": null
          }
        },
        "92ec4dc987e644258a97b439f959bbc5": {
          "model_module": "@jupyter-widgets/controls",
          "model_module_version": "1.5.0",
          "model_name": "DescriptionStyleModel",
          "state": {
            "_model_module": "@jupyter-widgets/controls",
            "_model_module_version": "1.5.0",
            "_model_name": "DescriptionStyleModel",
            "_view_count": null,
            "_view_module": "@jupyter-widgets/base",
            "_view_module_version": "1.2.0",
            "_view_name": "StyleView",
            "description_width": ""
          }
        },
        "b82eddafd0d445d3a84a9111981a2f88": {
          "model_module": "@jupyter-widgets/base",
          "model_module_version": "1.2.0",
          "model_name": "LayoutModel",
          "state": {
            "_model_module": "@jupyter-widgets/base",
            "_model_module_version": "1.2.0",
            "_model_name": "LayoutModel",
            "_view_count": null,
            "_view_module": "@jupyter-widgets/base",
            "_view_module_version": "1.2.0",
            "_view_name": "LayoutView",
            "align_content": null,
            "align_items": null,
            "align_self": null,
            "border": null,
            "bottom": null,
            "display": null,
            "flex": null,
            "flex_flow": null,
            "grid_area": null,
            "grid_auto_columns": null,
            "grid_auto_flow": null,
            "grid_auto_rows": null,
            "grid_column": null,
            "grid_gap": null,
            "grid_row": null,
            "grid_template_areas": null,
            "grid_template_columns": null,
            "grid_template_rows": null,
            "height": null,
            "justify_content": null,
            "justify_items": null,
            "left": null,
            "margin": null,
            "max_height": null,
            "max_width": null,
            "min_height": null,
            "min_width": null,
            "object_fit": null,
            "object_position": null,
            "order": null,
            "overflow": null,
            "overflow_x": null,
            "overflow_y": null,
            "padding": null,
            "right": null,
            "top": null,
            "visibility": null,
            "width": null
          }
        },
        "c8d46863abd44982b84119d273174690": {
          "model_module": "@jupyter-widgets/controls",
          "model_module_version": "1.5.0",
          "model_name": "FloatProgressModel",
          "state": {
            "_dom_classes": [],
            "_model_module": "@jupyter-widgets/controls",
            "_model_module_version": "1.5.0",
            "_model_name": "FloatProgressModel",
            "_view_count": null,
            "_view_module": "@jupyter-widgets/controls",
            "_view_module_version": "1.5.0",
            "_view_name": "ProgressView",
            "bar_style": "success",
            "description": "",
            "description_tooltip": null,
            "layout": "IPY_MODEL_b82eddafd0d445d3a84a9111981a2f88",
            "max": 21355344,
            "min": 0,
            "orientation": "horizontal",
            "style": "IPY_MODEL_544f30eb00ff47bd91c426717d4918eb",
            "value": 21355344
          }
        },
        "f2df0b8c03454bc3b398f3b717fd19b8": {
          "model_module": "@jupyter-widgets/controls",
          "model_module_version": "1.5.0",
          "model_name": "HBoxModel",
          "state": {
            "_dom_classes": [],
            "_model_module": "@jupyter-widgets/controls",
            "_model_module_version": "1.5.0",
            "_model_name": "HBoxModel",
            "_view_count": null,
            "_view_module": "@jupyter-widgets/controls",
            "_view_module_version": "1.5.0",
            "_view_name": "HBoxView",
            "box_style": "",
            "children": [
              "IPY_MODEL_57e04f175d954e1b8921da02e761c12d",
              "IPY_MODEL_c8d46863abd44982b84119d273174690",
              "IPY_MODEL_190334a37b274113a0b07a887802e384"
            ],
            "layout": "IPY_MODEL_6152d6cc45334ad1826079d12bbcc36a"
          }
        },
        "f66fa27ba3c345e48eb50c195ae83da5": {
          "model_module": "@jupyter-widgets/base",
          "model_module_version": "1.2.0",
          "model_name": "LayoutModel",
          "state": {
            "_model_module": "@jupyter-widgets/base",
            "_model_module_version": "1.2.0",
            "_model_name": "LayoutModel",
            "_view_count": null,
            "_view_module": "@jupyter-widgets/base",
            "_view_module_version": "1.2.0",
            "_view_name": "LayoutView",
            "align_content": null,
            "align_items": null,
            "align_self": null,
            "border": null,
            "bottom": null,
            "display": null,
            "flex": null,
            "flex_flow": null,
            "grid_area": null,
            "grid_auto_columns": null,
            "grid_auto_flow": null,
            "grid_auto_rows": null,
            "grid_column": null,
            "grid_gap": null,
            "grid_row": null,
            "grid_template_areas": null,
            "grid_template_columns": null,
            "grid_template_rows": null,
            "height": null,
            "justify_content": null,
            "justify_items": null,
            "left": null,
            "margin": null,
            "max_height": null,
            "max_width": null,
            "min_height": null,
            "min_width": null,
            "object_fit": null,
            "object_position": null,
            "order": null,
            "overflow": null,
            "overflow_x": null,
            "overflow_y": null,
            "padding": null,
            "right": null,
            "top": null,
            "visibility": null,
            "width": null
          }
        }
      }
    }
  },
  "nbformat": 4,
  "nbformat_minor": 0
}
