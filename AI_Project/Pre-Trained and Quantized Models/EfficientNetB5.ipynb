{
  "cells": [
    {
      "cell_type": "code",
      "execution_count": 20,
      "metadata": {
        "colab": {
          "base_uri": "https://localhost:8080/"
        },
        "id": "9uaq5FM4XUzm",
        "outputId": "735d64f9-869f-4492-8556-bef5543c58eb"
      },
      "outputs": [],
      "source": [
        "# Standard Libraries\n",
        "import copy\n",
        "import itertools\n",
        "import os\n",
        "import time\n",
        "from tempfile import TemporaryDirectory\n",
        "\n",
        "# 3rd Party Libraries\n",
        "import matplotlib.pyplot as plt\n",
        "import numpy as np\n",
        "import pandas as pd\n",
        "import timm\n",
        "import torch\n",
        "import torchvision\n",
        "from PIL import Image\n",
        "from sklearn.model_selection import train_test_split\n",
        "from torch import nn, optim\n",
        "from torch.optim import lr_scheduler\n",
        "from torch.utils.data import DataLoader, Dataset, Subset\n",
        "from torchvision import datasets, models, transforms\n",
        "from torchvision.io import read_image\n",
        "from tqdm import tqdm"
      ]
    },
    {
      "cell_type": "code",
      "execution_count": 21,
      "metadata": {
        "colab": {
          "base_uri": "https://localhost:8080/"
        },
        "id": "eMf5iAzz_59T",
        "outputId": "76483837-aa13-48cf-a0a7-5ceecac801fa"
      },
      "outputs": [],
      "source": [
        "# FOR USE ON GOOGLE COLAB\n",
        "\n",
        "# from google.colab import drive\n",
        "# drive.mount('/content/drive') # Mounts it to YOUR drive. Nishanth and Chad, you will have to add a shortcut to dataset-resized.\n",
        "# # # Dataset-realized is in the folder that was shared.\n",
        "\n",
        "# # # Path to the dataset folder\n",
        "# folder_path = '/content/drive/My Drive/dataset-resized' # All images are 512 x 384\n",
        "# # #folder_path = '/content/drive/My Drive/24-782: ML and AI for Engineers - Project/4- Code/dataset-resized'  #Chad path\n",
        "\n",
        "# # #folder path for Nishanth\n",
        "# # folder_path = '/content/drive/My Drive/Courses/24-782: ML and AI for Engineers - Project/Code/dataset-resized'\n",
        "\n",
        "folder_path = '../../data/dataset-resized' # My local path\n",
        "os.environ['HF_HUB_DISABLE_SYMLINKS_WARNING'] = '1' # for timm"
      ]
    },
    {
      "cell_type": "markdown",
      "metadata": {
        "id": "gVgczbe4Ht-x"
      },
      "source": [
        "This is used to prepare the data for labeling."
      ]
    },
    {
      "cell_type": "code",
      "execution_count": 22,
      "metadata": {
        "id": "BRM9nj55Hnfn"
      },
      "outputs": [],
      "source": [
        "def prepare_data(data_dir):\n",
        "    \"\"\"\n",
        "    Prepares the dataset for training/testing by organizing image paths and labels.\n",
        "\n",
        "    Parameters:\n",
        "    - data_dir (str): Directory containing the dataset, organized into subdirectories\n",
        "      for each category.\n",
        "\n",
        "    Returns:\n",
        "    - tuple: Two lists containing the image file paths and corresponding labels.\n",
        "    \"\"\"\n",
        "\n",
        "    # Define the categories of the dataset\n",
        "    categories = ['Trash', 'Plastic', 'Paper', 'Metal', 'Glass', 'Cardboard']\n",
        "\n",
        "    # Lists to hold the paths of the images and their labels\n",
        "    image_paths = []\n",
        "    labels = []  # Numerical labels: 0 for Trash, 1 for Plastic, etc.\n",
        "\n",
        "    # Enumerate over categories to label the images accordingly\n",
        "    for label, category in enumerate(categories):\n",
        "            try:\n",
        "                # Construct the directory path for the current category\n",
        "                category_dir = os.path.join(data_dir, category)\n",
        "\n",
        "                # Iterate through each file in the category directory\n",
        "                for file in os.listdir(category_dir):\n",
        "                    # Check if the file is an image\n",
        "                    if file.endswith('.jpg') or file.endswith('.png'):\n",
        "                        image_paths.append(os.path.join(category_dir, file))\n",
        "                        labels.append(label)  # Assign the label to this image\n",
        "            except Exception as e:\n",
        "                print(f\"Failed to process category {category} due to error: {e}\")\n",
        "                continue\n",
        "    return image_paths, labels"
      ]
    },
    {
      "cell_type": "code",
      "execution_count": 23,
      "metadata": {
        "id": "b9jXmbMIIttY"
      },
      "outputs": [],
      "source": [
        "image_paths, labels = prepare_data(folder_path)"
      ]
    },
    {
      "cell_type": "code",
      "execution_count": 24,
      "metadata": {
        "id": "-XBMP9DrH-ey"
      },
      "outputs": [],
      "source": [
        "class CustomDataset(Dataset):\n",
        "    \"\"\"\n",
        "    A custom dataset class that extends PyTorch's Dataset class for image loading and preprocessing.\n",
        "\n",
        "    Attributes:\n",
        "    - image_paths (list): List of paths to the images.\n",
        "    - labels (list): List of labels corresponding to the images.\n",
        "    - transform (callable, optional): Optional transform to be applied on a sample.\n",
        "    \"\"\"\n",
        "\n",
        "    def __init__(self, image_paths, labels, transform=None):\n",
        "        \"\"\"\n",
        "        Initializes the dataset with images and labels.\n",
        "\n",
        "        Parameters:\n",
        "        - image_paths (list): List of paths to the images.\n",
        "        - labels (list): List of labels for the images.\n",
        "        - transform (callable, optional): Optional transform to apply on images.\n",
        "        \"\"\"\n",
        "\n",
        "        self.image_paths = image_paths\n",
        "        self.labels = labels\n",
        "        self.transform = transform\n",
        "\n",
        "    def __len__(self):\n",
        "        \"\"\"\n",
        "        Returns the total number of samples in the dataset.\n",
        "        \"\"\"\n",
        "\n",
        "        return len(self.image_paths)\n",
        "\n",
        "    def __getitem__(self, index):\n",
        "        \"\"\"\n",
        "        Retrieves an image and its label from the dataset at the specified index.\n",
        "\n",
        "        Parameters:\n",
        "        - index (int): Index of the image and label to return.\n",
        "\n",
        "        Returns:\n",
        "        - tuple: A tuple containing the image and its label.\n",
        "        \"\"\"\n",
        "\n",
        "        image_path = self.image_paths[index]\n",
        "        # Load the image as a PIL Image\n",
        "        image = Image.open(image_path).convert(\"RGB\")\n",
        "\n",
        "        if self.transform:\n",
        "            image = self.transform(image)\n",
        "\n",
        "        label = torch.tensor(self.labels[index], dtype=torch.long)\n",
        "        return image, label"
      ]
    },
    {
      "cell_type": "code",
      "execution_count": 25,
      "metadata": {
        "id": "i4YV0LyMKQ26"
      },
      "outputs": [],
      "source": [
        "# Function for displaying an image, currently not used in the main workflow\n",
        "def imshow(inp, title=None):\n",
        "    \"\"\"\n",
        "    Displays an image with an optional title.\n",
        "\n",
        "    Parameters:\n",
        "    - inp (Tensor): The image tensor to display.\n",
        "    - title (str, optional): Optional title to display above the image.\n",
        "    \"\"\"\n",
        "\n",
        "    inp = inp.numpy().transpose((1, 2, 0))\n",
        "    plt.imshow(inp)\n",
        "    if title is not None:\n",
        "        plt.title(title)\n",
        "    plt.pause(0.001)  # Pause to update the plot"
      ]
    },
    {
      "cell_type": "code",
      "execution_count": 26,
      "metadata": {
        "id": "tpuPFL1Hteav"
      },
      "outputs": [],
      "source": [
        "# Split the data into training and test sets\n",
        "train_paths, test_paths, train_labels, test_labels = train_test_split(\n",
        "    image_paths, labels, test_size=0.15, random_state=0)\n",
        "\n",
        "# Split the data into training, validation, and test sets\n",
        "train_paths, val_paths, train_labels, val_labels = train_test_split(\n",
        "    train_paths, train_labels, test_size=0.175, random_state=0)  # 0.175 x 0.85 ~= 0.15\n",
        "\n",
        "# So, the data is split into 70% training, 15% validation, and 15% testing"
      ]
    },
    {
      "cell_type": "code",
      "execution_count": 27,
      "metadata": {
        "id": "X4OBiymiKlZZ"
      },
      "outputs": [],
      "source": [
        "# Normalization parameters found to be optimal for CIFAR dataset; may need adjustment for other datasets\n",
        "normalization = ((0.485, 0.456, 0.406), (0.229, 0.224, 0.225))\n",
        "\n",
        "# Define the training data transformations\n",
        "training_transform = transforms.Compose([\n",
        "    transforms.Resize(256, antialias=True),  # Resize images to 256x256, with antialiasing\n",
        "    transforms.RandomCrop(224),  # Crop randomly to 224x224 for data augmentation\n",
        "    transforms.RandomRotation(20),  # Rotate images up to 20 degrees for data augmentation\n",
        "    transforms.RandomHorizontalFlip(0.1),  # Horizontally flip images with a probability of 0.1 for data augmentation\n",
        "    transforms.ColorJitter(brightness=0.1, contrast=0.1, saturation=0.1),  # Randomly adjust color settings\n",
        "    transforms.RandomAdjustSharpness(sharpness_factor=2, p=0.1),  # Randomly adjust sharpness for data augmentation\n",
        "    transforms.ToTensor(),  # Convert images to tensors\n",
        "    transforms.Normalize(*normalization),  # Normalize images using the specified mean and std dev\n",
        "])\n",
        "\n",
        "# Define the validation and test data transformations (simpler than training transformations)\n",
        "transform = transforms.Compose([\n",
        "    transforms.Resize(256, antialias=True),  # Resize images to 256x256, with antialiasing\n",
        "    transforms.CenterCrop(224),  # Center crop images to 224x224\n",
        "    transforms.ToTensor(),  # Convert images to tensors\n",
        "    transforms.Normalize(*normalization),  # Normalize images using the specified mean and std dev\n",
        "])\n"
      ]
    },
    {
      "cell_type": "code",
      "execution_count": 28,
      "metadata": {
        "colab": {
          "base_uri": "https://localhost:8080/"
        },
        "id": "rvPgHZX3J-jx",
        "outputId": "eabe0c77-ca5f-4c62-bf21-d9ec460404a0"
      },
      "outputs": [
        {
          "name": "stdout",
          "output_type": "stream",
          "text": [
            "EfficientNet(\n",
            "  (conv_stem): Conv2d(3, 48, kernel_size=(3, 3), stride=(2, 2), padding=(1, 1), bias=False)\n",
            "  (bn1): BatchNormAct2d(\n",
            "    48, eps=1e-05, momentum=0.1, affine=True, track_running_stats=True\n",
            "    (drop): Identity()\n",
            "    (act): SiLU(inplace=True)\n",
            "  )\n",
            "  (blocks): Sequential(\n",
            "    (0): Sequential(\n",
            "      (0): DepthwiseSeparableConv(\n",
            "        (conv_dw): Conv2d(48, 48, kernel_size=(3, 3), stride=(1, 1), padding=(1, 1), groups=48, bias=False)\n",
            "        (bn1): BatchNormAct2d(\n",
            "          48, eps=1e-05, momentum=0.1, affine=True, track_running_stats=True\n",
            "          (drop): Identity()\n",
            "          (act): SiLU(inplace=True)\n",
            "        )\n",
            "        (se): SqueezeExcite(\n",
            "          (conv_reduce): Conv2d(48, 12, kernel_size=(1, 1), stride=(1, 1))\n",
            "          (act1): SiLU(inplace=True)\n",
            "          (conv_expand): Conv2d(12, 48, kernel_size=(1, 1), stride=(1, 1))\n",
            "          (gate): Sigmoid()\n",
            "        )\n",
            "        (conv_pw): Conv2d(48, 24, kernel_size=(1, 1), stride=(1, 1), bias=False)\n",
            "        (bn2): BatchNormAct2d(\n",
            "          24, eps=1e-05, momentum=0.1, affine=True, track_running_stats=True\n",
            "          (drop): Identity()\n",
            "          (act): Identity()\n",
            "        )\n",
            "        (drop_path): Identity()\n",
            "      )\n",
            "      (1): DepthwiseSeparableConv(\n",
            "        (conv_dw): Conv2d(24, 24, kernel_size=(3, 3), stride=(1, 1), padding=(1, 1), groups=24, bias=False)\n",
            "        (bn1): BatchNormAct2d(\n",
            "          24, eps=1e-05, momentum=0.1, affine=True, track_running_stats=True\n",
            "          (drop): Identity()\n",
            "          (act): SiLU(inplace=True)\n",
            "        )\n",
            "        (se): SqueezeExcite(\n",
            "          (conv_reduce): Conv2d(24, 6, kernel_size=(1, 1), stride=(1, 1))\n",
            "          (act1): SiLU(inplace=True)\n",
            "          (conv_expand): Conv2d(6, 24, kernel_size=(1, 1), stride=(1, 1))\n",
            "          (gate): Sigmoid()\n",
            "        )\n",
            "        (conv_pw): Conv2d(24, 24, kernel_size=(1, 1), stride=(1, 1), bias=False)\n",
            "        (bn2): BatchNormAct2d(\n",
            "          24, eps=1e-05, momentum=0.1, affine=True, track_running_stats=True\n",
            "          (drop): Identity()\n",
            "          (act): Identity()\n",
            "        )\n",
            "        (drop_path): Identity()\n",
            "      )\n",
            "      (2): DepthwiseSeparableConv(\n",
            "        (conv_dw): Conv2d(24, 24, kernel_size=(3, 3), stride=(1, 1), padding=(1, 1), groups=24, bias=False)\n",
            "        (bn1): BatchNormAct2d(\n",
            "          24, eps=1e-05, momentum=0.1, affine=True, track_running_stats=True\n",
            "          (drop): Identity()\n",
            "          (act): SiLU(inplace=True)\n",
            "        )\n",
            "        (se): SqueezeExcite(\n",
            "          (conv_reduce): Conv2d(24, 6, kernel_size=(1, 1), stride=(1, 1))\n",
            "          (act1): SiLU(inplace=True)\n",
            "          (conv_expand): Conv2d(6, 24, kernel_size=(1, 1), stride=(1, 1))\n",
            "          (gate): Sigmoid()\n",
            "        )\n",
            "        (conv_pw): Conv2d(24, 24, kernel_size=(1, 1), stride=(1, 1), bias=False)\n",
            "        (bn2): BatchNormAct2d(\n",
            "          24, eps=1e-05, momentum=0.1, affine=True, track_running_stats=True\n",
            "          (drop): Identity()\n",
            "          (act): Identity()\n",
            "        )\n",
            "        (drop_path): Identity()\n",
            "      )\n",
            "    )\n",
            "    (1): Sequential(\n",
            "      (0): InvertedResidual(\n",
            "        (conv_pw): Conv2d(24, 144, kernel_size=(1, 1), stride=(1, 1), bias=False)\n",
            "        (bn1): BatchNormAct2d(\n",
            "          144, eps=1e-05, momentum=0.1, affine=True, track_running_stats=True\n",
            "          (drop): Identity()\n",
            "          (act): SiLU(inplace=True)\n",
            "        )\n",
            "        (conv_dw): Conv2d(144, 144, kernel_size=(3, 3), stride=(2, 2), padding=(1, 1), groups=144, bias=False)\n",
            "        (bn2): BatchNormAct2d(\n",
            "          144, eps=1e-05, momentum=0.1, affine=True, track_running_stats=True\n",
            "          (drop): Identity()\n",
            "          (act): SiLU(inplace=True)\n",
            "        )\n",
            "        (se): SqueezeExcite(\n",
            "          (conv_reduce): Conv2d(144, 6, kernel_size=(1, 1), stride=(1, 1))\n",
            "          (act1): SiLU(inplace=True)\n",
            "          (conv_expand): Conv2d(6, 144, kernel_size=(1, 1), stride=(1, 1))\n",
            "          (gate): Sigmoid()\n",
            "        )\n",
            "        (conv_pwl): Conv2d(144, 40, kernel_size=(1, 1), stride=(1, 1), bias=False)\n",
            "        (bn3): BatchNormAct2d(\n",
            "          40, eps=1e-05, momentum=0.1, affine=True, track_running_stats=True\n",
            "          (drop): Identity()\n",
            "          (act): Identity()\n",
            "        )\n",
            "        (drop_path): Identity()\n",
            "      )\n",
            "      (1): InvertedResidual(\n",
            "        (conv_pw): Conv2d(40, 240, kernel_size=(1, 1), stride=(1, 1), bias=False)\n",
            "        (bn1): BatchNormAct2d(\n",
            "          240, eps=1e-05, momentum=0.1, affine=True, track_running_stats=True\n",
            "          (drop): Identity()\n",
            "          (act): SiLU(inplace=True)\n",
            "        )\n",
            "        (conv_dw): Conv2d(240, 240, kernel_size=(3, 3), stride=(1, 1), padding=(1, 1), groups=240, bias=False)\n",
            "        (bn2): BatchNormAct2d(\n",
            "          240, eps=1e-05, momentum=0.1, affine=True, track_running_stats=True\n",
            "          (drop): Identity()\n",
            "          (act): SiLU(inplace=True)\n",
            "        )\n",
            "        (se): SqueezeExcite(\n",
            "          (conv_reduce): Conv2d(240, 10, kernel_size=(1, 1), stride=(1, 1))\n",
            "          (act1): SiLU(inplace=True)\n",
            "          (conv_expand): Conv2d(10, 240, kernel_size=(1, 1), stride=(1, 1))\n",
            "          (gate): Sigmoid()\n",
            "        )\n",
            "        (conv_pwl): Conv2d(240, 40, kernel_size=(1, 1), stride=(1, 1), bias=False)\n",
            "        (bn3): BatchNormAct2d(\n",
            "          40, eps=1e-05, momentum=0.1, affine=True, track_running_stats=True\n",
            "          (drop): Identity()\n",
            "          (act): Identity()\n",
            "        )\n",
            "        (drop_path): Identity()\n",
            "      )\n",
            "      (2): InvertedResidual(\n",
            "        (conv_pw): Conv2d(40, 240, kernel_size=(1, 1), stride=(1, 1), bias=False)\n",
            "        (bn1): BatchNormAct2d(\n",
            "          240, eps=1e-05, momentum=0.1, affine=True, track_running_stats=True\n",
            "          (drop): Identity()\n",
            "          (act): SiLU(inplace=True)\n",
            "        )\n",
            "        (conv_dw): Conv2d(240, 240, kernel_size=(3, 3), stride=(1, 1), padding=(1, 1), groups=240, bias=False)\n",
            "        (bn2): BatchNormAct2d(\n",
            "          240, eps=1e-05, momentum=0.1, affine=True, track_running_stats=True\n",
            "          (drop): Identity()\n",
            "          (act): SiLU(inplace=True)\n",
            "        )\n",
            "        (se): SqueezeExcite(\n",
            "          (conv_reduce): Conv2d(240, 10, kernel_size=(1, 1), stride=(1, 1))\n",
            "          (act1): SiLU(inplace=True)\n",
            "          (conv_expand): Conv2d(10, 240, kernel_size=(1, 1), stride=(1, 1))\n",
            "          (gate): Sigmoid()\n",
            "        )\n",
            "        (conv_pwl): Conv2d(240, 40, kernel_size=(1, 1), stride=(1, 1), bias=False)\n",
            "        (bn3): BatchNormAct2d(\n",
            "          40, eps=1e-05, momentum=0.1, affine=True, track_running_stats=True\n",
            "          (drop): Identity()\n",
            "          (act): Identity()\n",
            "        )\n",
            "        (drop_path): Identity()\n",
            "      )\n",
            "      (3): InvertedResidual(\n",
            "        (conv_pw): Conv2d(40, 240, kernel_size=(1, 1), stride=(1, 1), bias=False)\n",
            "        (bn1): BatchNormAct2d(\n",
            "          240, eps=1e-05, momentum=0.1, affine=True, track_running_stats=True\n",
            "          (drop): Identity()\n",
            "          (act): SiLU(inplace=True)\n",
            "        )\n",
            "        (conv_dw): Conv2d(240, 240, kernel_size=(3, 3), stride=(1, 1), padding=(1, 1), groups=240, bias=False)\n",
            "        (bn2): BatchNormAct2d(\n",
            "          240, eps=1e-05, momentum=0.1, affine=True, track_running_stats=True\n",
            "          (drop): Identity()\n",
            "          (act): SiLU(inplace=True)\n",
            "        )\n",
            "        (se): SqueezeExcite(\n",
            "          (conv_reduce): Conv2d(240, 10, kernel_size=(1, 1), stride=(1, 1))\n",
            "          (act1): SiLU(inplace=True)\n",
            "          (conv_expand): Conv2d(10, 240, kernel_size=(1, 1), stride=(1, 1))\n",
            "          (gate): Sigmoid()\n",
            "        )\n",
            "        (conv_pwl): Conv2d(240, 40, kernel_size=(1, 1), stride=(1, 1), bias=False)\n",
            "        (bn3): BatchNormAct2d(\n",
            "          40, eps=1e-05, momentum=0.1, affine=True, track_running_stats=True\n",
            "          (drop): Identity()\n",
            "          (act): Identity()\n",
            "        )\n",
            "        (drop_path): Identity()\n",
            "      )\n",
            "      (4): InvertedResidual(\n",
            "        (conv_pw): Conv2d(40, 240, kernel_size=(1, 1), stride=(1, 1), bias=False)\n",
            "        (bn1): BatchNormAct2d(\n",
            "          240, eps=1e-05, momentum=0.1, affine=True, track_running_stats=True\n",
            "          (drop): Identity()\n",
            "          (act): SiLU(inplace=True)\n",
            "        )\n",
            "        (conv_dw): Conv2d(240, 240, kernel_size=(3, 3), stride=(1, 1), padding=(1, 1), groups=240, bias=False)\n",
            "        (bn2): BatchNormAct2d(\n",
            "          240, eps=1e-05, momentum=0.1, affine=True, track_running_stats=True\n",
            "          (drop): Identity()\n",
            "          (act): SiLU(inplace=True)\n",
            "        )\n",
            "        (se): SqueezeExcite(\n",
            "          (conv_reduce): Conv2d(240, 10, kernel_size=(1, 1), stride=(1, 1))\n",
            "          (act1): SiLU(inplace=True)\n",
            "          (conv_expand): Conv2d(10, 240, kernel_size=(1, 1), stride=(1, 1))\n",
            "          (gate): Sigmoid()\n",
            "        )\n",
            "        (conv_pwl): Conv2d(240, 40, kernel_size=(1, 1), stride=(1, 1), bias=False)\n",
            "        (bn3): BatchNormAct2d(\n",
            "          40, eps=1e-05, momentum=0.1, affine=True, track_running_stats=True\n",
            "          (drop): Identity()\n",
            "          (act): Identity()\n",
            "        )\n",
            "        (drop_path): Identity()\n",
            "      )\n",
            "    )\n",
            "    (2): Sequential(\n",
            "      (0): InvertedResidual(\n",
            "        (conv_pw): Conv2d(40, 240, kernel_size=(1, 1), stride=(1, 1), bias=False)\n",
            "        (bn1): BatchNormAct2d(\n",
            "          240, eps=1e-05, momentum=0.1, affine=True, track_running_stats=True\n",
            "          (drop): Identity()\n",
            "          (act): SiLU(inplace=True)\n",
            "        )\n",
            "        (conv_dw): Conv2d(240, 240, kernel_size=(5, 5), stride=(2, 2), padding=(2, 2), groups=240, bias=False)\n",
            "        (bn2): BatchNormAct2d(\n",
            "          240, eps=1e-05, momentum=0.1, affine=True, track_running_stats=True\n",
            "          (drop): Identity()\n",
            "          (act): SiLU(inplace=True)\n",
            "        )\n",
            "        (se): SqueezeExcite(\n",
            "          (conv_reduce): Conv2d(240, 10, kernel_size=(1, 1), stride=(1, 1))\n",
            "          (act1): SiLU(inplace=True)\n",
            "          (conv_expand): Conv2d(10, 240, kernel_size=(1, 1), stride=(1, 1))\n",
            "          (gate): Sigmoid()\n",
            "        )\n",
            "        (conv_pwl): Conv2d(240, 64, kernel_size=(1, 1), stride=(1, 1), bias=False)\n",
            "        (bn3): BatchNormAct2d(\n",
            "          64, eps=1e-05, momentum=0.1, affine=True, track_running_stats=True\n",
            "          (drop): Identity()\n",
            "          (act): Identity()\n",
            "        )\n",
            "        (drop_path): Identity()\n",
            "      )\n",
            "      (1): InvertedResidual(\n",
            "        (conv_pw): Conv2d(64, 384, kernel_size=(1, 1), stride=(1, 1), bias=False)\n",
            "        (bn1): BatchNormAct2d(\n",
            "          384, eps=1e-05, momentum=0.1, affine=True, track_running_stats=True\n",
            "          (drop): Identity()\n",
            "          (act): SiLU(inplace=True)\n",
            "        )\n",
            "        (conv_dw): Conv2d(384, 384, kernel_size=(5, 5), stride=(1, 1), padding=(2, 2), groups=384, bias=False)\n",
            "        (bn2): BatchNormAct2d(\n",
            "          384, eps=1e-05, momentum=0.1, affine=True, track_running_stats=True\n",
            "          (drop): Identity()\n",
            "          (act): SiLU(inplace=True)\n",
            "        )\n",
            "        (se): SqueezeExcite(\n",
            "          (conv_reduce): Conv2d(384, 16, kernel_size=(1, 1), stride=(1, 1))\n",
            "          (act1): SiLU(inplace=True)\n",
            "          (conv_expand): Conv2d(16, 384, kernel_size=(1, 1), stride=(1, 1))\n",
            "          (gate): Sigmoid()\n",
            "        )\n",
            "        (conv_pwl): Conv2d(384, 64, kernel_size=(1, 1), stride=(1, 1), bias=False)\n",
            "        (bn3): BatchNormAct2d(\n",
            "          64, eps=1e-05, momentum=0.1, affine=True, track_running_stats=True\n",
            "          (drop): Identity()\n",
            "          (act): Identity()\n",
            "        )\n",
            "        (drop_path): Identity()\n",
            "      )\n",
            "      (2): InvertedResidual(\n",
            "        (conv_pw): Conv2d(64, 384, kernel_size=(1, 1), stride=(1, 1), bias=False)\n",
            "        (bn1): BatchNormAct2d(\n",
            "          384, eps=1e-05, momentum=0.1, affine=True, track_running_stats=True\n",
            "          (drop): Identity()\n",
            "          (act): SiLU(inplace=True)\n",
            "        )\n",
            "        (conv_dw): Conv2d(384, 384, kernel_size=(5, 5), stride=(1, 1), padding=(2, 2), groups=384, bias=False)\n",
            "        (bn2): BatchNormAct2d(\n",
            "          384, eps=1e-05, momentum=0.1, affine=True, track_running_stats=True\n",
            "          (drop): Identity()\n",
            "          (act): SiLU(inplace=True)\n",
            "        )\n",
            "        (se): SqueezeExcite(\n",
            "          (conv_reduce): Conv2d(384, 16, kernel_size=(1, 1), stride=(1, 1))\n",
            "          (act1): SiLU(inplace=True)\n",
            "          (conv_expand): Conv2d(16, 384, kernel_size=(1, 1), stride=(1, 1))\n",
            "          (gate): Sigmoid()\n",
            "        )\n",
            "        (conv_pwl): Conv2d(384, 64, kernel_size=(1, 1), stride=(1, 1), bias=False)\n",
            "        (bn3): BatchNormAct2d(\n",
            "          64, eps=1e-05, momentum=0.1, affine=True, track_running_stats=True\n",
            "          (drop): Identity()\n",
            "          (act): Identity()\n",
            "        )\n",
            "        (drop_path): Identity()\n",
            "      )\n",
            "      (3): InvertedResidual(\n",
            "        (conv_pw): Conv2d(64, 384, kernel_size=(1, 1), stride=(1, 1), bias=False)\n",
            "        (bn1): BatchNormAct2d(\n",
            "          384, eps=1e-05, momentum=0.1, affine=True, track_running_stats=True\n",
            "          (drop): Identity()\n",
            "          (act): SiLU(inplace=True)\n",
            "        )\n",
            "        (conv_dw): Conv2d(384, 384, kernel_size=(5, 5), stride=(1, 1), padding=(2, 2), groups=384, bias=False)\n",
            "        (bn2): BatchNormAct2d(\n",
            "          384, eps=1e-05, momentum=0.1, affine=True, track_running_stats=True\n",
            "          (drop): Identity()\n",
            "          (act): SiLU(inplace=True)\n",
            "        )\n",
            "        (se): SqueezeExcite(\n",
            "          (conv_reduce): Conv2d(384, 16, kernel_size=(1, 1), stride=(1, 1))\n",
            "          (act1): SiLU(inplace=True)\n",
            "          (conv_expand): Conv2d(16, 384, kernel_size=(1, 1), stride=(1, 1))\n",
            "          (gate): Sigmoid()\n",
            "        )\n",
            "        (conv_pwl): Conv2d(384, 64, kernel_size=(1, 1), stride=(1, 1), bias=False)\n",
            "        (bn3): BatchNormAct2d(\n",
            "          64, eps=1e-05, momentum=0.1, affine=True, track_running_stats=True\n",
            "          (drop): Identity()\n",
            "          (act): Identity()\n",
            "        )\n",
            "        (drop_path): Identity()\n",
            "      )\n",
            "      (4): InvertedResidual(\n",
            "        (conv_pw): Conv2d(64, 384, kernel_size=(1, 1), stride=(1, 1), bias=False)\n",
            "        (bn1): BatchNormAct2d(\n",
            "          384, eps=1e-05, momentum=0.1, affine=True, track_running_stats=True\n",
            "          (drop): Identity()\n",
            "          (act): SiLU(inplace=True)\n",
            "        )\n",
            "        (conv_dw): Conv2d(384, 384, kernel_size=(5, 5), stride=(1, 1), padding=(2, 2), groups=384, bias=False)\n",
            "        (bn2): BatchNormAct2d(\n",
            "          384, eps=1e-05, momentum=0.1, affine=True, track_running_stats=True\n",
            "          (drop): Identity()\n",
            "          (act): SiLU(inplace=True)\n",
            "        )\n",
            "        (se): SqueezeExcite(\n",
            "          (conv_reduce): Conv2d(384, 16, kernel_size=(1, 1), stride=(1, 1))\n",
            "          (act1): SiLU(inplace=True)\n",
            "          (conv_expand): Conv2d(16, 384, kernel_size=(1, 1), stride=(1, 1))\n",
            "          (gate): Sigmoid()\n",
            "        )\n",
            "        (conv_pwl): Conv2d(384, 64, kernel_size=(1, 1), stride=(1, 1), bias=False)\n",
            "        (bn3): BatchNormAct2d(\n",
            "          64, eps=1e-05, momentum=0.1, affine=True, track_running_stats=True\n",
            "          (drop): Identity()\n",
            "          (act): Identity()\n",
            "        )\n",
            "        (drop_path): Identity()\n",
            "      )\n",
            "    )\n",
            "    (3): Sequential(\n",
            "      (0): InvertedResidual(\n",
            "        (conv_pw): Conv2d(64, 384, kernel_size=(1, 1), stride=(1, 1), bias=False)\n",
            "        (bn1): BatchNormAct2d(\n",
            "          384, eps=1e-05, momentum=0.1, affine=True, track_running_stats=True\n",
            "          (drop): Identity()\n",
            "          (act): SiLU(inplace=True)\n",
            "        )\n",
            "        (conv_dw): Conv2d(384, 384, kernel_size=(3, 3), stride=(2, 2), padding=(1, 1), groups=384, bias=False)\n",
            "        (bn2): BatchNormAct2d(\n",
            "          384, eps=1e-05, momentum=0.1, affine=True, track_running_stats=True\n",
            "          (drop): Identity()\n",
            "          (act): SiLU(inplace=True)\n",
            "        )\n",
            "        (se): SqueezeExcite(\n",
            "          (conv_reduce): Conv2d(384, 16, kernel_size=(1, 1), stride=(1, 1))\n",
            "          (act1): SiLU(inplace=True)\n",
            "          (conv_expand): Conv2d(16, 384, kernel_size=(1, 1), stride=(1, 1))\n",
            "          (gate): Sigmoid()\n",
            "        )\n",
            "        (conv_pwl): Conv2d(384, 128, kernel_size=(1, 1), stride=(1, 1), bias=False)\n",
            "        (bn3): BatchNormAct2d(\n",
            "          128, eps=1e-05, momentum=0.1, affine=True, track_running_stats=True\n",
            "          (drop): Identity()\n",
            "          (act): Identity()\n",
            "        )\n",
            "        (drop_path): Identity()\n",
            "      )\n",
            "      (1): InvertedResidual(\n",
            "        (conv_pw): Conv2d(128, 768, kernel_size=(1, 1), stride=(1, 1), bias=False)\n",
            "        (bn1): BatchNormAct2d(\n",
            "          768, eps=1e-05, momentum=0.1, affine=True, track_running_stats=True\n",
            "          (drop): Identity()\n",
            "          (act): SiLU(inplace=True)\n",
            "        )\n",
            "        (conv_dw): Conv2d(768, 768, kernel_size=(3, 3), stride=(1, 1), padding=(1, 1), groups=768, bias=False)\n",
            "        (bn2): BatchNormAct2d(\n",
            "          768, eps=1e-05, momentum=0.1, affine=True, track_running_stats=True\n",
            "          (drop): Identity()\n",
            "          (act): SiLU(inplace=True)\n",
            "        )\n",
            "        (se): SqueezeExcite(\n",
            "          (conv_reduce): Conv2d(768, 32, kernel_size=(1, 1), stride=(1, 1))\n",
            "          (act1): SiLU(inplace=True)\n",
            "          (conv_expand): Conv2d(32, 768, kernel_size=(1, 1), stride=(1, 1))\n",
            "          (gate): Sigmoid()\n",
            "        )\n",
            "        (conv_pwl): Conv2d(768, 128, kernel_size=(1, 1), stride=(1, 1), bias=False)\n",
            "        (bn3): BatchNormAct2d(\n",
            "          128, eps=1e-05, momentum=0.1, affine=True, track_running_stats=True\n",
            "          (drop): Identity()\n",
            "          (act): Identity()\n",
            "        )\n",
            "        (drop_path): Identity()\n",
            "      )\n",
            "      (2): InvertedResidual(\n",
            "        (conv_pw): Conv2d(128, 768, kernel_size=(1, 1), stride=(1, 1), bias=False)\n",
            "        (bn1): BatchNormAct2d(\n",
            "          768, eps=1e-05, momentum=0.1, affine=True, track_running_stats=True\n",
            "          (drop): Identity()\n",
            "          (act): SiLU(inplace=True)\n",
            "        )\n",
            "        (conv_dw): Conv2d(768, 768, kernel_size=(3, 3), stride=(1, 1), padding=(1, 1), groups=768, bias=False)\n",
            "        (bn2): BatchNormAct2d(\n",
            "          768, eps=1e-05, momentum=0.1, affine=True, track_running_stats=True\n",
            "          (drop): Identity()\n",
            "          (act): SiLU(inplace=True)\n",
            "        )\n",
            "        (se): SqueezeExcite(\n",
            "          (conv_reduce): Conv2d(768, 32, kernel_size=(1, 1), stride=(1, 1))\n",
            "          (act1): SiLU(inplace=True)\n",
            "          (conv_expand): Conv2d(32, 768, kernel_size=(1, 1), stride=(1, 1))\n",
            "          (gate): Sigmoid()\n",
            "        )\n",
            "        (conv_pwl): Conv2d(768, 128, kernel_size=(1, 1), stride=(1, 1), bias=False)\n",
            "        (bn3): BatchNormAct2d(\n",
            "          128, eps=1e-05, momentum=0.1, affine=True, track_running_stats=True\n",
            "          (drop): Identity()\n",
            "          (act): Identity()\n",
            "        )\n",
            "        (drop_path): Identity()\n",
            "      )\n",
            "      (3): InvertedResidual(\n",
            "        (conv_pw): Conv2d(128, 768, kernel_size=(1, 1), stride=(1, 1), bias=False)\n",
            "        (bn1): BatchNormAct2d(\n",
            "          768, eps=1e-05, momentum=0.1, affine=True, track_running_stats=True\n",
            "          (drop): Identity()\n",
            "          (act): SiLU(inplace=True)\n",
            "        )\n",
            "        (conv_dw): Conv2d(768, 768, kernel_size=(3, 3), stride=(1, 1), padding=(1, 1), groups=768, bias=False)\n",
            "        (bn2): BatchNormAct2d(\n",
            "          768, eps=1e-05, momentum=0.1, affine=True, track_running_stats=True\n",
            "          (drop): Identity()\n",
            "          (act): SiLU(inplace=True)\n",
            "        )\n",
            "        (se): SqueezeExcite(\n",
            "          (conv_reduce): Conv2d(768, 32, kernel_size=(1, 1), stride=(1, 1))\n",
            "          (act1): SiLU(inplace=True)\n",
            "          (conv_expand): Conv2d(32, 768, kernel_size=(1, 1), stride=(1, 1))\n",
            "          (gate): Sigmoid()\n",
            "        )\n",
            "        (conv_pwl): Conv2d(768, 128, kernel_size=(1, 1), stride=(1, 1), bias=False)\n",
            "        (bn3): BatchNormAct2d(\n",
            "          128, eps=1e-05, momentum=0.1, affine=True, track_running_stats=True\n",
            "          (drop): Identity()\n",
            "          (act): Identity()\n",
            "        )\n",
            "        (drop_path): Identity()\n",
            "      )\n",
            "      (4): InvertedResidual(\n",
            "        (conv_pw): Conv2d(128, 768, kernel_size=(1, 1), stride=(1, 1), bias=False)\n",
            "        (bn1): BatchNormAct2d(\n",
            "          768, eps=1e-05, momentum=0.1, affine=True, track_running_stats=True\n",
            "          (drop): Identity()\n",
            "          (act): SiLU(inplace=True)\n",
            "        )\n",
            "        (conv_dw): Conv2d(768, 768, kernel_size=(3, 3), stride=(1, 1), padding=(1, 1), groups=768, bias=False)\n",
            "        (bn2): BatchNormAct2d(\n",
            "          768, eps=1e-05, momentum=0.1, affine=True, track_running_stats=True\n",
            "          (drop): Identity()\n",
            "          (act): SiLU(inplace=True)\n",
            "        )\n",
            "        (se): SqueezeExcite(\n",
            "          (conv_reduce): Conv2d(768, 32, kernel_size=(1, 1), stride=(1, 1))\n",
            "          (act1): SiLU(inplace=True)\n",
            "          (conv_expand): Conv2d(32, 768, kernel_size=(1, 1), stride=(1, 1))\n",
            "          (gate): Sigmoid()\n",
            "        )\n",
            "        (conv_pwl): Conv2d(768, 128, kernel_size=(1, 1), stride=(1, 1), bias=False)\n",
            "        (bn3): BatchNormAct2d(\n",
            "          128, eps=1e-05, momentum=0.1, affine=True, track_running_stats=True\n",
            "          (drop): Identity()\n",
            "          (act): Identity()\n",
            "        )\n",
            "        (drop_path): Identity()\n",
            "      )\n",
            "      (5): InvertedResidual(\n",
            "        (conv_pw): Conv2d(128, 768, kernel_size=(1, 1), stride=(1, 1), bias=False)\n",
            "        (bn1): BatchNormAct2d(\n",
            "          768, eps=1e-05, momentum=0.1, affine=True, track_running_stats=True\n",
            "          (drop): Identity()\n",
            "          (act): SiLU(inplace=True)\n",
            "        )\n",
            "        (conv_dw): Conv2d(768, 768, kernel_size=(3, 3), stride=(1, 1), padding=(1, 1), groups=768, bias=False)\n",
            "        (bn2): BatchNormAct2d(\n",
            "          768, eps=1e-05, momentum=0.1, affine=True, track_running_stats=True\n",
            "          (drop): Identity()\n",
            "          (act): SiLU(inplace=True)\n",
            "        )\n",
            "        (se): SqueezeExcite(\n",
            "          (conv_reduce): Conv2d(768, 32, kernel_size=(1, 1), stride=(1, 1))\n",
            "          (act1): SiLU(inplace=True)\n",
            "          (conv_expand): Conv2d(32, 768, kernel_size=(1, 1), stride=(1, 1))\n",
            "          (gate): Sigmoid()\n",
            "        )\n",
            "        (conv_pwl): Conv2d(768, 128, kernel_size=(1, 1), stride=(1, 1), bias=False)\n",
            "        (bn3): BatchNormAct2d(\n",
            "          128, eps=1e-05, momentum=0.1, affine=True, track_running_stats=True\n",
            "          (drop): Identity()\n",
            "          (act): Identity()\n",
            "        )\n",
            "        (drop_path): Identity()\n",
            "      )\n",
            "      (6): InvertedResidual(\n",
            "        (conv_pw): Conv2d(128, 768, kernel_size=(1, 1), stride=(1, 1), bias=False)\n",
            "        (bn1): BatchNormAct2d(\n",
            "          768, eps=1e-05, momentum=0.1, affine=True, track_running_stats=True\n",
            "          (drop): Identity()\n",
            "          (act): SiLU(inplace=True)\n",
            "        )\n",
            "        (conv_dw): Conv2d(768, 768, kernel_size=(3, 3), stride=(1, 1), padding=(1, 1), groups=768, bias=False)\n",
            "        (bn2): BatchNormAct2d(\n",
            "          768, eps=1e-05, momentum=0.1, affine=True, track_running_stats=True\n",
            "          (drop): Identity()\n",
            "          (act): SiLU(inplace=True)\n",
            "        )\n",
            "        (se): SqueezeExcite(\n",
            "          (conv_reduce): Conv2d(768, 32, kernel_size=(1, 1), stride=(1, 1))\n",
            "          (act1): SiLU(inplace=True)\n",
            "          (conv_expand): Conv2d(32, 768, kernel_size=(1, 1), stride=(1, 1))\n",
            "          (gate): Sigmoid()\n",
            "        )\n",
            "        (conv_pwl): Conv2d(768, 128, kernel_size=(1, 1), stride=(1, 1), bias=False)\n",
            "        (bn3): BatchNormAct2d(\n",
            "          128, eps=1e-05, momentum=0.1, affine=True, track_running_stats=True\n",
            "          (drop): Identity()\n",
            "          (act): Identity()\n",
            "        )\n",
            "        (drop_path): Identity()\n",
            "      )\n",
            "    )\n",
            "    (4): Sequential(\n",
            "      (0): InvertedResidual(\n",
            "        (conv_pw): Conv2d(128, 768, kernel_size=(1, 1), stride=(1, 1), bias=False)\n",
            "        (bn1): BatchNormAct2d(\n",
            "          768, eps=1e-05, momentum=0.1, affine=True, track_running_stats=True\n",
            "          (drop): Identity()\n",
            "          (act): SiLU(inplace=True)\n",
            "        )\n",
            "        (conv_dw): Conv2d(768, 768, kernel_size=(5, 5), stride=(1, 1), padding=(2, 2), groups=768, bias=False)\n",
            "        (bn2): BatchNormAct2d(\n",
            "          768, eps=1e-05, momentum=0.1, affine=True, track_running_stats=True\n",
            "          (drop): Identity()\n",
            "          (act): SiLU(inplace=True)\n",
            "        )\n",
            "        (se): SqueezeExcite(\n",
            "          (conv_reduce): Conv2d(768, 32, kernel_size=(1, 1), stride=(1, 1))\n",
            "          (act1): SiLU(inplace=True)\n",
            "          (conv_expand): Conv2d(32, 768, kernel_size=(1, 1), stride=(1, 1))\n",
            "          (gate): Sigmoid()\n",
            "        )\n",
            "        (conv_pwl): Conv2d(768, 176, kernel_size=(1, 1), stride=(1, 1), bias=False)\n",
            "        (bn3): BatchNormAct2d(\n",
            "          176, eps=1e-05, momentum=0.1, affine=True, track_running_stats=True\n",
            "          (drop): Identity()\n",
            "          (act): Identity()\n",
            "        )\n",
            "        (drop_path): Identity()\n",
            "      )\n",
            "      (1): InvertedResidual(\n",
            "        (conv_pw): Conv2d(176, 1056, kernel_size=(1, 1), stride=(1, 1), bias=False)\n",
            "        (bn1): BatchNormAct2d(\n",
            "          1056, eps=1e-05, momentum=0.1, affine=True, track_running_stats=True\n",
            "          (drop): Identity()\n",
            "          (act): SiLU(inplace=True)\n",
            "        )\n",
            "        (conv_dw): Conv2d(1056, 1056, kernel_size=(5, 5), stride=(1, 1), padding=(2, 2), groups=1056, bias=False)\n",
            "        (bn2): BatchNormAct2d(\n",
            "          1056, eps=1e-05, momentum=0.1, affine=True, track_running_stats=True\n",
            "          (drop): Identity()\n",
            "          (act): SiLU(inplace=True)\n",
            "        )\n",
            "        (se): SqueezeExcite(\n",
            "          (conv_reduce): Conv2d(1056, 44, kernel_size=(1, 1), stride=(1, 1))\n",
            "          (act1): SiLU(inplace=True)\n",
            "          (conv_expand): Conv2d(44, 1056, kernel_size=(1, 1), stride=(1, 1))\n",
            "          (gate): Sigmoid()\n",
            "        )\n",
            "        (conv_pwl): Conv2d(1056, 176, kernel_size=(1, 1), stride=(1, 1), bias=False)\n",
            "        (bn3): BatchNormAct2d(\n",
            "          176, eps=1e-05, momentum=0.1, affine=True, track_running_stats=True\n",
            "          (drop): Identity()\n",
            "          (act): Identity()\n",
            "        )\n",
            "        (drop_path): Identity()\n",
            "      )\n",
            "      (2): InvertedResidual(\n",
            "        (conv_pw): Conv2d(176, 1056, kernel_size=(1, 1), stride=(1, 1), bias=False)\n",
            "        (bn1): BatchNormAct2d(\n",
            "          1056, eps=1e-05, momentum=0.1, affine=True, track_running_stats=True\n",
            "          (drop): Identity()\n",
            "          (act): SiLU(inplace=True)\n",
            "        )\n",
            "        (conv_dw): Conv2d(1056, 1056, kernel_size=(5, 5), stride=(1, 1), padding=(2, 2), groups=1056, bias=False)\n",
            "        (bn2): BatchNormAct2d(\n",
            "          1056, eps=1e-05, momentum=0.1, affine=True, track_running_stats=True\n",
            "          (drop): Identity()\n",
            "          (act): SiLU(inplace=True)\n",
            "        )\n",
            "        (se): SqueezeExcite(\n",
            "          (conv_reduce): Conv2d(1056, 44, kernel_size=(1, 1), stride=(1, 1))\n",
            "          (act1): SiLU(inplace=True)\n",
            "          (conv_expand): Conv2d(44, 1056, kernel_size=(1, 1), stride=(1, 1))\n",
            "          (gate): Sigmoid()\n",
            "        )\n",
            "        (conv_pwl): Conv2d(1056, 176, kernel_size=(1, 1), stride=(1, 1), bias=False)\n",
            "        (bn3): BatchNormAct2d(\n",
            "          176, eps=1e-05, momentum=0.1, affine=True, track_running_stats=True\n",
            "          (drop): Identity()\n",
            "          (act): Identity()\n",
            "        )\n",
            "        (drop_path): Identity()\n",
            "      )\n",
            "      (3): InvertedResidual(\n",
            "        (conv_pw): Conv2d(176, 1056, kernel_size=(1, 1), stride=(1, 1), bias=False)\n",
            "        (bn1): BatchNormAct2d(\n",
            "          1056, eps=1e-05, momentum=0.1, affine=True, track_running_stats=True\n",
            "          (drop): Identity()\n",
            "          (act): SiLU(inplace=True)\n",
            "        )\n",
            "        (conv_dw): Conv2d(1056, 1056, kernel_size=(5, 5), stride=(1, 1), padding=(2, 2), groups=1056, bias=False)\n",
            "        (bn2): BatchNormAct2d(\n",
            "          1056, eps=1e-05, momentum=0.1, affine=True, track_running_stats=True\n",
            "          (drop): Identity()\n",
            "          (act): SiLU(inplace=True)\n",
            "        )\n",
            "        (se): SqueezeExcite(\n",
            "          (conv_reduce): Conv2d(1056, 44, kernel_size=(1, 1), stride=(1, 1))\n",
            "          (act1): SiLU(inplace=True)\n",
            "          (conv_expand): Conv2d(44, 1056, kernel_size=(1, 1), stride=(1, 1))\n",
            "          (gate): Sigmoid()\n",
            "        )\n",
            "        (conv_pwl): Conv2d(1056, 176, kernel_size=(1, 1), stride=(1, 1), bias=False)\n",
            "        (bn3): BatchNormAct2d(\n",
            "          176, eps=1e-05, momentum=0.1, affine=True, track_running_stats=True\n",
            "          (drop): Identity()\n",
            "          (act): Identity()\n",
            "        )\n",
            "        (drop_path): Identity()\n",
            "      )\n",
            "      (4): InvertedResidual(\n",
            "        (conv_pw): Conv2d(176, 1056, kernel_size=(1, 1), stride=(1, 1), bias=False)\n",
            "        (bn1): BatchNormAct2d(\n",
            "          1056, eps=1e-05, momentum=0.1, affine=True, track_running_stats=True\n",
            "          (drop): Identity()\n",
            "          (act): SiLU(inplace=True)\n",
            "        )\n",
            "        (conv_dw): Conv2d(1056, 1056, kernel_size=(5, 5), stride=(1, 1), padding=(2, 2), groups=1056, bias=False)\n",
            "        (bn2): BatchNormAct2d(\n",
            "          1056, eps=1e-05, momentum=0.1, affine=True, track_running_stats=True\n",
            "          (drop): Identity()\n",
            "          (act): SiLU(inplace=True)\n",
            "        )\n",
            "        (se): SqueezeExcite(\n",
            "          (conv_reduce): Conv2d(1056, 44, kernel_size=(1, 1), stride=(1, 1))\n",
            "          (act1): SiLU(inplace=True)\n",
            "          (conv_expand): Conv2d(44, 1056, kernel_size=(1, 1), stride=(1, 1))\n",
            "          (gate): Sigmoid()\n",
            "        )\n",
            "        (conv_pwl): Conv2d(1056, 176, kernel_size=(1, 1), stride=(1, 1), bias=False)\n",
            "        (bn3): BatchNormAct2d(\n",
            "          176, eps=1e-05, momentum=0.1, affine=True, track_running_stats=True\n",
            "          (drop): Identity()\n",
            "          (act): Identity()\n",
            "        )\n",
            "        (drop_path): Identity()\n",
            "      )\n",
            "      (5): InvertedResidual(\n",
            "        (conv_pw): Conv2d(176, 1056, kernel_size=(1, 1), stride=(1, 1), bias=False)\n",
            "        (bn1): BatchNormAct2d(\n",
            "          1056, eps=1e-05, momentum=0.1, affine=True, track_running_stats=True\n",
            "          (drop): Identity()\n",
            "          (act): SiLU(inplace=True)\n",
            "        )\n",
            "        (conv_dw): Conv2d(1056, 1056, kernel_size=(5, 5), stride=(1, 1), padding=(2, 2), groups=1056, bias=False)\n",
            "        (bn2): BatchNormAct2d(\n",
            "          1056, eps=1e-05, momentum=0.1, affine=True, track_running_stats=True\n",
            "          (drop): Identity()\n",
            "          (act): SiLU(inplace=True)\n",
            "        )\n",
            "        (se): SqueezeExcite(\n",
            "          (conv_reduce): Conv2d(1056, 44, kernel_size=(1, 1), stride=(1, 1))\n",
            "          (act1): SiLU(inplace=True)\n",
            "          (conv_expand): Conv2d(44, 1056, kernel_size=(1, 1), stride=(1, 1))\n",
            "          (gate): Sigmoid()\n",
            "        )\n",
            "        (conv_pwl): Conv2d(1056, 176, kernel_size=(1, 1), stride=(1, 1), bias=False)\n",
            "        (bn3): BatchNormAct2d(\n",
            "          176, eps=1e-05, momentum=0.1, affine=True, track_running_stats=True\n",
            "          (drop): Identity()\n",
            "          (act): Identity()\n",
            "        )\n",
            "        (drop_path): Identity()\n",
            "      )\n",
            "      (6): InvertedResidual(\n",
            "        (conv_pw): Conv2d(176, 1056, kernel_size=(1, 1), stride=(1, 1), bias=False)\n",
            "        (bn1): BatchNormAct2d(\n",
            "          1056, eps=1e-05, momentum=0.1, affine=True, track_running_stats=True\n",
            "          (drop): Identity()\n",
            "          (act): SiLU(inplace=True)\n",
            "        )\n",
            "        (conv_dw): Conv2d(1056, 1056, kernel_size=(5, 5), stride=(1, 1), padding=(2, 2), groups=1056, bias=False)\n",
            "        (bn2): BatchNormAct2d(\n",
            "          1056, eps=1e-05, momentum=0.1, affine=True, track_running_stats=True\n",
            "          (drop): Identity()\n",
            "          (act): SiLU(inplace=True)\n",
            "        )\n",
            "        (se): SqueezeExcite(\n",
            "          (conv_reduce): Conv2d(1056, 44, kernel_size=(1, 1), stride=(1, 1))\n",
            "          (act1): SiLU(inplace=True)\n",
            "          (conv_expand): Conv2d(44, 1056, kernel_size=(1, 1), stride=(1, 1))\n",
            "          (gate): Sigmoid()\n",
            "        )\n",
            "        (conv_pwl): Conv2d(1056, 176, kernel_size=(1, 1), stride=(1, 1), bias=False)\n",
            "        (bn3): BatchNormAct2d(\n",
            "          176, eps=1e-05, momentum=0.1, affine=True, track_running_stats=True\n",
            "          (drop): Identity()\n",
            "          (act): Identity()\n",
            "        )\n",
            "        (drop_path): Identity()\n",
            "      )\n",
            "    )\n",
            "    (5): Sequential(\n",
            "      (0): InvertedResidual(\n",
            "        (conv_pw): Conv2d(176, 1056, kernel_size=(1, 1), stride=(1, 1), bias=False)\n",
            "        (bn1): BatchNormAct2d(\n",
            "          1056, eps=1e-05, momentum=0.1, affine=True, track_running_stats=True\n",
            "          (drop): Identity()\n",
            "          (act): SiLU(inplace=True)\n",
            "        )\n",
            "        (conv_dw): Conv2d(1056, 1056, kernel_size=(5, 5), stride=(2, 2), padding=(2, 2), groups=1056, bias=False)\n",
            "        (bn2): BatchNormAct2d(\n",
            "          1056, eps=1e-05, momentum=0.1, affine=True, track_running_stats=True\n",
            "          (drop): Identity()\n",
            "          (act): SiLU(inplace=True)\n",
            "        )\n",
            "        (se): SqueezeExcite(\n",
            "          (conv_reduce): Conv2d(1056, 44, kernel_size=(1, 1), stride=(1, 1))\n",
            "          (act1): SiLU(inplace=True)\n",
            "          (conv_expand): Conv2d(44, 1056, kernel_size=(1, 1), stride=(1, 1))\n",
            "          (gate): Sigmoid()\n",
            "        )\n",
            "        (conv_pwl): Conv2d(1056, 304, kernel_size=(1, 1), stride=(1, 1), bias=False)\n",
            "        (bn3): BatchNormAct2d(\n",
            "          304, eps=1e-05, momentum=0.1, affine=True, track_running_stats=True\n",
            "          (drop): Identity()\n",
            "          (act): Identity()\n",
            "        )\n",
            "        (drop_path): Identity()\n",
            "      )\n",
            "      (1): InvertedResidual(\n",
            "        (conv_pw): Conv2d(304, 1824, kernel_size=(1, 1), stride=(1, 1), bias=False)\n",
            "        (bn1): BatchNormAct2d(\n",
            "          1824, eps=1e-05, momentum=0.1, affine=True, track_running_stats=True\n",
            "          (drop): Identity()\n",
            "          (act): SiLU(inplace=True)\n",
            "        )\n",
            "        (conv_dw): Conv2d(1824, 1824, kernel_size=(5, 5), stride=(1, 1), padding=(2, 2), groups=1824, bias=False)\n",
            "        (bn2): BatchNormAct2d(\n",
            "          1824, eps=1e-05, momentum=0.1, affine=True, track_running_stats=True\n",
            "          (drop): Identity()\n",
            "          (act): SiLU(inplace=True)\n",
            "        )\n",
            "        (se): SqueezeExcite(\n",
            "          (conv_reduce): Conv2d(1824, 76, kernel_size=(1, 1), stride=(1, 1))\n",
            "          (act1): SiLU(inplace=True)\n",
            "          (conv_expand): Conv2d(76, 1824, kernel_size=(1, 1), stride=(1, 1))\n",
            "          (gate): Sigmoid()\n",
            "        )\n",
            "        (conv_pwl): Conv2d(1824, 304, kernel_size=(1, 1), stride=(1, 1), bias=False)\n",
            "        (bn3): BatchNormAct2d(\n",
            "          304, eps=1e-05, momentum=0.1, affine=True, track_running_stats=True\n",
            "          (drop): Identity()\n",
            "          (act): Identity()\n",
            "        )\n",
            "        (drop_path): Identity()\n",
            "      )\n",
            "      (2): InvertedResidual(\n",
            "        (conv_pw): Conv2d(304, 1824, kernel_size=(1, 1), stride=(1, 1), bias=False)\n",
            "        (bn1): BatchNormAct2d(\n",
            "          1824, eps=1e-05, momentum=0.1, affine=True, track_running_stats=True\n",
            "          (drop): Identity()\n",
            "          (act): SiLU(inplace=True)\n",
            "        )\n",
            "        (conv_dw): Conv2d(1824, 1824, kernel_size=(5, 5), stride=(1, 1), padding=(2, 2), groups=1824, bias=False)\n",
            "        (bn2): BatchNormAct2d(\n",
            "          1824, eps=1e-05, momentum=0.1, affine=True, track_running_stats=True\n",
            "          (drop): Identity()\n",
            "          (act): SiLU(inplace=True)\n",
            "        )\n",
            "        (se): SqueezeExcite(\n",
            "          (conv_reduce): Conv2d(1824, 76, kernel_size=(1, 1), stride=(1, 1))\n",
            "          (act1): SiLU(inplace=True)\n",
            "          (conv_expand): Conv2d(76, 1824, kernel_size=(1, 1), stride=(1, 1))\n",
            "          (gate): Sigmoid()\n",
            "        )\n",
            "        (conv_pwl): Conv2d(1824, 304, kernel_size=(1, 1), stride=(1, 1), bias=False)\n",
            "        (bn3): BatchNormAct2d(\n",
            "          304, eps=1e-05, momentum=0.1, affine=True, track_running_stats=True\n",
            "          (drop): Identity()\n",
            "          (act): Identity()\n",
            "        )\n",
            "        (drop_path): Identity()\n",
            "      )\n",
            "      (3): InvertedResidual(\n",
            "        (conv_pw): Conv2d(304, 1824, kernel_size=(1, 1), stride=(1, 1), bias=False)\n",
            "        (bn1): BatchNormAct2d(\n",
            "          1824, eps=1e-05, momentum=0.1, affine=True, track_running_stats=True\n",
            "          (drop): Identity()\n",
            "          (act): SiLU(inplace=True)\n",
            "        )\n",
            "        (conv_dw): Conv2d(1824, 1824, kernel_size=(5, 5), stride=(1, 1), padding=(2, 2), groups=1824, bias=False)\n",
            "        (bn2): BatchNormAct2d(\n",
            "          1824, eps=1e-05, momentum=0.1, affine=True, track_running_stats=True\n",
            "          (drop): Identity()\n",
            "          (act): SiLU(inplace=True)\n",
            "        )\n",
            "        (se): SqueezeExcite(\n",
            "          (conv_reduce): Conv2d(1824, 76, kernel_size=(1, 1), stride=(1, 1))\n",
            "          (act1): SiLU(inplace=True)\n",
            "          (conv_expand): Conv2d(76, 1824, kernel_size=(1, 1), stride=(1, 1))\n",
            "          (gate): Sigmoid()\n",
            "        )\n",
            "        (conv_pwl): Conv2d(1824, 304, kernel_size=(1, 1), stride=(1, 1), bias=False)\n",
            "        (bn3): BatchNormAct2d(\n",
            "          304, eps=1e-05, momentum=0.1, affine=True, track_running_stats=True\n",
            "          (drop): Identity()\n",
            "          (act): Identity()\n",
            "        )\n",
            "        (drop_path): Identity()\n",
            "      )\n",
            "      (4): InvertedResidual(\n",
            "        (conv_pw): Conv2d(304, 1824, kernel_size=(1, 1), stride=(1, 1), bias=False)\n",
            "        (bn1): BatchNormAct2d(\n",
            "          1824, eps=1e-05, momentum=0.1, affine=True, track_running_stats=True\n",
            "          (drop): Identity()\n",
            "          (act): SiLU(inplace=True)\n",
            "        )\n",
            "        (conv_dw): Conv2d(1824, 1824, kernel_size=(5, 5), stride=(1, 1), padding=(2, 2), groups=1824, bias=False)\n",
            "        (bn2): BatchNormAct2d(\n",
            "          1824, eps=1e-05, momentum=0.1, affine=True, track_running_stats=True\n",
            "          (drop): Identity()\n",
            "          (act): SiLU(inplace=True)\n",
            "        )\n",
            "        (se): SqueezeExcite(\n",
            "          (conv_reduce): Conv2d(1824, 76, kernel_size=(1, 1), stride=(1, 1))\n",
            "          (act1): SiLU(inplace=True)\n",
            "          (conv_expand): Conv2d(76, 1824, kernel_size=(1, 1), stride=(1, 1))\n",
            "          (gate): Sigmoid()\n",
            "        )\n",
            "        (conv_pwl): Conv2d(1824, 304, kernel_size=(1, 1), stride=(1, 1), bias=False)\n",
            "        (bn3): BatchNormAct2d(\n",
            "          304, eps=1e-05, momentum=0.1, affine=True, track_running_stats=True\n",
            "          (drop): Identity()\n",
            "          (act): Identity()\n",
            "        )\n",
            "        (drop_path): Identity()\n",
            "      )\n",
            "      (5): InvertedResidual(\n",
            "        (conv_pw): Conv2d(304, 1824, kernel_size=(1, 1), stride=(1, 1), bias=False)\n",
            "        (bn1): BatchNormAct2d(\n",
            "          1824, eps=1e-05, momentum=0.1, affine=True, track_running_stats=True\n",
            "          (drop): Identity()\n",
            "          (act): SiLU(inplace=True)\n",
            "        )\n",
            "        (conv_dw): Conv2d(1824, 1824, kernel_size=(5, 5), stride=(1, 1), padding=(2, 2), groups=1824, bias=False)\n",
            "        (bn2): BatchNormAct2d(\n",
            "          1824, eps=1e-05, momentum=0.1, affine=True, track_running_stats=True\n",
            "          (drop): Identity()\n",
            "          (act): SiLU(inplace=True)\n",
            "        )\n",
            "        (se): SqueezeExcite(\n",
            "          (conv_reduce): Conv2d(1824, 76, kernel_size=(1, 1), stride=(1, 1))\n",
            "          (act1): SiLU(inplace=True)\n",
            "          (conv_expand): Conv2d(76, 1824, kernel_size=(1, 1), stride=(1, 1))\n",
            "          (gate): Sigmoid()\n",
            "        )\n",
            "        (conv_pwl): Conv2d(1824, 304, kernel_size=(1, 1), stride=(1, 1), bias=False)\n",
            "        (bn3): BatchNormAct2d(\n",
            "          304, eps=1e-05, momentum=0.1, affine=True, track_running_stats=True\n",
            "          (drop): Identity()\n",
            "          (act): Identity()\n",
            "        )\n",
            "        (drop_path): Identity()\n",
            "      )\n",
            "      (6): InvertedResidual(\n",
            "        (conv_pw): Conv2d(304, 1824, kernel_size=(1, 1), stride=(1, 1), bias=False)\n",
            "        (bn1): BatchNormAct2d(\n",
            "          1824, eps=1e-05, momentum=0.1, affine=True, track_running_stats=True\n",
            "          (drop): Identity()\n",
            "          (act): SiLU(inplace=True)\n",
            "        )\n",
            "        (conv_dw): Conv2d(1824, 1824, kernel_size=(5, 5), stride=(1, 1), padding=(2, 2), groups=1824, bias=False)\n",
            "        (bn2): BatchNormAct2d(\n",
            "          1824, eps=1e-05, momentum=0.1, affine=True, track_running_stats=True\n",
            "          (drop): Identity()\n",
            "          (act): SiLU(inplace=True)\n",
            "        )\n",
            "        (se): SqueezeExcite(\n",
            "          (conv_reduce): Conv2d(1824, 76, kernel_size=(1, 1), stride=(1, 1))\n",
            "          (act1): SiLU(inplace=True)\n",
            "          (conv_expand): Conv2d(76, 1824, kernel_size=(1, 1), stride=(1, 1))\n",
            "          (gate): Sigmoid()\n",
            "        )\n",
            "        (conv_pwl): Conv2d(1824, 304, kernel_size=(1, 1), stride=(1, 1), bias=False)\n",
            "        (bn3): BatchNormAct2d(\n",
            "          304, eps=1e-05, momentum=0.1, affine=True, track_running_stats=True\n",
            "          (drop): Identity()\n",
            "          (act): Identity()\n",
            "        )\n",
            "        (drop_path): Identity()\n",
            "      )\n",
            "      (7): InvertedResidual(\n",
            "        (conv_pw): Conv2d(304, 1824, kernel_size=(1, 1), stride=(1, 1), bias=False)\n",
            "        (bn1): BatchNormAct2d(\n",
            "          1824, eps=1e-05, momentum=0.1, affine=True, track_running_stats=True\n",
            "          (drop): Identity()\n",
            "          (act): SiLU(inplace=True)\n",
            "        )\n",
            "        (conv_dw): Conv2d(1824, 1824, kernel_size=(5, 5), stride=(1, 1), padding=(2, 2), groups=1824, bias=False)\n",
            "        (bn2): BatchNormAct2d(\n",
            "          1824, eps=1e-05, momentum=0.1, affine=True, track_running_stats=True\n",
            "          (drop): Identity()\n",
            "          (act): SiLU(inplace=True)\n",
            "        )\n",
            "        (se): SqueezeExcite(\n",
            "          (conv_reduce): Conv2d(1824, 76, kernel_size=(1, 1), stride=(1, 1))\n",
            "          (act1): SiLU(inplace=True)\n",
            "          (conv_expand): Conv2d(76, 1824, kernel_size=(1, 1), stride=(1, 1))\n",
            "          (gate): Sigmoid()\n",
            "        )\n",
            "        (conv_pwl): Conv2d(1824, 304, kernel_size=(1, 1), stride=(1, 1), bias=False)\n",
            "        (bn3): BatchNormAct2d(\n",
            "          304, eps=1e-05, momentum=0.1, affine=True, track_running_stats=True\n",
            "          (drop): Identity()\n",
            "          (act): Identity()\n",
            "        )\n",
            "        (drop_path): Identity()\n",
            "      )\n",
            "      (8): InvertedResidual(\n",
            "        (conv_pw): Conv2d(304, 1824, kernel_size=(1, 1), stride=(1, 1), bias=False)\n",
            "        (bn1): BatchNormAct2d(\n",
            "          1824, eps=1e-05, momentum=0.1, affine=True, track_running_stats=True\n",
            "          (drop): Identity()\n",
            "          (act): SiLU(inplace=True)\n",
            "        )\n",
            "        (conv_dw): Conv2d(1824, 1824, kernel_size=(5, 5), stride=(1, 1), padding=(2, 2), groups=1824, bias=False)\n",
            "        (bn2): BatchNormAct2d(\n",
            "          1824, eps=1e-05, momentum=0.1, affine=True, track_running_stats=True\n",
            "          (drop): Identity()\n",
            "          (act): SiLU(inplace=True)\n",
            "        )\n",
            "        (se): SqueezeExcite(\n",
            "          (conv_reduce): Conv2d(1824, 76, kernel_size=(1, 1), stride=(1, 1))\n",
            "          (act1): SiLU(inplace=True)\n",
            "          (conv_expand): Conv2d(76, 1824, kernel_size=(1, 1), stride=(1, 1))\n",
            "          (gate): Sigmoid()\n",
            "        )\n",
            "        (conv_pwl): Conv2d(1824, 304, kernel_size=(1, 1), stride=(1, 1), bias=False)\n",
            "        (bn3): BatchNormAct2d(\n",
            "          304, eps=1e-05, momentum=0.1, affine=True, track_running_stats=True\n",
            "          (drop): Identity()\n",
            "          (act): Identity()\n",
            "        )\n",
            "        (drop_path): Identity()\n",
            "      )\n",
            "    )\n",
            "    (6): Sequential(\n",
            "      (0): InvertedResidual(\n",
            "        (conv_pw): Conv2d(304, 1824, kernel_size=(1, 1), stride=(1, 1), bias=False)\n",
            "        (bn1): BatchNormAct2d(\n",
            "          1824, eps=1e-05, momentum=0.1, affine=True, track_running_stats=True\n",
            "          (drop): Identity()\n",
            "          (act): SiLU(inplace=True)\n",
            "        )\n",
            "        (conv_dw): Conv2d(1824, 1824, kernel_size=(3, 3), stride=(1, 1), padding=(1, 1), groups=1824, bias=False)\n",
            "        (bn2): BatchNormAct2d(\n",
            "          1824, eps=1e-05, momentum=0.1, affine=True, track_running_stats=True\n",
            "          (drop): Identity()\n",
            "          (act): SiLU(inplace=True)\n",
            "        )\n",
            "        (se): SqueezeExcite(\n",
            "          (conv_reduce): Conv2d(1824, 76, kernel_size=(1, 1), stride=(1, 1))\n",
            "          (act1): SiLU(inplace=True)\n",
            "          (conv_expand): Conv2d(76, 1824, kernel_size=(1, 1), stride=(1, 1))\n",
            "          (gate): Sigmoid()\n",
            "        )\n",
            "        (conv_pwl): Conv2d(1824, 512, kernel_size=(1, 1), stride=(1, 1), bias=False)\n",
            "        (bn3): BatchNormAct2d(\n",
            "          512, eps=1e-05, momentum=0.1, affine=True, track_running_stats=True\n",
            "          (drop): Identity()\n",
            "          (act): Identity()\n",
            "        )\n",
            "        (drop_path): Identity()\n",
            "      )\n",
            "      (1): InvertedResidual(\n",
            "        (conv_pw): Conv2d(512, 3072, kernel_size=(1, 1), stride=(1, 1), bias=False)\n",
            "        (bn1): BatchNormAct2d(\n",
            "          3072, eps=1e-05, momentum=0.1, affine=True, track_running_stats=True\n",
            "          (drop): Identity()\n",
            "          (act): SiLU(inplace=True)\n",
            "        )\n",
            "        (conv_dw): Conv2d(3072, 3072, kernel_size=(3, 3), stride=(1, 1), padding=(1, 1), groups=3072, bias=False)\n",
            "        (bn2): BatchNormAct2d(\n",
            "          3072, eps=1e-05, momentum=0.1, affine=True, track_running_stats=True\n",
            "          (drop): Identity()\n",
            "          (act): SiLU(inplace=True)\n",
            "        )\n",
            "        (se): SqueezeExcite(\n",
            "          (conv_reduce): Conv2d(3072, 128, kernel_size=(1, 1), stride=(1, 1))\n",
            "          (act1): SiLU(inplace=True)\n",
            "          (conv_expand): Conv2d(128, 3072, kernel_size=(1, 1), stride=(1, 1))\n",
            "          (gate): Sigmoid()\n",
            "        )\n",
            "        (conv_pwl): Conv2d(3072, 512, kernel_size=(1, 1), stride=(1, 1), bias=False)\n",
            "        (bn3): BatchNormAct2d(\n",
            "          512, eps=1e-05, momentum=0.1, affine=True, track_running_stats=True\n",
            "          (drop): Identity()\n",
            "          (act): Identity()\n",
            "        )\n",
            "        (drop_path): Identity()\n",
            "      )\n",
            "      (2): InvertedResidual(\n",
            "        (conv_pw): Conv2d(512, 3072, kernel_size=(1, 1), stride=(1, 1), bias=False)\n",
            "        (bn1): BatchNormAct2d(\n",
            "          3072, eps=1e-05, momentum=0.1, affine=True, track_running_stats=True\n",
            "          (drop): Identity()\n",
            "          (act): SiLU(inplace=True)\n",
            "        )\n",
            "        (conv_dw): Conv2d(3072, 3072, kernel_size=(3, 3), stride=(1, 1), padding=(1, 1), groups=3072, bias=False)\n",
            "        (bn2): BatchNormAct2d(\n",
            "          3072, eps=1e-05, momentum=0.1, affine=True, track_running_stats=True\n",
            "          (drop): Identity()\n",
            "          (act): SiLU(inplace=True)\n",
            "        )\n",
            "        (se): SqueezeExcite(\n",
            "          (conv_reduce): Conv2d(3072, 128, kernel_size=(1, 1), stride=(1, 1))\n",
            "          (act1): SiLU(inplace=True)\n",
            "          (conv_expand): Conv2d(128, 3072, kernel_size=(1, 1), stride=(1, 1))\n",
            "          (gate): Sigmoid()\n",
            "        )\n",
            "        (conv_pwl): Conv2d(3072, 512, kernel_size=(1, 1), stride=(1, 1), bias=False)\n",
            "        (bn3): BatchNormAct2d(\n",
            "          512, eps=1e-05, momentum=0.1, affine=True, track_running_stats=True\n",
            "          (drop): Identity()\n",
            "          (act): Identity()\n",
            "        )\n",
            "        (drop_path): Identity()\n",
            "      )\n",
            "    )\n",
            "  )\n",
            "  (conv_head): Conv2d(512, 2048, kernel_size=(1, 1), stride=(1, 1), bias=False)\n",
            "  (bn2): BatchNormAct2d(\n",
            "    2048, eps=1e-05, momentum=0.1, affine=True, track_running_stats=True\n",
            "    (drop): Identity()\n",
            "    (act): SiLU(inplace=True)\n",
            "  )\n",
            "  (global_pool): SelectAdaptivePool2d(pool_type=avg, flatten=Flatten(start_dim=1, end_dim=-1))\n",
            "  (classifier): Sequential(\n",
            "    (0): Linear(in_features=2048, out_features=512, bias=True)\n",
            "    (1): ReLU()\n",
            "    (2): Linear(in_features=512, out_features=6, bias=True)\n",
            "  )\n",
            ")\n"
          ]
        }
      ],
      "source": [
        "def initialize_model(output_classes=6):\n",
        "    \"\"\"\n",
        "    Initializes the EfficientNet-B5 model with a custom final layer for the given number of output classes.\n",
        "\n",
        "    Parameters:\n",
        "    - output_classes (int): The number of classes for the final output layer.\n",
        "\n",
        "    Returns:\n",
        "    - model (torch.nn.Module): The modified model based on the pre-trained EfficientNetB5 feature representation.\n",
        "    \"\"\"\n",
        "\n",
        "    # Load a pre-trained EfficientNet-B5 model from the timm library\n",
        "    model = timm.create_model('efficientnet_b5', pretrained=True)\n",
        "\n",
        "    # Freeze all the parameters in the model to prevent them from being updated during training\n",
        "    for param in model.parameters():\n",
        "        param.requires_grad = False\n",
        "\n",
        "    # Get the number of input features to the final fully connected layer\n",
        "    # The classifier layer is the final layer in EfficientNet models\n",
        "    in_features = model.classifier.in_features\n",
        "\n",
        "    # Replace the final classifier layer with a new one that has the desired number of output classes\n",
        "    model.classifier = nn.Sequential(\n",
        "        nn.Linear(in_features, 512),  # Reduce dimension from in_features to 512 (from 1280 in this case)\n",
        "        nn.ReLU(),                    # Apply ReLU activation function\n",
        "        nn.Linear(512, output_classes)  # Final layer with 'output_classes' number of outputs\n",
        "    )\n",
        "\n",
        "    return model\n",
        "\n",
        "def evaluate_model(model, dataloader, loss_fun, device):\n",
        "    \"\"\"\n",
        "    Evaluates the model's performance on a given dataset.\n",
        "\n",
        "    Parameters:\n",
        "    - model: The neural network model to evaluate.\n",
        "    - dataloader: The DataLoader containing the dataset for evaluation.\n",
        "    - loss_fun: The loss function used to compute the model's loss.\n",
        "    - device: The device (CPU or CUDA) on which the computations will be performed.\n",
        "\n",
        "    Returns:\n",
        "    - A tuple of average loss and accuracy over the dataset.\n",
        "    \"\"\"\n",
        "\n",
        "    model.eval()  # Set the model to evaluation mode    test_loss = 0.0\n",
        "    val_acc = 0.0\n",
        "    val_loss = 0.0\n",
        "\n",
        "    with torch.no_grad():  # No gradients needed for evaluation\n",
        "        for x, y in dataloader:\n",
        "            x, y = x.to(device), y.to(device)  # Move data to the same device as the model\n",
        "\n",
        "            pred = model(x)\n",
        "            _, predicted_classes = torch.max(pred, 1)\n",
        "            correct_predictions = (predicted_classes == y).float()\n",
        "\n",
        "            loss = loss_fun(pred, y.long())  # Ensure consistent data type\n",
        "            val_loss += loss.item()\n",
        "            val_acc += correct_predictions.sum().item() / y.size(0)\n",
        "\n",
        "        val_loss /= len(dataloader)\n",
        "        val_acc /= len(dataloader)\n",
        "\n",
        "    return val_loss, val_acc\n",
        "\n",
        "def misclassified_labels(model, dataloader, device):\n",
        "    \"\"\"\n",
        "    Identifies misclassified samples in the given dataset.\n",
        "\n",
        "    Parameters:\n",
        "    - model: The neural network model to evaluate.\n",
        "    - dataloader: The DataLoader containing the dataset for evaluation.\n",
        "    - device: The device (CPU or CUDA) on which the computations will be performed.\n",
        "\n",
        "    Returns:\n",
        "    - A list of tuples where each tuple contains the image path, actual label, and predicted label.\n",
        "    \"\"\"\n",
        "\n",
        "    model.eval()  # Set the model to evaluation mode\n",
        "    misclassified = []\n",
        "\n",
        "    with torch.no_grad():  # No gradients needed for evaluation\n",
        "        for images, labels in dataloader:\n",
        "            images, labels = images.to(device), labels.to(device)  # Move data to the same device as the model\n",
        "            outputs = model(images)\n",
        "            _, predicted = torch.max(outputs, 1)\n",
        "\n",
        "            # Identify misclassified labels\n",
        "            mismatches = predicted != labels\n",
        "            for idx in torch.where(mismatches)[0]:\n",
        "                actual_label = labels[idx].item()\n",
        "                predicted_label = predicted[idx].item()\n",
        "                image_path = dataloader.dataset.image_paths[idx]  # Assuming dataset has 'image_paths' attribute\n",
        "                misclassified.append((image_path, actual_label, predicted_label))\n",
        "\n",
        "    return misclassified\n",
        "\n",
        "# Usage example\n",
        "num_classes = 6  # Define the number of output classes you need\n",
        "example_model = initialize_model(num_classes)\n",
        "print(example_model)\n"
      ]
    },
    {
      "cell_type": "code",
      "execution_count": 29,
      "metadata": {},
      "outputs": [
        {
          "name": "stdout",
          "output_type": "stream",
          "text": [
            "\n",
            "Examples from class: Trash\n",
            "Path: ../../data/dataset-resized\\Trash\\trash1.jpg, Label ID: 0\n",
            "Path: ../../data/dataset-resized\\Trash\\trash10.jpg, Label ID: 0\n",
            "Path: ../../data/dataset-resized\\Trash\\trash100.jpg, Label ID: 0\n",
            "Path: ../../data/dataset-resized\\Trash\\trash101.jpg, Label ID: 0\n",
            "Path: ../../data/dataset-resized\\Trash\\trash102.jpg, Label ID: 0\n",
            "\n",
            "Examples from class: Plastic\n",
            "Path: ../../data/dataset-resized\\Plastic\\plastic1.jpg, Label ID: 1\n",
            "Path: ../../data/dataset-resized\\Plastic\\plastic10.jpg, Label ID: 1\n",
            "Path: ../../data/dataset-resized\\Plastic\\plastic100.jpg, Label ID: 1\n",
            "Path: ../../data/dataset-resized\\Plastic\\plastic101.jpg, Label ID: 1\n",
            "Path: ../../data/dataset-resized\\Plastic\\plastic102.jpg, Label ID: 1\n",
            "\n",
            "Examples from class: Paper\n",
            "Path: ../../data/dataset-resized\\Paper\\paper1.jpg, Label ID: 2\n",
            "Path: ../../data/dataset-resized\\Paper\\paper10.jpg, Label ID: 2\n",
            "Path: ../../data/dataset-resized\\Paper\\paper100.jpg, Label ID: 2\n",
            "Path: ../../data/dataset-resized\\Paper\\paper101.jpg, Label ID: 2\n",
            "Path: ../../data/dataset-resized\\Paper\\paper102.jpg, Label ID: 2\n",
            "\n",
            "Examples from class: Metal\n",
            "Path: ../../data/dataset-resized\\Metal\\metal1.jpg, Label ID: 3\n",
            "Path: ../../data/dataset-resized\\Metal\\metal10.jpg, Label ID: 3\n",
            "Path: ../../data/dataset-resized\\Metal\\metal100.jpg, Label ID: 3\n",
            "Path: ../../data/dataset-resized\\Metal\\metal101.jpg, Label ID: 3\n",
            "Path: ../../data/dataset-resized\\Metal\\metal102.jpg, Label ID: 3\n",
            "\n",
            "Examples from class: Glass\n",
            "Path: ../../data/dataset-resized\\Glass\\glass1.jpg, Label ID: 4\n",
            "Path: ../../data/dataset-resized\\Glass\\glass10.jpg, Label ID: 4\n",
            "Path: ../../data/dataset-resized\\Glass\\glass100.jpg, Label ID: 4\n",
            "Path: ../../data/dataset-resized\\Glass\\glass101.jpg, Label ID: 4\n",
            "Path: ../../data/dataset-resized\\Glass\\glass102.jpg, Label ID: 4\n",
            "\n",
            "Examples from class: Cardboard\n",
            "Path: ../../data/dataset-resized\\Cardboard\\cardboard1.jpg, Label ID: 5\n",
            "Path: ../../data/dataset-resized\\Cardboard\\cardboard10.jpg, Label ID: 5\n",
            "Path: ../../data/dataset-resized\\Cardboard\\cardboard100.jpg, Label ID: 5\n",
            "Path: ../../data/dataset-resized\\Cardboard\\cardboard101.jpg, Label ID: 5\n",
            "Path: ../../data/dataset-resized\\Cardboard\\cardboard102.jpg, Label ID: 5\n"
          ]
        }
      ],
      "source": [
        "labels_mapping = {'Trash': 0, 'Plastic': 1, 'Paper': 2, 'Metal': 3, 'Glass': 4, 'Cardboard': 5}\n",
        "datasets_by_label = {}\n",
        "data_loaders_by_label = {}\n",
        "\n",
        "for label_name, label_id in labels_mapping.items():\n",
        "    # Filter indices for the current label\n",
        "    indices = [i for i, label in enumerate(labels) if label == label_id]\n",
        "\n",
        "    # Use the indices to create a Subset\n",
        "    subset = Subset(CustomDataset(image_paths, labels, transform=transform), indices)\n",
        "\n",
        "    # Store the subset using the label_name as key\n",
        "    datasets_by_label[label_name] = subset\n",
        "\n",
        "    # Create a DataLoader for the current label's dataset\n",
        "    data_loader = DataLoader(subset, batch_size=32, num_workers=1, shuffle=False)\n",
        "\n",
        "    # Store the DataLoader using the label_name as key\n",
        "    data_loaders_by_label[label_name] = data_loader\n",
        "\n",
        "for label_name, subset in datasets_by_label.items():\n",
        "    print(f\"\\nExamples from class: {label_name}\")\n",
        "\n",
        "    # Get the first few indices from the subset.indices\n",
        "    example_indices = subset.indices[:5]  # Adjust the number of examples as needed\n",
        "\n",
        "    for idx in example_indices:\n",
        "        print(f\"Path: {image_paths[idx]}, Label ID: {labels[idx]}\")"
      ]
    },
    {
      "cell_type": "code",
      "execution_count": 30,
      "metadata": {
        "id": "hOq5pKDjm6pW"
      },
      "outputs": [],
      "source": [
        "def train(train_dataloader, val_dataloader, num_classes, N_epochs=10, lr=1e-5, step_size=15, gamma=0.9):\n",
        "    \"\"\"\n",
        "    Trains and validates a model, saving the model with the best validation accuracy, and records the training and validation performance.\n",
        "\n",
        "    Parameters:\n",
        "    - train_dataloader (DataLoader): DataLoader for training data.\n",
        "    - val_dataloader (DataLoader): DataLoader for validation data.\n",
        "    - num_classes (int): Number of classes in the dataset.\n",
        "    - N_epochs (int): Number of epochs to train for.\n",
        "    - lr (float): Learning rate for the optimizer.\n",
        "    - step_size (int): Step size for the learning rate scheduler.\n",
        "    - gamma (float): Decay rate for the learning rate scheduler.\n",
        "\n",
        "    Returns:\n",
        "    - A dictionary containing the model with the best validation accuracy, training losses, training accuracies, validation losses, and validation accuracies.\n",
        "    \"\"\"\n",
        "\n",
        "    # Set the device to GPU if available, else CPU\n",
        "    device = torch.device(\"cuda\" if torch.cuda.is_available() else \"cpu\")\n",
        "    print(f\"Using device: {device}\")\n",
        "\n",
        "    # If a CUDA-capable device is detected, print its name\n",
        "    if device.type == 'cuda':\n",
        "        gpu_name = torch.cuda.get_device_name(0)\n",
        "        print(f\"NVIDIA Graphics Card: {gpu_name}\")\n",
        "\n",
        "    # Initialize the model and move it to the appropriate device\n",
        "    model = initialize_model(num_classes)\n",
        "    model.to(device)\n",
        "\n",
        "    # Define the loss function and the optimizer\n",
        "    loss_fun = nn.CrossEntropyLoss()\n",
        "    loss_fun.to(device)\n",
        "    optimizer = optim.Adam(params=model.parameters(), lr=lr)\n",
        "\n",
        "    # Define the learning rate scheduler\n",
        "    lr_schedule = lr_scheduler.StepLR(optimizer=optimizer, step_size=step_size, gamma=gamma)\n",
        "\n",
        "    # Initialize lists to store the performance metrics\n",
        "    training_losses = []\n",
        "    training_accuracies = []\n",
        "    validation_losses = []\n",
        "    validation_accuracies = []\n",
        "\n",
        "    # Variable to keep track of the best validation accuracy\n",
        "    best_acc = 0.0\n",
        "    # Variable to store the model weights corresponding to the best validation accuracy\n",
        "    best_model_wts = copy.deepcopy(model.state_dict())\n",
        "\n",
        "    # Training loop\n",
        "    for epoch in tqdm(range(N_epochs)):\n",
        "        model.train()  # Set the model to training mode\n",
        "        train_loss = 0.0\n",
        "        train_correct = 0\n",
        "        total = 0\n",
        "\n",
        "        # Iterate over the training data\n",
        "        for x, y in train_dataloader:\n",
        "            x, y = x.to(device), y.to(device)  # Move data to the correct device\n",
        "            pred = model(x)  # Forward pass: compute the model output\n",
        "            loss = loss_fun(pred, y.long())  # Compute the loss\n",
        "            optimizer.zero_grad()  # Zero the gradients to prevent accumulation\n",
        "            loss.backward()  # Backward pass: compute the gradient of the loss with respect to model parameters\n",
        "            optimizer.step()  # Update model parameters\n",
        "\n",
        "            # Accumulate the training loss and correct predictions to calculate accuracy\n",
        "            train_loss += loss.item()\n",
        "            _, predicted = torch.max(pred, 1)\n",
        "            train_correct += (predicted == y).sum().item()\n",
        "            total += y.size(0)\n",
        "\n",
        "        # Compute the average training loss and accuracy for the epoch\n",
        "        train_loss /= len(train_dataloader)\n",
        "        train_acc = train_correct / total\n",
        "        training_losses.append(train_loss)\n",
        "        training_accuracies.append(train_acc)\n",
        "\n",
        "        # Validate the model\n",
        "        val_loss, val_acc = evaluate_model(model, val_dataloader, loss_fun, device)\n",
        "        validation_losses.append(val_loss)\n",
        "        validation_accuracies.append(val_acc)\n",
        "\n",
        "        # Check if the current model is the best one based on validation loss\n",
        "        if val_acc > best_acc:\n",
        "            best_acc = val_acc\n",
        "            best_model_wts = copy.deepcopy(model.state_dict())\n",
        "\n",
        "        # Update the learning rate\n",
        "        lr_schedule.step()\n",
        "\n",
        "        # Print the performance metrics for the epoch\n",
        "        print(f\"Epoch {epoch+1}/{N_epochs}, Train Loss: {train_loss:.4f}, Train Acc: {train_acc:.4f}, Val Loss: {val_loss:.4f}, Val Acc: {val_acc:.4f}\")\n",
        "\n",
        "    # Load the best model weights\n",
        "    model.load_state_dict(best_model_wts)\n",
        "\n",
        "    # Return the model and performance metrics\n",
        "    return {\n",
        "        \"model\": model,\n",
        "        \"training_losses\": training_losses,\n",
        "        \"training_accuracies\": training_accuracies,\n",
        "        \"validation_losses\": validation_losses,\n",
        "        \"validation_accuracies\": validation_accuracies\n",
        "    }"
      ]
    },
    {
      "cell_type": "code",
      "execution_count": 31,
      "metadata": {
        "colab": {
          "base_uri": "https://localhost:8080/"
        },
        "id": "zIVszh0MRrcI",
        "outputId": "4758e84a-19c1-4ae2-ee3b-d34125216d3f"
      },
      "outputs": [
        {
          "name": "stdout",
          "output_type": "stream",
          "text": [
            "Training with lr=5e-05, batch_size=32, num_epochs=20, step_size=5\n",
            "Using device: cuda\n",
            "NVIDIA Graphics Card: NVIDIA GeForce RTX 2080\n"
          ]
        },
        {
          "name": "stderr",
          "output_type": "stream",
          "text": [
            "  5%|▌         | 1/20 [00:28<08:59, 28.40s/it]"
          ]
        },
        {
          "name": "stdout",
          "output_type": "stream",
          "text": [
            "Epoch 1/20, Train Loss: 1.5269, Train Acc: 0.4918, Val Loss: 1.3397, Val Acc: 0.7231\n"
          ]
        },
        {
          "name": "stderr",
          "output_type": "stream",
          "text": [
            " 10%|█         | 2/20 [00:52<07:47, 25.99s/it]"
          ]
        },
        {
          "name": "stdout",
          "output_type": "stream",
          "text": [
            "Epoch 2/20, Train Loss: 1.0574, Train Acc: 0.7470, Val Loss: 0.9863, Val Acc: 0.7986\n"
          ]
        },
        {
          "name": "stderr",
          "output_type": "stream",
          "text": [
            " 15%|█▌        | 3/20 [01:16<07:07, 25.17s/it]"
          ]
        },
        {
          "name": "stdout",
          "output_type": "stream",
          "text": [
            "Epoch 3/20, Train Loss: 0.7852, Train Acc: 0.7888, Val Loss: 0.7890, Val Acc: 0.8108\n"
          ]
        },
        {
          "name": "stderr",
          "output_type": "stream",
          "text": [
            " 20%|██        | 4/20 [01:41<06:36, 24.79s/it]"
          ]
        },
        {
          "name": "stdout",
          "output_type": "stream",
          "text": [
            "Epoch 4/20, Train Loss: 0.6366, Train Acc: 0.8148, Val Loss: 0.6826, Val Acc: 0.8290\n"
          ]
        },
        {
          "name": "stderr",
          "output_type": "stream",
          "text": [
            " 25%|██▌       | 5/20 [02:04<06:06, 24.44s/it]"
          ]
        },
        {
          "name": "stdout",
          "output_type": "stream",
          "text": [
            "Epoch 5/20, Train Loss: 0.5588, Train Acc: 0.8329, Val Loss: 0.6223, Val Acc: 0.8116\n"
          ]
        },
        {
          "name": "stderr",
          "output_type": "stream",
          "text": [
            " 30%|███       | 6/20 [02:29<05:44, 24.60s/it]"
          ]
        },
        {
          "name": "stdout",
          "output_type": "stream",
          "text": [
            "Epoch 6/20, Train Loss: 0.4906, Train Acc: 0.8701, Val Loss: 0.5688, Val Acc: 0.8611\n"
          ]
        },
        {
          "name": "stderr",
          "output_type": "stream",
          "text": [
            " 35%|███▌      | 7/20 [02:55<05:23, 24.88s/it]"
          ]
        },
        {
          "name": "stdout",
          "output_type": "stream",
          "text": [
            "Epoch 7/20, Train Loss: 0.4575, Train Acc: 0.8617, Val Loss: 0.5443, Val Acc: 0.8542\n"
          ]
        },
        {
          "name": "stderr",
          "output_type": "stream",
          "text": [
            " 40%|████      | 8/20 [03:21<05:03, 25.31s/it]"
          ]
        },
        {
          "name": "stdout",
          "output_type": "stream",
          "text": [
            "Epoch 8/20, Train Loss: 0.4490, Train Acc: 0.8741, Val Loss: 0.5151, Val Acc: 0.8646\n"
          ]
        },
        {
          "name": "stderr",
          "output_type": "stream",
          "text": [
            " 45%|████▌     | 9/20 [03:46<04:38, 25.36s/it]"
          ]
        },
        {
          "name": "stdout",
          "output_type": "stream",
          "text": [
            "Epoch 9/20, Train Loss: 0.4160, Train Acc: 0.8797, Val Loss: 0.5121, Val Acc: 0.8681\n"
          ]
        },
        {
          "name": "stderr",
          "output_type": "stream",
          "text": [
            " 50%|█████     | 10/20 [04:13<04:18, 25.81s/it]"
          ]
        },
        {
          "name": "stdout",
          "output_type": "stream",
          "text": [
            "Epoch 10/20, Train Loss: 0.3832, Train Acc: 0.8916, Val Loss: 0.4860, Val Acc: 0.8542\n"
          ]
        },
        {
          "name": "stderr",
          "output_type": "stream",
          "text": [
            " 55%|█████▌    | 11/20 [04:37<03:46, 25.21s/it]"
          ]
        },
        {
          "name": "stdout",
          "output_type": "stream",
          "text": [
            "Epoch 11/20, Train Loss: 0.3900, Train Acc: 0.8831, Val Loss: 0.4686, Val Acc: 0.8681\n"
          ]
        },
        {
          "name": "stderr",
          "output_type": "stream",
          "text": [
            " 60%|██████    | 12/20 [05:00<03:16, 24.57s/it]"
          ]
        },
        {
          "name": "stdout",
          "output_type": "stream",
          "text": [
            "Epoch 12/20, Train Loss: 0.3752, Train Acc: 0.8814, Val Loss: 0.4661, Val Acc: 0.8655\n"
          ]
        },
        {
          "name": "stderr",
          "output_type": "stream",
          "text": [
            " 65%|██████▌   | 13/20 [05:24<02:49, 24.17s/it]"
          ]
        },
        {
          "name": "stdout",
          "output_type": "stream",
          "text": [
            "Epoch 13/20, Train Loss: 0.3565, Train Acc: 0.8989, Val Loss: 0.4516, Val Acc: 0.8689\n"
          ]
        },
        {
          "name": "stderr",
          "output_type": "stream",
          "text": [
            " 70%|███████   | 14/20 [05:47<02:23, 23.88s/it]"
          ]
        },
        {
          "name": "stdout",
          "output_type": "stream",
          "text": [
            "Epoch 14/20, Train Loss: 0.3537, Train Acc: 0.8938, Val Loss: 0.4371, Val Acc: 0.8646\n"
          ]
        },
        {
          "name": "stderr",
          "output_type": "stream",
          "text": [
            " 75%|███████▌  | 15/20 [06:10<01:58, 23.63s/it]"
          ]
        },
        {
          "name": "stdout",
          "output_type": "stream",
          "text": [
            "Epoch 15/20, Train Loss: 0.3216, Train Acc: 0.8989, Val Loss: 0.4415, Val Acc: 0.8689\n"
          ]
        },
        {
          "name": "stderr",
          "output_type": "stream",
          "text": [
            " 80%|████████  | 16/20 [06:34<01:35, 23.77s/it]"
          ]
        },
        {
          "name": "stdout",
          "output_type": "stream",
          "text": [
            "Epoch 16/20, Train Loss: 0.3153, Train Acc: 0.9040, Val Loss: 0.4294, Val Acc: 0.8655\n"
          ]
        },
        {
          "name": "stderr",
          "output_type": "stream",
          "text": [
            " 85%|████████▌ | 17/20 [06:59<01:12, 24.21s/it]"
          ]
        },
        {
          "name": "stdout",
          "output_type": "stream",
          "text": [
            "Epoch 17/20, Train Loss: 0.3188, Train Acc: 0.8955, Val Loss: 0.4301, Val Acc: 0.8741\n"
          ]
        },
        {
          "name": "stderr",
          "output_type": "stream",
          "text": [
            " 90%|█████████ | 18/20 [07:26<00:50, 25.09s/it]"
          ]
        },
        {
          "name": "stdout",
          "output_type": "stream",
          "text": [
            "Epoch 18/20, Train Loss: 0.2954, Train Acc: 0.9119, Val Loss: 0.4295, Val Acc: 0.8785\n"
          ]
        },
        {
          "name": "stderr",
          "output_type": "stream",
          "text": [
            " 95%|█████████▌| 19/20 [07:51<00:25, 25.04s/it]"
          ]
        },
        {
          "name": "stdout",
          "output_type": "stream",
          "text": [
            "Epoch 19/20, Train Loss: 0.2881, Train Acc: 0.9147, Val Loss: 0.4154, Val Acc: 0.8724\n"
          ]
        },
        {
          "name": "stderr",
          "output_type": "stream",
          "text": [
            "100%|██████████| 20/20 [08:15<00:00, 24.76s/it]"
          ]
        },
        {
          "name": "stdout",
          "output_type": "stream",
          "text": [
            "Epoch 20/20, Train Loss: 0.2960, Train Acc: 0.9113, Val Loss: 0.4062, Val Acc: 0.8802\n",
            "Using device: cuda\n",
            "NVIDIA Graphics Card: NVIDIA GeForce RTX 2080\n"
          ]
        },
        {
          "name": "stderr",
          "output_type": "stream",
          "text": [
            "\n"
          ]
        },
        {
          "name": "stdout",
          "output_type": "stream",
          "text": [
            "Test Loss: 0.4283, Test Accuracy: 0.8597\n",
            "Training with lr=5e-05, batch_size=32, num_epochs=20, step_size=20\n",
            "Using device: cuda\n",
            "NVIDIA Graphics Card: NVIDIA GeForce RTX 2080\n"
          ]
        },
        {
          "name": "stderr",
          "output_type": "stream",
          "text": [
            "  5%|▌         | 1/20 [00:23<07:27, 23.55s/it]"
          ]
        },
        {
          "name": "stdout",
          "output_type": "stream",
          "text": [
            "Epoch 1/20, Train Loss: 1.5231, Train Acc: 0.5319, Val Loss: 1.3513, Val Acc: 0.7205\n"
          ]
        },
        {
          "name": "stderr",
          "output_type": "stream",
          "text": [
            " 10%|█         | 2/20 [00:46<07:02, 23.48s/it]"
          ]
        },
        {
          "name": "stdout",
          "output_type": "stream",
          "text": [
            "Epoch 2/20, Train Loss: 1.0606, Train Acc: 0.7476, Val Loss: 0.9963, Val Acc: 0.7804\n"
          ]
        },
        {
          "name": "stderr",
          "output_type": "stream",
          "text": [
            " 15%|█▌        | 3/20 [01:10<06:38, 23.41s/it]"
          ]
        },
        {
          "name": "stdout",
          "output_type": "stream",
          "text": [
            "Epoch 3/20, Train Loss: 0.8049, Train Acc: 0.7877, Val Loss: 0.8256, Val Acc: 0.7951\n"
          ]
        },
        {
          "name": "stderr",
          "output_type": "stream",
          "text": [
            " 20%|██        | 4/20 [01:33<06:14, 23.38s/it]"
          ]
        },
        {
          "name": "stdout",
          "output_type": "stream",
          "text": [
            "Epoch 4/20, Train Loss: 0.6575, Train Acc: 0.8086, Val Loss: 0.7149, Val Acc: 0.8168\n"
          ]
        },
        {
          "name": "stderr",
          "output_type": "stream",
          "text": [
            " 25%|██▌       | 5/20 [01:57<05:50, 23.38s/it]"
          ]
        },
        {
          "name": "stdout",
          "output_type": "stream",
          "text": [
            "Epoch 5/20, Train Loss: 0.5597, Train Acc: 0.8385, Val Loss: 0.6441, Val Acc: 0.8411\n"
          ]
        },
        {
          "name": "stderr",
          "output_type": "stream",
          "text": [
            " 30%|███       | 6/20 [02:20<05:26, 23.33s/it]"
          ]
        },
        {
          "name": "stdout",
          "output_type": "stream",
          "text": [
            "Epoch 6/20, Train Loss: 0.5027, Train Acc: 0.8543, Val Loss: 0.5830, Val Acc: 0.8498\n"
          ]
        },
        {
          "name": "stderr",
          "output_type": "stream",
          "text": [
            " 35%|███▌      | 7/20 [02:43<05:03, 23.31s/it]"
          ]
        },
        {
          "name": "stdout",
          "output_type": "stream",
          "text": [
            "Epoch 7/20, Train Loss: 0.4813, Train Acc: 0.8560, Val Loss: 0.5539, Val Acc: 0.8498\n"
          ]
        },
        {
          "name": "stderr",
          "output_type": "stream",
          "text": [
            " 40%|████      | 8/20 [03:06<04:39, 23.25s/it]"
          ]
        },
        {
          "name": "stdout",
          "output_type": "stream",
          "text": [
            "Epoch 8/20, Train Loss: 0.4518, Train Acc: 0.8588, Val Loss: 0.5472, Val Acc: 0.8568\n"
          ]
        },
        {
          "name": "stderr",
          "output_type": "stream",
          "text": [
            " 45%|████▌     | 9/20 [03:29<04:14, 23.18s/it]"
          ]
        },
        {
          "name": "stdout",
          "output_type": "stream",
          "text": [
            "Epoch 9/20, Train Loss: 0.4086, Train Acc: 0.8707, Val Loss: 0.5287, Val Acc: 0.8472\n"
          ]
        },
        {
          "name": "stderr",
          "output_type": "stream",
          "text": [
            " 50%|█████     | 10/20 [03:53<03:52, 23.23s/it]"
          ]
        },
        {
          "name": "stdout",
          "output_type": "stream",
          "text": [
            "Epoch 10/20, Train Loss: 0.3891, Train Acc: 0.8842, Val Loss: 0.4856, Val Acc: 0.8568\n"
          ]
        },
        {
          "name": "stderr",
          "output_type": "stream",
          "text": [
            " 55%|█████▌    | 11/20 [04:16<03:29, 23.30s/it]"
          ]
        },
        {
          "name": "stdout",
          "output_type": "stream",
          "text": [
            "Epoch 11/20, Train Loss: 0.3628, Train Acc: 0.8927, Val Loss: 0.4739, Val Acc: 0.8559\n"
          ]
        },
        {
          "name": "stderr",
          "output_type": "stream",
          "text": [
            " 60%|██████    | 12/20 [04:39<03:05, 23.25s/it]"
          ]
        },
        {
          "name": "stdout",
          "output_type": "stream",
          "text": [
            "Epoch 12/20, Train Loss: 0.3677, Train Acc: 0.8797, Val Loss: 0.4756, Val Acc: 0.8594\n"
          ]
        },
        {
          "name": "stderr",
          "output_type": "stream",
          "text": [
            " 65%|██████▌   | 13/20 [05:02<02:43, 23.29s/it]"
          ]
        },
        {
          "name": "stdout",
          "output_type": "stream",
          "text": [
            "Epoch 13/20, Train Loss: 0.3452, Train Acc: 0.8989, Val Loss: 0.4572, Val Acc: 0.8655\n"
          ]
        },
        {
          "name": "stderr",
          "output_type": "stream",
          "text": [
            " 70%|███████   | 14/20 [05:26<02:19, 23.31s/it]"
          ]
        },
        {
          "name": "stdout",
          "output_type": "stream",
          "text": [
            "Epoch 14/20, Train Loss: 0.3292, Train Acc: 0.9012, Val Loss: 0.4499, Val Acc: 0.8672\n"
          ]
        },
        {
          "name": "stderr",
          "output_type": "stream",
          "text": [
            " 75%|███████▌  | 15/20 [05:49<01:56, 23.33s/it]"
          ]
        },
        {
          "name": "stdout",
          "output_type": "stream",
          "text": [
            "Epoch 15/20, Train Loss: 0.2948, Train Acc: 0.9119, Val Loss: 0.4510, Val Acc: 0.8576\n"
          ]
        },
        {
          "name": "stderr",
          "output_type": "stream",
          "text": [
            " 80%|████████  | 16/20 [06:13<01:33, 23.36s/it]"
          ]
        },
        {
          "name": "stdout",
          "output_type": "stream",
          "text": [
            "Epoch 16/20, Train Loss: 0.3155, Train Acc: 0.9040, Val Loss: 0.4508, Val Acc: 0.8672\n"
          ]
        },
        {
          "name": "stderr",
          "output_type": "stream",
          "text": [
            " 85%|████████▌ | 17/20 [06:36<01:10, 23.39s/it]"
          ]
        },
        {
          "name": "stdout",
          "output_type": "stream",
          "text": [
            "Epoch 17/20, Train Loss: 0.2927, Train Acc: 0.9130, Val Loss: 0.4380, Val Acc: 0.8655\n"
          ]
        },
        {
          "name": "stderr",
          "output_type": "stream",
          "text": [
            " 90%|█████████ | 18/20 [07:00<00:46, 23.45s/it]"
          ]
        },
        {
          "name": "stdout",
          "output_type": "stream",
          "text": [
            "Epoch 18/20, Train Loss: 0.2759, Train Acc: 0.9193, Val Loss: 0.4195, Val Acc: 0.8620\n"
          ]
        },
        {
          "name": "stderr",
          "output_type": "stream",
          "text": [
            " 95%|█████████▌| 19/20 [07:23<00:23, 23.37s/it]"
          ]
        },
        {
          "name": "stdout",
          "output_type": "stream",
          "text": [
            "Epoch 19/20, Train Loss: 0.2810, Train Acc: 0.9130, Val Loss: 0.4253, Val Acc: 0.8620\n"
          ]
        },
        {
          "name": "stderr",
          "output_type": "stream",
          "text": [
            "100%|██████████| 20/20 [07:46<00:00, 23.33s/it]"
          ]
        },
        {
          "name": "stdout",
          "output_type": "stream",
          "text": [
            "Epoch 20/20, Train Loss: 0.2801, Train Acc: 0.9125, Val Loss: 0.4248, Val Acc: 0.8689\n",
            "Using device: cuda\n",
            "NVIDIA Graphics Card: NVIDIA GeForce RTX 2080\n"
          ]
        },
        {
          "name": "stderr",
          "output_type": "stream",
          "text": [
            "\n"
          ]
        },
        {
          "name": "stdout",
          "output_type": "stream",
          "text": [
            "Test Loss: 0.4179, Test Accuracy: 0.8720\n",
            "Training with lr=0.0005, batch_size=32, num_epochs=20, step_size=5\n",
            "Using device: cuda\n",
            "NVIDIA Graphics Card: NVIDIA GeForce RTX 2080\n"
          ]
        },
        {
          "name": "stderr",
          "output_type": "stream",
          "text": [
            "  5%|▌         | 1/20 [00:23<07:23, 23.35s/it]"
          ]
        },
        {
          "name": "stdout",
          "output_type": "stream",
          "text": [
            "Epoch 1/20, Train Loss: 0.8211, Train Acc: 0.7222, Val Loss: 0.4929, Val Acc: 0.8602\n"
          ]
        },
        {
          "name": "stderr",
          "output_type": "stream",
          "text": [
            " 10%|█         | 2/20 [00:46<06:59, 23.33s/it]"
          ]
        },
        {
          "name": "stdout",
          "output_type": "stream",
          "text": [
            "Epoch 2/20, Train Loss: 0.4490, Train Acc: 0.8504, Val Loss: 0.5372, Val Acc: 0.8533\n"
          ]
        },
        {
          "name": "stderr",
          "output_type": "stream",
          "text": [
            " 15%|█▌        | 3/20 [01:09<06:33, 23.12s/it]"
          ]
        },
        {
          "name": "stdout",
          "output_type": "stream",
          "text": [
            "Epoch 3/20, Train Loss: 0.3822, Train Acc: 0.8634, Val Loss: 0.4236, Val Acc: 0.8628\n"
          ]
        },
        {
          "name": "stderr",
          "output_type": "stream",
          "text": [
            " 20%|██        | 4/20 [01:32<06:11, 23.19s/it]"
          ]
        },
        {
          "name": "stdout",
          "output_type": "stream",
          "text": [
            "Epoch 4/20, Train Loss: 0.3141, Train Acc: 0.8972, Val Loss: 0.4330, Val Acc: 0.8689\n"
          ]
        },
        {
          "name": "stderr",
          "output_type": "stream",
          "text": [
            " 25%|██▌       | 5/20 [01:56<05:47, 23.19s/it]"
          ]
        },
        {
          "name": "stdout",
          "output_type": "stream",
          "text": [
            "Epoch 5/20, Train Loss: 0.2632, Train Acc: 0.9119, Val Loss: 0.4191, Val Acc: 0.8733\n"
          ]
        },
        {
          "name": "stderr",
          "output_type": "stream",
          "text": [
            " 30%|███       | 6/20 [02:19<05:26, 23.32s/it]"
          ]
        },
        {
          "name": "stdout",
          "output_type": "stream",
          "text": [
            "Epoch 6/20, Train Loss: 0.2625, Train Acc: 0.9113, Val Loss: 0.3590, Val Acc: 0.8958\n"
          ]
        },
        {
          "name": "stderr",
          "output_type": "stream",
          "text": [
            " 35%|███▌      | 7/20 [02:42<05:02, 23.25s/it]"
          ]
        },
        {
          "name": "stdout",
          "output_type": "stream",
          "text": [
            "Epoch 7/20, Train Loss: 0.2194, Train Acc: 0.9294, Val Loss: 0.3872, Val Acc: 0.8741\n"
          ]
        },
        {
          "name": "stderr",
          "output_type": "stream",
          "text": [
            " 40%|████      | 8/20 [03:06<04:39, 23.26s/it]"
          ]
        },
        {
          "name": "stdout",
          "output_type": "stream",
          "text": [
            "Epoch 8/20, Train Loss: 0.2042, Train Acc: 0.9209, Val Loss: 0.4034, Val Acc: 0.8689\n"
          ]
        },
        {
          "name": "stderr",
          "output_type": "stream",
          "text": [
            " 45%|████▌     | 9/20 [03:29<04:16, 23.28s/it]"
          ]
        },
        {
          "name": "stdout",
          "output_type": "stream",
          "text": [
            "Epoch 9/20, Train Loss: 0.2015, Train Acc: 0.9289, Val Loss: 0.4326, Val Acc: 0.8620\n"
          ]
        },
        {
          "name": "stderr",
          "output_type": "stream",
          "text": [
            " 50%|█████     | 10/20 [03:52<03:52, 23.23s/it]"
          ]
        },
        {
          "name": "stdout",
          "output_type": "stream",
          "text": [
            "Epoch 10/20, Train Loss: 0.1951, Train Acc: 0.9289, Val Loss: 0.4107, Val Acc: 0.8663\n"
          ]
        },
        {
          "name": "stderr",
          "output_type": "stream",
          "text": [
            " 55%|█████▌    | 11/20 [04:15<03:28, 23.22s/it]"
          ]
        },
        {
          "name": "stdout",
          "output_type": "stream",
          "text": [
            "Epoch 11/20, Train Loss: 0.1613, Train Acc: 0.9447, Val Loss: 0.3669, Val Acc: 0.8863\n"
          ]
        },
        {
          "name": "stderr",
          "output_type": "stream",
          "text": [
            " 60%|██████    | 12/20 [04:38<03:06, 23.25s/it]"
          ]
        },
        {
          "name": "stdout",
          "output_type": "stream",
          "text": [
            "Epoch 12/20, Train Loss: 0.1291, Train Acc: 0.9577, Val Loss: 0.3453, Val Acc: 0.8906\n"
          ]
        },
        {
          "name": "stderr",
          "output_type": "stream",
          "text": [
            " 65%|██████▌   | 13/20 [05:02<02:43, 23.32s/it]"
          ]
        },
        {
          "name": "stdout",
          "output_type": "stream",
          "text": [
            "Epoch 13/20, Train Loss: 0.1609, Train Acc: 0.9475, Val Loss: 0.3511, Val Acc: 0.8993\n"
          ]
        },
        {
          "name": "stderr",
          "output_type": "stream",
          "text": [
            " 70%|███████   | 14/20 [05:25<02:20, 23.40s/it]"
          ]
        },
        {
          "name": "stdout",
          "output_type": "stream",
          "text": [
            "Epoch 14/20, Train Loss: 0.1594, Train Acc: 0.9424, Val Loss: 0.3466, Val Acc: 0.8967\n"
          ]
        },
        {
          "name": "stderr",
          "output_type": "stream",
          "text": [
            " 75%|███████▌  | 15/20 [05:48<01:55, 23.16s/it]"
          ]
        },
        {
          "name": "stdout",
          "output_type": "stream",
          "text": [
            "Epoch 15/20, Train Loss: 0.1338, Train Acc: 0.9526, Val Loss: 0.3538, Val Acc: 0.8906\n"
          ]
        },
        {
          "name": "stderr",
          "output_type": "stream",
          "text": [
            " 80%|████████  | 16/20 [06:11<01:32, 23.08s/it]"
          ]
        },
        {
          "name": "stdout",
          "output_type": "stream",
          "text": [
            "Epoch 16/20, Train Loss: 0.1232, Train Acc: 0.9605, Val Loss: 0.3437, Val Acc: 0.8872\n"
          ]
        },
        {
          "name": "stderr",
          "output_type": "stream",
          "text": [
            " 85%|████████▌ | 17/20 [06:34<01:09, 23.06s/it]"
          ]
        },
        {
          "name": "stdout",
          "output_type": "stream",
          "text": [
            "Epoch 17/20, Train Loss: 0.1103, Train Acc: 0.9650, Val Loss: 0.3527, Val Acc: 0.8984\n"
          ]
        },
        {
          "name": "stderr",
          "output_type": "stream",
          "text": [
            " 90%|█████████ | 18/20 [06:57<00:46, 23.16s/it]"
          ]
        },
        {
          "name": "stdout",
          "output_type": "stream",
          "text": [
            "Epoch 18/20, Train Loss: 0.1207, Train Acc: 0.9610, Val Loss: 0.3902, Val Acc: 0.8759\n"
          ]
        },
        {
          "name": "stderr",
          "output_type": "stream",
          "text": [
            " 95%|█████████▌| 19/20 [07:26<00:24, 24.92s/it]"
          ]
        },
        {
          "name": "stdout",
          "output_type": "stream",
          "text": [
            "Epoch 19/20, Train Loss: 0.1074, Train Acc: 0.9656, Val Loss: 0.3671, Val Acc: 0.9019\n"
          ]
        },
        {
          "name": "stderr",
          "output_type": "stream",
          "text": [
            "100%|██████████| 20/20 [07:49<00:00, 23.50s/it]"
          ]
        },
        {
          "name": "stdout",
          "output_type": "stream",
          "text": [
            "Epoch 20/20, Train Loss: 0.1134, Train Acc: 0.9633, Val Loss: 0.3615, Val Acc: 0.9010\n",
            "Using device: cuda\n",
            "NVIDIA Graphics Card: NVIDIA GeForce RTX 2080\n"
          ]
        },
        {
          "name": "stderr",
          "output_type": "stream",
          "text": [
            "\n"
          ]
        },
        {
          "name": "stdout",
          "output_type": "stream",
          "text": [
            "Test Loss: 0.3764, Test Accuracy: 0.8943\n",
            "Training with lr=0.0005, batch_size=32, num_epochs=20, step_size=20\n",
            "Using device: cuda\n",
            "NVIDIA Graphics Card: NVIDIA GeForce RTX 2080\n"
          ]
        },
        {
          "name": "stderr",
          "output_type": "stream",
          "text": [
            "  5%|▌         | 1/20 [00:25<07:59, 25.25s/it]"
          ]
        },
        {
          "name": "stdout",
          "output_type": "stream",
          "text": [
            "Epoch 1/20, Train Loss: 0.8143, Train Acc: 0.7177, Val Loss: 0.5368, Val Acc: 0.8403\n"
          ]
        },
        {
          "name": "stderr",
          "output_type": "stream",
          "text": [
            " 10%|█         | 2/20 [00:47<07:00, 23.38s/it]"
          ]
        },
        {
          "name": "stdout",
          "output_type": "stream",
          "text": [
            "Epoch 2/20, Train Loss: 0.4198, Train Acc: 0.8538, Val Loss: 0.4884, Val Acc: 0.8611\n"
          ]
        },
        {
          "name": "stderr",
          "output_type": "stream",
          "text": [
            " 15%|█▌        | 3/20 [01:09<06:26, 22.75s/it]"
          ]
        },
        {
          "name": "stdout",
          "output_type": "stream",
          "text": [
            "Epoch 3/20, Train Loss: 0.3551, Train Acc: 0.8741, Val Loss: 0.4772, Val Acc: 0.8524\n"
          ]
        },
        {
          "name": "stderr",
          "output_type": "stream",
          "text": [
            " 20%|██        | 4/20 [01:31<05:59, 22.49s/it]"
          ]
        },
        {
          "name": "stdout",
          "output_type": "stream",
          "text": [
            "Epoch 4/20, Train Loss: 0.2637, Train Acc: 0.9147, Val Loss: 0.4180, Val Acc: 0.8646\n"
          ]
        },
        {
          "name": "stderr",
          "output_type": "stream",
          "text": [
            " 25%|██▌       | 5/20 [01:53<05:37, 22.52s/it]"
          ]
        },
        {
          "name": "stdout",
          "output_type": "stream",
          "text": [
            "Epoch 5/20, Train Loss: 0.3522, Train Acc: 0.8831, Val Loss: 0.4006, Val Acc: 0.8854\n"
          ]
        },
        {
          "name": "stderr",
          "output_type": "stream",
          "text": [
            " 30%|███       | 6/20 [02:16<05:13, 22.43s/it]"
          ]
        },
        {
          "name": "stdout",
          "output_type": "stream",
          "text": [
            "Epoch 6/20, Train Loss: 0.2636, Train Acc: 0.9102, Val Loss: 0.3930, Val Acc: 0.8707\n"
          ]
        },
        {
          "name": "stderr",
          "output_type": "stream",
          "text": [
            " 35%|███▌      | 7/20 [02:38<04:51, 22.39s/it]"
          ]
        },
        {
          "name": "stdout",
          "output_type": "stream",
          "text": [
            "Epoch 7/20, Train Loss: 0.2343, Train Acc: 0.9226, Val Loss: 0.4187, Val Acc: 0.8707\n"
          ]
        },
        {
          "name": "stderr",
          "output_type": "stream",
          "text": [
            " 40%|████      | 8/20 [03:00<04:27, 22.30s/it]"
          ]
        },
        {
          "name": "stdout",
          "output_type": "stream",
          "text": [
            "Epoch 8/20, Train Loss: 0.1876, Train Acc: 0.9413, Val Loss: 0.4116, Val Acc: 0.8516\n"
          ]
        },
        {
          "name": "stderr",
          "output_type": "stream",
          "text": [
            " 45%|████▌     | 9/20 [03:22<04:05, 22.31s/it]"
          ]
        },
        {
          "name": "stdout",
          "output_type": "stream",
          "text": [
            "Epoch 9/20, Train Loss: 0.1955, Train Acc: 0.9334, Val Loss: 0.4067, Val Acc: 0.8741\n"
          ]
        },
        {
          "name": "stderr",
          "output_type": "stream",
          "text": [
            " 50%|█████     | 10/20 [03:43<03:37, 21.72s/it]"
          ]
        },
        {
          "name": "stdout",
          "output_type": "stream",
          "text": [
            "Epoch 10/20, Train Loss: 0.2048, Train Acc: 0.9266, Val Loss: 0.3954, Val Acc: 0.8785\n"
          ]
        },
        {
          "name": "stderr",
          "output_type": "stream",
          "text": [
            " 55%|█████▌    | 11/20 [04:00<03:03, 20.35s/it]"
          ]
        },
        {
          "name": "stdout",
          "output_type": "stream",
          "text": [
            "Epoch 11/20, Train Loss: 0.1773, Train Acc: 0.9401, Val Loss: 0.4020, Val Acc: 0.8672\n"
          ]
        },
        {
          "name": "stderr",
          "output_type": "stream",
          "text": [
            " 60%|██████    | 12/20 [04:17<02:34, 19.31s/it]"
          ]
        },
        {
          "name": "stdout",
          "output_type": "stream",
          "text": [
            "Epoch 12/20, Train Loss: 0.1504, Train Acc: 0.9526, Val Loss: 0.3722, Val Acc: 0.8811\n"
          ]
        },
        {
          "name": "stderr",
          "output_type": "stream",
          "text": [
            " 65%|██████▌   | 13/20 [04:34<02:10, 18.69s/it]"
          ]
        },
        {
          "name": "stdout",
          "output_type": "stream",
          "text": [
            "Epoch 13/20, Train Loss: 0.1264, Train Acc: 0.9610, Val Loss: 0.3863, Val Acc: 0.8776\n"
          ]
        },
        {
          "name": "stderr",
          "output_type": "stream",
          "text": [
            " 70%|███████   | 14/20 [04:51<01:49, 18.21s/it]"
          ]
        },
        {
          "name": "stdout",
          "output_type": "stream",
          "text": [
            "Epoch 14/20, Train Loss: 0.1414, Train Acc: 0.9548, Val Loss: 0.4185, Val Acc: 0.8767\n"
          ]
        },
        {
          "name": "stderr",
          "output_type": "stream",
          "text": [
            " 75%|███████▌  | 15/20 [05:08<01:29, 17.85s/it]"
          ]
        },
        {
          "name": "stdout",
          "output_type": "stream",
          "text": [
            "Epoch 15/20, Train Loss: 0.1207, Train Acc: 0.9582, Val Loss: 0.3606, Val Acc: 0.8880\n"
          ]
        },
        {
          "name": "stderr",
          "output_type": "stream",
          "text": [
            " 80%|████████  | 16/20 [05:25<01:10, 17.58s/it]"
          ]
        },
        {
          "name": "stdout",
          "output_type": "stream",
          "text": [
            "Epoch 16/20, Train Loss: 0.1401, Train Acc: 0.9497, Val Loss: 0.3866, Val Acc: 0.8759\n"
          ]
        },
        {
          "name": "stderr",
          "output_type": "stream",
          "text": [
            " 85%|████████▌ | 17/20 [05:42<00:52, 17.41s/it]"
          ]
        },
        {
          "name": "stdout",
          "output_type": "stream",
          "text": [
            "Epoch 17/20, Train Loss: 0.1131, Train Acc: 0.9639, Val Loss: 0.3342, Val Acc: 0.8811\n"
          ]
        },
        {
          "name": "stderr",
          "output_type": "stream",
          "text": [
            " 90%|█████████ | 18/20 [05:59<00:34, 17.29s/it]"
          ]
        },
        {
          "name": "stdout",
          "output_type": "stream",
          "text": [
            "Epoch 18/20, Train Loss: 0.1156, Train Acc: 0.9610, Val Loss: 0.3784, Val Acc: 0.8950\n"
          ]
        },
        {
          "name": "stderr",
          "output_type": "stream",
          "text": [
            " 95%|█████████▌| 19/20 [06:16<00:17, 17.14s/it]"
          ]
        },
        {
          "name": "stdout",
          "output_type": "stream",
          "text": [
            "Epoch 19/20, Train Loss: 0.1146, Train Acc: 0.9605, Val Loss: 0.3511, Val Acc: 0.8802\n"
          ]
        },
        {
          "name": "stderr",
          "output_type": "stream",
          "text": [
            "100%|██████████| 20/20 [06:33<00:00, 19.70s/it]"
          ]
        },
        {
          "name": "stdout",
          "output_type": "stream",
          "text": [
            "Epoch 20/20, Train Loss: 0.1105, Train Acc: 0.9667, Val Loss: 0.3609, Val Acc: 0.8837\n",
            "Using device: cuda\n",
            "NVIDIA Graphics Card: NVIDIA GeForce RTX 2080\n"
          ]
        },
        {
          "name": "stderr",
          "output_type": "stream",
          "text": [
            "\n"
          ]
        },
        {
          "name": "stdout",
          "output_type": "stream",
          "text": [
            "Test Loss: 0.3892, Test Accuracy: 0.8817\n",
            "Assuming peak performance of 9.76 TFLOP/s and average utilization of 0.2:\n",
            "Total training time: 1845.6441857814789 seconds\n",
            "Total compute units: 1.0007492918459575 TFLOP-hours\n",
            "Best performing model on testing set: {'lr': 0.0005, 'batch_size': 32, 'num_epochs': 20} with accuracy: 0.8943452380952381\n"
          ]
        }
      ],
      "source": [
        "# Create dataset objects for training, validation, and testing\n",
        "train_dataset = CustomDataset(train_paths, train_labels, transform=training_transform)\n",
        "val_dataset = CustomDataset(val_paths, val_labels, transform=transform)\n",
        "test_dataset = CustomDataset(test_paths, test_labels, transform=transform)\n",
        "\n",
        "# Define the hyperparameter grid\n",
        "learning_rates = [5e-5, 5e-4]  # CV learning rates\n",
        "batch_sizes = [32]  # CV batch sizes\n",
        "num_epochs_list = [20]  # CV number of epochs\n",
        "step_sizes = [5, 20]  # CV step sizes\n",
        "\n",
        "# Record the best performance and metrics\n",
        "best_acc = 0\n",
        "best_hyperparams = None\n",
        "best_model_info = {}\n",
        "\n",
        "# Record time for compute calculations later.\n",
        "start_time = time.time()\n",
        "\n",
        "# VERY IMPORTANT TO BE AWARE OF THE FLUCTUATIONS IN THE GPU UTILIZATION AND THE PEAK PERFORMANCE.\n",
        "# IF THIS IS BEING RUN SOMEWHERE ELSE THIS MUST BE UPDATED.\n",
        "# THESE VALUES ARE FOR THE NVIDIA GEFORCE RTX 3050 Ti ON NIKOLAJ'S LAPTOP. NOT UNIVERSAL AND ALSO THE AVERAGE UTALIZATION IS A GUESS FROM MY EXPERIENCE.\n",
        "peak_performance_tflops = 9.76 # Hypothetical peak performance in TFLOP/s of NVIDIA GeForce RTX 3050 Ti\n",
        "average_utilization = 0.20  # Assumed average (from my experience on task manager)\n",
        "\n",
        "# Iterate over all combinations of hyperparameters\n",
        "for lr, batch_size, num_epochs, step_size in itertools.product(learning_rates, batch_sizes, num_epochs_list, step_sizes):\n",
        "    print(f\"Training with lr={lr}, batch_size={batch_size}, num_epochs={num_epochs}, step_size={step_size}\")\n",
        "\n",
        "    # Create data loaders for batching, shuffling, and iterating over the datasets\n",
        "    train_dataloader = DataLoader(train_dataset, batch_size=batch_size, shuffle=True)\n",
        "    val_dataloader = DataLoader(val_dataset, batch_size=batch_size, shuffle=True)\n",
        "    test_dataloader = DataLoader(test_dataset, batch_size=batch_size, shuffle=True)\n",
        "\n",
        "    # Train the model with the current set of hyperparameters\n",
        "    results = train(train_dataloader=train_dataloader, val_dataloader=val_dataloader, num_classes=6, N_epochs=num_epochs, lr=lr, step_size=step_size)\n",
        "    model = results[\"model\"]\n",
        "\n",
        "    # Evaluate the model on the testing set\n",
        "    loss_fun = nn.CrossEntropyLoss()\n",
        "    device = torch.device(\"cuda\" if torch.cuda.is_available() else \"cpu\")\n",
        "    print(f\"Using device: {device}\")\n",
        "\n",
        "    if device.type == 'cuda':\n",
        "        gpu_name = torch.cuda.get_device_name(0)\n",
        "        print(f\"NVIDIA Graphics Card: {gpu_name}\")\n",
        "\n",
        "    test_loss, test_acc = evaluate_model(model, test_dataloader, loss_fun, device)\n",
        "\n",
        "    print(f\"Test Loss: {test_loss:.4f}, Test Accuracy: {test_acc:.4f}\")\n",
        "\n",
        "    # Save the model and metrics if it has the best accuracy so far on the testing set\n",
        "    if test_acc > best_acc:\n",
        "        best_acc = test_acc\n",
        "        best_hyperparams = {'lr': lr, 'batch_size': batch_size, 'num_epochs': num_epochs}\n",
        "        best_model_info = {\n",
        "            \"state_dict\": copy.deepcopy(model.state_dict()),\n",
        "            \"training_losses\": results[\"training_losses\"],\n",
        "            \"training_accuracies\": results[\"training_accuracies\"],\n",
        "            \"validation_losses\": results[\"validation_losses\"],\n",
        "            \"validation_accuracies\": results[\"validation_accuracies\"]\n",
        "        }\n",
        "\n",
        "\n",
        "end_time = time.time() # end time in seconds\n",
        "total_time = end_time - start_time # total time in seconds\n",
        "total_compute_units_tflops = peak_performance_tflops * average_utilization * total_time # total compute in TFLOP/s\n",
        "\n",
        "# Convert TFLOPs to TFLOP-hours by dividing by the number of seconds in an hour\n",
        "total_compute_units_tfloph = total_compute_units_tflops / 3600\n",
        "\n",
        "print(f\"Assuming peak performance of {peak_performance_tflops} TFLOP/s and average utilization of {average_utilization}:\")\n",
        "print(f\"Total training time: {total_time} seconds\")\n",
        "print(f\"Total compute units: {total_compute_units_tfloph} TFLOP-hours\")\n",
        "\n",
        "# Output the best performing set of hyperparameters based on the testing dataset\n",
        "print(f\"Best performing model on testing set: {best_hyperparams} with accuracy: {best_acc}\")\n",
        "\n",
        "# Save the best model and associated metrics\n",
        "torch.save(best_model_info, 'EfficientNetB5_best_model.pth')"
      ]
    },
    {
      "cell_type": "code",
      "execution_count": 32,
      "metadata": {
        "id": "lp72KpgfRrcJ"
      },
      "outputs": [
        {
          "data": {
            "image/png": "[encoded data removed]",
            "text/plain": [
              "<Figure size 1000x600 with 1 Axes>"
            ]
          },
          "metadata": {},
          "output_type": "display_data"
        },
        {
          "data": {
            "image/png": "[encoded data removed]",
            "text/plain": [
              "<Figure size 1000x600 with 1 Axes>"
            ]
          },
          "metadata": {},
          "output_type": "display_data"
        }
      ],
      "source": [
        "# Load the best model info\n",
        "best_model_info = torch.load('EfficientNetB5_best_model.pth')\n",
        "\n",
        "# Extract the metrics from the loaded model info\n",
        "training_losses = best_model_info['training_losses']\n",
        "training_accuracies = best_model_info['training_accuracies']\n",
        "validation_losses = best_model_info['validation_losses']\n",
        "validation_accuracies = best_model_info['validation_accuracies']\n",
        "num_epochs = len(training_losses)\n",
        "\n",
        "# Define the epochs array\n",
        "epochs = np.arange(1, num_epochs + 1)\n",
        "\n",
        "# Define the colors for the plot\n",
        "color_loss = 'blue'\n",
        "color_val_loss = 'orange'\n",
        "color_acc = 'green'\n",
        "color_val_acc = 'red'\n",
        "\n",
        "# Plot for Loss\n",
        "plt.figure(figsize=(10, 6))\n",
        "plt.title('Training & Validation Loss')\n",
        "plt.xlabel('Epoch')\n",
        "plt.ylabel('Loss')\n",
        "plt.plot(epochs, training_losses, label='Training Loss', marker='o', color=color_loss)\n",
        "plt.plot(epochs, validation_losses, label='Validation Loss', marker='x', color=color_val_loss)\n",
        "plt.legend()\n",
        "plt.tight_layout()\n",
        "plt.show()\n",
        "\n",
        "# Plot for Accuracy\n",
        "plt.figure(figsize=(10, 6))\n",
        "plt.title('Training & Validation Accuracy')\n",
        "plt.xlabel('Epoch')\n",
        "plt.ylabel('Accuracy')\n",
        "plt.plot(epochs, training_accuracies, label='Training Accuracy', marker='o', color=color_acc)\n",
        "plt.plot(epochs, validation_accuracies, label='Validation Accuracy', marker='x', color=color_val_acc)\n",
        "plt.legend()\n",
        "plt.tight_layout()\n",
        "plt.show()"
      ]
    },
    {
      "cell_type": "code",
      "execution_count": 33,
      "metadata": {
        "id": "HWIHMHrqRrcJ"
      },
      "outputs": [
        {
          "name": "stdout",
          "output_type": "stream",
          "text": [
            "Image Path: ../../data/dataset-resized\\Trash\\trash129.jpg, Actual Label: Trash, Predicted Label: Plastic\n",
            "Image Path: ../../data/dataset-resized\\Trash\\trash98.jpg, Actual Label: Trash, Predicted Label: Paper\n",
            "Image Path: ../../data/dataset-resized\\Plastic\\plastic465.jpg, Actual Label: Plastic, Predicted Label: Paper\n",
            "Image Path: ../../data/dataset-resized\\Glass\\glass288.jpg, Actual Label: Glass, Predicted Label: Plastic\n",
            "Image Path: ../../data/dataset-resized\\Plastic\\plastic413.jpg, Actual Label: Plastic, Predicted Label: Glass\n",
            "Image Path: ../../data/dataset-resized\\Cardboard\\cardboard366.jpg, Actual Label: Cardboard, Predicted Label: Plastic\n",
            "Image Path: ../../data/dataset-resized\\Metal\\metal296.jpg, Actual Label: Metal, Predicted Label: Glass\n",
            "Image Path: ../../data/dataset-resized\\Glass\\glass286.jpg, Actual Label: Paper, Predicted Label: Cardboard\n",
            "Image Path: ../../data/dataset-resized\\Paper\\paper44.jpg, Actual Label: Paper, Predicted Label: Trash\n",
            "Image Path: ../../data/dataset-resized\\Glass\\glass278.jpg, Actual Label: Plastic, Predicted Label: Glass\n",
            "Image Path: ../../data/dataset-resized\\Cardboard\\cardboard209.jpg, Actual Label: Cardboard, Predicted Label: Paper\n",
            "Image Path: ../../data/dataset-resized\\Metal\\metal296.jpg, Actual Label: Cardboard, Predicted Label: Paper\n",
            "Image Path: ../../data/dataset-resized\\Trash\\trash98.jpg, Actual Label: Cardboard, Predicted Label: Plastic\n",
            "Image Path: ../../data/dataset-resized\\Paper\\paper160.jpg, Actual Label: Metal, Predicted Label: Glass\n",
            "Image Path: ../../data/dataset-resized\\Metal\\metal380.jpg, Actual Label: Plastic, Predicted Label: Glass\n",
            "Image Path: ../../data/dataset-resized\\Plastic\\plastic65.jpg, Actual Label: Glass, Predicted Label: Metal\n",
            "Image Path: ../../data/dataset-resized\\Plastic\\plastic465.jpg, Actual Label: Cardboard, Predicted Label: Paper\n",
            "Image Path: ../../data/dataset-resized\\Cardboard\\cardboard367.jpg, Actual Label: Metal, Predicted Label: Glass\n",
            "Image Path: ../../data/dataset-resized\\Cardboard\\cardboard10.jpg, Actual Label: Plastic, Predicted Label: Metal\n",
            "Image Path: ../../data/dataset-resized\\Paper\\paper142.jpg, Actual Label: Plastic, Predicted Label: Metal\n",
            "Image Path: ../../data/dataset-resized\\Plastic\\plastic406.jpg, Actual Label: Trash, Predicted Label: Paper\n",
            "Image Path: ../../data/dataset-resized\\Metal\\metal380.jpg, Actual Label: Trash, Predicted Label: Paper\n",
            "Image Path: ../../data/dataset-resized\\Metal\\metal145.jpg, Actual Label: Cardboard, Predicted Label: Metal\n",
            "Image Path: ../../data/dataset-resized\\Glass\\glass278.jpg, Actual Label: Trash, Predicted Label: Paper\n",
            "Image Path: ../../data/dataset-resized\\Cardboard\\cardboard367.jpg, Actual Label: Plastic, Predicted Label: Metal\n",
            "Image Path: ../../data/dataset-resized\\Cardboard\\cardboard209.jpg, Actual Label: Metal, Predicted Label: Plastic\n",
            "Image Path: ../../data/dataset-resized\\Plastic\\plastic99.jpg, Actual Label: Glass, Predicted Label: Plastic\n",
            "Image Path: ../../data/dataset-resized\\Plastic\\plastic65.jpg, Actual Label: Plastic, Predicted Label: Glass\n",
            "Image Path: ../../data/dataset-resized\\Glass\\glass125.jpg, Actual Label: Plastic, Predicted Label: Paper\n",
            "Image Path: ../../data/dataset-resized\\Glass\\glass278.jpg, Actual Label: Metal, Predicted Label: Plastic\n",
            "Image Path: ../../data/dataset-resized\\Trash\\trash129.jpg, Actual Label: Cardboard, Predicted Label: Paper\n",
            "Image Path: ../../data/dataset-resized\\Metal\\metal380.jpg, Actual Label: Glass, Predicted Label: Plastic\n",
            "Image Path: ../../data/dataset-resized\\Plastic\\plastic65.jpg, Actual Label: Trash, Predicted Label: Paper\n",
            "Image Path: ../../data/dataset-resized\\Cardboard\\cardboard6.jpg, Actual Label: Plastic, Predicted Label: Glass\n",
            "Image Path: ../../data/dataset-resized\\Plastic\\plastic276.jpg, Actual Label: Plastic, Predicted Label: Metal\n",
            "Image Path: ../../data/dataset-resized\\Metal\\metal296.jpg, Actual Label: Trash, Predicted Label: Paper\n",
            "Image Path: ../../data/dataset-resized\\Paper\\paper97.jpg, Actual Label: Plastic, Predicted Label: Trash\n",
            "Image Path: ../../data/dataset-resized\\Trash\\trash129.jpg, Actual Label: Trash, Predicted Label: Paper\n",
            "Image Path: ../../data/dataset-resized\\Trash\\trash23.jpg, Actual Label: Plastic, Predicted Label: Glass\n",
            "Image Path: ../../data/dataset-resized\\Cardboard\\cardboard10.jpg, Actual Label: Metal, Predicted Label: Glass\n"
          ]
        }
      ],
      "source": [
        "# Load the best model from the saved state dictionary\n",
        "num_classes = 6\n",
        "categories = ['Trash', 'Plastic', 'Paper', 'Metal', 'Glass', 'Cardboard']\n",
        "best_model = initialize_model(num_classes)\n",
        "best_model.load_state_dict(best_model_info['state_dict'])\n",
        "\n",
        "# load the test dataset\n",
        "test_dataloader = DataLoader(test_dataset, batch_size=32, shuffle=False)\n",
        "\n",
        "# Assuming device setup is already done (use CUDA if available)\n",
        "device = torch.device(\"cuda\" if torch.cuda.is_available() else \"cpu\")\n",
        "best_model.to(device)\n",
        "\n",
        "# Call the misclassified_labels function\n",
        "misclassified_samples = misclassified_labels(best_model, test_dataloader, device)\n",
        "\n",
        "# Print some of the misclassified samples to verify\n",
        "for sample in misclassified_samples[:100]:  # Just print the first 10 misclassified samples\n",
        "    print(f\"Image Path: {sample[0]}, Actual Label: {categories[sample[1]]}, Predicted Label: {categories[sample[2]]}\")"
      ]
    }
  ],
  "metadata": {
    "accelerator": "GPU",
    "colab": {
      "gpuType": "T4",
      "provenance": []
    },
    "kernelspec": {
      "display_name": "Python 3",
      "name": "python3"
    },
    "language_info": {
      "codemirror_mode": {
        "name": "ipython",
        "version": 3
      },
      "file_extension": ".py",
      "mimetype": "text/x-python",
      "name": "python",
      "nbconvert_exporter": "python",
      "pygments_lexer": "ipython3",
      "version": "3.11.5"
    }
  },
  "nbformat": 4,
  "nbformat_minor": 0
}
