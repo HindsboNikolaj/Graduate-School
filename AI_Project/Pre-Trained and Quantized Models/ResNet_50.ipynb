{
  "cells": [
    {
      "cell_type": "code",
      "execution_count": 60,
      "metadata": {
        "id": "9uaq5FM4XUzm"
      },
      "outputs": [],
      "source": [
        "# Standard Libraries\n",
        "import copy\n",
        "import itertools\n",
        "import os\n",
        "import time\n",
        "from tempfile import TemporaryDirectory\n",
        "\n",
        "# 3rd Party Libraries\n",
        "import matplotlib.pyplot as plt\n",
        "import numpy as np\n",
        "import pandas as pd\n",
        "import timm\n",
        "import torch\n",
        "import torchvision\n",
        "import pickle\n",
        "from PIL import Image\n",
        "from sklearn.model_selection import train_test_split\n",
        "from torch import nn, optim\n",
        "from torch.optim import lr_scheduler\n",
        "from torch.utils.data import DataLoader, Dataset, Subset\n",
        "from torchvision import datasets, models, transforms\n",
        "from torchvision.io import read_image\n",
        "from tqdm import tqdm"
      ]
    },
    {
      "cell_type": "markdown",
      "metadata": {
        "id": "gVgczbe4Ht-x"
      },
      "source": [
        "## 1) Custom Dataset to process labeled info (The data is already pre-processed and labeled from the segmentation driver). "
      ]
    },
    {
      "cell_type": "code",
      "execution_count": 62,
      "metadata": {
        "id": "-XBMP9DrH-ey"
      },
      "outputs": [],
      "source": [
        "class CustomDataset(Dataset):\n",
        "    \"\"\"\n",
        "    A custom dataset class that extends PyTorch's Dataset class for image loading and preprocessing.\n",
        "\n",
        "    Attributes:\n",
        "    - image_paths (list): List of paths to the images.\n",
        "    - labels (list): List of labels corresponding to the images.\n",
        "    - transform (callable, optional): Optional transform to be applied on a sample.\n",
        "    \"\"\"\n",
        "\n",
        "    def __init__(self, image_paths, labels, transform=None):\n",
        "        \"\"\"\n",
        "        Initializes the dataset with images and labels.\n",
        "\n",
        "        Parameters:\n",
        "        - image_paths (list): List of paths to the images.\n",
        "        - labels (list): List of labels for the images.\n",
        "        - transform (callable, optional): Optional transform to apply on images.\n",
        "        \"\"\"\n",
        "\n",
        "        self.image_paths = image_paths\n",
        "        self.labels = labels\n",
        "        self.transform = transform\n",
        "\n",
        "    def __len__(self):\n",
        "        \"\"\"\n",
        "        Returns the total number of samples in the dataset.\n",
        "        \"\"\"\n",
        "\n",
        "        return len(self.image_paths)\n",
        "\n",
        "    def __getitem__(self, index):\n",
        "        \"\"\"\n",
        "        Retrieves an image and its label from the dataset at the specified index.\n",
        "\n",
        "        Parameters:\n",
        "        - index (int): Index of the image and label to return.\n",
        "\n",
        "        Returns:\n",
        "        - tuple: A tuple containing the image and its label.\n",
        "        \"\"\"\n",
        "\n",
        "        image_path = self.image_paths[index]\n",
        "    \n",
        "        # Print the image path for debugging\n",
        "        # print(f\"Accessing image: {image_path}\")\n",
        "\n",
        "        # Check if the file exists\n",
        "        if not os.path.exists(image_path):\n",
        "            raise FileNotFoundError(f\"The file {image_path} does not exist.\")\n",
        "\n",
        "        # Attempt to open the image file\n",
        "        try:\n",
        "            image = Image.open(image_path).convert(\"RGB\")\n",
        "        except Exception as e:\n",
        "            # If an error occurs, print the error and the problematic file path\n",
        "            print(f\"Error opening image at {image_path}: {e}\")\n",
        "            raise\n",
        "\n",
        "        if self.transform:\n",
        "            image = self.transform(image)\n",
        "\n",
        "        label = torch.tensor(self.labels[index], dtype=torch.long)\n",
        "        return image, label"
      ]
    },
    {
      "cell_type": "markdown",
      "metadata": {},
      "source": [
        "### Helper functions to load / show data"
      ]
    },
    {
      "cell_type": "code",
      "execution_count": 63,
      "metadata": {
        "id": "i4YV0LyMKQ26"
      },
      "outputs": [],
      "source": [
        "# Function for displaying an image, currently not used in the main workflow\n",
        "def imshow(inp, title=None):\n",
        "    \"\"\"\n",
        "    Displays an image with an optional title.\n",
        "\n",
        "    Parameters:\n",
        "    - inp (Tensor): The image tensor to display.\n",
        "    - title (str, optional): Optional title to display above the image.\n",
        "    \"\"\"\n",
        "\n",
        "    inp = inp.numpy().transpose((1, 2, 0))\n",
        "    plt.imshow(inp)\n",
        "    if title is not None:\n",
        "        plt.title(title)\n",
        "    plt.pause(0.001)  # Pause to update the plot\n",
        "\n",
        "def load_data_from_pickle(file_path):\n",
        "    \"\"\"\n",
        "    Load data from a pickle file.\n",
        "\n",
        "    Args:\n",
        "        file_path (str): The path to the pickle file.\n",
        "\n",
        "    Returns:\n",
        "        tuple: A tuple containing the image paths and labels loaded from the pickle file.\n",
        "    \"\"\"\n",
        "    with open(file_path, 'rb') as file:\n",
        "        image_paths, labels = pickle.load(file)\n",
        "    return image_paths, labels"
      ]
    },
    {
      "cell_type": "markdown",
      "metadata": {},
      "source": [
        "## 2) Loading train/validation/test data paths and labels"
      ]
    },
    {
      "cell_type": "code",
      "execution_count": 64,
      "metadata": {
        "id": "tpuPFL1Hteav"
      },
      "outputs": [],
      "source": [
        "# The data is split into 70% training, 15% validation, and 15% testing, accoridng to the segment and split that happens in the other file.\n",
        "# The data is loaded from the pickle files\n",
        "\n",
        "train_file = 'full_dataset_segmented_train_data.pkl'\n",
        "val_file = 'full_dataset_segmented_val_data.pkl'\n",
        "test_file = 'full_dataset_segmented_test_data.pkl'\n",
        "\n",
        "train_paths, train_labels = load_data_from_pickle(train_file)\n",
        "val_paths, val_labels = load_data_from_pickle(val_file)\n",
        "test_paths, test_labels = load_data_from_pickle(test_file)\n",
        "\n",
        "# And all combined ( to make sure the data is loaded correctly )\n",
        "image_paths = train_paths + val_paths + test_paths\n",
        "labels = train_labels + val_labels + test_labels"
      ]
    },
    {
      "cell_type": "markdown",
      "metadata": {},
      "source": [
        "## 3) Data Augmentation"
      ]
    },
    {
      "cell_type": "code",
      "execution_count": 65,
      "metadata": {
        "id": "X4OBiymiKlZZ"
      },
      "outputs": [],
      "source": [
        "# Normalization parameters for the pre-trained models\n",
        "normalization = ((0.485, 0.456, 0.406), (0.229, 0.224, 0.225))\n",
        "\n",
        "# Define the training data transformations\n",
        "training_transform = transforms.Compose([\n",
        "    transforms.Resize(224, antialias=True),  # Resize images to 224 x 224 (instead of cropping, from ablation study results.)\n",
        "    ### Taken out from ablation study results\n",
        "    # transforms.RandomCrop(224),  # Crop randomly to 224x224 for data augmentation\n",
        "    # transforms.RandomRotation(20),  # Rotate images up to 20 degrees for data augmentation\n",
        "    transforms.RandomHorizontalFlip(0.1),  # Horizontally flip images with a probability of 0.1 for data augmentation\n",
        "    transforms.ColorJitter(brightness=0.1, contrast=0.1, saturation=0.1),  # Randomly adjust color settings\n",
        "    transforms.RandomAdjustSharpness(sharpness_factor=2, p=0.1),  # Randomly adjust sharpness for data augmentation\n",
        "    transforms.ToTensor(),  # Convert images to tensors\n",
        "    transforms.Normalize(*normalization),  # Normalize images using the specified mean and std dev\n",
        "])\n",
        "\n",
        "# Define the validation and test data transformations\n",
        "transform = transforms.Compose([\n",
        "    transforms.Resize(224, antialias=True),  # Resize images to 256x256, with antialiasing\n",
        "    transforms.ToTensor(),  # Convert images to tensors\n",
        "    transforms.Normalize(*normalization),  # Normalize images using the specified mean and std dev\n",
        "])"
      ]
    },
    {
      "cell_type": "markdown",
      "metadata": {},
      "source": [
        "### To check the data is being processed correctly and labled correctly"
      ]
    },
    {
      "cell_type": "code",
      "execution_count": 66,
      "metadata": {},
      "outputs": [
        {
          "name": "stdout",
          "output_type": "stream",
          "text": [
            "\n",
            "Examples from class: Trash\n",
            "Path: ../../data/dataset-resized\\Trash\\trash25.jpg, Label ID: 0\n",
            "Path: ../../data/dataset-resized\\Trash\\trash128.jpg, Label ID: 0\n",
            "Path: ../../data/dataset-resized\\Trash\\trash12.jpg, Label ID: 0\n",
            "Path: ../../data/dataset-resized\\Trash\\trash21.jpg, Label ID: 0\n",
            "Path: ../../data/dataset-resized\\Trash\\trash41.jpg, Label ID: 0\n",
            "\n",
            "Examples from class: Plastic\n",
            "Path: ../../data/dataset-resized\\Plastic\\plastic415.jpg, Label ID: 1\n",
            "Path: ../../data/dataset-resized\\Plastic\\plastic66.jpg, Label ID: 1\n",
            "Path: ../../data/dataset-resized\\Plastic\\plastic77.jpg, Label ID: 1\n",
            "Path: ../../data/dataset-resized\\Plastic\\plastic152.jpg, Label ID: 1\n",
            "Path: ../../data/dataset-resized\\Plastic\\plastic360.jpg, Label ID: 1\n",
            "\n",
            "Examples from class: Paper\n",
            "Path: ../../data/dataset-resized\\Paper\\paper88.jpg, Label ID: 2\n",
            "Path: ../../data/dataset-resized\\Paper\\paper40.jpg, Label ID: 2\n",
            "Path: ../../data/dataset-resized\\Paper\\paper343.jpg, Label ID: 2\n",
            "Path: ../../data/dataset-resized\\Paper\\paper466.jpg, Label ID: 2\n",
            "Path: ../../data/dataset-resized\\Paper\\paper181.jpg, Label ID: 2\n",
            "\n",
            "Examples from class: Metal\n",
            "Path: ../../data/dataset-resized\\Metal\\metal250.jpg, Label ID: 3\n",
            "Path: ../../data/dataset-resized\\Metal\\metal377.jpg, Label ID: 3\n",
            "Path: ../../data/dataset-resized\\Metal\\metal150.jpg, Label ID: 3\n",
            "Path: ../../data/dataset-resized\\Metal\\metal12.jpg, Label ID: 3\n",
            "Path: ../../data/dataset-resized\\Metal\\metal68.jpg, Label ID: 3\n",
            "\n",
            "Examples from class: Glass\n",
            "Path: ../../data/dataset-resized\\Glass\\glass19.jpg, Label ID: 4\n",
            "Path: ../../data/dataset-resized\\Glass\\glass208.jpg, Label ID: 4\n",
            "Path: ../../data/dataset-resized\\Glass\\glass263.jpg, Label ID: 4\n",
            "Path: ../../data/dataset-resized\\Glass\\glass161.jpg, Label ID: 4\n",
            "Path: ../../data/dataset-resized\\Glass\\glass3.jpg, Label ID: 4\n",
            "\n",
            "Examples from class: Cardboard\n",
            "Path: ../../data/dataset-resized\\Cardboard\\cardboard126.jpg, Label ID: 5\n",
            "Path: ../../data/dataset-resized\\Cardboard\\cardboard368.jpg, Label ID: 5\n",
            "Path: ../../data/dataset-resized\\Cardboard\\cardboard394.jpg, Label ID: 5\n",
            "Path: ../../data/dataset-resized\\Cardboard\\cardboard372.jpg, Label ID: 5\n",
            "Path: ../../data/dataset-resized\\Cardboard\\cardboard281.jpg, Label ID: 5\n"
          ]
        }
      ],
      "source": [
        "labels_mapping = {'Trash': 0, 'Plastic': 1, 'Paper': 2, 'Metal': 3, 'Glass': 4, 'Cardboard': 5}\n",
        "datasets_by_label = {}\n",
        "data_loaders_by_label = {}\n",
        "\n",
        "for label_name, label_id in labels_mapping.items():\n",
        "    # Filter indices for the current label\n",
        "    indices = [i for i, label in enumerate(labels) if label == label_id]\n",
        "\n",
        "    # Use the indices to create a Subset\n",
        "    subset = Subset(CustomDataset(image_paths, labels, transform=transform), indices)\n",
        "\n",
        "    # Store the subset using the label_name as key\n",
        "    datasets_by_label[label_name] = subset\n",
        "\n",
        "    # Create a DataLoader for the current label's dataset\n",
        "    data_loader = DataLoader(subset, batch_size=32, num_workers=1, shuffle=False)\n",
        "\n",
        "    # Store the DataLoader using the label_name as key\n",
        "    data_loaders_by_label[label_name] = data_loader\n",
        "\n",
        "for label_name, subset in datasets_by_label.items():\n",
        "    print(f\"\\nExamples from class: {label_name}\")\n",
        "\n",
        "    # Get the first few indices from the subset.indices\n",
        "    example_indices = subset.indices[:5]  # Adjust the number of examples as needed\n",
        "\n",
        "    for idx in example_indices:\n",
        "        print(f\"Path: {image_paths[idx]}, Label ID: {labels[idx]}\")"
      ]
    },
    {
      "cell_type": "markdown",
      "metadata": {},
      "source": [
        "## 4) Intializing model and defininig evaluation metric"
      ]
    },
    {
      "cell_type": "code",
      "execution_count": 67,
      "metadata": {},
      "outputs": [
        {
          "name": "stdout",
          "output_type": "stream",
          "text": [
            "ResNet(\n",
            "  (conv1): Conv2d(3, 64, kernel_size=(7, 7), stride=(2, 2), padding=(3, 3), bias=False)\n",
            "  (bn1): BatchNorm2d(64, eps=1e-05, momentum=0.1, affine=True, track_running_stats=True)\n",
            "  (relu): ReLU(inplace=True)\n",
            "  (maxpool): MaxPool2d(kernel_size=3, stride=2, padding=1, dilation=1, ceil_mode=False)\n",
            "  (layer1): Sequential(\n",
            "    (0): Bottleneck(\n",
            "      (conv1): Conv2d(64, 64, kernel_size=(1, 1), stride=(1, 1), bias=False)\n",
            "      (bn1): BatchNorm2d(64, eps=1e-05, momentum=0.1, affine=True, track_running_stats=True)\n",
            "      (conv2): Conv2d(64, 64, kernel_size=(3, 3), stride=(1, 1), padding=(1, 1), bias=False)\n",
            "      (bn2): BatchNorm2d(64, eps=1e-05, momentum=0.1, affine=True, track_running_stats=True)\n",
            "      (conv3): Conv2d(64, 256, kernel_size=(1, 1), stride=(1, 1), bias=False)\n",
            "      (bn3): BatchNorm2d(256, eps=1e-05, momentum=0.1, affine=True, track_running_stats=True)\n",
            "      (relu): ReLU(inplace=True)\n",
            "      (downsample): Sequential(\n",
            "        (0): Conv2d(64, 256, kernel_size=(1, 1), stride=(1, 1), bias=False)\n",
            "        (1): BatchNorm2d(256, eps=1e-05, momentum=0.1, affine=True, track_running_stats=True)\n",
            "      )\n",
            "    )\n",
            "    (1): Bottleneck(\n",
            "      (conv1): Conv2d(256, 64, kernel_size=(1, 1), stride=(1, 1), bias=False)\n",
            "      (bn1): BatchNorm2d(64, eps=1e-05, momentum=0.1, affine=True, track_running_stats=True)\n",
            "      (conv2): Conv2d(64, 64, kernel_size=(3, 3), stride=(1, 1), padding=(1, 1), bias=False)\n",
            "      (bn2): BatchNorm2d(64, eps=1e-05, momentum=0.1, affine=True, track_running_stats=True)\n",
            "      (conv3): Conv2d(64, 256, kernel_size=(1, 1), stride=(1, 1), bias=False)\n",
            "      (bn3): BatchNorm2d(256, eps=1e-05, momentum=0.1, affine=True, track_running_stats=True)\n",
            "      (relu): ReLU(inplace=True)\n",
            "    )\n",
            "    (2): Bottleneck(\n",
            "      (conv1): Conv2d(256, 64, kernel_size=(1, 1), stride=(1, 1), bias=False)\n",
            "      (bn1): BatchNorm2d(64, eps=1e-05, momentum=0.1, affine=True, track_running_stats=True)\n",
            "      (conv2): Conv2d(64, 64, kernel_size=(3, 3), stride=(1, 1), padding=(1, 1), bias=False)\n",
            "      (bn2): BatchNorm2d(64, eps=1e-05, momentum=0.1, affine=True, track_running_stats=True)\n",
            "      (conv3): Conv2d(64, 256, kernel_size=(1, 1), stride=(1, 1), bias=False)\n",
            "      (bn3): BatchNorm2d(256, eps=1e-05, momentum=0.1, affine=True, track_running_stats=True)\n",
            "      (relu): ReLU(inplace=True)\n",
            "    )\n",
            "  )\n",
            "  (layer2): Sequential(\n",
            "    (0): Bottleneck(\n",
            "      (conv1): Conv2d(256, 128, kernel_size=(1, 1), stride=(1, 1), bias=False)\n",
            "      (bn1): BatchNorm2d(128, eps=1e-05, momentum=0.1, affine=True, track_running_stats=True)\n",
            "      (conv2): Conv2d(128, 128, kernel_size=(3, 3), stride=(2, 2), padding=(1, 1), bias=False)\n",
            "      (bn2): BatchNorm2d(128, eps=1e-05, momentum=0.1, affine=True, track_running_stats=True)\n",
            "      (conv3): Conv2d(128, 512, kernel_size=(1, 1), stride=(1, 1), bias=False)\n",
            "      (bn3): BatchNorm2d(512, eps=1e-05, momentum=0.1, affine=True, track_running_stats=True)\n",
            "      (relu): ReLU(inplace=True)\n",
            "      (downsample): Sequential(\n",
            "        (0): Conv2d(256, 512, kernel_size=(1, 1), stride=(2, 2), bias=False)\n",
            "        (1): BatchNorm2d(512, eps=1e-05, momentum=0.1, affine=True, track_running_stats=True)\n",
            "      )\n",
            "    )\n",
            "    (1): Bottleneck(\n",
            "      (conv1): Conv2d(512, 128, kernel_size=(1, 1), stride=(1, 1), bias=False)\n",
            "      (bn1): BatchNorm2d(128, eps=1e-05, momentum=0.1, affine=True, track_running_stats=True)\n",
            "      (conv2): Conv2d(128, 128, kernel_size=(3, 3), stride=(1, 1), padding=(1, 1), bias=False)\n",
            "      (bn2): BatchNorm2d(128, eps=1e-05, momentum=0.1, affine=True, track_running_stats=True)\n",
            "      (conv3): Conv2d(128, 512, kernel_size=(1, 1), stride=(1, 1), bias=False)\n",
            "      (bn3): BatchNorm2d(512, eps=1e-05, momentum=0.1, affine=True, track_running_stats=True)\n",
            "      (relu): ReLU(inplace=True)\n",
            "    )\n",
            "    (2): Bottleneck(\n",
            "      (conv1): Conv2d(512, 128, kernel_size=(1, 1), stride=(1, 1), bias=False)\n",
            "      (bn1): BatchNorm2d(128, eps=1e-05, momentum=0.1, affine=True, track_running_stats=True)\n",
            "      (conv2): Conv2d(128, 128, kernel_size=(3, 3), stride=(1, 1), padding=(1, 1), bias=False)\n",
            "      (bn2): BatchNorm2d(128, eps=1e-05, momentum=0.1, affine=True, track_running_stats=True)\n",
            "      (conv3): Conv2d(128, 512, kernel_size=(1, 1), stride=(1, 1), bias=False)\n",
            "      (bn3): BatchNorm2d(512, eps=1e-05, momentum=0.1, affine=True, track_running_stats=True)\n",
            "      (relu): ReLU(inplace=True)\n",
            "    )\n",
            "    (3): Bottleneck(\n",
            "      (conv1): Conv2d(512, 128, kernel_size=(1, 1), stride=(1, 1), bias=False)\n",
            "      (bn1): BatchNorm2d(128, eps=1e-05, momentum=0.1, affine=True, track_running_stats=True)\n",
            "      (conv2): Conv2d(128, 128, kernel_size=(3, 3), stride=(1, 1), padding=(1, 1), bias=False)\n",
            "      (bn2): BatchNorm2d(128, eps=1e-05, momentum=0.1, affine=True, track_running_stats=True)\n",
            "      (conv3): Conv2d(128, 512, kernel_size=(1, 1), stride=(1, 1), bias=False)\n",
            "      (bn3): BatchNorm2d(512, eps=1e-05, momentum=0.1, affine=True, track_running_stats=True)\n",
            "      (relu): ReLU(inplace=True)\n",
            "    )\n",
            "  )\n",
            "  (layer3): Sequential(\n",
            "    (0): Bottleneck(\n",
            "      (conv1): Conv2d(512, 256, kernel_size=(1, 1), stride=(1, 1), bias=False)\n",
            "      (bn1): BatchNorm2d(256, eps=1e-05, momentum=0.1, affine=True, track_running_stats=True)\n",
            "      (conv2): Conv2d(256, 256, kernel_size=(3, 3), stride=(2, 2), padding=(1, 1), bias=False)\n",
            "      (bn2): BatchNorm2d(256, eps=1e-05, momentum=0.1, affine=True, track_running_stats=True)\n",
            "      (conv3): Conv2d(256, 1024, kernel_size=(1, 1), stride=(1, 1), bias=False)\n",
            "      (bn3): BatchNorm2d(1024, eps=1e-05, momentum=0.1, affine=True, track_running_stats=True)\n",
            "      (relu): ReLU(inplace=True)\n",
            "      (downsample): Sequential(\n",
            "        (0): Conv2d(512, 1024, kernel_size=(1, 1), stride=(2, 2), bias=False)\n",
            "        (1): BatchNorm2d(1024, eps=1e-05, momentum=0.1, affine=True, track_running_stats=True)\n",
            "      )\n",
            "    )\n",
            "    (1): Bottleneck(\n",
            "      (conv1): Conv2d(1024, 256, kernel_size=(1, 1), stride=(1, 1), bias=False)\n",
            "      (bn1): BatchNorm2d(256, eps=1e-05, momentum=0.1, affine=True, track_running_stats=True)\n",
            "      (conv2): Conv2d(256, 256, kernel_size=(3, 3), stride=(1, 1), padding=(1, 1), bias=False)\n",
            "      (bn2): BatchNorm2d(256, eps=1e-05, momentum=0.1, affine=True, track_running_stats=True)\n",
            "      (conv3): Conv2d(256, 1024, kernel_size=(1, 1), stride=(1, 1), bias=False)\n",
            "      (bn3): BatchNorm2d(1024, eps=1e-05, momentum=0.1, affine=True, track_running_stats=True)\n",
            "      (relu): ReLU(inplace=True)\n",
            "    )\n",
            "    (2): Bottleneck(\n",
            "      (conv1): Conv2d(1024, 256, kernel_size=(1, 1), stride=(1, 1), bias=False)\n",
            "      (bn1): BatchNorm2d(256, eps=1e-05, momentum=0.1, affine=True, track_running_stats=True)\n",
            "      (conv2): Conv2d(256, 256, kernel_size=(3, 3), stride=(1, 1), padding=(1, 1), bias=False)\n",
            "      (bn2): BatchNorm2d(256, eps=1e-05, momentum=0.1, affine=True, track_running_stats=True)\n",
            "      (conv3): Conv2d(256, 1024, kernel_size=(1, 1), stride=(1, 1), bias=False)\n",
            "      (bn3): BatchNorm2d(1024, eps=1e-05, momentum=0.1, affine=True, track_running_stats=True)\n",
            "      (relu): ReLU(inplace=True)\n",
            "    )\n",
            "    (3): Bottleneck(\n",
            "      (conv1): Conv2d(1024, 256, kernel_size=(1, 1), stride=(1, 1), bias=False)\n",
            "      (bn1): BatchNorm2d(256, eps=1e-05, momentum=0.1, affine=True, track_running_stats=True)\n",
            "      (conv2): Conv2d(256, 256, kernel_size=(3, 3), stride=(1, 1), padding=(1, 1), bias=False)\n",
            "      (bn2): BatchNorm2d(256, eps=1e-05, momentum=0.1, affine=True, track_running_stats=True)\n",
            "      (conv3): Conv2d(256, 1024, kernel_size=(1, 1), stride=(1, 1), bias=False)\n",
            "      (bn3): BatchNorm2d(1024, eps=1e-05, momentum=0.1, affine=True, track_running_stats=True)\n",
            "      (relu): ReLU(inplace=True)\n",
            "    )\n",
            "    (4): Bottleneck(\n",
            "      (conv1): Conv2d(1024, 256, kernel_size=(1, 1), stride=(1, 1), bias=False)\n",
            "      (bn1): BatchNorm2d(256, eps=1e-05, momentum=0.1, affine=True, track_running_stats=True)\n",
            "      (conv2): Conv2d(256, 256, kernel_size=(3, 3), stride=(1, 1), padding=(1, 1), bias=False)\n",
            "      (bn2): BatchNorm2d(256, eps=1e-05, momentum=0.1, affine=True, track_running_stats=True)\n",
            "      (conv3): Conv2d(256, 1024, kernel_size=(1, 1), stride=(1, 1), bias=False)\n",
            "      (bn3): BatchNorm2d(1024, eps=1e-05, momentum=0.1, affine=True, track_running_stats=True)\n",
            "      (relu): ReLU(inplace=True)\n",
            "    )\n",
            "    (5): Bottleneck(\n",
            "      (conv1): Conv2d(1024, 256, kernel_size=(1, 1), stride=(1, 1), bias=False)\n",
            "      (bn1): BatchNorm2d(256, eps=1e-05, momentum=0.1, affine=True, track_running_stats=True)\n",
            "      (conv2): Conv2d(256, 256, kernel_size=(3, 3), stride=(1, 1), padding=(1, 1), bias=False)\n",
            "      (bn2): BatchNorm2d(256, eps=1e-05, momentum=0.1, affine=True, track_running_stats=True)\n",
            "      (conv3): Conv2d(256, 1024, kernel_size=(1, 1), stride=(1, 1), bias=False)\n",
            "      (bn3): BatchNorm2d(1024, eps=1e-05, momentum=0.1, affine=True, track_running_stats=True)\n",
            "      (relu): ReLU(inplace=True)\n",
            "    )\n",
            "  )\n",
            "  (layer4): Sequential(\n",
            "    (0): Bottleneck(\n",
            "      (conv1): Conv2d(1024, 512, kernel_size=(1, 1), stride=(1, 1), bias=False)\n",
            "      (bn1): BatchNorm2d(512, eps=1e-05, momentum=0.1, affine=True, track_running_stats=True)\n",
            "      (conv2): Conv2d(512, 512, kernel_size=(3, 3), stride=(2, 2), padding=(1, 1), bias=False)\n",
            "      (bn2): BatchNorm2d(512, eps=1e-05, momentum=0.1, affine=True, track_running_stats=True)\n",
            "      (conv3): Conv2d(512, 2048, kernel_size=(1, 1), stride=(1, 1), bias=False)\n",
            "      (bn3): BatchNorm2d(2048, eps=1e-05, momentum=0.1, affine=True, track_running_stats=True)\n",
            "      (relu): ReLU(inplace=True)\n",
            "      (downsample): Sequential(\n",
            "        (0): Conv2d(1024, 2048, kernel_size=(1, 1), stride=(2, 2), bias=False)\n",
            "        (1): BatchNorm2d(2048, eps=1e-05, momentum=0.1, affine=True, track_running_stats=True)\n",
            "      )\n",
            "    )\n",
            "    (1): Bottleneck(\n",
            "      (conv1): Conv2d(2048, 512, kernel_size=(1, 1), stride=(1, 1), bias=False)\n",
            "      (bn1): BatchNorm2d(512, eps=1e-05, momentum=0.1, affine=True, track_running_stats=True)\n",
            "      (conv2): Conv2d(512, 512, kernel_size=(3, 3), stride=(1, 1), padding=(1, 1), bias=False)\n",
            "      (bn2): BatchNorm2d(512, eps=1e-05, momentum=0.1, affine=True, track_running_stats=True)\n",
            "      (conv3): Conv2d(512, 2048, kernel_size=(1, 1), stride=(1, 1), bias=False)\n",
            "      (bn3): BatchNorm2d(2048, eps=1e-05, momentum=0.1, affine=True, track_running_stats=True)\n",
            "      (relu): ReLU(inplace=True)\n",
            "    )\n",
            "    (2): Bottleneck(\n",
            "      (conv1): Conv2d(2048, 512, kernel_size=(1, 1), stride=(1, 1), bias=False)\n",
            "      (bn1): BatchNorm2d(512, eps=1e-05, momentum=0.1, affine=True, track_running_stats=True)\n",
            "      (conv2): Conv2d(512, 512, kernel_size=(3, 3), stride=(1, 1), padding=(1, 1), bias=False)\n",
            "      (bn2): BatchNorm2d(512, eps=1e-05, momentum=0.1, affine=True, track_running_stats=True)\n",
            "      (conv3): Conv2d(512, 2048, kernel_size=(1, 1), stride=(1, 1), bias=False)\n",
            "      (bn3): BatchNorm2d(2048, eps=1e-05, momentum=0.1, affine=True, track_running_stats=True)\n",
            "      (relu): ReLU(inplace=True)\n",
            "    )\n",
            "  )\n",
            "  (avgpool): AdaptiveAvgPool2d(output_size=(1, 1))\n",
            "  (fc): Sequential(\n",
            "    (0): Linear(in_features=2048, out_features=512, bias=True)\n",
            "    (1): ReLU()\n",
            "    (2): Linear(in_features=512, out_features=6, bias=True)\n",
            "  )\n",
            ")\n"
          ]
        }
      ],
      "source": [
        "def initialize_model(output_classes=6):\n",
        "    \"\"\"\n",
        "    Initializes the ResNet-50 model pre-trained on ImageNet (just convolutional layers) and implements the final fully connected layer.\n",
        "\n",
        "    Parameters:\n",
        "    - output_classes (int): The number of classes for the final output layer.\n",
        "\n",
        "    Returns:\n",
        "    - model (torch.nn.Module): The modified model based on the pre-trained Resnet-50 feature representation.\n",
        "    \"\"\"\n",
        "\n",
        "    # Load a pre-trained ResNet-50 model\n",
        "    model = torchvision.models.resnet50(weights='IMAGENET1K_V1')\n",
        "\n",
        "    # # Freeze all the parameters in the model to prevent them from being updated during training\n",
        "    # for param in model.parameters():\n",
        "    #     param.requires_grad = False\n",
        "\n",
        "    # Get the number of input features to the final fully connected layer\n",
        "    in_features = model.fc.in_features # 2048 input features (from the last feature mapping layer of Resnet)\n",
        "\n",
        "    # Replace the final fully connected layer with a new one that has the desired number of output classes\n",
        "    model.fc = nn.Sequential(\n",
        "        nn.Linear(in_features, 512),  # Reduce dimension from in_features to 512\n",
        "        nn.ReLU(),                    # Apply ReLU activation function\n",
        "        nn.Linear(512, 6)  # Final layer with 'output_classes' number of outputs\n",
        "    )\n",
        "\n",
        "    return model\n",
        "\n",
        "def evaluate_model(model, dataloader, loss_fun, device):\n",
        "    \"\"\"\n",
        "    Evaluates the model's performance on a given dataset.\n",
        "\n",
        "    Parameters:\n",
        "    - model: The neural network model to evaluate.\n",
        "    - dataloader: The DataLoader containing the dataset for evaluation.\n",
        "    - loss_fun: The loss function used to compute the model's loss.\n",
        "    - device: The device (CPU or CUDA) on which the computations will be performed.\n",
        "\n",
        "    Returns:\n",
        "    - A tuple of average loss and accuracy over the dataset.\n",
        "    \"\"\"\n",
        "\n",
        "    model.eval()  # Set the model to evaluation mode    test_loss = 0.0\n",
        "    val_acc = 0.0\n",
        "    val_loss = 0.0\n",
        "\n",
        "    with torch.no_grad():  # No gradients needed for evaluation\n",
        "        for x, y in dataloader:\n",
        "            x, y = x.to(device), y.to(device)  # Move data to the same device as the model\n",
        "\n",
        "            pred = model(x)\n",
        "            _, predicted_classes = torch.max(pred, 1)\n",
        "            correct_predictions = (predicted_classes == y).float()\n",
        "\n",
        "            loss = loss_fun(pred, y.long())  # Ensure consistent data type\n",
        "            val_loss += loss.item()\n",
        "            val_acc += correct_predictions.sum().item() / y.size(0)\n",
        "\n",
        "        val_loss /= len(dataloader)\n",
        "        val_acc /= len(dataloader)\n",
        "\n",
        "    return val_loss, val_acc\n",
        "\n",
        "def misclassified_labels(model, dataloader, device):\n",
        "    \"\"\"\n",
        "    Identifies misclassified samples in the given dataset.\n",
        "\n",
        "    Parameters:\n",
        "    - model: The neural network model to evaluate.\n",
        "    - dataloader: The DataLoader containing the dataset for evaluation.\n",
        "    - device: The device (CPU or CUDA) on which the computations will be performed.\n",
        "\n",
        "    Returns:\n",
        "    - A list of tuples where each tuple contains the image path, actual label, and predicted label.\n",
        "    \"\"\"\n",
        "\n",
        "    model.eval()  # Set the model to evaluation mode\n",
        "    misclassified = []\n",
        "\n",
        "    with torch.no_grad():  # No gradients needed for evaluation\n",
        "        for images, labels in dataloader:\n",
        "            images, labels = images.to(device), labels.to(device)  # Move data to the same device as the model\n",
        "            outputs = model(images)\n",
        "            _, predicted = torch.max(outputs, 1)\n",
        "\n",
        "            # Identify misclassified labels\n",
        "            mismatches = predicted != labels\n",
        "            for idx in torch.where(mismatches)[0]:\n",
        "                actual_label = labels[idx].item()\n",
        "                predicted_label = predicted[idx].item()\n",
        "                image_path = dataloader.dataset.image_paths[idx]  # Assuming dataset has 'image_paths' attribute\n",
        "                misclassified.append([idx.item(), predicted_label])\n",
        "\n",
        "    return misclassified\n",
        "\n",
        "# Usage example\n",
        "num_classes = 6  # Define the number of output classes you need\n",
        "example_model = initialize_model(num_classes)\n",
        "print(example_model)\n"
      ]
    },
    {
      "cell_type": "markdown",
      "metadata": {},
      "source": [
        "## 5) Single Training loop defined "
      ]
    },
    {
      "cell_type": "code",
      "execution_count": 68,
      "metadata": {},
      "outputs": [],
      "source": [
        "def train(train_dataloader, val_dataloader, num_classes, N_epochs=10, lr=1e-5, step_size=5, gamma=0.5):\n",
        "    \"\"\"\n",
        "    Trains and validates a model, saving the model with the best validation accuracy, and records the training and validation performance.\n",
        "\n",
        "    Parameters:\n",
        "    - train_dataloader (DataLoader): DataLoader for training data.\n",
        "    - val_dataloader (DataLoader): DataLoader for validation data.\n",
        "    - num_classes (int): Number of classes in the dataset.\n",
        "    - N_epochs (int): Number of epochs to train for.\n",
        "    - lr (float): Learning rate for the optimizer.\n",
        "    - step_size (int): Step size for the learning rate scheduler.\n",
        "    - gamma (float): Decay rate for the learning rate scheduler.\n",
        "\n",
        "    Returns:\n",
        "    - A dictionary containing the model with the best validation accuracy, training losses, training accuracies, validation losses, and validation accuracies.\n",
        "    \"\"\"\n",
        "\n",
        "    # Set the device to GPU if available, else CPU\n",
        "    device = torch.device(\"cuda\" if torch.cuda.is_available() else \"cpu\")\n",
        "    print(f\"Using device: {device}\")\n",
        "\n",
        "    # If a CUDA-capable device is detected, print its name\n",
        "    if device.type == 'cuda':\n",
        "        gpu_name = torch.cuda.get_device_name(0)\n",
        "        print(f\"NVIDIA Graphics Card: {gpu_name}\")\n",
        "\n",
        "    # Initialize the model and move it to the appropriate device\n",
        "    model = initialize_model(num_classes)\n",
        "    model.to(device)\n",
        "\n",
        "    # Define the loss function and the optimizer\n",
        "    loss_fun = nn.CrossEntropyLoss()\n",
        "    loss_fun.to(device)\n",
        "    optimizer = optim.Adam(params=model.parameters(), lr=lr)\n",
        "\n",
        "    # Define the learning rate scheduler\n",
        "    lr_schedule = lr_scheduler.StepLR(optimizer=optimizer, step_size=step_size, gamma=gamma)\n",
        "\n",
        "    # Initialize lists to store the performance metrics\n",
        "    training_losses = []\n",
        "    training_accuracies = []\n",
        "    validation_losses = []\n",
        "    validation_accuracies = []\n",
        "\n",
        "    # Variable to keep track of the best validation accuracy\n",
        "    best_acc = 0.0\n",
        "    # Variable to store the model weights corresponding to the best validation accuracy\n",
        "    best_model_wts = copy.deepcopy(model.state_dict())\n",
        "\n",
        "    # Training loop\n",
        "    for epoch in tqdm(range(N_epochs)):\n",
        "        model.train()  # Set the model to training mode\n",
        "        train_loss = 0.0\n",
        "        train_correct = 0\n",
        "        total = 0\n",
        "\n",
        "        # Iterate over the training data\n",
        "        for x, y in train_dataloader:\n",
        "            x, y = x.to(device), y.to(device)  # Move data to the correct device\n",
        "            pred = model(x)  # Forward pass: compute the model output\n",
        "            loss = loss_fun(pred, y.long())  # Compute the loss\n",
        "            optimizer.zero_grad()  # Zero the gradients to prevent accumulation\n",
        "            loss.backward()  # Backward pass: compute the gradient of the loss with respect to model parameters\n",
        "            optimizer.step()  # Update model parameters\n",
        "\n",
        "            # Accumulate the training loss and correct predictions to calculate accuracy\n",
        "            train_loss += loss.item()\n",
        "            _, predicted = torch.max(pred, 1)\n",
        "            train_correct += (predicted == y).sum().item()\n",
        "            total += y.size(0)\n",
        "\n",
        "        # Compute the average training loss and accuracy for the epoch\n",
        "        train_loss /= len(train_dataloader)\n",
        "        train_acc = train_correct / total\n",
        "        training_losses.append(train_loss)\n",
        "        training_accuracies.append(train_acc)\n",
        "\n",
        "        # Validate the model\n",
        "        val_loss, val_acc = evaluate_model(model, val_dataloader, loss_fun, device)\n",
        "        validation_losses.append(val_loss)\n",
        "        validation_accuracies.append(val_acc)\n",
        "\n",
        "        # Check if the current model is the best one based on validation loss\n",
        "        if val_acc > best_acc:\n",
        "            best_acc = val_acc\n",
        "            best_model_wts = copy.deepcopy(model.state_dict())\n",
        "\n",
        "        # Update the learning rate\n",
        "        lr_schedule.step()\n",
        "\n",
        "        # Print the performance metrics for the epoch\n",
        "        print(f\"Epoch {epoch+1}/{N_epochs}, Train Loss: {train_loss:.4f}, Train Acc: {train_acc:.4f}, Val Loss: {val_loss:.4f}, Val Acc: {val_acc:.4f}\")\n",
        "\n",
        "    # Load the best model weights\n",
        "    model.load_state_dict(best_model_wts)\n",
        "\n",
        "    # Return the model and performance metrics\n",
        "    return {\n",
        "        \"model\": model,\n",
        "        \"training_losses\": training_losses,\n",
        "        \"training_accuracies\": training_accuracies,\n",
        "        \"validation_losses\": validation_losses,\n",
        "        \"validation_accuracies\": validation_accuracies\n",
        "    }"
      ]
    },
    {
      "cell_type": "markdown",
      "metadata": {},
      "source": [
        "## 6) Grid search hyperparameters + main training loop. This is where the meat & potatoes are.\n",
        "### Then, the best model is saved as a path file so it can be loaded later.\n",
        "### During training, the best model is the epoch with the highest validation accuracy. Then, the grid search takes the model with the highest testing accuracy for the final best model."
      ]
    },
    {
      "cell_type": "code",
      "execution_count": 69,
      "metadata": {},
      "outputs": [
        {
          "name": "stdout",
          "output_type": "stream",
          "text": [
            "Training with lr=5e-05, batch_size=32, num_epochs=20, step_size=4\n",
            "Using device: cuda\n",
            "NVIDIA Graphics Card: NVIDIA GeForce RTX 2080\n"
          ]
        },
        {
          "name": "stderr",
          "output_type": "stream",
          "text": [
            "  5%|▌         | 1/20 [00:59<18:49, 59.42s/it]"
          ]
        },
        {
          "name": "stdout",
          "output_type": "stream",
          "text": [
            "Epoch 1/20, Train Loss: 0.9456, Train Acc: 0.7126, Val Loss: 0.4204, Val Acc: 0.8646\n"
          ]
        },
        {
          "name": "stderr",
          "output_type": "stream",
          "text": [
            " 10%|█         | 2/20 [01:50<16:25, 54.75s/it]"
          ]
        },
        {
          "name": "stdout",
          "output_type": "stream",
          "text": [
            "Epoch 2/20, Train Loss: 0.2794, Train Acc: 0.9130, Val Loss: 0.2965, Val Acc: 0.9106\n"
          ]
        },
        {
          "name": "stderr",
          "output_type": "stream",
          "text": [
            " 15%|█▌        | 3/20 [02:42<15:06, 53.31s/it]"
          ]
        },
        {
          "name": "stdout",
          "output_type": "stream",
          "text": [
            "Epoch 3/20, Train Loss: 0.1033, Train Acc: 0.9712, Val Loss: 0.2803, Val Acc: 0.9167\n"
          ]
        },
        {
          "name": "stderr",
          "output_type": "stream",
          "text": [
            " 20%|██        | 4/20 [03:34<14:04, 52.80s/it]"
          ]
        },
        {
          "name": "stdout",
          "output_type": "stream",
          "text": [
            "Epoch 4/20, Train Loss: 0.0545, Train Acc: 0.9848, Val Loss: 0.2896, Val Acc: 0.9219\n"
          ]
        },
        {
          "name": "stderr",
          "output_type": "stream",
          "text": [
            " 25%|██▌       | 5/20 [04:26<13:06, 52.43s/it]"
          ]
        },
        {
          "name": "stdout",
          "output_type": "stream",
          "text": [
            "Epoch 5/20, Train Loss: 0.0334, Train Acc: 0.9938, Val Loss: 0.2938, Val Acc: 0.9323\n"
          ]
        },
        {
          "name": "stderr",
          "output_type": "stream",
          "text": [
            " 30%|███       | 6/20 [05:17<12:09, 52.14s/it]"
          ]
        },
        {
          "name": "stdout",
          "output_type": "stream",
          "text": [
            "Epoch 6/20, Train Loss: 0.0256, Train Acc: 0.9949, Val Loss: 0.2826, Val Acc: 0.9323\n"
          ]
        },
        {
          "name": "stderr",
          "output_type": "stream",
          "text": [
            " 35%|███▌      | 7/20 [06:09<11:17, 52.09s/it]"
          ]
        },
        {
          "name": "stdout",
          "output_type": "stream",
          "text": [
            "Epoch 7/20, Train Loss: 0.0195, Train Acc: 0.9960, Val Loss: 0.2780, Val Acc: 0.9375\n"
          ]
        },
        {
          "name": "stderr",
          "output_type": "stream",
          "text": [
            " 40%|████      | 8/20 [07:01<10:23, 51.96s/it]"
          ]
        },
        {
          "name": "stdout",
          "output_type": "stream",
          "text": [
            "Epoch 8/20, Train Loss: 0.0155, Train Acc: 0.9972, Val Loss: 0.2732, Val Acc: 0.9401\n"
          ]
        },
        {
          "name": "stderr",
          "output_type": "stream",
          "text": [
            " 45%|████▌     | 9/20 [07:53<09:30, 51.84s/it]"
          ]
        },
        {
          "name": "stdout",
          "output_type": "stream",
          "text": [
            "Epoch 9/20, Train Loss: 0.0088, Train Acc: 0.9989, Val Loss: 0.2891, Val Acc: 0.9323\n"
          ]
        },
        {
          "name": "stderr",
          "output_type": "stream",
          "text": [
            " 50%|█████     | 10/20 [08:44<08:37, 51.77s/it]"
          ]
        },
        {
          "name": "stdout",
          "output_type": "stream",
          "text": [
            "Epoch 10/20, Train Loss: 0.0088, Train Acc: 0.9989, Val Loss: 0.2663, Val Acc: 0.9401\n"
          ]
        },
        {
          "name": "stderr",
          "output_type": "stream",
          "text": [
            " 55%|█████▌    | 11/20 [09:36<07:46, 51.79s/it]"
          ]
        },
        {
          "name": "stdout",
          "output_type": "stream",
          "text": [
            "Epoch 11/20, Train Loss: 0.0099, Train Acc: 0.9989, Val Loss: 0.2959, Val Acc: 0.9323\n"
          ]
        },
        {
          "name": "stderr",
          "output_type": "stream",
          "text": [
            " 60%|██████    | 12/20 [10:35<07:11, 53.93s/it]"
          ]
        },
        {
          "name": "stdout",
          "output_type": "stream",
          "text": [
            "Epoch 12/20, Train Loss: 0.0120, Train Acc: 0.9972, Val Loss: 0.2595, Val Acc: 0.9401\n"
          ]
        },
        {
          "name": "stderr",
          "output_type": "stream",
          "text": [
            " 65%|██████▌   | 13/20 [11:27<06:14, 53.48s/it]"
          ]
        },
        {
          "name": "stdout",
          "output_type": "stream",
          "text": [
            "Epoch 13/20, Train Loss: 0.0053, Train Acc: 1.0000, Val Loss: 0.2539, Val Acc: 0.9479\n"
          ]
        },
        {
          "name": "stderr",
          "output_type": "stream",
          "text": [
            " 70%|███████   | 14/20 [12:19<05:17, 52.96s/it]"
          ]
        },
        {
          "name": "stdout",
          "output_type": "stream",
          "text": [
            "Epoch 14/20, Train Loss: 0.0122, Train Acc: 0.9966, Val Loss: 0.2709, Val Acc: 0.9401\n"
          ]
        },
        {
          "name": "stderr",
          "output_type": "stream",
          "text": [
            " 75%|███████▌  | 15/20 [13:11<04:23, 52.61s/it]"
          ]
        },
        {
          "name": "stdout",
          "output_type": "stream",
          "text": [
            "Epoch 15/20, Train Loss: 0.0092, Train Acc: 0.9983, Val Loss: 0.2680, Val Acc: 0.9453\n"
          ]
        },
        {
          "name": "stderr",
          "output_type": "stream",
          "text": [
            " 80%|████████  | 16/20 [14:07<03:34, 53.67s/it]"
          ]
        },
        {
          "name": "stdout",
          "output_type": "stream",
          "text": [
            "Epoch 16/20, Train Loss: 0.0060, Train Acc: 0.9994, Val Loss: 0.2692, Val Acc: 0.9427\n"
          ]
        },
        {
          "name": "stderr",
          "output_type": "stream",
          "text": [
            " 85%|████████▌ | 17/20 [15:01<02:41, 53.87s/it]"
          ]
        },
        {
          "name": "stdout",
          "output_type": "stream",
          "text": [
            "Epoch 17/20, Train Loss: 0.0054, Train Acc: 1.0000, Val Loss: 0.2764, Val Acc: 0.9453\n"
          ]
        },
        {
          "name": "stderr",
          "output_type": "stream",
          "text": [
            " 90%|█████████ | 18/20 [15:56<01:48, 54.07s/it]"
          ]
        },
        {
          "name": "stdout",
          "output_type": "stream",
          "text": [
            "Epoch 18/20, Train Loss: 0.0065, Train Acc: 1.0000, Val Loss: 0.2782, Val Acc: 0.9401\n"
          ]
        },
        {
          "name": "stderr",
          "output_type": "stream",
          "text": [
            " 95%|█████████▌| 19/20 [16:51<00:54, 54.25s/it]"
          ]
        },
        {
          "name": "stdout",
          "output_type": "stream",
          "text": [
            "Epoch 19/20, Train Loss: 0.0074, Train Acc: 0.9989, Val Loss: 0.2729, Val Acc: 0.9453\n"
          ]
        },
        {
          "name": "stderr",
          "output_type": "stream",
          "text": [
            "100%|██████████| 20/20 [17:41<00:00, 53.07s/it]"
          ]
        },
        {
          "name": "stdout",
          "output_type": "stream",
          "text": [
            "Epoch 20/20, Train Loss: 0.0065, Train Acc: 0.9994, Val Loss: 0.2729, Val Acc: 0.9479\n",
            "Using device: cuda\n",
            "NVIDIA Graphics Card: NVIDIA GeForce RTX 2080\n"
          ]
        },
        {
          "name": "stderr",
          "output_type": "stream",
          "text": [
            "\n"
          ]
        },
        {
          "name": "stdout",
          "output_type": "stream",
          "text": [
            "Test Loss: 0.1087, Test Accuracy: 0.9654\n",
            "Training with lr=5e-05, batch_size=32, num_epochs=20, step_size=8\n",
            "Using device: cuda\n",
            "NVIDIA Graphics Card: NVIDIA GeForce RTX 2080\n"
          ]
        },
        {
          "name": "stderr",
          "output_type": "stream",
          "text": [
            "  5%|▌         | 1/20 [00:56<18:00, 56.87s/it]"
          ]
        },
        {
          "name": "stdout",
          "output_type": "stream",
          "text": [
            "Epoch 1/20, Train Loss: 0.9807, Train Acc: 0.6894, Val Loss: 0.4027, Val Acc: 0.8568\n"
          ]
        },
        {
          "name": "stderr",
          "output_type": "stream",
          "text": [
            " 10%|█         | 2/20 [01:47<15:57, 53.18s/it]"
          ]
        },
        {
          "name": "stdout",
          "output_type": "stream",
          "text": [
            "Epoch 2/20, Train Loss: 0.2478, Train Acc: 0.9305, Val Loss: 0.3237, Val Acc: 0.8993\n"
          ]
        },
        {
          "name": "stderr",
          "output_type": "stream",
          "text": [
            " 15%|█▌        | 3/20 [02:41<15:12, 53.68s/it]"
          ]
        },
        {
          "name": "stdout",
          "output_type": "stream",
          "text": [
            "Epoch 3/20, Train Loss: 0.0916, Train Acc: 0.9797, Val Loss: 0.2964, Val Acc: 0.9219\n"
          ]
        },
        {
          "name": "stderr",
          "output_type": "stream",
          "text": [
            " 20%|██        | 4/20 [03:28<13:36, 51.01s/it]"
          ]
        },
        {
          "name": "stdout",
          "output_type": "stream",
          "text": [
            "Epoch 4/20, Train Loss: 0.0553, Train Acc: 0.9893, Val Loss: 0.2879, Val Acc: 0.9193\n"
          ]
        },
        {
          "name": "stderr",
          "output_type": "stream",
          "text": [
            " 25%|██▌       | 5/20 [04:25<13:16, 53.11s/it]"
          ]
        },
        {
          "name": "stdout",
          "output_type": "stream",
          "text": [
            "Epoch 5/20, Train Loss: 0.0341, Train Acc: 0.9932, Val Loss: 0.3111, Val Acc: 0.9193\n"
          ]
        },
        {
          "name": "stderr",
          "output_type": "stream",
          "text": [
            " 30%|███       | 6/20 [05:12<11:55, 51.14s/it]"
          ]
        },
        {
          "name": "stdout",
          "output_type": "stream",
          "text": [
            "Epoch 6/20, Train Loss: 0.0259, Train Acc: 0.9938, Val Loss: 0.2981, Val Acc: 0.9323\n"
          ]
        },
        {
          "name": "stderr",
          "output_type": "stream",
          "text": [
            " 35%|███▌      | 7/20 [06:00<10:50, 50.01s/it]"
          ]
        },
        {
          "name": "stdout",
          "output_type": "stream",
          "text": [
            "Epoch 7/20, Train Loss: 0.0522, Train Acc: 0.9853, Val Loss: 0.4019, Val Acc: 0.8976\n"
          ]
        },
        {
          "name": "stderr",
          "output_type": "stream",
          "text": [
            " 40%|████      | 8/20 [06:44<09:38, 48.21s/it]"
          ]
        },
        {
          "name": "stdout",
          "output_type": "stream",
          "text": [
            "Epoch 8/20, Train Loss: 0.0553, Train Acc: 0.9870, Val Loss: 0.3334, Val Acc: 0.9193\n"
          ]
        },
        {
          "name": "stderr",
          "output_type": "stream",
          "text": [
            " 45%|████▌     | 9/20 [07:31<08:46, 47.82s/it]"
          ]
        },
        {
          "name": "stdout",
          "output_type": "stream",
          "text": [
            "Epoch 9/20, Train Loss: 0.0282, Train Acc: 0.9944, Val Loss: 0.2888, Val Acc: 0.9201\n"
          ]
        },
        {
          "name": "stderr",
          "output_type": "stream",
          "text": [
            " 50%|█████     | 10/20 [08:26<08:20, 50.01s/it]"
          ]
        },
        {
          "name": "stdout",
          "output_type": "stream",
          "text": [
            "Epoch 10/20, Train Loss: 0.0190, Train Acc: 0.9960, Val Loss: 0.2812, Val Acc: 0.9297\n"
          ]
        },
        {
          "name": "stderr",
          "output_type": "stream",
          "text": [
            " 55%|█████▌    | 11/20 [09:17<07:31, 50.22s/it]"
          ]
        },
        {
          "name": "stdout",
          "output_type": "stream",
          "text": [
            "Epoch 11/20, Train Loss: 0.0149, Train Acc: 0.9972, Val Loss: 0.2997, Val Acc: 0.9245\n"
          ]
        },
        {
          "name": "stderr",
          "output_type": "stream",
          "text": [
            " 60%|██████    | 12/20 [10:05<06:36, 49.60s/it]"
          ]
        },
        {
          "name": "stdout",
          "output_type": "stream",
          "text": [
            "Epoch 12/20, Train Loss: 0.0055, Train Acc: 0.9994, Val Loss: 0.2964, Val Acc: 0.9375\n"
          ]
        },
        {
          "name": "stderr",
          "output_type": "stream",
          "text": [
            " 65%|██████▌   | 13/20 [10:56<05:50, 50.04s/it]"
          ]
        },
        {
          "name": "stdout",
          "output_type": "stream",
          "text": [
            "Epoch 13/20, Train Loss: 0.0044, Train Acc: 1.0000, Val Loss: 0.2979, Val Acc: 0.9366\n"
          ]
        },
        {
          "name": "stderr",
          "output_type": "stream",
          "text": [
            " 70%|███████   | 14/20 [11:41<04:51, 48.51s/it]"
          ]
        },
        {
          "name": "stdout",
          "output_type": "stream",
          "text": [
            "Epoch 14/20, Train Loss: 0.0080, Train Acc: 0.9983, Val Loss: 0.2779, Val Acc: 0.9236\n"
          ]
        },
        {
          "name": "stderr",
          "output_type": "stream",
          "text": [
            " 75%|███████▌  | 15/20 [12:26<03:57, 47.45s/it]"
          ]
        },
        {
          "name": "stdout",
          "output_type": "stream",
          "text": [
            "Epoch 15/20, Train Loss: 0.0049, Train Acc: 0.9994, Val Loss: 0.2875, Val Acc: 0.9375\n"
          ]
        },
        {
          "name": "stderr",
          "output_type": "stream",
          "text": [
            " 80%|████████  | 16/20 [13:11<03:07, 46.76s/it]"
          ]
        },
        {
          "name": "stdout",
          "output_type": "stream",
          "text": [
            "Epoch 16/20, Train Loss: 0.0041, Train Acc: 0.9994, Val Loss: 0.2749, Val Acc: 0.9375\n"
          ]
        },
        {
          "name": "stderr",
          "output_type": "stream",
          "text": [
            " 85%|████████▌ | 17/20 [13:56<02:18, 46.17s/it]"
          ]
        },
        {
          "name": "stdout",
          "output_type": "stream",
          "text": [
            "Epoch 17/20, Train Loss: 0.0066, Train Acc: 0.9994, Val Loss: 0.2993, Val Acc: 0.9349\n"
          ]
        },
        {
          "name": "stderr",
          "output_type": "stream",
          "text": [
            " 90%|█████████ | 18/20 [14:41<01:31, 45.79s/it]"
          ]
        },
        {
          "name": "stdout",
          "output_type": "stream",
          "text": [
            "Epoch 18/20, Train Loss: 0.0034, Train Acc: 1.0000, Val Loss: 0.2892, Val Acc: 0.9349\n"
          ]
        },
        {
          "name": "stderr",
          "output_type": "stream",
          "text": [
            " 95%|█████████▌| 19/20 [15:26<00:45, 45.50s/it]"
          ]
        },
        {
          "name": "stdout",
          "output_type": "stream",
          "text": [
            "Epoch 19/20, Train Loss: 0.0030, Train Acc: 1.0000, Val Loss: 0.2958, Val Acc: 0.9349\n"
          ]
        },
        {
          "name": "stderr",
          "output_type": "stream",
          "text": [
            "100%|██████████| 20/20 [16:11<00:00, 48.55s/it]"
          ]
        },
        {
          "name": "stdout",
          "output_type": "stream",
          "text": [
            "Epoch 20/20, Train Loss: 0.0073, Train Acc: 0.9994, Val Loss: 0.2937, Val Acc: 0.9401\n",
            "Using device: cuda\n",
            "NVIDIA Graphics Card: NVIDIA GeForce RTX 2080\n"
          ]
        },
        {
          "name": "stderr",
          "output_type": "stream",
          "text": [
            "\n"
          ]
        },
        {
          "name": "stdout",
          "output_type": "stream",
          "text": [
            "Test Loss: 0.1185, Test Accuracy: 0.9550\n",
            "Training with lr=0.0005, batch_size=32, num_epochs=20, step_size=4\n",
            "Using device: cuda\n",
            "NVIDIA Graphics Card: NVIDIA GeForce RTX 2080\n"
          ]
        },
        {
          "name": "stderr",
          "output_type": "stream",
          "text": [
            "  5%|▌         | 1/20 [00:44<14:13, 44.93s/it]"
          ]
        },
        {
          "name": "stdout",
          "output_type": "stream",
          "text": [
            "Epoch 1/20, Train Loss: 0.8826, Train Acc: 0.6770, Val Loss: 0.9957, Val Acc: 0.6832\n"
          ]
        },
        {
          "name": "stderr",
          "output_type": "stream",
          "text": [
            " 10%|█         | 2/20 [01:30<13:40, 45.57s/it]"
          ]
        },
        {
          "name": "stdout",
          "output_type": "stream",
          "text": [
            "Epoch 2/20, Train Loss: 0.5892, Train Acc: 0.7899, Val Loss: 0.6727, Val Acc: 0.7847\n"
          ]
        },
        {
          "name": "stderr",
          "output_type": "stream",
          "text": [
            " 15%|█▌        | 3/20 [02:16<12:57, 45.72s/it]"
          ]
        },
        {
          "name": "stdout",
          "output_type": "stream",
          "text": [
            "Epoch 3/20, Train Loss: 0.5666, Train Acc: 0.8029, Val Loss: 0.8641, Val Acc: 0.7179\n"
          ]
        },
        {
          "name": "stderr",
          "output_type": "stream",
          "text": [
            " 20%|██        | 4/20 [03:01<12:06, 45.42s/it]"
          ]
        },
        {
          "name": "stdout",
          "output_type": "stream",
          "text": [
            "Epoch 4/20, Train Loss: 0.4092, Train Acc: 0.8634, Val Loss: 0.5303, Val Acc: 0.8168\n"
          ]
        },
        {
          "name": "stderr",
          "output_type": "stream",
          "text": [
            " 25%|██▌       | 5/20 [03:48<11:28, 45.88s/it]"
          ]
        },
        {
          "name": "stdout",
          "output_type": "stream",
          "text": [
            "Epoch 5/20, Train Loss: 0.2144, Train Acc: 0.9305, Val Loss: 0.3772, Val Acc: 0.8863\n"
          ]
        },
        {
          "name": "stderr",
          "output_type": "stream",
          "text": [
            " 30%|███       | 6/20 [04:34<10:42, 45.88s/it]"
          ]
        },
        {
          "name": "stdout",
          "output_type": "stream",
          "text": [
            "Epoch 6/20, Train Loss: 0.1449, Train Acc: 0.9514, Val Loss: 0.6541, Val Acc: 0.8099\n"
          ]
        },
        {
          "name": "stderr",
          "output_type": "stream",
          "text": [
            " 35%|███▌      | 7/20 [05:19<09:54, 45.77s/it]"
          ]
        },
        {
          "name": "stdout",
          "output_type": "stream",
          "text": [
            "Epoch 7/20, Train Loss: 0.1311, Train Acc: 0.9616, Val Loss: 0.4678, Val Acc: 0.8681\n"
          ]
        },
        {
          "name": "stderr",
          "output_type": "stream",
          "text": [
            " 40%|████      | 8/20 [06:05<09:09, 45.81s/it]"
          ]
        },
        {
          "name": "stdout",
          "output_type": "stream",
          "text": [
            "Epoch 8/20, Train Loss: 0.1380, Train Acc: 0.9571, Val Loss: 0.3652, Val Acc: 0.8793\n"
          ]
        },
        {
          "name": "stderr",
          "output_type": "stream",
          "text": [
            " 45%|████▌     | 9/20 [06:51<08:22, 45.72s/it]"
          ]
        },
        {
          "name": "stdout",
          "output_type": "stream",
          "text": [
            "Epoch 9/20, Train Loss: 0.0622, Train Acc: 0.9797, Val Loss: 0.2879, Val Acc: 0.9210\n"
          ]
        },
        {
          "name": "stderr",
          "output_type": "stream",
          "text": [
            " 50%|█████     | 10/20 [07:36<07:35, 45.55s/it]"
          ]
        },
        {
          "name": "stdout",
          "output_type": "stream",
          "text": [
            "Epoch 10/20, Train Loss: 0.0396, Train Acc: 0.9881, Val Loss: 0.3097, Val Acc: 0.9132\n"
          ]
        },
        {
          "name": "stderr",
          "output_type": "stream",
          "text": [
            " 55%|█████▌    | 11/20 [08:21<06:49, 45.49s/it]"
          ]
        },
        {
          "name": "stdout",
          "output_type": "stream",
          "text": [
            "Epoch 11/20, Train Loss: 0.0494, Train Acc: 0.9848, Val Loss: 0.3127, Val Acc: 0.9002\n"
          ]
        },
        {
          "name": "stderr",
          "output_type": "stream",
          "text": [
            " 60%|██████    | 12/20 [09:07<06:03, 45.46s/it]"
          ]
        },
        {
          "name": "stdout",
          "output_type": "stream",
          "text": [
            "Epoch 12/20, Train Loss: 0.0290, Train Acc: 0.9921, Val Loss: 0.3180, Val Acc: 0.9158\n"
          ]
        },
        {
          "name": "stderr",
          "output_type": "stream",
          "text": [
            " 65%|██████▌   | 13/20 [09:52<05:18, 45.45s/it]"
          ]
        },
        {
          "name": "stdout",
          "output_type": "stream",
          "text": [
            "Epoch 13/20, Train Loss: 0.0277, Train Acc: 0.9915, Val Loss: 0.3168, Val Acc: 0.9210\n"
          ]
        },
        {
          "name": "stderr",
          "output_type": "stream",
          "text": [
            " 70%|███████   | 14/20 [10:37<04:32, 45.38s/it]"
          ]
        },
        {
          "name": "stdout",
          "output_type": "stream",
          "text": [
            "Epoch 14/20, Train Loss: 0.0247, Train Acc: 0.9915, Val Loss: 0.3362, Val Acc: 0.9210\n"
          ]
        },
        {
          "name": "stderr",
          "output_type": "stream",
          "text": [
            " 75%|███████▌  | 15/20 [11:23<03:46, 45.38s/it]"
          ]
        },
        {
          "name": "stdout",
          "output_type": "stream",
          "text": [
            "Epoch 15/20, Train Loss: 0.0180, Train Acc: 0.9949, Val Loss: 0.3636, Val Acc: 0.9184\n"
          ]
        },
        {
          "name": "stderr",
          "output_type": "stream",
          "text": [
            " 80%|████████  | 16/20 [12:08<03:01, 45.47s/it]"
          ]
        },
        {
          "name": "stdout",
          "output_type": "stream",
          "text": [
            "Epoch 16/20, Train Loss: 0.0237, Train Acc: 0.9932, Val Loss: 0.3039, Val Acc: 0.9227\n"
          ]
        },
        {
          "name": "stderr",
          "output_type": "stream",
          "text": [
            " 85%|████████▌ | 17/20 [12:58<02:20, 46.69s/it]"
          ]
        },
        {
          "name": "stdout",
          "output_type": "stream",
          "text": [
            "Epoch 17/20, Train Loss: 0.0168, Train Acc: 0.9944, Val Loss: 0.3165, Val Acc: 0.9340\n"
          ]
        },
        {
          "name": "stderr",
          "output_type": "stream",
          "text": [
            " 90%|█████████ | 18/20 [13:54<01:39, 49.54s/it]"
          ]
        },
        {
          "name": "stdout",
          "output_type": "stream",
          "text": [
            "Epoch 18/20, Train Loss: 0.0121, Train Acc: 0.9983, Val Loss: 0.3289, Val Acc: 0.9262\n"
          ]
        },
        {
          "name": "stderr",
          "output_type": "stream",
          "text": [
            " 95%|█████████▌| 19/20 [14:51<00:51, 51.61s/it]"
          ]
        },
        {
          "name": "stdout",
          "output_type": "stream",
          "text": [
            "Epoch 19/20, Train Loss: 0.0132, Train Acc: 0.9972, Val Loss: 0.3307, Val Acc: 0.9184\n"
          ]
        },
        {
          "name": "stderr",
          "output_type": "stream",
          "text": [
            "100%|██████████| 20/20 [15:47<00:00, 47.39s/it]"
          ]
        },
        {
          "name": "stdout",
          "output_type": "stream",
          "text": [
            "Epoch 20/20, Train Loss: 0.0088, Train Acc: 0.9977, Val Loss: 0.3278, Val Acc: 0.9236\n",
            "Using device: cuda\n",
            "NVIDIA Graphics Card: NVIDIA GeForce RTX 2080\n"
          ]
        },
        {
          "name": "stderr",
          "output_type": "stream",
          "text": [
            "\n"
          ]
        },
        {
          "name": "stdout",
          "output_type": "stream",
          "text": [
            "Test Loss: 0.2178, Test Accuracy: 0.9315\n",
            "Training with lr=0.0005, batch_size=32, num_epochs=20, step_size=8\n",
            "Using device: cuda\n",
            "NVIDIA Graphics Card: NVIDIA GeForce RTX 2080\n"
          ]
        },
        {
          "name": "stderr",
          "output_type": "stream",
          "text": [
            "  5%|▌         | 1/20 [00:54<17:14, 54.42s/it]"
          ]
        },
        {
          "name": "stdout",
          "output_type": "stream",
          "text": [
            "Epoch 1/20, Train Loss: 0.9542, Train Acc: 0.6629, Val Loss: 2.7976, Val Acc: 0.5078\n"
          ]
        },
        {
          "name": "stderr",
          "output_type": "stream",
          "text": [
            " 10%|█         | 2/20 [01:50<16:34, 55.27s/it]"
          ]
        },
        {
          "name": "stdout",
          "output_type": "stream",
          "text": [
            "Epoch 2/20, Train Loss: 0.6633, Train Acc: 0.7668, Val Loss: 0.8276, Val Acc: 0.7578\n"
          ]
        },
        {
          "name": "stderr",
          "output_type": "stream",
          "text": [
            " 15%|█▌        | 3/20 [02:46<15:44, 55.53s/it]"
          ]
        },
        {
          "name": "stdout",
          "output_type": "stream",
          "text": [
            "Epoch 3/20, Train Loss: 0.5101, Train Acc: 0.8278, Val Loss: 0.7106, Val Acc: 0.7396\n"
          ]
        },
        {
          "name": "stderr",
          "output_type": "stream",
          "text": [
            " 20%|██        | 4/20 [03:42<14:51, 55.71s/it]"
          ]
        },
        {
          "name": "stdout",
          "output_type": "stream",
          "text": [
            "Epoch 4/20, Train Loss: 0.4250, Train Acc: 0.8577, Val Loss: 1.2757, Val Acc: 0.6311\n"
          ]
        },
        {
          "name": "stderr",
          "output_type": "stream",
          "text": [
            " 25%|██▌       | 5/20 [04:37<13:55, 55.72s/it]"
          ]
        },
        {
          "name": "stdout",
          "output_type": "stream",
          "text": [
            "Epoch 5/20, Train Loss: 0.3190, Train Acc: 0.8865, Val Loss: 0.6699, Val Acc: 0.7899\n"
          ]
        },
        {
          "name": "stderr",
          "output_type": "stream",
          "text": [
            " 30%|███       | 6/20 [05:33<12:59, 55.64s/it]"
          ]
        },
        {
          "name": "stdout",
          "output_type": "stream",
          "text": [
            "Epoch 6/20, Train Loss: 0.3439, Train Acc: 0.8865, Val Loss: 0.5559, Val Acc: 0.8299\n"
          ]
        },
        {
          "name": "stderr",
          "output_type": "stream",
          "text": [
            " 35%|███▌      | 7/20 [06:27<11:57, 55.21s/it]"
          ]
        },
        {
          "name": "stdout",
          "output_type": "stream",
          "text": [
            "Epoch 7/20, Train Loss: 0.2250, Train Acc: 0.9198, Val Loss: 0.5078, Val Acc: 0.8576\n"
          ]
        },
        {
          "name": "stderr",
          "output_type": "stream",
          "text": [
            " 40%|████      | 8/20 [07:23<11:03, 55.31s/it]"
          ]
        },
        {
          "name": "stdout",
          "output_type": "stream",
          "text": [
            "Epoch 8/20, Train Loss: 0.3174, Train Acc: 0.9046, Val Loss: 0.7837, Val Acc: 0.7804\n"
          ]
        },
        {
          "name": "stderr",
          "output_type": "stream",
          "text": [
            " 45%|████▌     | 9/20 [08:19<10:11, 55.61s/it]"
          ]
        },
        {
          "name": "stdout",
          "output_type": "stream",
          "text": [
            "Epoch 9/20, Train Loss: 0.1673, Train Acc: 0.9447, Val Loss: 0.3973, Val Acc: 0.8776\n"
          ]
        },
        {
          "name": "stderr",
          "output_type": "stream",
          "text": [
            " 50%|█████     | 10/20 [09:15<09:15, 55.60s/it]"
          ]
        },
        {
          "name": "stdout",
          "output_type": "stream",
          "text": [
            "Epoch 10/20, Train Loss: 0.0613, Train Acc: 0.9808, Val Loss: 0.4217, Val Acc: 0.8984\n"
          ]
        },
        {
          "name": "stderr",
          "output_type": "stream",
          "text": [
            " 55%|█████▌    | 11/20 [10:10<08:20, 55.63s/it]"
          ]
        },
        {
          "name": "stdout",
          "output_type": "stream",
          "text": [
            "Epoch 11/20, Train Loss: 0.0439, Train Acc: 0.9859, Val Loss: 0.4033, Val Acc: 0.8941\n"
          ]
        },
        {
          "name": "stderr",
          "output_type": "stream",
          "text": [
            " 60%|██████    | 12/20 [11:06<07:24, 55.62s/it]"
          ]
        },
        {
          "name": "stdout",
          "output_type": "stream",
          "text": [
            "Epoch 12/20, Train Loss: 0.0561, Train Acc: 0.9831, Val Loss: 0.4761, Val Acc: 0.8698\n"
          ]
        },
        {
          "name": "stderr",
          "output_type": "stream",
          "text": [
            " 65%|██████▌   | 13/20 [12:01<06:28, 55.45s/it]"
          ]
        },
        {
          "name": "stdout",
          "output_type": "stream",
          "text": [
            "Epoch 13/20, Train Loss: 0.0971, Train Acc: 0.9712, Val Loss: 0.4966, Val Acc: 0.8906\n"
          ]
        },
        {
          "name": "stderr",
          "output_type": "stream",
          "text": [
            " 70%|███████   | 14/20 [12:56<05:32, 55.50s/it]"
          ]
        },
        {
          "name": "stdout",
          "output_type": "stream",
          "text": [
            "Epoch 14/20, Train Loss: 0.0876, Train Acc: 0.9785, Val Loss: 0.4925, Val Acc: 0.8828\n"
          ]
        },
        {
          "name": "stderr",
          "output_type": "stream",
          "text": [
            " 75%|███████▌  | 15/20 [13:52<04:38, 55.64s/it]"
          ]
        },
        {
          "name": "stdout",
          "output_type": "stream",
          "text": [
            "Epoch 15/20, Train Loss: 0.0761, Train Acc: 0.9774, Val Loss: 0.5808, Val Acc: 0.8750\n"
          ]
        },
        {
          "name": "stderr",
          "output_type": "stream",
          "text": [
            " 80%|████████  | 16/20 [14:48<03:42, 55.72s/it]"
          ]
        },
        {
          "name": "stdout",
          "output_type": "stream",
          "text": [
            "Epoch 16/20, Train Loss: 0.0601, Train Acc: 0.9836, Val Loss: 0.5692, Val Acc: 0.8793\n"
          ]
        },
        {
          "name": "stderr",
          "output_type": "stream",
          "text": [
            " 85%|████████▌ | 17/20 [15:44<02:47, 55.83s/it]"
          ]
        },
        {
          "name": "stdout",
          "output_type": "stream",
          "text": [
            "Epoch 17/20, Train Loss: 0.0429, Train Acc: 0.9864, Val Loss: 0.3987, Val Acc: 0.9167\n"
          ]
        },
        {
          "name": "stderr",
          "output_type": "stream",
          "text": [
            " 90%|█████████ | 18/20 [16:40<01:51, 55.70s/it]"
          ]
        },
        {
          "name": "stdout",
          "output_type": "stream",
          "text": [
            "Epoch 18/20, Train Loss: 0.0389, Train Acc: 0.9898, Val Loss: 0.4173, Val Acc: 0.8984\n"
          ]
        },
        {
          "name": "stderr",
          "output_type": "stream",
          "text": [
            " 95%|█████████▌| 19/20 [17:35<00:55, 55.51s/it]"
          ]
        },
        {
          "name": "stdout",
          "output_type": "stream",
          "text": [
            "Epoch 19/20, Train Loss: 0.0195, Train Acc: 0.9927, Val Loss: 0.3891, Val Acc: 0.9141\n"
          ]
        },
        {
          "name": "stderr",
          "output_type": "stream",
          "text": [
            "100%|██████████| 20/20 [18:30<00:00, 55.50s/it]"
          ]
        },
        {
          "name": "stdout",
          "output_type": "stream",
          "text": [
            "Epoch 20/20, Train Loss: 0.0171, Train Acc: 0.9921, Val Loss: 0.4104, Val Acc: 0.9089\n",
            "Using device: cuda\n",
            "NVIDIA Graphics Card: NVIDIA GeForce RTX 2080\n"
          ]
        },
        {
          "name": "stderr",
          "output_type": "stream",
          "text": [
            "\n"
          ]
        },
        {
          "name": "stdout",
          "output_type": "stream",
          "text": [
            "Test Loss: 0.2364, Test Accuracy: 0.9267\n",
            "Assuming peak performance of 9.76 TFLOP/s and average utilization of 0.2:\n",
            "Total training time: 4116.603666543961 seconds\n",
            "Total compute units: 2.2321139880816143 TFLOP-hours\n",
            "Best performing model on testing set: {'lr': 5e-05, 'batch_size': 32, 'num_epochs': 20} with accuracy: 0.9654017857142857\n"
          ]
        }
      ],
      "source": [
        "# Create dataset objects for training, validation, and testing\n",
        "train_dataset = CustomDataset(train_paths, train_labels, transform=training_transform)\n",
        "val_dataset = CustomDataset(val_paths, val_labels, transform=transform)\n",
        "test_dataset = CustomDataset(test_paths, test_labels, transform=transform)\n",
        "\n",
        "# Define the hyperparameter grid\n",
        "learning_rates = [5e-5, 5e-4]  # CV learning rates\n",
        "batch_sizes = [32]  # CV batch sizes\n",
        "num_epochs_list = [20]  # CV number of epochs\n",
        "step_sizes = [4, 8]  # CV step sizes\n",
        "\n",
        "# Record the best performance and metrics\n",
        "best_acc = 0\n",
        "best_hyperparams = None\n",
        "best_model_info = {}\n",
        "\n",
        "# Record time for compute calculations later.\n",
        "start_time = time.time()\n",
        "\n",
        "# VERY IMPORTANT TO BE AWARE OF THE FLUCTUATIONS IN THE GPU UTILIZATION AND THE PEAK PERFORMANCE.\n",
        "# IF THIS IS BEING RUN SOMEWHERE ELSE THIS MUST BE UPDATED.\n",
        "# THESE VALUES ARE FOR THE NVIDIA GEFORCE RTX 2080 NIKOLAJ'S COMP. NOT UNIVERSAL AND ALSO THE AVERAGE UTALIZATION IS A GUESS FROM MY EXPERIENCE WATCHING TASK MANAGER.\n",
        "peak_performance_tflops = 9.76 # Hypothetical peak performance in TFLOP/s of NVIDIA GeForce RTX 3050 Ti\n",
        "average_utilization = 0.20  # Assumed average (from my experience on task manager)\n",
        "\n",
        "# Iterate over all combinations of hyperparameters\n",
        "for lr, batch_size, num_epochs, step_size in itertools.product(learning_rates, batch_sizes, num_epochs_list, step_sizes):\n",
        "    print(f\"Training with lr={lr}, batch_size={batch_size}, num_epochs={num_epochs}, step_size={step_size}\")\n",
        "\n",
        "    # Create data loaders for batching, shuffling, and iterating over the datasets\n",
        "    train_dataloader = DataLoader(train_dataset, batch_size=batch_size, shuffle=True, pin_memory=True, num_workers=0)\n",
        "    val_dataloader = DataLoader(val_dataset, batch_size=batch_size, shuffle=False, pin_memory=True, num_workers=0)\n",
        "    test_dataloader = DataLoader(test_dataset, batch_size=batch_size, shuffle=False, pin_memory=True, num_workers=0)\n",
        "\n",
        "    # Train the model with the current set of hyperparameters\n",
        "    results = train(train_dataloader=train_dataloader, val_dataloader=val_dataloader, num_classes=6, N_epochs=num_epochs, lr=lr, step_size=step_size)\n",
        "    model = results[\"model\"]\n",
        "\n",
        "    # Evaluate the model on the testing set\n",
        "    loss_fun = nn.CrossEntropyLoss()\n",
        "    device = torch.device(\"cuda\" if torch.cuda.is_available() else \"cpu\")\n",
        "    print(f\"Using device: {device}\")\n",
        "\n",
        "    if device.type == 'cuda':\n",
        "        gpu_name = torch.cuda.get_device_name(0)\n",
        "        print(f\"NVIDIA Graphics Card: {gpu_name}\")\n",
        "\n",
        "    test_loss, test_acc = evaluate_model(model, test_dataloader, loss_fun, device)\n",
        "\n",
        "    print(f\"Test Loss: {test_loss:.4f}, Test Accuracy: {test_acc:.4f}\")\n",
        "\n",
        "    # Save the model and metrics if it has the best accuracy so far on the testing set\n",
        "    if test_acc > best_acc:\n",
        "        best_acc = test_acc\n",
        "        best_hyperparams = {'lr': lr, 'batch_size': batch_size, 'num_epochs': num_epochs}\n",
        "        best_model_info = {\n",
        "            \"state_dict\": copy.deepcopy(model.state_dict()),\n",
        "            \"training_losses\": results[\"training_losses\"],\n",
        "            \"training_accuracies\": results[\"training_accuracies\"],\n",
        "            \"validation_losses\": results[\"validation_losses\"],\n",
        "            \"validation_accuracies\": results[\"validation_accuracies\"]\n",
        "        }\n",
        "\n",
        "\n",
        "end_time = time.time() # end time in seconds\n",
        "total_time = end_time - start_time # total time in seconds\n",
        "total_compute_units_tflops = peak_performance_tflops * average_utilization * total_time # total compute in TFLOP/s\n",
        "\n",
        "# Convert TFLOPs to TFLOP-hours by dividing by the number of seconds in an hour\n",
        "total_compute_units_tfloph = total_compute_units_tflops / 3600\n",
        "\n",
        "print(f\"Assuming peak performance of {peak_performance_tflops} TFLOP/s and average utilization of {average_utilization}:\")\n",
        "print(f\"Total training time: {total_time} seconds\")\n",
        "print(f\"Total compute units: {total_compute_units_tfloph} TFLOP-hours\")\n",
        "\n",
        "# Output the best performing set of hyperparameters based on the testing dataset\n",
        "print(f\"Best performing model on testing set: {best_hyperparams} with accuracy: {best_acc}\")\n",
        "\n",
        "# Save the best model and associated metrics\n",
        "torch.save(best_model_info, 'ResNet50_best_model.pth')"
      ]
    },
    {
      "cell_type": "markdown",
      "metadata": {},
      "source": [
        "## 7) Visualizing our best model"
      ]
    },
    {
      "cell_type": "code",
      "execution_count": 70,
      "metadata": {},
      "outputs": [
        {
          "data": {
            "image/png": "[encoded data removed]",
            "text/plain": [
              "<Figure size 1000x600 with 1 Axes>"
            ]
          },
          "metadata": {},
          "output_type": "display_data"
        },
        {
          "data": {
            "image/png": "[encoded data removed]",
            "text/plain": [
              "<Figure size 1000x600 with 1 Axes>"
            ]
          },
          "metadata": {},
          "output_type": "display_data"
        }
      ],
      "source": [
        "# Load the best model info\n",
        "best_model_info = torch.load('ResNet50_best_model.pth')\n",
        "\n",
        "# Extract the metrics from the loaded model info\n",
        "training_losses = best_model_info['training_losses']\n",
        "training_accuracies = best_model_info['training_accuracies']\n",
        "validation_losses = best_model_info['validation_losses']\n",
        "validation_accuracies = best_model_info['validation_accuracies']\n",
        "num_epochs = len(training_losses)\n",
        "\n",
        "# Define the epochs array\n",
        "epochs = np.arange(1, num_epochs + 1)\n",
        "\n",
        "# Define the colors for the plot\n",
        "color_loss = 'blue'\n",
        "color_val_loss = 'orange'\n",
        "color_acc = 'green'\n",
        "color_val_acc = 'red'\n",
        "\n",
        "# Plot for Loss\n",
        "plt.figure(figsize=(10, 6))\n",
        "plt.title('Training & Validation Loss')\n",
        "plt.xlabel('Epoch')\n",
        "plt.ylabel('Loss')\n",
        "plt.plot(epochs, training_losses, label='Training Loss', marker='o', color=color_loss)\n",
        "plt.plot(epochs, validation_losses, label='Validation Loss', marker='x', color=color_val_loss)\n",
        "plt.legend()\n",
        "plt.tight_layout()\n",
        "plt.show()\n",
        "\n",
        "# Plot for Accuracy\n",
        "plt.figure(figsize=(10, 6))\n",
        "plt.title('Training & Validation Accuracy')\n",
        "plt.xlabel('Epoch')\n",
        "plt.ylabel('Accuracy')\n",
        "plt.plot(epochs, training_accuracies, label='Training Accuracy', marker='o', color=color_acc)\n",
        "plt.plot(epochs, validation_accuracies, label='Validation Accuracy', marker='x', color=color_val_acc)\n",
        "plt.legend()\n",
        "plt.tight_layout()\n",
        "plt.show()"
      ]
    },
    {
      "cell_type": "markdown",
      "metadata": {},
      "source": [
        "## 8) Showing which images in the test set the model failed to predict, and what it predicted in place."
      ]
    },
    {
      "cell_type": "code",
      "execution_count": 71,
      "metadata": {},
      "outputs": [
        {
          "name": "stdout",
          "output_type": "stream",
          "text": [
            "Path to image: ../../data/dataset-resized\\Trash\\trash92.jpg, Actual label: Trash, Predicted label: Cardboard\n",
            "Path to image: ../../data/dataset-resized\\Plastic\\plastic436.jpg, Actual label: Plastic, Predicted label: Glass\n",
            "Path to image: ../../data/dataset-resized\\Trash\\trash39.jpg, Actual label: Trash, Predicted label: Plastic\n",
            "Path to image: ../../data/dataset-resized\\Glass\\glass182.jpg, Actual label: Glass, Predicted label: Plastic\n",
            "Path to image: ../../data/dataset-resized\\Glass\\glass466.jpg, Actual label: Glass, Predicted label: Metal\n",
            "Path to image: ../../data/dataset-resized\\Paper\\paper166.jpg, Actual label: Paper, Predicted label: Trash\n",
            "Path to image: ../../data/dataset-resized\\Cardboard\\cardboard113.jpg, Actual label: Cardboard, Predicted label: Paper\n",
            "Path to image: ../../data/dataset-resized\\Metal\\metal342.jpg, Actual label: Metal, Predicted label: Metal\n",
            "Path to image: ../../data/dataset-resized\\Metal\\metal241.jpg, Actual label: Metal, Predicted label: Glass\n",
            "Path to image: ../../data/dataset-resized\\Trash\\trash11.jpg, Actual label: Trash, Predicted label: Plastic\n",
            "Path to image: ../../data/dataset-resized\\Cardboard\\cardboard113.jpg, Actual label: Cardboard, Predicted label: Metal\n",
            "Path to image: ../../data/dataset-resized\\Plastic\\plastic113.jpg, Actual label: Plastic, Predicted label: Metal\n",
            "Path to image: ../../data/dataset-resized\\Glass\\glass182.jpg, Actual label: Glass, Predicted label: Paper\n"
          ]
        }
      ],
      "source": [
        "# Load the best model from the saved state dictionary\n",
        "num_classes = 6\n",
        "categories = ['Trash', 'Plastic', 'Paper', 'Metal', 'Glass', 'Cardboard']\n",
        "best_model = initialize_model(num_classes)\n",
        "best_model.load_state_dict(best_model_info['state_dict'])\n",
        "\n",
        "# load the test dataset\n",
        "test_dataloader = DataLoader(test_dataset, batch_size=32, shuffle=False)\n",
        "test_labels = test_dataset.labels\n",
        "test_paths = test_dataset.image_paths\n",
        "\n",
        "# Assuming device setup is already done (use CUDA if available)\n",
        "device = torch.device(\"cuda\" if torch.cuda.is_available() else \"cpu\")\n",
        "best_model.to(device)\n",
        "\n",
        "# Call the misclassified_labels function\n",
        "misclassified_samples = misclassified_labels(best_model, test_dataloader, device)\n",
        "\n",
        "# Print some of the misclassified samples to verify\n",
        "for idx in misclassified_samples:\n",
        "    dataloader_idx = idx[0]\n",
        "    predicted_label = idx[1]\n",
        "    print(f\"Path to image: {test_paths[dataloader_idx]}, Actual label: {categories[test_labels[dataloader_idx]]}, Predicted label: {categories[predicted_label]}\")\n"
      ]
    }
  ],
  "metadata": {
    "accelerator": "GPU",
    "colab": {
      "gpuType": "T4",
      "provenance": []
    },
    "kernelspec": {
      "display_name": "Python 3",
      "name": "python3"
    },
    "language_info": {
      "codemirror_mode": {
        "name": "ipython",
        "version": 3
      },
      "file_extension": ".py",
      "mimetype": "text/x-python",
      "name": "python",
      "nbconvert_exporter": "python",
      "pygments_lexer": "ipython3",
      "version": "3.11.5"
    }
  },
  "nbformat": 4,
  "nbformat_minor": 0
}
